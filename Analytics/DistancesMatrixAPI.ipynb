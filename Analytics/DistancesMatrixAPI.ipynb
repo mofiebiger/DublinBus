{
 "cells": [
  {
   "cell_type": "markdown",
   "metadata": {},
   "source": [
    "## Example of using Dmatrix api to find walking distance between two connected stops. "
   ]
  },
  {
   "cell_type": "code",
   "execution_count": 1,
   "metadata": {},
   "outputs": [],
   "source": [
    "import matplotlib.pyplot as plt\n",
    "import matplotlib.mlab as mlab\n",
    "\n",
    "from datetime import timedelta\n",
    "from datetime import datetime\n",
    "import scipy.stats as stats\n",
    "\n",
    "import requests as r\n",
    "import pandas as pd\n",
    "import seaborn as s\n",
    "import numpy as np\n",
    "\n",
    "import holidays\n",
    "ie_holidays = holidays.Ireland()\n",
    "\n",
    "import postgres\n",
    "import gmaps\n",
    "import googlemaps\n",
    "import json\n",
    "import math\n",
    "import config\n",
    "\n",
    "import xgboost\n",
    "\n",
    "from tqdm import tnrange, tqdm_notebook"
   ]
  },
  {
   "cell_type": "code",
   "execution_count": null,
   "metadata": {},
   "outputs": [],
   "source": [
    "data = postgres.query(\"SELECT * FROM combined;\", tunnel=True)\n",
    "data = pd.DataFrame(data)"
   ]
  },
  {
   "cell_type": "code",
   "execution_count": 4,
   "metadata": {},
   "outputs": [
    {
     "data": {
      "text/html": [
       "<div>\n",
       "<style scoped>\n",
       "    .dataframe tbody tr th:only-of-type {\n",
       "        vertical-align: middle;\n",
       "    }\n",
       "\n",
       "    .dataframe tbody tr th {\n",
       "        vertical-align: top;\n",
       "    }\n",
       "\n",
       "    .dataframe thead th {\n",
       "        text-align: right;\n",
       "    }\n",
       "</style>\n",
       "<table border=\"1\" class=\"dataframe\">\n",
       "  <thead>\n",
       "    <tr style=\"text-align: right;\">\n",
       "      <th></th>\n",
       "      <th>id</th>\n",
       "      <th>stopid</th>\n",
       "      <th>stop_name</th>\n",
       "      <th>lat</th>\n",
       "      <th>lng</th>\n",
       "      <th>irish_name</th>\n",
       "      <th>routes</th>\n",
       "    </tr>\n",
       "  </thead>\n",
       "  <tbody>\n",
       "    <tr>\n",
       "      <th>0</th>\n",
       "      <td>4240</td>\n",
       "      <td>2</td>\n",
       "      <td>Parnell Square</td>\n",
       "      <td>53.352241</td>\n",
       "      <td>-6.263695</td>\n",
       "      <td>Cearnóg Parnell</td>\n",
       "      <td>['38', '38A', '38B', '38D', '46A', '46E']</td>\n",
       "    </tr>\n",
       "    <tr>\n",
       "      <th>1</th>\n",
       "      <td>4241</td>\n",
       "      <td>3</td>\n",
       "      <td>Parnell Square</td>\n",
       "      <td>53.352307</td>\n",
       "      <td>-6.263783</td>\n",
       "      <td>Cearnóg Parnell</td>\n",
       "      <td>['120', '122']</td>\n",
       "    </tr>\n",
       "    <tr>\n",
       "      <th>2</th>\n",
       "      <td>4242</td>\n",
       "      <td>4</td>\n",
       "      <td>Parnell Square</td>\n",
       "      <td>53.352567</td>\n",
       "      <td>-6.264166</td>\n",
       "      <td>Cearnóg Parnell</td>\n",
       "      <td>['7', '7A', '7B', '7D', '9']</td>\n",
       "    </tr>\n",
       "    <tr>\n",
       "      <th>3</th>\n",
       "      <td>4243</td>\n",
       "      <td>6</td>\n",
       "      <td>Parnell Square</td>\n",
       "      <td>53.352744</td>\n",
       "      <td>-6.264443</td>\n",
       "      <td>Cearnóg Parnell</td>\n",
       "      <td>['4', '155']</td>\n",
       "    </tr>\n",
       "    <tr>\n",
       "      <th>4</th>\n",
       "      <td>4244</td>\n",
       "      <td>7</td>\n",
       "      <td>Parnell Square</td>\n",
       "      <td>53.352836</td>\n",
       "      <td>-6.264562</td>\n",
       "      <td>Cearnóg Parnell</td>\n",
       "      <td>['13', '140', '40', '40B', '40D']</td>\n",
       "    </tr>\n",
       "  </tbody>\n",
       "</table>\n",
       "</div>"
      ],
      "text/plain": [
       "     id  stopid       stop_name        lat       lng       irish_name  \\\n",
       "0  4240       2  Parnell Square  53.352241 -6.263695  Cearnóg Parnell   \n",
       "1  4241       3  Parnell Square  53.352307 -6.263783  Cearnóg Parnell   \n",
       "2  4242       4  Parnell Square  53.352567 -6.264166  Cearnóg Parnell   \n",
       "3  4243       6  Parnell Square  53.352744 -6.264443  Cearnóg Parnell   \n",
       "4  4244       7  Parnell Square  53.352836 -6.264562  Cearnóg Parnell   \n",
       "\n",
       "                                      routes  \n",
       "0  ['38', '38A', '38B', '38D', '46A', '46E']  \n",
       "1                             ['120', '122']  \n",
       "2               ['7', '7A', '7B', '7D', '9']  \n",
       "3                               ['4', '155']  \n",
       "4          ['13', '140', '40', '40B', '40D']  "
      ]
     },
     "execution_count": 4,
     "metadata": {},
     "output_type": "execute_result"
    }
   ],
   "source": [
    "stops = pd.read_csv(\"stop_information.csv\")\n",
    "\n",
    "cols = list(stops.columns)\n",
    "cols[0] = 'ix'\n",
    "stops.columns = cols\n",
    "stops.drop(columns=cols[0], inplace=True)\n",
    "\n",
    "stops.head()"
   ]
  },
  {
   "cell_type": "code",
   "execution_count": 5,
   "metadata": {},
   "outputs": [],
   "source": [
    "# Function to get the distance between two stops. \n",
    "def get_distance(start, finish):\n",
    "    \"\"\"\n",
    "    Distance between two (lat,lng) pairs\n",
    "    \n",
    "    Inputs:\n",
    "    ================================\n",
    "    (int) start: stopid of first stop\n",
    "    (int) finish: stopid of last stop\n",
    "    \n",
    "    Outputs:\n",
    "    ===============================\n",
    "    (int) the distance in metres between the stops. \n",
    "    \n",
    "    Notes:\n",
    "    ===============================\n",
    "    If there is an error, or the api fails to find the distance a value of None will be returned. \n",
    "    \"\"\"\n",
    "    try:\n",
    "        begin = (stops[stops.stopid==start ]['lat'].values[0], stops[stops.stopid==start ]['lng'].values[0])\n",
    "        end   = (stops[stops.stopid==finish]['lat'].values[0], stops[stops.stopid==finish]['lng'].values[0])\n",
    "    except Exception as e:\n",
    "        print(start, finish)\n",
    "        print(repr(e)) \n",
    "        return None\n",
    "        \n",
    "    API_key = config.dmatrix_key #enter Google Maps API key\n",
    "    gmaps = googlemaps.Client(key=API_key)\n",
    "    \n",
    "    try:\n",
    "        call = gmaps.distance_matrix(begin, end, mode='walking')\n",
    "    \n",
    "    except Exception as eL:\n",
    "        print(repr(eL))\n",
    "        return None\n",
    "    \n",
    "    status = call['status']\n",
    "    \n",
    "    if status=='OK':\n",
    "        return call[\"rows\"][0][\"elements\"][0]['distance']['value']\n",
    "    \n",
    "    else:\n",
    "        print(status)\n",
    "        return None"
   ]
  },
  {
   "cell_type": "code",
   "execution_count": 6,
   "metadata": {},
   "outputs": [
    {
     "data": {
      "text/plain": [
       "9"
      ]
     },
     "execution_count": 6,
     "metadata": {},
     "output_type": "execute_result"
    }
   ],
   "source": [
    "get_distance(2,3)"
   ]
  },
  {
   "cell_type": "code",
   "execution_count": 20,
   "metadata": {},
   "outputs": [
    {
     "data": {
      "text/plain": [
       "[{'elements': [{'distance': {'text': '9 m', 'value': 9},\n",
       "    'duration': {'text': '1 min', 'value': 7},\n",
       "    'status': 'OK'}]}]"
      ]
     },
     "execution_count": 20,
     "metadata": {},
     "output_type": "execute_result"
    }
   ],
   "source": [
    "sample['rows']"
   ]
  },
  {
   "cell_type": "code",
   "execution_count": 19,
   "metadata": {},
   "outputs": [
    {
     "data": {
      "text/plain": [
       "9"
      ]
     },
     "execution_count": 19,
     "metadata": {},
     "output_type": "execute_result"
    }
   ],
   "source": [
    "sample[\"rows\"][0][\"elements\"][0]['distance']['value']"
   ]
  },
  {
   "cell_type": "code",
   "execution_count": 22,
   "metadata": {},
   "outputs": [
    {
     "data": {
      "text/plain": [
       "'OK'"
      ]
     },
     "execution_count": 22,
     "metadata": {},
     "output_type": "execute_result"
    }
   ],
   "source": [
    "sample['status']"
   ]
  }
 ],
 "metadata": {
  "kernelspec": {
   "display_name": "Python 3",
   "language": "python",
   "name": "python3"
  },
  "language_info": {
   "codemirror_mode": {
    "name": "ipython",
    "version": 3
   },
   "file_extension": ".py",
   "mimetype": "text/x-python",
   "name": "python",
   "nbconvert_exporter": "python",
   "pygments_lexer": "ipython3",
   "version": "3.6.8"
  },
  "toc": {
   "base_numbering": 1,
   "nav_menu": {},
   "number_sections": true,
   "sideBar": true,
   "skip_h1_title": false,
   "title_cell": "Table of Contents",
   "title_sidebar": "Contents",
   "toc_cell": false,
   "toc_position": {},
   "toc_section_display": true,
   "toc_window_display": false
  },
  "varInspector": {
   "cols": {
    "lenName": 16,
    "lenType": 16,
    "lenVar": 40
   },
   "kernels_config": {
    "python": {
     "delete_cmd_postfix": "",
     "delete_cmd_prefix": "del ",
     "library": "var_list.py",
     "varRefreshCmd": "print(var_dic_list())"
    },
    "r": {
     "delete_cmd_postfix": ") ",
     "delete_cmd_prefix": "rm(",
     "library": "var_list.r",
     "varRefreshCmd": "cat(var_dic_list()) "
    }
   },
   "types_to_exclude": [
    "module",
    "function",
    "builtin_function_or_method",
    "instance",
    "_Feature"
   ],
   "window_display": false
  }
 },
 "nbformat": 4,
 "nbformat_minor": 2
}

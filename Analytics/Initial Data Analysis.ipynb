{
 "cells": [
  {
   "cell_type": "code",
   "execution_count": 124,
   "metadata": {},
   "outputs": [
    {
     "data": {
      "text/html": [
       "<style>.container { width:100% !important; }</style>"
      ],
      "text/plain": [
       "<IPython.core.display.HTML object>"
      ]
     },
     "metadata": {},
     "output_type": "display_data"
    }
   ],
   "source": [
    "import matplotlib.pyplot as plt\n",
    "from datetime import datetime\n",
    "import requests as r\n",
    "\n",
    "import pandas as pd\n",
    "import numpy as np\n",
    "import psycopg2\n",
    "import config\n",
    "import gmaps\n",
    "import json\n",
    "\n",
    "with open('stops_info.json','r') as sf:\n",
    "    stop_locations = json.load(sf)\n",
    "    \n",
    "from IPython.display import display, clear_output\n",
    "from IPython.core.display import display, HTML\n",
    "display(HTML(\"<style>.container { width:100% !important; }</style>\"))"
   ]
  },
  {
   "cell_type": "markdown",
   "metadata": {
    "heading_collapsed": true
   },
   "source": [
    "## Query Function for PostgreSQL Communication"
   ]
  },
  {
   "cell_type": "code",
   "execution_count": 84,
   "metadata": {
    "code_folding": [],
    "hidden": true
   },
   "outputs": [],
   "source": [
    "def query(Query):\n",
    "    \n",
    "    try:\n",
    "\n",
    "        conn = psycopg2.connect(\n",
    "            database=config.Database,\n",
    "            user=config.DBuser,\n",
    "            password=config.DBpswd,\n",
    "            \n",
    "            # Tunneled connection\n",
    "            host=config.TunnelHost,\n",
    "            port=config.TunnelPort\n",
    "            \n",
    "            # On Eduroam\n",
    "#             host=config.host,\n",
    "#             port=config.port\n",
    "        )\n",
    "        cursor = conn.cursor()\n",
    "        \n",
    "        cursor.execute(Query)\n",
    "        conn.commit()\n",
    "        result = cursor.fetchall()\n",
    "        \n",
    "        cursor.close()\n",
    "        conn.close()\n",
    "        \n",
    "        return result\n",
    "\n",
    "    except Exception as e:\n",
    "        print(\"Uh oh, can't connect. Invalid dbname, user or password?\")\n",
    "        print(repr(e))"
   ]
  },
  {
   "cell_type": "markdown",
   "metadata": {
    "heading_collapsed": true,
    "hidden": true
   },
   "source": [
    "###  Setting up stop locations table, with id and names"
   ]
  },
  {
   "cell_type": "code",
   "execution_count": 143,
   "metadata": {
    "hidden": true
   },
   "outputs": [],
   "source": [
    "pd.DataFrame(stop_locations).to_csv(\"stop_locations.csv\")"
   ]
  },
  {
   "cell_type": "markdown",
   "metadata": {},
   "source": [
    "## Getting Weather Data From Dark Sky API"
   ]
  },
  {
   "cell_type": "code",
   "execution_count": 85,
   "metadata": {},
   "outputs": [],
   "source": [
    "def weather_query(timestamp):\n",
    "    \n",
    "    request_string = f\"https://api.darksky.net/forecast/6d1a9498f039837cce2657a75bd43748/53.3498, -6.2603,{timestamp}?exclude=currently,flags\"\n",
    "\n",
    "    try:\n",
    "        response = r.get(request_string)\n",
    "    except Exception as e:\n",
    "        print(repr(e))\n",
    "        return False\n",
    "        \n",
    "    return json.loads(response.content.decode('utf-8'))"
   ]
  },
  {
   "cell_type": "code",
   "execution_count": 86,
   "metadata": {},
   "outputs": [
    {
     "data": {
      "text/plain": [
       "'Completed: 365/365 [100%] <==================== >'"
      ]
     },
     "metadata": {},
     "output_type": "display_data"
    }
   ],
   "source": [
    "# One year of data starting at time \n",
    "start=1514764801\n",
    "end=1546300801\n",
    "step=86400\n",
    "\n",
    "data = {}\n",
    "count = 0\n",
    "total = 365\n",
    "while start < end:\n",
    "    count += 1\n",
    "    pct = int(count/total * 100) \n",
    "    clear_output(wait=True)\n",
    "    display(f\"Completed: {count}/{total} [{pct}%] <{'=' * int(pct/5)} {' ' * (19 - (int(pct/5) +1))}>\")\n",
    "    data[start] = weather_query(start)\n",
    "    start += step"
   ]
  },
  {
   "cell_type": "code",
   "execution_count": 118,
   "metadata": {},
   "outputs": [],
   "source": [
    "hourly_data = {}\n",
    "\n",
    "data_keys = list(data.keys())\n",
    "\n",
    "count=1\n",
    "for j in data_keys:\n",
    "    for i in range(len(data[j]['hourly']['data'])):\n",
    "        count += 1\n",
    "        hourly_data[data[j]['hourly']['data'][i]['time']] = data[j]['hourly']['data'][i].copy()\n",
    "        # wont work - remeber that dicts are pass by ref"
   ]
  },
  {
   "cell_type": "code",
   "execution_count": 120,
   "metadata": {},
   "outputs": [],
   "source": [
    "hourly_keys = list(hourly_data.keys())\n",
    "\n",
    "for hkey in hourly_keys:\n",
    "    if 'time' in hourly_data[hkey]:\n",
    "        hourly_data[hkey].pop('time')\n",
    "    if 'summary' in hourly_data[hkey]:\n",
    "        hourly_data[hkey].pop('summary')\n",
    "    if 'windBearing' in hourly_data[hkey]:\n",
    "        hourly_data[hkey].pop('windBearing')\n",
    "    if 'precipProbability' in hourly_data[hkey]:    \n",
    "        hourly_data[hkey].pop('precipProbability')\n",
    "    if 'apparentTemperature' in hourly_data[hkey]:\n",
    "        hourly_data[hkey].pop('apparentTemperature')\n",
    "    if 'dewPoint' in hourly_data[hkey]:\n",
    "        hourly_data[hkey].pop('dewPoint')\n",
    "    if 'windGust' in hourly_data[hkey]:\n",
    "        hourly_data[hkey].pop('windGust')\n",
    "    if 'uvIndex' in hourly_data[hkey]:    \n",
    "        hourly_data[hkey].pop('uvIndex')\n",
    "    if 'precipType' in hourly_data[hkey]:    \n",
    "        hourly_data[hkey].pop('precipType')\n",
    "    if 'ozone' in hourly_data[hkey]:    \n",
    "        hourly_data[hkey].pop('ozone')"
   ]
  },
  {
   "cell_type": "code",
   "execution_count": 134,
   "metadata": {},
   "outputs": [],
   "source": [
    "df = pd.DataFrame(hourly_data)\n",
    "df = df.T\n",
    "\n",
    "df.index = pd.to_datetime(df.index*1000000000)\n",
    "\n",
    "df.to_csv(\"weather_darksky.csv\")"
   ]
  },
  {
   "cell_type": "markdown",
   "metadata": {},
   "source": [
    "## Data Analysis"
   ]
  },
  {
   "cell_type": "code",
   "execution_count": 136,
   "metadata": {},
   "outputs": [],
   "source": [
    "trips = query(\"SELECT * FROM trips;\")"
   ]
  },
  {
   "cell_type": "code",
   "execution_count": 145,
   "metadata": {},
   "outputs": [],
   "source": [
    "trips_df = pd.DataFrame(trips)\n",
    "trips_df.columns = ['dayofservice', 'tripid', 'lineid', 'routeid', 'direction', 'planned_arr','planned_dep','actual_arr','actual_dep']"
   ]
  },
  {
   "cell_type": "code",
   "execution_count": 168,
   "metadata": {},
   "outputs": [],
   "source": [
    "# Forward direction 145 routes. All from data. \n",
    "trips_145 = trips_df[trips_df.lineid=='145']\n",
    "trips_145_forward = trips_145[trips_145.direction==\"1 \"]\n",
    "\n",
    "#trip ids for 145 bus routes in the forward direction.\n",
    "trips_145_forward_tripids = trips_145_forward.tripid"
   ]
  },
  {
   "cell_type": "code",
   "execution_count": 205,
   "metadata": {
    "scrolled": true
   },
   "outputs": [],
   "source": [
    "full_string = \"\"\n",
    "\n",
    "for i in trips_145_forward_tripids[0:1000]:\n",
    "    full_string += f\" tripid='{i}' OR\"\n",
    "    \n",
    "full_string = \"SELECT * FROM leavetimes WHERE \" + full_string[:-3] + \";\""
   ]
  },
  {
   "cell_type": "code",
   "execution_count": 206,
   "metadata": {},
   "outputs": [],
   "source": [
    "ftrips_145_data = {}\n",
    "\n",
    "temp_data = query(full_string)  "
   ]
  },
  {
   "cell_type": "markdown",
   "metadata": {},
   "source": [
    "## Initial Model Training and Testing"
   ]
  },
  {
   "cell_type": "markdown",
   "metadata": {},
   "source": [
    "### Random Forest Decision Tree training"
   ]
  }
 ],
 "metadata": {
  "kernelspec": {
   "display_name": "Python 3",
   "language": "python",
   "name": "python3"
  },
  "language_info": {
   "codemirror_mode": {
    "name": "ipython",
    "version": 3
   },
   "file_extension": ".py",
   "mimetype": "text/x-python",
   "name": "python",
   "nbconvert_exporter": "python",
   "pygments_lexer": "ipython3",
   "version": "3.6.7"
  },
  "toc": {
   "base_numbering": 1,
   "nav_menu": {},
   "number_sections": true,
   "sideBar": true,
   "skip_h1_title": false,
   "title_cell": "Table of Contents",
   "title_sidebar": "Contents",
   "toc_cell": false,
   "toc_position": {},
   "toc_section_display": true,
   "toc_window_display": false
  },
  "varInspector": {
   "cols": {
    "lenName": 16,
    "lenType": 16,
    "lenVar": 40
   },
   "kernels_config": {
    "python": {
     "delete_cmd_postfix": "",
     "delete_cmd_prefix": "del ",
     "library": "var_list.py",
     "varRefreshCmd": "print(var_dic_list())"
    },
    "r": {
     "delete_cmd_postfix": ") ",
     "delete_cmd_prefix": "rm(",
     "library": "var_list.r",
     "varRefreshCmd": "cat(var_dic_list()) "
    }
   },
   "types_to_exclude": [
    "module",
    "function",
    "builtin_function_or_method",
    "instance",
    "_Feature"
   ],
   "window_display": false
  }
 },
 "nbformat": 4,
 "nbformat_minor": 2
}

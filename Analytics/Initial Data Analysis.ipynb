{
 "cells": [
  {
   "cell_type": "code",
   "execution_count": 641,
   "metadata": {},
   "outputs": [
    {
     "data": {
      "text/html": [
       "<style>.container { width:100% !important; }</style>"
      ],
      "text/plain": [
       "<IPython.core.display.HTML object>"
      ]
     },
     "metadata": {},
     "output_type": "display_data"
    }
   ],
   "source": [
    "import matplotlib.pyplot as plt\n",
    "import matplotlib.mlab as mlab\n",
    "from datetime import timedelta\n",
    "from datetime import datetime\n",
    "import scipy.stats as stats\n",
    "import requests as r\n",
    "import pandas as pd\n",
    "import numpy as np\n",
    "import psycopg2\n",
    "import config\n",
    "import gmaps\n",
    "import json\n",
    "import math\n",
    "\n",
    "with open('stops_info.json','r') as sf:\n",
    "    stop_locations = json.load(sf)\n",
    "    \n",
    "from IPython.display import display, clear_output\n",
    "from IPython.core.display import display, HTML\n",
    "display(HTML(\"<style>.container { width:100% !important; }</style>\"))\n",
    "\n",
    "from sklearn import metrics\n",
    "from sklearn.ensemble import RandomForestClassifier\n",
    "from sklearn.tree import DecisionTreeClassifier"
   ]
  },
  {
   "cell_type": "markdown",
   "metadata": {},
   "source": [
    "## Query Function for PostgreSQL Communication"
   ]
  },
  {
   "cell_type": "code",
   "execution_count": 574,
   "metadata": {
    "code_folding": []
   },
   "outputs": [],
   "source": [
    "def query(Query):\n",
    "    \n",
    "    try:\n",
    "\n",
    "        conn = psycopg2.connect(\n",
    "            database=config.Database,\n",
    "            user=config.DBuser,\n",
    "            password=config.DBpswd,\n",
    "            \n",
    "            # Tunneled connection\n",
    "            host=config.TunnelHost,\n",
    "            port=config.TunnelPort\n",
    "            \n",
    "            # On Eduroam\n",
    "#             host=config.host,\n",
    "#             port=config.port\n",
    "        )\n",
    "        cursor = conn.cursor()\n",
    "        \n",
    "        cursor.execute(Query)\n",
    "        conn.commit()\n",
    "        result = cursor.fetchall()\n",
    "        \n",
    "        cursor.close()\n",
    "        conn.close()\n",
    "        \n",
    "        return result\n",
    "\n",
    "    except Exception as e:\n",
    "        print(\"Uh oh, can't connect. Invalid dbname, user or password?\")\n",
    "        print(repr(e))"
   ]
  },
  {
   "cell_type": "markdown",
   "metadata": {},
   "source": [
    "###  Setting up stop locations table, with id and names"
   ]
  },
  {
   "cell_type": "code",
   "execution_count": 143,
   "metadata": {},
   "outputs": [],
   "source": [
    "pd.DataFrame(stop_locations).to_csv(\"stop_locations.csv\")"
   ]
  },
  {
   "cell_type": "markdown",
   "metadata": {},
   "source": [
    "## Getting Weather Data From Dark Sky API"
   ]
  },
  {
   "cell_type": "code",
   "execution_count": 85,
   "metadata": {},
   "outputs": [],
   "source": [
    "def weather_query(timestamp):\n",
    "    \n",
    "    request_string = f\"https://api.darksky.net/forecast/6d1a9498f039837cce2657a75bd43748/53.3498, -6.2603,{timestamp}?exclude=currently,flags\"\n",
    "\n",
    "    try:\n",
    "        response = r.get(request_string)\n",
    "    except Exception as e:\n",
    "        print(repr(e))\n",
    "        return False\n",
    "        \n",
    "    return json.loads(response.content.decode('utf-8'))"
   ]
  },
  {
   "cell_type": "code",
   "execution_count": 86,
   "metadata": {},
   "outputs": [
    {
     "data": {
      "text/plain": [
       "'Completed: 365/365 [100%] <==================== >'"
      ]
     },
     "metadata": {},
     "output_type": "display_data"
    }
   ],
   "source": [
    "# One year of data starting at time \n",
    "start=1514764801\n",
    "end=1546300801\n",
    "step=86400\n",
    "\n",
    "data = {}\n",
    "count = 0\n",
    "total = 365\n",
    "while start < end:\n",
    "    count += 1\n",
    "    pct = int(count/total * 100) \n",
    "    clear_output(wait=True)\n",
    "    display(f\"Completed: {count}/{total} [{pct}%] <{'=' * int(pct/5)} {' ' * (19 - (int(pct/5) +1))}>\")\n",
    "    data[start] = weather_query(start)\n",
    "    start += step"
   ]
  },
  {
   "cell_type": "code",
   "execution_count": 118,
   "metadata": {},
   "outputs": [],
   "source": [
    "hourly_data = {}\n",
    "\n",
    "data_keys = list(data.keys())\n",
    "\n",
    "count=1\n",
    "for j in data_keys:\n",
    "    for i in range(len(data[j]['hourly']['data'])):\n",
    "        count += 1\n",
    "        hourly_data[data[j]['hourly']['data'][i]['time']] = data[j]['hourly']['data'][i].copy()\n",
    "        # wont work - remeber that dicts are pass by ref"
   ]
  },
  {
   "cell_type": "code",
   "execution_count": 120,
   "metadata": {},
   "outputs": [],
   "source": [
    "hourly_keys = list(hourly_data.keys())\n",
    "\n",
    "for hkey in hourly_keys:\n",
    "    if 'time' in hourly_data[hkey]:\n",
    "        hourly_data[hkey].pop('time')\n",
    "    if 'summary' in hourly_data[hkey]:\n",
    "        hourly_data[hkey].pop('summary')\n",
    "    if 'windBearing' in hourly_data[hkey]:\n",
    "        hourly_data[hkey].pop('windBearing')\n",
    "    if 'precipProbability' in hourly_data[hkey]:    \n",
    "        hourly_data[hkey].pop('precipProbability')\n",
    "    if 'apparentTemperature' in hourly_data[hkey]:\n",
    "        hourly_data[hkey].pop('apparentTemperature')\n",
    "    if 'dewPoint' in hourly_data[hkey]:\n",
    "        hourly_data[hkey].pop('dewPoint')\n",
    "    if 'windGust' in hourly_data[hkey]:\n",
    "        hourly_data[hkey].pop('windGust')\n",
    "    if 'uvIndex' in hourly_data[hkey]:    \n",
    "        hourly_data[hkey].pop('uvIndex')\n",
    "    if 'precipType' in hourly_data[hkey]:    \n",
    "        hourly_data[hkey].pop('precipType')\n",
    "    if 'ozone' in hourly_data[hkey]:    \n",
    "        hourly_data[hkey].pop('ozone')"
   ]
  },
  {
   "cell_type": "code",
   "execution_count": 134,
   "metadata": {},
   "outputs": [],
   "source": [
    "df = pd.DataFrame(hourly_data)\n",
    "df = df.T\n",
    "\n",
    "df.index = pd.to_datetime(df.index*1000000000)\n",
    "\n",
    "df.to_csv(\"weather_darksky.csv\")"
   ]
  },
  {
   "cell_type": "markdown",
   "metadata": {},
   "source": [
    "## Data Analysis"
   ]
  },
  {
   "cell_type": "markdown",
   "metadata": {},
   "source": [
    "### Initial look at times"
   ]
  },
  {
   "cell_type": "code",
   "execution_count": 136,
   "metadata": {},
   "outputs": [],
   "source": [
    "trips = query(\"SELECT * FROM trips;\")"
   ]
  },
  {
   "cell_type": "code",
   "execution_count": 145,
   "metadata": {},
   "outputs": [],
   "source": [
    "trips_df = pd.DataFrame(trips)\n",
    "trips_df.columns = ['dayofservice', 'tripid', 'lineid', 'routeid', 'direction', 'planned_arr','planned_dep','actual_arr','actual_dep']"
   ]
  },
  {
   "cell_type": "code",
   "execution_count": 567,
   "metadata": {},
   "outputs": [],
   "source": [
    "# Forward direction 145 routes. All from data. \n",
    "trips_145 = trips_df[trips_df.lineid=='145']\n",
    "trips_145_forward = trips_145[trips_145.direction==\"1 \"]\n",
    "trips_145_backwrd = trips_145[trips_145.direction==\"2 \"]\n",
    "\n",
    "#trip ids for 145 bus routes in the forward direction.\n",
    "trips_145_forward_tripids = trips_145_forward.tripid\n",
    "trips_145_backwrd_tripids = trips_145_backwrd.tripid"
   ]
  },
  {
   "cell_type": "code",
   "execution_count": 205,
   "metadata": {
    "scrolled": true
   },
   "outputs": [],
   "source": [
    "full_string = \"\"\n",
    "\n",
    "for i in trips_145_forward_tripids[0:1000]:\n",
    "    full_string += f\" tripid='{i}' OR\"\n",
    "    \n",
    "full_string = \"SELECT * FROM leavetimes WHERE \" + full_string[:-3] + \";\""
   ]
  },
  {
   "cell_type": "code",
   "execution_count": 217,
   "metadata": {},
   "outputs": [],
   "source": [
    "ftrips_145_data = {}\n",
    "temp_data = query(full_string)  "
   ]
  },
  {
   "cell_type": "code",
   "execution_count": 218,
   "metadata": {},
   "outputs": [],
   "source": [
    "data145 = pd.DataFrame(temp_data)\n",
    "data145.columns=['date', 'tripid','progrnumber','stoppointid','planned_arr','planned_dep','actual_arr','actual_dep']"
   ]
  },
  {
   "cell_type": "code",
   "execution_count": 816,
   "metadata": {
    "scrolled": false
   },
   "outputs": [
    {
     "data": {
      "text/plain": [
       "(-10, 200)"
      ]
     },
     "execution_count": 816,
     "metadata": {},
     "output_type": "execute_result"
    },
    {
     "data": {
      "image/png": "[encoded data removed]",
      "text/plain": [
       "<Figure size 1800x360 with 3 Axes>"
      ]
     },
     "metadata": {
      "needs_background": "light"
     },
     "output_type": "display_data"
    },
    {
     "data": {
      "text/plain": [
       "<Figure size 432x288 with 0 Axes>"
      ]
     },
     "metadata": {},
     "output_type": "display_data"
    },
    {
     "data": {
      "text/plain": [
       "<Figure size 432x288 with 0 Axes>"
      ]
     },
     "metadata": {},
     "output_type": "display_data"
    }
   ],
   "source": [
    "arr_diff = np.array(data145['actual_arr'].astype(float) - data145['planned_arr'].astype(float)) # negative means late\n",
    "dep_diff = np.array(data145['actual_dep'].astype(float) - data145['planned_dep'].astype(float))\n",
    "stop_time = list(filter(lambda x: x!=0, dep_diff - arr_diff))\n",
    "\n",
    "\n",
    "fig, (ax1,ax2,ax3) = plt.subplots(1,3, figsize=(25,5))\n",
    "ax1.set_title(\"Planned - Actual arrival times (Route 145 stations) [Normalised]\")\n",
    "ax1.hist(arr_diff,bins=150,density=True)\n",
    "\n",
    "# fit gaussian\n",
    "mu, sigma = stats.norm.fit(arr_diff)\n",
    "x = np.linspace(-2500, 2500, 1000)\n",
    "p = stats.norm.pdf(x, mu, sigma)\n",
    "ax1.plot(x,p)\n",
    "ax1.set_ylabel('Normalised frequency')\n",
    "ax1.set_xlabel('seconds')\n",
    "ax1.text(5000, 0.0010, f\"mu: {round(mu,2)}s\\nstd: {round(sigma,2)}s\")\n",
    "\n",
    "\n",
    "plt.figure()\n",
    "ax2.set_title(\"Planned - Actual departures times (Route 145 stations) [Normalised]\")\n",
    "ax2.hist(dep_diff, bins=150, density=True)\n",
    "\n",
    "# fit gaussian\n",
    "mu2, sigma2 = stats.norm.fit(dep_diff)\n",
    "x2 = np.linspace(-2500, 2500, 1000)\n",
    "p2 = stats.norm.pdf(x2, mu2, sigma2)\n",
    "ax2.plot(x2,p2)\n",
    "ax2.set_ylabel('Normalised frequency')\n",
    "ax2.set_xlabel('seconds')\n",
    "ax2.text(5000, 0.0010, f\"mu: {round(mu2,2)}s\\nstd: {round(sigma2,2)}s\")\n",
    "\n",
    "plt.figure()\n",
    "ax3.set_title(\"Time spent at a stop\")\n",
    "ax3.hist(stop_time, bins=1500)\n",
    "ax3.set_xlim([-10,200])\n",
    "# ax3.text(2842, 70000, \"One point \\nout here\")"
   ]
  },
  {
   "cell_type": "code",
   "execution_count": 316,
   "metadata": {},
   "outputs": [
    {
     "name": "stdout",
     "output_type": "stream",
     "text": [
      "\n",
      "Mean difference between Actual and planned arrival times:   248.64s\n",
      "Mean difference between Actual and planned departure times: 262.84s\n",
      "Mean Time spent at a stop: 14.2s\n",
      "\n"
     ]
    }
   ],
   "source": [
    "print(f\"\"\"\n",
    "Mean difference between Actual and planned arrival times:   {round(arr_diff.mean(), 2)}s\n",
    "Mean difference between Actual and planned departure times: {round(dep_diff.mean(), 2)}s\n",
    "Mean Time spent at a stop: {round(stop_time.mean(), 2)}s\n",
    "\"\"\")"
   ]
  },
  {
   "cell_type": "markdown",
   "metadata": {},
   "source": [
    "### Looking at the effect of route on time between stops."
   ]
  },
  {
   "cell_type": "code",
   "execution_count": 407,
   "metadata": {},
   "outputs": [],
   "source": [
    "leave10 = pd.read_csv('stored_queries\\query10.csv', engine='python', header=None)\n",
    "leave11 = pd.read_csv('stored_queries\\query11.csv', engine='python', header=None)\n",
    "leave10.columns = ['date', 'tripid','progrnumber','stoppointid','planned_arr10','planned_dep10','actual_arr10','actual_dep10']\n",
    "leave11.columns = ['date', 'tripid','progrnumber','stoppointid','planned_arr11','planned_dep11','actual_arr11','actual_dep11']"
   ]
  },
  {
   "cell_type": "code",
   "execution_count": 408,
   "metadata": {},
   "outputs": [
    {
     "name": "stdout",
     "output_type": "stream",
     "text": [
      "leave10: (2098690, 8)\n",
      "leave11: (2103551, 8)\n"
     ]
    }
   ],
   "source": [
    "print(\"leave10:\",leave10.shape)\n",
    "print(\"leave11:\",leave11.shape)"
   ]
  },
  {
   "cell_type": "markdown",
   "metadata": {},
   "source": [
    "**Match the tripids and day of service for each column**"
   ]
  },
  {
   "cell_type": "code",
   "execution_count": 409,
   "metadata": {},
   "outputs": [],
   "source": [
    "# Need to match day and tripid. Then subtract 10 times from 11 times. \n",
    "merge1011 = pd.merge(leave10,leave11, on=['date','tripid'])\n",
    "diff1011 = merge1011.drop(columns=['progrnumber_x','progrnumber_y'])"
   ]
  },
  {
   "cell_type": "markdown",
   "metadata": {},
   "source": [
    "**Take difference of times**"
   ]
  },
  {
   "cell_type": "code",
   "execution_count": 410,
   "metadata": {},
   "outputs": [],
   "source": [
    "diff1011['planned_arr_diff'] = diff1011['planned_arr11']-diff1011['planned_arr10']\n",
    "diff1011['actual_arr_diff'] = diff1011['actual_arr11']-diff1011['actual_arr10']\n",
    "diff1011['planned_dep_diff'] = diff1011['planned_dep11']-diff1011['planned_dep10']\n",
    "diff1011['actual_dep_diff'] = diff1011['actual_dep11']-diff1011['actual_dep10']"
   ]
  },
  {
   "cell_type": "code",
   "execution_count": 411,
   "metadata": {},
   "outputs": [],
   "source": [
    "diff1011.drop(columns=['planned_arr11','planned_arr10','actual_arr10','actual_arr11','planned_dep10','planned_dep11','actual_dep10','actual_dep11'], inplace=True);"
   ]
  },
  {
   "cell_type": "markdown",
   "metadata": {},
   "source": [
    "**Include the bus number (lineid)**"
   ]
  },
  {
   "cell_type": "code",
   "execution_count": 412,
   "metadata": {},
   "outputs": [],
   "source": [
    "# trips_df['tripid'] = pd.to_numeric(trips_df['tripid'])\n",
    "diff1011 = pd.merge(diff1011, trips_df[['lineid','tripid']], on=['tripid'])"
   ]
  },
  {
   "cell_type": "markdown",
   "metadata": {},
   "source": [
    "**Hypothesis test: Does the lineid matter for time between stops?**"
   ]
  },
  {
   "cell_type": "code",
   "execution_count": 502,
   "metadata": {},
   "outputs": [],
   "source": [
    "# All bus numbers/ lists\n",
    "lineids = list(diff1011.lineid.unique())\n",
    "\n",
    "# for idl in lineids:\n",
    "\n",
    "tmp = diff1011[diff1011.lineid==lineids[0]].copy()\n",
    "tmp_uq_stops_pairs = tmp.drop_duplicates(subset=['stoppointid_x','stoppointid_y'])[['stoppointid_x','stoppointid_y']]\n",
    "\n",
    "uq_stop_pair_tuples = []\n",
    "for i in tmp_uq_stops_pairs.index:\n",
    "\n",
    "    uq_stop_pair_tuples.append((tmp_uq_stops_pairs['stoppointid_x'][i], tmp_uq_stops_pairs['stoppointid_y'][i]))"
   ]
  },
  {
   "cell_type": "code",
   "execution_count": 561,
   "metadata": {
    "collapsed": true
   },
   "outputs": [
    {
     "data": {
      "image/png": "[encoded data removed]",
      "text/plain": [
       "<Figure size 1800x360 with 4 Axes>"
      ]
     },
     "metadata": {
      "needs_background": "light"
     },
     "output_type": "display_data"
    },
    {
     "data": {
      "image/png": "[encoded data removed]",
      "text/plain": [
       "<Figure size 1800x360 with 4 Axes>"
      ]
     },
     "metadata": {
      "needs_background": "light"
     },
     "output_type": "display_data"
    },
    {
     "data": {
      "image/png": "[encoded data removed]",
      "text/plain": [
       "<Figure size 1800x360 with 4 Axes>"
      ]
     },
     "metadata": {
      "needs_background": "light"
     },
     "output_type": "display_data"
    },
    {
     "data": {
      "image/png": "[encoded data removed]",
      "text/plain": [
       "<Figure size 1800x360 with 4 Axes>"
      ]
     },
     "metadata": {
      "needs_background": "light"
     },
     "output_type": "display_data"
    },
    {
     "data": {
      "image/png": "[encoded data removed]",
      "text/plain": [
       "<Figure size 1800x360 with 4 Axes>"
      ]
     },
     "metadata": {
      "needs_background": "light"
     },
     "output_type": "display_data"
    },
    {
     "data": {
      "image/png": "[encoded data removed]",
      "text/plain": [
       "<Figure size 1800x360 with 4 Axes>"
      ]
     },
     "metadata": {
      "needs_background": "light"
     },
     "output_type": "display_data"
    }
   ],
   "source": [
    "\"\"\"\n",
    "Structure\n",
    "\n",
    "for each pair:\n",
    "    \n",
    "    for each line id:\n",
    "        \n",
    "        group the times\n",
    "        \n",
    "perform statistical tests on these groupings\n",
    "\n",
    "\"\"\"\n",
    "for n, pair in enumerate(uq_stop_pair_tuples):\n",
    "    stop_pair_x = diff1011[diff1011.stoppointid_x==pair[0]]\n",
    "    stop_pair_ = stop_pair_x[stop_pair_x.stoppointid_y==pair[1]]\n",
    "    \n",
    "    for num, lid in enumerate(lineids):\n",
    "        \n",
    "        if lid in list(stop_pair_.lineid):\n",
    "            \n",
    "            select_lineid = stop_pair_[stop_pair_.lineid==lid]\n",
    "            \n",
    "            fig = plt.figure(num+n, figsize=(25,5))\n",
    "            plt.suptitle(f\"Line:{lid} stops: {pair}\")\n",
    "            \n",
    "            ax1 = fig.add_subplot(1,4,1)\n",
    "            ax1.set_xlabel('Seconds')\n",
    "            ax1.set_title(\"planned_arr_diff\")\n",
    "            ax1.hist(select_lineid.planned_arr_diff)#, bins=20)\n",
    "        \n",
    "            ax2 = fig.add_subplot(1,4,2)\n",
    "            ax2.set_xlabel('Seconds')\n",
    "            ax2.set_title(\"planned_arr_diff\")\n",
    "            ax2.hist(select_lineid.planned_dep_diff)#, bins=20)\n",
    "        \n",
    "            ax3 = fig.add_subplot(1,4,3)\n",
    "            ax3.set_xlabel('Seconds')\n",
    "            ax3.set_title(\"actual_arr_diff\")\n",
    "            ax3.hist(select_lineid.actual_arr_diff)#, bins=20)\n",
    "        \n",
    "            ax4 = fig.add_subplot(1,4,4)\n",
    "            ax4.set_xlabel('Seconds')\n",
    "            ax4.set_title(\"actual_dep_diff\")\n",
    "            ax4.hist(select_lineid.actual_dep_diff)#, bins=20)\n",
    "        \n",
    "        else:\n",
    "            continue\n",
    "        \n",
    "    "
   ]
  },
  {
   "cell_type": "markdown",
   "metadata": {},
   "source": [
    "### Matching weather Data"
   ]
  },
  {
   "cell_type": "code",
   "execution_count": 761,
   "metadata": {},
   "outputs": [],
   "source": [
    "weatherdf.index.name =\"date_recorded\"\n",
    "\n",
    "# total trip lengths\n",
    "trips_145_match_test = trips_145.copy()\n",
    "\n",
    "# stop by stop from leavetimes\n",
    "trips145_times = pd.read_csv(\"stored_queries/query145leavetimes_full.csv\", engine='python', header=None)\n",
    "# trips145_times.columns=[['dayofservice', 'progrnumber', 'stoppointid', 'actualarr','actualdep', 'plannedarr', 'planneddep']]\n",
    "trips145_times.columns=[['dayofservice', 'tripid', 'progrnumber', 'stoppointid', 'actualarr','actualdep', 'plannedarr', 'planneddep']]"
   ]
  },
  {
   "cell_type": "markdown",
   "metadata": {},
   "source": [
    "**Full Journey prediction**"
   ]
  },
  {
   "cell_type": "code",
   "execution_count": 762,
   "metadata": {
    "scrolled": false
   },
   "outputs": [
    {
     "data": {
      "text/html": [
       "<div>\n",
       "<style scoped>\n",
       "    .dataframe tbody tr th:only-of-type {\n",
       "        vertical-align: middle;\n",
       "    }\n",
       "\n",
       "    .dataframe tbody tr th {\n",
       "        vertical-align: top;\n",
       "    }\n",
       "\n",
       "    .dataframe thead th {\n",
       "        text-align: right;\n",
       "    }\n",
       "</style>\n",
       "<table border=\"1\" class=\"dataframe\">\n",
       "  <thead>\n",
       "    <tr style=\"text-align: right;\">\n",
       "      <th></th>\n",
       "      <th>dayofservice</th>\n",
       "      <th>tripid</th>\n",
       "      <th>lineid</th>\n",
       "      <th>routeid</th>\n",
       "      <th>direction</th>\n",
       "      <th>planned_arr</th>\n",
       "      <th>planned_dep</th>\n",
       "      <th>actual_arr</th>\n",
       "      <th>actual_dep</th>\n",
       "    </tr>\n",
       "  </thead>\n",
       "  <tbody>\n",
       "    <tr>\n",
       "      <th>124</th>\n",
       "      <td>2018-03-08</td>\n",
       "      <td>6394314</td>\n",
       "      <td>145</td>\n",
       "      <td>145_104</td>\n",
       "      <td>1</td>\n",
       "      <td>61525</td>\n",
       "      <td>57900</td>\n",
       "      <td>None</td>\n",
       "      <td>None</td>\n",
       "    </tr>\n",
       "    <tr>\n",
       "      <th>276</th>\n",
       "      <td>2018-06-06</td>\n",
       "      <td>6859709</td>\n",
       "      <td>145</td>\n",
       "      <td>145_102</td>\n",
       "      <td>1</td>\n",
       "      <td>56753</td>\n",
       "      <td>51600</td>\n",
       "      <td>None</td>\n",
       "      <td>51646</td>\n",
       "    </tr>\n",
       "    <tr>\n",
       "      <th>352</th>\n",
       "      <td>2018-08-05</td>\n",
       "      <td>7319855</td>\n",
       "      <td>145</td>\n",
       "      <td>145_102</td>\n",
       "      <td>1</td>\n",
       "      <td>76119</td>\n",
       "      <td>72000</td>\n",
       "      <td>76864</td>\n",
       "      <td>72050</td>\n",
       "    </tr>\n",
       "    <tr>\n",
       "      <th>440</th>\n",
       "      <td>2018-06-02</td>\n",
       "      <td>6840310</td>\n",
       "      <td>145</td>\n",
       "      <td>145_102</td>\n",
       "      <td>1</td>\n",
       "      <td>59991</td>\n",
       "      <td>54900</td>\n",
       "      <td>59692</td>\n",
       "      <td>54883</td>\n",
       "    </tr>\n",
       "    <tr>\n",
       "      <th>488</th>\n",
       "      <td>2018-08-03</td>\n",
       "      <td>7331783</td>\n",
       "      <td>145</td>\n",
       "      <td>145_102</td>\n",
       "      <td>1</td>\n",
       "      <td>65392</td>\n",
       "      <td>60000</td>\n",
       "      <td>None</td>\n",
       "      <td>None</td>\n",
       "    </tr>\n",
       "  </tbody>\n",
       "</table>\n",
       "</div>"
      ],
      "text/plain": [
       "    dayofservice   tripid lineid  routeid direction planned_arr planned_dep  \\\n",
       "124   2018-03-08  6394314    145  145_104        1        61525       57900   \n",
       "276   2018-06-06  6859709    145  145_102        1        56753       51600   \n",
       "352   2018-08-05  7319855    145  145_102        1        76119       72000   \n",
       "440   2018-06-02  6840310    145  145_102        1        59991       54900   \n",
       "488   2018-08-03  7331783    145  145_102        1        65392       60000   \n",
       "\n",
       "    actual_arr actual_dep  \n",
       "124       None       None  \n",
       "276       None      51646  \n",
       "352      76864      72050  \n",
       "440      59692      54883  \n",
       "488       None       None  "
      ]
     },
     "execution_count": 762,
     "metadata": {},
     "output_type": "execute_result"
    }
   ],
   "source": [
    "trips_145_forward.head()"
   ]
  },
  {
   "cell_type": "markdown",
   "metadata": {},
   "source": [
    "**RMSE Full Journey Time**"
   ]
  },
  {
   "cell_type": "code",
   "execution_count": 806,
   "metadata": {},
   "outputs": [
    {
     "name": "stdout",
     "output_type": "stream",
     "text": [
      "\n",
      "Full Trip:\n",
      "Average Trip length: 5178.98s [1.44h]\n",
      "\n",
      "RMSE Arrival time:   800.87s  [15.46%] \n",
      "RMSE Departure time: 222.03s  [4.29%]\n",
      "\n",
      "\n"
     ]
    }
   ],
   "source": [
    "trips_145_FILTERED = trips_145.dropna()\n",
    "\n",
    "rmse_arrival_full = np.sqrt(metrics.mean_squared_error(trips_145_FILTERED.planned_arr.astype(int), trips_145_FILTERED.actual_arr.astype(int)))\n",
    "rmse_depart_full  = np.sqrt(metrics.mean_squared_error(trips_145_FILTERED.planned_dep.astype(int), trips_145_FILTERED.actual_dep.astype(int)))\n",
    "\n",
    "average_trip = (trips_145_FILTERED.actual_arr.astype(int) - trips_145_FILTERED.actual_dep.astype(int)).mean()\n",
    "\n",
    "print(f\"\"\"\n",
    "\n",
    "Full Trip:\n",
    "Average Trip length: {round(average_trip,2)}s [{round(average_trip/3600,2)}h]\n",
    "\n",
    "RMSE Arrival time:   {round(rmse_arrival_full,2)}s  [{round(100*(rmse_arrival_full/average_trip),2)}%] \n",
    "RMSE Departure time: {round(rmse_depart_full,2)}s  [{round(100*(rmse_depart_full/average_trip),2)}%]\n",
    "\n",
    "\"\"\")"
   ]
  },
  {
   "cell_type": "markdown",
   "metadata": {},
   "source": [
    "**Leavetimes and stops combined predictions**"
   ]
  },
  {
   "cell_type": "code",
   "execution_count": 774,
   "metadata": {
    "scrolled": false
   },
   "outputs": [
    {
     "data": {
      "text/html": [
       "<div>\n",
       "<style scoped>\n",
       "    .dataframe tbody tr th:only-of-type {\n",
       "        vertical-align: middle;\n",
       "    }\n",
       "\n",
       "    .dataframe tbody tr th {\n",
       "        vertical-align: top;\n",
       "    }\n",
       "\n",
       "    .dataframe thead tr th {\n",
       "        text-align: left;\n",
       "    }\n",
       "</style>\n",
       "<table border=\"1\" class=\"dataframe\">\n",
       "  <thead>\n",
       "    <tr>\n",
       "      <th></th>\n",
       "      <th>dayofservice</th>\n",
       "      <th>tripid</th>\n",
       "      <th>progrnumber</th>\n",
       "      <th>stoppointid</th>\n",
       "      <th>actualarr</th>\n",
       "      <th>actualdep</th>\n",
       "      <th>plannedarr</th>\n",
       "      <th>planneddep</th>\n",
       "    </tr>\n",
       "  </thead>\n",
       "  <tbody>\n",
       "    <tr>\n",
       "      <th>0</th>\n",
       "      <td>2018-01-12</td>\n",
       "      <td>6099784</td>\n",
       "      <td>11</td>\n",
       "      <td>845</td>\n",
       "      <td>60407</td>\n",
       "      <td>60422</td>\n",
       "      <td>60205</td>\n",
       "      <td>60205</td>\n",
       "    </tr>\n",
       "    <tr>\n",
       "      <th>1</th>\n",
       "      <td>2018-01-12</td>\n",
       "      <td>6099784</td>\n",
       "      <td>40</td>\n",
       "      <td>3129</td>\n",
       "      <td>62404</td>\n",
       "      <td>62419</td>\n",
       "      <td>62454</td>\n",
       "      <td>62454</td>\n",
       "    </tr>\n",
       "    <tr>\n",
       "      <th>2</th>\n",
       "      <td>2018-01-09</td>\n",
       "      <td>6099784</td>\n",
       "      <td>58</td>\n",
       "      <td>4131</td>\n",
       "      <td>63020</td>\n",
       "      <td>63020</td>\n",
       "      <td>63673</td>\n",
       "      <td>63673</td>\n",
       "    </tr>\n",
       "    <tr>\n",
       "      <th>3</th>\n",
       "      <td>2018-01-08</td>\n",
       "      <td>6099784</td>\n",
       "      <td>31</td>\n",
       "      <td>2013</td>\n",
       "      <td>61783</td>\n",
       "      <td>61792</td>\n",
       "      <td>61789</td>\n",
       "      <td>61789</td>\n",
       "    </tr>\n",
       "    <tr>\n",
       "      <th>4</th>\n",
       "      <td>2018-01-10</td>\n",
       "      <td>6099784</td>\n",
       "      <td>40</td>\n",
       "      <td>3129</td>\n",
       "      <td>62044</td>\n",
       "      <td>62075</td>\n",
       "      <td>62454</td>\n",
       "      <td>62454</td>\n",
       "    </tr>\n",
       "  </tbody>\n",
       "</table>\n",
       "</div>"
      ],
      "text/plain": [
       "  dayofservice   tripid progrnumber stoppointid actualarr actualdep  \\\n",
       "0   2018-01-12  6099784          11         845     60407     60422   \n",
       "1   2018-01-12  6099784          40        3129     62404     62419   \n",
       "2   2018-01-09  6099784          58        4131     63020     63020   \n",
       "3   2018-01-08  6099784          31        2013     61783     61792   \n",
       "4   2018-01-10  6099784          40        3129     62044     62075   \n",
       "\n",
       "  plannedarr planneddep  \n",
       "0      60205      60205  \n",
       "1      62454      62454  \n",
       "2      63673      63673  \n",
       "3      61789      61789  \n",
       "4      62454      62454  "
      ]
     },
     "execution_count": 774,
     "metadata": {},
     "output_type": "execute_result"
    }
   ],
   "source": [
    "trips145_times.head()"
   ]
  },
  {
   "cell_type": "markdown",
   "metadata": {},
   "source": [
    "**RMSE of planned vs actual predictions from dublin bus between stops**"
   ]
  },
  {
   "cell_type": "code",
   "execution_count": 794,
   "metadata": {},
   "outputs": [
    {
     "name": "stdout",
     "output_type": "stream",
     "text": [
      "\n",
      "Between Stops:\n",
      "RMSE Arrival time:   432.61s\n",
      "RMSE Departure time: 438.53s\n",
      "\n"
     ]
    }
   ],
   "source": [
    "rmse_arrival = np.sqrt(metrics.mean_squared_error(trips145_times.actualarr, trips145_times.plannedarr))\n",
    "rmse_depart  = np.sqrt(metrics.mean_squared_error(trips145_times.actualdep, trips145_times.planneddep))\n",
    "print(f\"\"\"\n",
    "Between Stops:\n",
    "RMSE Arrival time:   {round(rmse_arrival,2)}s\n",
    "RMSE Departure time: {round(rmse_depart,2)}s\n",
    "\"\"\")"
   ]
  },
  {
   "cell_type": "code",
   "execution_count": 754,
   "metadata": {},
   "outputs": [],
   "source": [
    "# convert dayofservice to datetime object \n",
    "trips145_times['dayofservice'] = pd.to_datetime(trips145_times['dayofservice'].iloc[:,0], format=\"%Y-%m-%d\")"
   ]
  },
  {
   "cell_type": "code",
   "execution_count": 755,
   "metadata": {
    "cell_style": "center"
   },
   "outputs": [],
   "source": [
    "# replace the \n",
    "trips145_times['actualarr'] = trips145_times.dayofservice.iloc[:,0] + pd.to_timedelta(trips145_times['actualarr'].iloc[:,0], unit='s')\n",
    "trips145_times['actualdep'] = trips145_times.dayofservice.iloc[:,0] + pd.to_timedelta(trips145_times['actualdep'].iloc[:,0], unit='s')\n",
    "trips145_times['plannedarr'] = trips145_times.dayofservice.iloc[:,0] + pd.to_timedelta(trips145_times['plannedarr'].iloc[:,0], unit='s')\n",
    "trips145_times['planneddep'] = trips145_times.dayofservice.iloc[:,0] + pd.to_timedelta(trips145_times['planneddep'].iloc[:,0], unit='s')"
   ]
  },
  {
   "cell_type": "code",
   "execution_count": 756,
   "metadata": {},
   "outputs": [
    {
     "data": {
      "text/html": [
       "<div>\n",
       "<style scoped>\n",
       "    .dataframe tbody tr th:only-of-type {\n",
       "        vertical-align: middle;\n",
       "    }\n",
       "\n",
       "    .dataframe tbody tr th {\n",
       "        vertical-align: top;\n",
       "    }\n",
       "\n",
       "    .dataframe thead tr th {\n",
       "        text-align: left;\n",
       "    }\n",
       "</style>\n",
       "<table border=\"1\" class=\"dataframe\">\n",
       "  <thead>\n",
       "    <tr>\n",
       "      <th></th>\n",
       "      <th>dayofservice</th>\n",
       "      <th>progrnumber</th>\n",
       "      <th>stoppointid</th>\n",
       "      <th>actualarr</th>\n",
       "      <th>actualdep</th>\n",
       "      <th>plannedarr</th>\n",
       "      <th>planneddep</th>\n",
       "    </tr>\n",
       "  </thead>\n",
       "  <tbody>\n",
       "    <tr>\n",
       "      <th>0</th>\n",
       "      <td>2018-01-10</td>\n",
       "      <td>40</td>\n",
       "      <td>3129</td>\n",
       "      <td>2018-01-10 17:14:04</td>\n",
       "      <td>2018-01-10 17:14:35</td>\n",
       "      <td>2018-01-10 17:20:54</td>\n",
       "      <td>2018-01-10 17:20:54</td>\n",
       "    </tr>\n",
       "    <tr>\n",
       "      <th>1</th>\n",
       "      <td>2018-01-10</td>\n",
       "      <td>54</td>\n",
       "      <td>4127</td>\n",
       "      <td>2018-01-10 17:30:47</td>\n",
       "      <td>2018-01-10 17:30:47</td>\n",
       "      <td>2018-01-10 17:34:51</td>\n",
       "      <td>2018-01-10 17:34:51</td>\n",
       "    </tr>\n",
       "    <tr>\n",
       "      <th>2</th>\n",
       "      <td>2018-01-10</td>\n",
       "      <td>7</td>\n",
       "      <td>334</td>\n",
       "      <td>2018-01-10 16:30:22</td>\n",
       "      <td>2018-01-10 16:31:09</td>\n",
       "      <td>2018-01-10 16:33:31</td>\n",
       "      <td>2018-01-10 16:33:31</td>\n",
       "    </tr>\n",
       "    <tr>\n",
       "      <th>3</th>\n",
       "      <td>2018-01-10</td>\n",
       "      <td>67</td>\n",
       "      <td>4175</td>\n",
       "      <td>2018-01-10 17:46:58</td>\n",
       "      <td>2018-01-10 17:47:13</td>\n",
       "      <td>2018-01-10 17:52:58</td>\n",
       "      <td>2018-01-10 17:52:58</td>\n",
       "    </tr>\n",
       "    <tr>\n",
       "      <th>4</th>\n",
       "      <td>2018-01-11</td>\n",
       "      <td>10</td>\n",
       "      <td>842</td>\n",
       "      <td>2018-01-11 16:40:48</td>\n",
       "      <td>2018-01-11 16:42:41</td>\n",
       "      <td>2018-01-11 16:42:06</td>\n",
       "      <td>2018-01-11 16:42:06</td>\n",
       "    </tr>\n",
       "  </tbody>\n",
       "</table>\n",
       "</div>"
      ],
      "text/plain": [
       "  dayofservice progrnumber stoppointid           actualarr  \\\n",
       "0   2018-01-10          40        3129 2018-01-10 17:14:04   \n",
       "1   2018-01-10          54        4127 2018-01-10 17:30:47   \n",
       "2   2018-01-10           7         334 2018-01-10 16:30:22   \n",
       "3   2018-01-10          67        4175 2018-01-10 17:46:58   \n",
       "4   2018-01-11          10         842 2018-01-11 16:40:48   \n",
       "\n",
       "            actualdep          plannedarr          planneddep  \n",
       "0 2018-01-10 17:14:35 2018-01-10 17:20:54 2018-01-10 17:20:54  \n",
       "1 2018-01-10 17:30:47 2018-01-10 17:34:51 2018-01-10 17:34:51  \n",
       "2 2018-01-10 16:31:09 2018-01-10 16:33:31 2018-01-10 16:33:31  \n",
       "3 2018-01-10 17:47:13 2018-01-10 17:52:58 2018-01-10 17:52:58  \n",
       "4 2018-01-11 16:42:41 2018-01-11 16:42:06 2018-01-11 16:42:06  "
      ]
     },
     "execution_count": 756,
     "metadata": {},
     "output_type": "execute_result"
    }
   ],
   "source": [
    "trips145_times.head()"
   ]
  },
  {
   "cell_type": "code",
   "execution_count": 757,
   "metadata": {},
   "outputs": [],
   "source": [
    "# trips145_times.drop(columns='dayofservice')"
   ]
  },
  {
   "cell_type": "markdown",
   "metadata": {},
   "source": [
    "## Initial Model Training and Testing"
   ]
  },
  {
   "cell_type": "markdown",
   "metadata": {},
   "source": [
    "### Random Forest Decision Tree training"
   ]
  },
  {
   "cell_type": "code",
   "execution_count": null,
   "metadata": {},
   "outputs": [],
   "source": [
    "RFM = RandomForestClassifier(n_estimators=100, max_features='auto', oob_score=True, random_state=1)\n",
    "RFM.fit(train[predictors], train[target_feature])\n",
    "\n",
    "RFM_predictions = RFM.predict(train[predictors][:100])"
   ]
  }
 ],
 "metadata": {
  "kernelspec": {
   "display_name": "Python 3",
   "language": "python",
   "name": "python3"
  },
  "language_info": {
   "codemirror_mode": {
    "name": "ipython",
    "version": 3
   },
   "file_extension": ".py",
   "mimetype": "text/x-python",
   "name": "python",
   "nbconvert_exporter": "python",
   "pygments_lexer": "ipython3",
   "version": "3.6.7"
  },
  "toc": {
   "base_numbering": 1,
   "nav_menu": {},
   "number_sections": true,
   "sideBar": true,
   "skip_h1_title": false,
   "title_cell": "Table of Contents",
   "title_sidebar": "Contents",
   "toc_cell": false,
   "toc_position": {},
   "toc_section_display": true,
   "toc_window_display": false
  },
  "varInspector": {
   "cols": {
    "lenName": 16,
    "lenType": 16,
    "lenVar": 40
   },
   "kernels_config": {
    "python": {
     "delete_cmd_postfix": "",
     "delete_cmd_prefix": "del ",
     "library": "var_list.py",
     "varRefreshCmd": "print(var_dic_list())"
    },
    "r": {
     "delete_cmd_postfix": ") ",
     "delete_cmd_prefix": "rm(",
     "library": "var_list.r",
     "varRefreshCmd": "cat(var_dic_list()) "
    }
   },
   "position": {
    "height": "764px",
    "left": "1234px",
    "right": "20px",
    "top": "90px",
    "width": "669px"
   },
   "types_to_exclude": [
    "module",
    "function",
    "builtin_function_or_method",
    "instance",
    "_Feature"
   ],
   "window_display": false
  }
 },
 "nbformat": 4,
 "nbformat_minor": 2
}

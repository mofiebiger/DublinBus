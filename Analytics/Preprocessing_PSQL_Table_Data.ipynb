{
 "cells": [
  {
   "cell_type": "code",
   "execution_count": 1,
   "metadata": {
    "ExecuteTime": {
     "end_time": "2019-07-19T13:29:55.483505Z",
     "start_time": "2019-07-19T13:29:55.475891Z"
    },
    "init_cell": true
   },
   "outputs": [],
   "source": [
    "import numpy as np\n",
    "import pandas as pd\n",
    "from tqdm import tqdm, tqdm_notebook, tnrange\n",
    "import dask.dataframe as dd\n",
    "from dask.diagnostics import ProgressBar\n",
    "PB = ProgressBar()\n",
    "PB.register()"
   ]
  },
  {
   "cell_type": "code",
   "execution_count": 3,
   "metadata": {
    "ExecuteTime": {
     "end_time": "2019-07-19T13:29:55.518289Z",
     "start_time": "2019-07-19T13:29:55.488500Z"
    },
    "init_cell": true
   },
   "outputs": [],
   "source": [
    "leave = dd.read_csv(\"data/rt_leavetimes_DB_2018.txt\", sep=\";\")\n",
    "trips = pd.read_csv(\"data/rt_trips_DB_2018.txt\", sep=\";\")"
   ]
  },
  {
   "cell_type": "code",
   "execution_count": null,
   "metadata": {
    "ExecuteTime": {
     "end_time": "2019-07-19T13:29:55.521159Z",
     "start_time": "2019-07-19T13:29:55.479Z"
    },
    "init_cell": true
   },
   "outputs": [],
   "source": [
    "leave = leave.drop(['DATASOURCE','VEHICLEID','PASSENGERS','PASSENGERSIN','PASSENGERSOUT','DISTANCE','SUPPRESSED', 'JUSTIFICATIONID','NOTE','LASTUPDATE'], axis=1)\n",
    "leave['DAYOFSERVICE'] = dd.to_datetime(leave.DAYOFSERVICE, format=\"%d-%b-%y %H:%M:%S\")"
   ]
  },
  {
   "cell_type": "code",
   "execution_count": null,
   "metadata": {
    "ExecuteTime": {
     "end_time": "2019-07-19T13:29:55.522904Z",
     "start_time": "2019-07-19T13:29:55.481Z"
    },
    "init_cell": true
   },
   "outputs": [],
   "source": [
    "trips = trips.drop(['DATASOURCE','BASIN','TENDERLOT','SUPPRESSED','JUSTIFICATIONID','NOTE','LASTUPDATE','PLANNEDTIME_ARR','PLANNEDTIME_DEP','ACTUALTIME_ARR','ACTUALTIME_DEP'], axis=1)\n",
    "trips['DAYOFSERVICE'] = pd.to_datetime(trips.DAYOFSERVICE, format=\"%d-%b-%y %H:%M:%S\")"
   ]
  },
  {
   "cell_type": "code",
   "execution_count": null,
   "metadata": {
    "ExecuteTime": {
     "start_time": "2019-07-19T13:04:05.549Z"
    }
   },
   "outputs": [],
   "source": [
    "combine = leave.merge(trips, how='left', on=['DAYOFSERVICE','TRIPID'])"
   ]
  },
  {
   "cell_type": "code",
   "execution_count": null,
   "metadata": {
    "ExecuteTime": {
     "start_time": "2019-07-19T13:04:05.717Z"
    }
   },
   "outputs": [],
   "source": [
    "combine = combine[['DAYOFSERVICE','TRIPID','LINEID','DIRECTION','PROGRNUMBER','STOPPOINTID','PLANNEDTIME_DEP','PLANNEDTIME_ARR','ACTUALTIME_DEP','ACTUALTIME_ARR','ROUTEID']]"
   ]
  },
  {
   "cell_type": "code",
   "execution_count": null,
   "metadata": {
    "ExecuteTime": {
     "start_time": "2019-07-19T13:04:05.873Z"
    }
   },
   "outputs": [
    {
     "name": "stdout",
     "output_type": "stream",
     "text": [
      "[#####                                   ] | 12% Completed |  1min 21.9s"
     ]
    }
   ],
   "source": [
    "combinedf = combine.compute()"
   ]
  },
  {
   "cell_type": "code",
   "execution_count": null,
   "metadata": {
    "ExecuteTime": {
     "start_time": "2019-07-19T13:04:06.029Z"
    }
   },
   "outputs": [],
   "source": [
    "combinedf.head()"
   ]
  },
  {
   "cell_type": "code",
   "execution_count": null,
   "metadata": {
    "ExecuteTime": {
     "start_time": "2019-07-19T13:04:07.668Z"
    },
    "scrolled": false
   },
   "outputs": [],
   "source": [
    "combinedf.dtypes"
   ]
  },
  {
   "cell_type": "code",
   "execution_count": 4,
   "metadata": {
    "ExecuteTime": {
     "end_time": "2019-07-19T13:03:59.469788Z",
     "start_time": "2019-07-19T13:03:59.286607Z"
    }
   },
   "outputs": [],
   "source": [
    "combinedf.count()"
   ]
  },
  {
   "cell_type": "code",
   "execution_count": 17,
   "metadata": {
    "ExecuteTime": {
     "end_time": "2019-07-19T11:54:06.403964Z",
     "start_time": "2019-07-19T11:54:06.400717Z"
    }
   },
   "outputs": [],
   "source": [
    "combinedf.to_csv('combined.csv', index=False, header=None, chunksize=500000)"
   ]
  }
 ],
 "metadata": {
  "kernelspec": {
   "display_name": "Python 3",
   "language": "python",
   "name": "python3"
  },
  "language_info": {
   "codemirror_mode": {
    "name": "ipython",
    "version": 3
   },
   "file_extension": ".py",
   "mimetype": "text/x-python",
   "name": "python",
   "nbconvert_exporter": "python",
   "pygments_lexer": "ipython3",
   "version": "3.6.8"
  },
  "toc": {
   "base_numbering": 1,
   "nav_menu": {},
   "number_sections": true,
   "sideBar": true,
   "skip_h1_title": false,
   "title_cell": "Table of Contents",
   "title_sidebar": "Contents",
   "toc_cell": false,
   "toc_position": {},
   "toc_section_display": true,
   "toc_window_display": false
  },
  "varInspector": {
   "cols": {
    "lenName": 16,
    "lenType": 16,
    "lenVar": 40
   },
   "kernels_config": {
    "python": {
     "delete_cmd_postfix": "",
     "delete_cmd_prefix": "del ",
     "library": "var_list.py",
     "varRefreshCmd": "print(var_dic_list())"
    },
    "r": {
     "delete_cmd_postfix": ") ",
     "delete_cmd_prefix": "rm(",
     "library": "var_list.r",
     "varRefreshCmd": "cat(var_dic_list()) "
    }
   },
   "types_to_exclude": [
    "module",
    "function",
    "builtin_function_or_method",
    "instance",
    "_Feature"
   ],
   "window_display": false
  }
 },
 "nbformat": 4,
 "nbformat_minor": 2
}

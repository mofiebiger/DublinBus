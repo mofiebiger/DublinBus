{
 "cells": [
  {
   "cell_type": "markdown",
   "metadata": {},
   "source": [
    "## Setup and importing modules"
   ]
  },
  {
   "cell_type": "code",
   "execution_count": 42,
   "metadata": {
    "ExecuteTime": {
     "end_time": "2019-07-23T13:42:46.639451Z",
     "start_time": "2019-07-23T13:42:45.962946Z"
    },
    "init_cell": true
   },
   "outputs": [],
   "source": [
    "from sklearn.model_selection import train_test_split\n",
    "from sklearn.model_selection import cross_val_score \n",
    "from sklearn.model_selection import cross_validate\n",
    "from sklearn.ensemble import RandomForestClassifier\n",
    "from sklearn.preprocessing import LabelEncoder\n",
    "\n",
    "import matplotlib.pyplot as plt\n",
    "import matplotlib.mlab as mlab\n",
    "\n",
    "from datetime import timedelta\n",
    "from datetime import datetime\n",
    "import scipy.stats as stats\n",
    "\n",
    "import requests as r\n",
    "import pandas as pd\n",
    "import seaborn as s\n",
    "import numpy as np\n",
    "\n",
    "import holidays\n",
    "ie_holidays = holidays.Ireland()\n",
    "\n",
    "import postgres\n",
    "import gmaps\n",
    "import googlemaps\n",
    "import json\n",
    "import config\n",
    "import math\n",
    "\n",
    "import xgboost as xgb\n",
    "from sklearn import metrics\n",
    "\n",
    "from tqdm import tnrange, tqdm_notebook, tqdm\n",
    "\n",
    "\n",
    "from tqdm._tqdm_notebook import tqdm_notebook as tdnot\n",
    "tdnot.pandas()\n",
    "\n",
    "import warnings\n",
    "warnings.filterwarnings(\"ignore\")"
   ]
  },
  {
   "cell_type": "code",
   "execution_count": null,
   "metadata": {
    "ExecuteTime": {
     "end_time": "2019-07-23T13:42:46.946372Z",
     "start_time": "2019-07-23T13:42:46.939715Z"
    }
   },
   "outputs": [],
   "source": [
    "import importlib\n",
    "importlib.reload(postgres.config)"
   ]
  },
  {
   "cell_type": "code",
   "execution_count": 43,
   "metadata": {
    "ExecuteTime": {
     "end_time": "2019-07-23T13:42:47.262528Z",
     "start_time": "2019-07-23T13:42:47.259779Z"
    },
    "init_cell": true
   },
   "outputs": [],
   "source": [
    "from IPython.core.interactiveshell import InteractiveShell\n",
    "InteractiveShell.ast_node_interactivity = \"all\""
   ]
  },
  {
   "cell_type": "markdown",
   "metadata": {},
   "source": [
    "## Import Data"
   ]
  },
  {
   "cell_type": "markdown",
   "metadata": {},
   "source": [
    "\n",
    "### Export the number of stops on each lineid for basic model."
   ]
  },
  {
   "cell_type": "code",
   "execution_count": null,
   "metadata": {},
   "outputs": [],
   "source": [
    "# # Read in all lineids from teh database and store in a text file.\n",
    "\n",
    "\n",
    "# lineids = postgres.query(\"Select distinct(lineid) from combined;\", tunnel=True)\n",
    "\n",
    "# q = dict()\n",
    "# for lidx in tnrange(len(lineids)):\n",
    "    \n",
    "#     lid = lineids[lidx]\n",
    "#     q[lid[0]] = postgres.query(\"SELECT MAX(progrnumber) FROM combined WHERE lineid='%s';\" % str(lid[0]), tunnel=True)\n",
    "    \n",
    "# with open(\"stops_per_line.txt\",'w') as f:\n",
    "#     f.write(json.dumps(q))\n",
    "# f.closed"
   ]
  },
  {
   "cell_type": "code",
   "execution_count": 44,
   "metadata": {
    "code_folding": [],
    "init_cell": true
   },
   "outputs": [],
   "source": [
    "with open(\"stops_per_line.txt\",'r') as g:\n",
    "    max_stops_per_line = json.loads(g.readlines()[0])"
   ]
  },
  {
   "cell_type": "markdown",
   "metadata": {},
   "source": [
    "### Bus Data"
   ]
  },
  {
   "cell_type": "code",
   "execution_count": 45,
   "metadata": {
    "ExecuteTime": {
     "end_time": "2019-07-23T13:42:51.621496Z",
     "start_time": "2019-07-23T13:42:48.121000Z"
    },
    "init_cell": true
   },
   "outputs": [
    {
     "data": {
      "text/html": [
       "<div>\n",
       "<style scoped>\n",
       "    .dataframe tbody tr th:only-of-type {\n",
       "        vertical-align: middle;\n",
       "    }\n",
       "\n",
       "    .dataframe tbody tr th {\n",
       "        vertical-align: top;\n",
       "    }\n",
       "\n",
       "    .dataframe thead th {\n",
       "        text-align: right;\n",
       "    }\n",
       "</style>\n",
       "<table border=\"1\" class=\"dataframe\">\n",
       "  <thead>\n",
       "    <tr style=\"text-align: right;\">\n",
       "      <th></th>\n",
       "      <th>dayofservice</th>\n",
       "      <th>tripid</th>\n",
       "      <th>lineid</th>\n",
       "      <th>direction</th>\n",
       "      <th>progrnumber</th>\n",
       "      <th>stopid</th>\n",
       "      <th>plannedDEP</th>\n",
       "      <th>plannedARR</th>\n",
       "      <th>actualDEP</th>\n",
       "      <th>actualARR</th>\n",
       "      <th>routeid</th>\n",
       "    </tr>\n",
       "  </thead>\n",
       "  <tbody>\n",
       "    <tr>\n",
       "      <th>0</th>\n",
       "      <td>2018-01-01</td>\n",
       "      <td>5955476</td>\n",
       "      <td>145</td>\n",
       "      <td>1</td>\n",
       "      <td>1</td>\n",
       "      <td>4320</td>\n",
       "      <td>32400</td>\n",
       "      <td>32400</td>\n",
       "      <td>32370</td>\n",
       "      <td>32370</td>\n",
       "      <td>145_102</td>\n",
       "    </tr>\n",
       "    <tr>\n",
       "      <th>1</th>\n",
       "      <td>2018-01-01</td>\n",
       "      <td>5955476</td>\n",
       "      <td>145</td>\n",
       "      <td>1</td>\n",
       "      <td>2</td>\n",
       "      <td>1476</td>\n",
       "      <td>32504</td>\n",
       "      <td>32504</td>\n",
       "      <td>32461</td>\n",
       "      <td>32461</td>\n",
       "      <td>145_102</td>\n",
       "    </tr>\n",
       "    <tr>\n",
       "      <th>2</th>\n",
       "      <td>2018-01-01</td>\n",
       "      <td>5955476</td>\n",
       "      <td>145</td>\n",
       "      <td>1</td>\n",
       "      <td>3</td>\n",
       "      <td>7453</td>\n",
       "      <td>32579</td>\n",
       "      <td>32579</td>\n",
       "      <td>32508</td>\n",
       "      <td>32508</td>\n",
       "      <td>145_102</td>\n",
       "    </tr>\n",
       "    <tr>\n",
       "      <th>3</th>\n",
       "      <td>2018-01-01</td>\n",
       "      <td>5955476</td>\n",
       "      <td>145</td>\n",
       "      <td>1</td>\n",
       "      <td>4</td>\n",
       "      <td>1478</td>\n",
       "      <td>32650</td>\n",
       "      <td>32650</td>\n",
       "      <td>32582</td>\n",
       "      <td>32572</td>\n",
       "      <td>145_102</td>\n",
       "    </tr>\n",
       "    <tr>\n",
       "      <th>4</th>\n",
       "      <td>2018-01-01</td>\n",
       "      <td>5955476</td>\n",
       "      <td>145</td>\n",
       "      <td>1</td>\n",
       "      <td>5</td>\n",
       "      <td>1479</td>\n",
       "      <td>32698</td>\n",
       "      <td>32698</td>\n",
       "      <td>32630</td>\n",
       "      <td>32630</td>\n",
       "      <td>145_102</td>\n",
       "    </tr>\n",
       "  </tbody>\n",
       "</table>\n",
       "</div>"
      ],
      "text/plain": [
       "  dayofservice   tripid  lineid  direction  progrnumber  stopid  plannedDEP  \\\n",
       "0   2018-01-01  5955476     145          1            1    4320       32400   \n",
       "1   2018-01-01  5955476     145          1            2    1476       32504   \n",
       "2   2018-01-01  5955476     145          1            3    7453       32579   \n",
       "3   2018-01-01  5955476     145          1            4    1478       32650   \n",
       "4   2018-01-01  5955476     145          1            5    1479       32698   \n",
       "\n",
       "   plannedARR  actualDEP  actualARR  routeid  \n",
       "0       32400      32370      32370  145_102  \n",
       "1       32504      32461      32461  145_102  \n",
       "2       32579      32508      32508  145_102  \n",
       "3       32650      32582      32572  145_102  \n",
       "4       32698      32630      32630  145_102  "
      ]
     },
     "execution_count": 45,
     "metadata": {},
     "output_type": "execute_result"
    }
   ],
   "source": [
    "# data = postgres.query(\"SELECT * FROM combined WHERE lineid='145';\", tunnel=True)\n",
    "# data = pd.DataFrame(data)\n",
    "data = pd.read_csv(\"stored_queries/combined145.csv\")\n",
    "data.head()"
   ]
  },
  {
   "cell_type": "code",
   "execution_count": 46,
   "metadata": {
    "ExecuteTime": {
     "end_time": "2019-07-23T13:42:51.715158Z",
     "start_time": "2019-07-23T13:42:51.691891Z"
    },
    "init_cell": true,
    "scrolled": true
   },
   "outputs": [],
   "source": [
    "data.columns = ['dayofservice','tripid','lineid','direction','progrnumber','stopid','plannedDEP','plannedARR','actualDEP','actualARR','routeid']"
   ]
  },
  {
   "cell_type": "code",
   "execution_count": null,
   "metadata": {},
   "outputs": [],
   "source": [
    "data.dtypes"
   ]
  },
  {
   "cell_type": "code",
   "execution_count": 47,
   "metadata": {
    "ExecuteTime": {
     "end_time": "2019-07-23T13:42:52.715766Z",
     "start_time": "2019-07-23T13:42:51.774571Z"
    },
    "init_cell": true
   },
   "outputs": [],
   "source": [
    "data.dayofservice = pd.to_datetime(data.dayofservice.loc[:])\n",
    "data.lineid = data.lineid.astype('category')\n",
    "data.routeid= data.routeid.astype('category')"
   ]
  },
  {
   "cell_type": "code",
   "execution_count": 48,
   "metadata": {
    "ExecuteTime": {
     "end_time": "2019-07-23T13:42:54.073579Z",
     "start_time": "2019-07-23T13:42:52.773546Z"
    },
    "init_cell": true
   },
   "outputs": [],
   "source": [
    "data.sort_values(by=['dayofservice','lineid','tripid','direction','progrnumber'],inplace=True)\n",
    "# data.to_csv(\"stored_queries/combined145.csv\", index=False, chunksize=500000)"
   ]
  },
  {
   "cell_type": "markdown",
   "metadata": {},
   "source": [
    "### Trips information [for full route prediction]"
   ]
  },
  {
   "cell_type": "code",
   "execution_count": 49,
   "metadata": {
    "init_cell": true
   },
   "outputs": [
    {
     "data": {
      "text/html": [
       "<div>\n",
       "<style scoped>\n",
       "    .dataframe tbody tr th:only-of-type {\n",
       "        vertical-align: middle;\n",
       "    }\n",
       "\n",
       "    .dataframe tbody tr th {\n",
       "        vertical-align: top;\n",
       "    }\n",
       "\n",
       "    .dataframe thead th {\n",
       "        text-align: right;\n",
       "    }\n",
       "</style>\n",
       "<table border=\"1\" class=\"dataframe\">\n",
       "  <thead>\n",
       "    <tr style=\"text-align: right;\">\n",
       "      <th></th>\n",
       "      <th>Unnamed: 0</th>\n",
       "      <th>dayofservice</th>\n",
       "      <th>tripid</th>\n",
       "      <th>lineid</th>\n",
       "      <th>routeid</th>\n",
       "      <th>direction</th>\n",
       "      <th>planned_arr</th>\n",
       "      <th>planned_dep</th>\n",
       "      <th>actual_arr</th>\n",
       "      <th>actual_dep</th>\n",
       "    </tr>\n",
       "  </thead>\n",
       "  <tbody>\n",
       "    <tr>\n",
       "      <th>0</th>\n",
       "      <td>0</td>\n",
       "      <td>2018-06-17</td>\n",
       "      <td>7013606</td>\n",
       "      <td>7A</td>\n",
       "      <td>7A_85</td>\n",
       "      <td>1</td>\n",
       "      <td>66484</td>\n",
       "      <td>62400</td>\n",
       "      <td>67065.0</td>\n",
       "      <td>62901.0</td>\n",
       "    </tr>\n",
       "    <tr>\n",
       "      <th>1</th>\n",
       "      <td>1</td>\n",
       "      <td>2018-07-03</td>\n",
       "      <td>7137867</td>\n",
       "      <td>41C</td>\n",
       "      <td>41C_79</td>\n",
       "      <td>2</td>\n",
       "      <td>51620</td>\n",
       "      <td>47700</td>\n",
       "      <td>NaN</td>\n",
       "      <td>47293.0</td>\n",
       "    </tr>\n",
       "    <tr>\n",
       "      <th>2</th>\n",
       "      <td>2</td>\n",
       "      <td>2018-02-16</td>\n",
       "      <td>6258567</td>\n",
       "      <td>31</td>\n",
       "      <td>31_15</td>\n",
       "      <td>1</td>\n",
       "      <td>74041</td>\n",
       "      <td>71400</td>\n",
       "      <td>74297.0</td>\n",
       "      <td>71449.0</td>\n",
       "    </tr>\n",
       "    <tr>\n",
       "      <th>3</th>\n",
       "      <td>3</td>\n",
       "      <td>2018-08-27</td>\n",
       "      <td>7499178</td>\n",
       "      <td>67</td>\n",
       "      <td>67_6</td>\n",
       "      <td>2</td>\n",
       "      <td>59030</td>\n",
       "      <td>54720</td>\n",
       "      <td>NaN</td>\n",
       "      <td>54687.0</td>\n",
       "    </tr>\n",
       "    <tr>\n",
       "      <th>4</th>\n",
       "      <td>4</td>\n",
       "      <td>2018-08-27</td>\n",
       "      <td>7500294</td>\n",
       "      <td>44</td>\n",
       "      <td>44_36</td>\n",
       "      <td>2</td>\n",
       "      <td>85563</td>\n",
       "      <td>81000</td>\n",
       "      <td>85557.0</td>\n",
       "      <td>81004.0</td>\n",
       "    </tr>\n",
       "  </tbody>\n",
       "</table>\n",
       "</div>"
      ],
      "text/plain": [
       "   Unnamed: 0 dayofservice   tripid lineid routeid  direction  planned_arr  \\\n",
       "0           0   2018-06-17  7013606     7A   7A_85          1        66484   \n",
       "1           1   2018-07-03  7137867    41C  41C_79          2        51620   \n",
       "2           2   2018-02-16  6258567     31   31_15          1        74041   \n",
       "3           3   2018-08-27  7499178     67    67_6          2        59030   \n",
       "4           4   2018-08-27  7500294     44   44_36          2        85563   \n",
       "\n",
       "   planned_dep  actual_arr  actual_dep  \n",
       "0        62400     67065.0     62901.0  \n",
       "1        47700         NaN     47293.0  \n",
       "2        71400     74297.0     71449.0  \n",
       "3        54720         NaN     54687.0  \n",
       "4        81000     85557.0     81004.0  "
      ]
     },
     "execution_count": 49,
     "metadata": {},
     "output_type": "execute_result"
    }
   ],
   "source": [
    "tripsdata = pd.read_csv(\"stored_queries/trips_df.csv\")\n",
    "tripsdata.head()"
   ]
  },
  {
   "cell_type": "code",
   "execution_count": 50,
   "metadata": {
    "init_cell": true
   },
   "outputs": [],
   "source": [
    "tripsdata = tripsdata[['dayofservice', 'tripid', 'lineid', 'routeid', 'direction', 'actual_arr', 'actual_dep']]\n",
    "tripsdata.dayofservice = pd.to_datetime(tripsdata.dayofservice)\n",
    "tripsdata.dropna(inplace=True)"
   ]
  },
  {
   "cell_type": "markdown",
   "metadata": {},
   "source": [
    "### Stop Information"
   ]
  },
  {
   "cell_type": "code",
   "execution_count": 51,
   "metadata": {
    "ExecuteTime": {
     "end_time": "2019-07-23T13:42:54.176825Z",
     "start_time": "2019-07-23T13:42:54.159974Z"
    },
    "init_cell": true
   },
   "outputs": [],
   "source": [
    "stops = pd.read_csv(\"stop_information.csv\")"
   ]
  },
  {
   "cell_type": "code",
   "execution_count": 52,
   "metadata": {
    "ExecuteTime": {
     "end_time": "2019-07-23T13:42:54.244019Z",
     "start_time": "2019-07-23T13:42:54.232737Z"
    },
    "init_cell": true
   },
   "outputs": [
    {
     "data": {
      "text/html": [
       "<div>\n",
       "<style scoped>\n",
       "    .dataframe tbody tr th:only-of-type {\n",
       "        vertical-align: middle;\n",
       "    }\n",
       "\n",
       "    .dataframe tbody tr th {\n",
       "        vertical-align: top;\n",
       "    }\n",
       "\n",
       "    .dataframe thead th {\n",
       "        text-align: right;\n",
       "    }\n",
       "</style>\n",
       "<table border=\"1\" class=\"dataframe\">\n",
       "  <thead>\n",
       "    <tr style=\"text-align: right;\">\n",
       "      <th></th>\n",
       "      <th>id</th>\n",
       "      <th>stopid</th>\n",
       "      <th>stop_name</th>\n",
       "      <th>lat</th>\n",
       "      <th>lng</th>\n",
       "      <th>irish_name</th>\n",
       "      <th>routes</th>\n",
       "    </tr>\n",
       "  </thead>\n",
       "  <tbody>\n",
       "    <tr>\n",
       "      <th>0</th>\n",
       "      <td>4240</td>\n",
       "      <td>2</td>\n",
       "      <td>Parnell Square</td>\n",
       "      <td>53.352241</td>\n",
       "      <td>-6.263695</td>\n",
       "      <td>Cearnóg Parnell</td>\n",
       "      <td>['38', '38A', '38B', '38D', '46A', '46E']</td>\n",
       "    </tr>\n",
       "    <tr>\n",
       "      <th>1</th>\n",
       "      <td>4241</td>\n",
       "      <td>3</td>\n",
       "      <td>Parnell Square</td>\n",
       "      <td>53.352307</td>\n",
       "      <td>-6.263783</td>\n",
       "      <td>Cearnóg Parnell</td>\n",
       "      <td>['120', '122']</td>\n",
       "    </tr>\n",
       "    <tr>\n",
       "      <th>2</th>\n",
       "      <td>4242</td>\n",
       "      <td>4</td>\n",
       "      <td>Parnell Square</td>\n",
       "      <td>53.352567</td>\n",
       "      <td>-6.264166</td>\n",
       "      <td>Cearnóg Parnell</td>\n",
       "      <td>['7', '7A', '7B', '7D', '9']</td>\n",
       "    </tr>\n",
       "    <tr>\n",
       "      <th>3</th>\n",
       "      <td>4243</td>\n",
       "      <td>6</td>\n",
       "      <td>Parnell Square</td>\n",
       "      <td>53.352744</td>\n",
       "      <td>-6.264443</td>\n",
       "      <td>Cearnóg Parnell</td>\n",
       "      <td>['4', '155']</td>\n",
       "    </tr>\n",
       "    <tr>\n",
       "      <th>4</th>\n",
       "      <td>4244</td>\n",
       "      <td>7</td>\n",
       "      <td>Parnell Square</td>\n",
       "      <td>53.352836</td>\n",
       "      <td>-6.264562</td>\n",
       "      <td>Cearnóg Parnell</td>\n",
       "      <td>['13', '140', '40', '40B', '40D']</td>\n",
       "    </tr>\n",
       "  </tbody>\n",
       "</table>\n",
       "</div>"
      ],
      "text/plain": [
       "     id  stopid       stop_name        lat       lng       irish_name  \\\n",
       "0  4240       2  Parnell Square  53.352241 -6.263695  Cearnóg Parnell   \n",
       "1  4241       3  Parnell Square  53.352307 -6.263783  Cearnóg Parnell   \n",
       "2  4242       4  Parnell Square  53.352567 -6.264166  Cearnóg Parnell   \n",
       "3  4243       6  Parnell Square  53.352744 -6.264443  Cearnóg Parnell   \n",
       "4  4244       7  Parnell Square  53.352836 -6.264562  Cearnóg Parnell   \n",
       "\n",
       "                                      routes  \n",
       "0  ['38', '38A', '38B', '38D', '46A', '46E']  \n",
       "1                             ['120', '122']  \n",
       "2               ['7', '7A', '7B', '7D', '9']  \n",
       "3                               ['4', '155']  \n",
       "4          ['13', '140', '40', '40B', '40D']  "
      ]
     },
     "execution_count": 52,
     "metadata": {},
     "output_type": "execute_result"
    }
   ],
   "source": [
    "cols = list(stops.columns)\n",
    "cols[0] = 'ix'\n",
    "stops.columns = cols\n",
    "stops.drop(columns=cols[0], inplace=True)\n",
    "\n",
    "stops.head()"
   ]
  },
  {
   "cell_type": "markdown",
   "metadata": {},
   "source": [
    "### Weather Data"
   ]
  },
  {
   "cell_type": "code",
   "execution_count": 53,
   "metadata": {
    "ExecuteTime": {
     "end_time": "2019-07-23T13:42:54.329499Z",
     "start_time": "2019-07-23T13:42:54.305998Z"
    },
    "init_cell": true
   },
   "outputs": [
    {
     "data": {
      "text/html": [
       "<div>\n",
       "<style scoped>\n",
       "    .dataframe tbody tr th:only-of-type {\n",
       "        vertical-align: middle;\n",
       "    }\n",
       "\n",
       "    .dataframe tbody tr th {\n",
       "        vertical-align: top;\n",
       "    }\n",
       "\n",
       "    .dataframe thead th {\n",
       "        text-align: right;\n",
       "    }\n",
       "</style>\n",
       "<table border=\"1\" class=\"dataframe\">\n",
       "  <thead>\n",
       "    <tr style=\"text-align: right;\">\n",
       "      <th></th>\n",
       "      <th>dayofservice</th>\n",
       "      <th>hour</th>\n",
       "      <th>icon</th>\n",
       "      <th>temperature</th>\n",
       "      <th>humidity</th>\n",
       "      <th>cloudCover</th>\n",
       "      <th>windSpeed</th>\n",
       "      <th>rain</th>\n",
       "    </tr>\n",
       "  </thead>\n",
       "  <tbody>\n",
       "    <tr>\n",
       "      <th>0</th>\n",
       "      <td>2018-01-01</td>\n",
       "      <td>0</td>\n",
       "      <td>partly-cloudy-night</td>\n",
       "      <td>41.19</td>\n",
       "      <td>0.80</td>\n",
       "      <td>0.58</td>\n",
       "      <td>17.04</td>\n",
       "      <td>0.0</td>\n",
       "    </tr>\n",
       "    <tr>\n",
       "      <th>1</th>\n",
       "      <td>2018-01-01</td>\n",
       "      <td>1</td>\n",
       "      <td>partly-cloudy-night</td>\n",
       "      <td>41.70</td>\n",
       "      <td>0.79</td>\n",
       "      <td>0.75</td>\n",
       "      <td>21.59</td>\n",
       "      <td>0.1</td>\n",
       "    </tr>\n",
       "    <tr>\n",
       "      <th>2</th>\n",
       "      <td>2018-01-01</td>\n",
       "      <td>2</td>\n",
       "      <td>partly-cloudy-night</td>\n",
       "      <td>41.95</td>\n",
       "      <td>0.78</td>\n",
       "      <td>0.75</td>\n",
       "      <td>21.59</td>\n",
       "      <td>0.0</td>\n",
       "    </tr>\n",
       "    <tr>\n",
       "      <th>3</th>\n",
       "      <td>2018-01-01</td>\n",
       "      <td>3</td>\n",
       "      <td>partly-cloudy-night</td>\n",
       "      <td>42.42</td>\n",
       "      <td>0.82</td>\n",
       "      <td>0.58</td>\n",
       "      <td>19.60</td>\n",
       "      <td>0.0</td>\n",
       "    </tr>\n",
       "    <tr>\n",
       "      <th>4</th>\n",
       "      <td>2018-01-01</td>\n",
       "      <td>4</td>\n",
       "      <td>partly-cloudy-night</td>\n",
       "      <td>42.09</td>\n",
       "      <td>0.83</td>\n",
       "      <td>0.44</td>\n",
       "      <td>20.48</td>\n",
       "      <td>0.0</td>\n",
       "    </tr>\n",
       "  </tbody>\n",
       "</table>\n",
       "</div>"
      ],
      "text/plain": [
       "  dayofservice  hour                 icon  temperature  humidity  cloudCover  \\\n",
       "0   2018-01-01     0  partly-cloudy-night        41.19      0.80        0.58   \n",
       "1   2018-01-01     1  partly-cloudy-night        41.70      0.79        0.75   \n",
       "2   2018-01-01     2  partly-cloudy-night        41.95      0.78        0.75   \n",
       "3   2018-01-01     3  partly-cloudy-night        42.42      0.82        0.58   \n",
       "4   2018-01-01     4  partly-cloudy-night        42.09      0.83        0.44   \n",
       "\n",
       "   windSpeed  rain  \n",
       "0      17.04   0.0  \n",
       "1      21.59   0.1  \n",
       "2      21.59   0.0  \n",
       "3      19.60   0.0  \n",
       "4      20.48   0.0  "
      ]
     },
     "execution_count": 53,
     "metadata": {},
     "output_type": "execute_result"
    }
   ],
   "source": [
    "weather = pd.read_csv(\"stored_queries/weather.csv\")\n",
    "\n",
    "weather.head()"
   ]
  },
  {
   "cell_type": "code",
   "execution_count": null,
   "metadata": {
    "ExecuteTime": {
     "end_time": "2019-07-23T13:42:54.451519Z",
     "start_time": "2019-07-23T13:42:54.443935Z"
    }
   },
   "outputs": [],
   "source": [
    "weather.count()"
   ]
  },
  {
   "cell_type": "code",
   "execution_count": 54,
   "metadata": {
    "ExecuteTime": {
     "end_time": "2019-07-23T13:42:54.536135Z",
     "start_time": "2019-07-23T13:42:54.529054Z"
    },
    "init_cell": true
   },
   "outputs": [],
   "source": [
    "weather.icon = weather.icon.astype('category')\n",
    "weather.dayofservice = pd.to_datetime(weather.dayofservice)"
   ]
  },
  {
   "cell_type": "markdown",
   "metadata": {},
   "source": [
    "### Import distances between stops data"
   ]
  },
  {
   "cell_type": "code",
   "execution_count": 55,
   "metadata": {
    "init_cell": true
   },
   "outputs": [
    {
     "data": {
      "text/html": [
       "<div>\n",
       "<style scoped>\n",
       "    .dataframe tbody tr th:only-of-type {\n",
       "        vertical-align: middle;\n",
       "    }\n",
       "\n",
       "    .dataframe tbody tr th {\n",
       "        vertical-align: top;\n",
       "    }\n",
       "\n",
       "    .dataframe thead th {\n",
       "        text-align: right;\n",
       "    }\n",
       "</style>\n",
       "<table border=\"1\" class=\"dataframe\">\n",
       "  <thead>\n",
       "    <tr style=\"text-align: right;\">\n",
       "      <th></th>\n",
       "      <th>stopid</th>\n",
       "      <th>previous_stopid</th>\n",
       "      <th>distance</th>\n",
       "    </tr>\n",
       "  </thead>\n",
       "  <tbody>\n",
       "    <tr>\n",
       "      <th>0</th>\n",
       "      <td>1636</td>\n",
       "      <td>1635</td>\n",
       "      <td>397</td>\n",
       "    </tr>\n",
       "    <tr>\n",
       "      <th>1</th>\n",
       "      <td>1338</td>\n",
       "      <td>1337</td>\n",
       "      <td>151</td>\n",
       "    </tr>\n",
       "    <tr>\n",
       "      <th>2</th>\n",
       "      <td>837</td>\n",
       "      <td>836</td>\n",
       "      <td>137</td>\n",
       "    </tr>\n",
       "    <tr>\n",
       "      <th>3</th>\n",
       "      <td>2740</td>\n",
       "      <td>7177</td>\n",
       "      <td>481</td>\n",
       "    </tr>\n",
       "    <tr>\n",
       "      <th>4</th>\n",
       "      <td>1201</td>\n",
       "      <td>4385</td>\n",
       "      <td>324</td>\n",
       "    </tr>\n",
       "  </tbody>\n",
       "</table>\n",
       "</div>"
      ],
      "text/plain": [
       "   stopid  previous_stopid distance\n",
       "0    1636             1635      397\n",
       "1    1338             1337      151\n",
       "2     837              836      137\n",
       "3    2740             7177      481\n",
       "4    1201             4385      324"
      ]
     },
     "execution_count": 55,
     "metadata": {},
     "output_type": "execute_result"
    }
   ],
   "source": [
    "stop_distances = pd.read_csv(\"stored_queries/distancedata.csv\", header=None)\n",
    "stop_distances.columns = ['stopid','previous_stopid','distance']\n",
    "stop_distances.head()"
   ]
  },
  {
   "cell_type": "markdown",
   "metadata": {},
   "source": [
    "## Prepairing Data for Combining"
   ]
  },
  {
   "cell_type": "markdown",
   "metadata": {},
   "source": [
    "#### Weather and leavetimes"
   ]
  },
  {
   "cell_type": "code",
   "execution_count": 56,
   "metadata": {
    "ExecuteTime": {
     "end_time": "2019-07-23T13:43:03.479719Z",
     "start_time": "2019-07-23T13:43:02.888810Z"
    },
    "init_cell": true
   },
   "outputs": [],
   "source": [
    "# leavetimes data\n",
    "data.plannedARR = data.dayofservice + pd.to_timedelta(data.plannedARR, unit = 'seconds') # in nanoseconds\n",
    "data.plannedDEP = data.dayofservice + pd.to_timedelta(data.plannedDEP, unit = 'seconds') # in nanoseconds\n",
    "data.actualARR = data.dayofservice + pd.to_timedelta(data.actualARR, unit = 'seconds') # in nanoseconds\n",
    "data.actualDEP = data.dayofservice + pd.to_timedelta(data.actualDEP, unit = 'seconds') # in nanoseconds\n",
    "\n",
    "# new columns for combining\n",
    "data['time_at_stop'] = data.actualDEP - data.actualARR\n",
    "data['weather_merge_time'] = data.actualARR.dt.round('H') #  .dt useful\n",
    "\n",
    "\n",
    "# weather data\n",
    "weather.dayofservice = weather.dayofservice + pd.to_timedelta(weather.hour, unit='hour')\n",
    "\n",
    "# new column for combining\n",
    "weather['rkey'] = weather.dayofservice"
   ]
  },
  {
   "cell_type": "markdown",
   "metadata": {},
   "source": [
    "#### Trips data preparation"
   ]
  },
  {
   "cell_type": "code",
   "execution_count": 57,
   "metadata": {
    "init_cell": true
   },
   "outputs": [],
   "source": [
    "tripsdata.actual_arr = tripsdata.dayofservice + pd.to_timedelta(tripsdata.actual_arr, unit='seconds')\n",
    "tripsdata.actual_dep = tripsdata.dayofservice + pd.to_timedelta(tripsdata.actual_dep, unit='seconds')\n",
    "tripsdata['triplength'] = tripsdata.actual_arr - tripsdata.actual_dep\n",
    "tripsdata['leavehour'] = tripsdata.actual_dep.dt.hour"
   ]
  },
  {
   "cell_type": "code",
   "execution_count": 58,
   "metadata": {
    "init_cell": true
   },
   "outputs": [
    {
     "data": {
      "text/html": [
       "<div>\n",
       "<style scoped>\n",
       "    .dataframe tbody tr th:only-of-type {\n",
       "        vertical-align: middle;\n",
       "    }\n",
       "\n",
       "    .dataframe tbody tr th {\n",
       "        vertical-align: top;\n",
       "    }\n",
       "\n",
       "    .dataframe thead th {\n",
       "        text-align: right;\n",
       "    }\n",
       "</style>\n",
       "<table border=\"1\" class=\"dataframe\">\n",
       "  <thead>\n",
       "    <tr style=\"text-align: right;\">\n",
       "      <th></th>\n",
       "      <th>dayofservice</th>\n",
       "      <th>tripid</th>\n",
       "      <th>lineid</th>\n",
       "      <th>routeid</th>\n",
       "      <th>direction</th>\n",
       "      <th>actual_arr</th>\n",
       "      <th>actual_dep</th>\n",
       "      <th>triplength</th>\n",
       "      <th>leavehour</th>\n",
       "    </tr>\n",
       "  </thead>\n",
       "  <tbody>\n",
       "    <tr>\n",
       "      <th>0</th>\n",
       "      <td>2018-06-17</td>\n",
       "      <td>7013606</td>\n",
       "      <td>7A</td>\n",
       "      <td>7A_85</td>\n",
       "      <td>1</td>\n",
       "      <td>2018-06-17 18:37:45</td>\n",
       "      <td>2018-06-17 17:28:21</td>\n",
       "      <td>01:09:24</td>\n",
       "      <td>17</td>\n",
       "    </tr>\n",
       "    <tr>\n",
       "      <th>2</th>\n",
       "      <td>2018-02-16</td>\n",
       "      <td>6258567</td>\n",
       "      <td>31</td>\n",
       "      <td>31_15</td>\n",
       "      <td>1</td>\n",
       "      <td>2018-02-16 20:38:17</td>\n",
       "      <td>2018-02-16 19:50:49</td>\n",
       "      <td>00:47:28</td>\n",
       "      <td>19</td>\n",
       "    </tr>\n",
       "    <tr>\n",
       "      <th>4</th>\n",
       "      <td>2018-08-27</td>\n",
       "      <td>7500294</td>\n",
       "      <td>44</td>\n",
       "      <td>44_36</td>\n",
       "      <td>2</td>\n",
       "      <td>2018-08-27 23:45:57</td>\n",
       "      <td>2018-08-27 22:30:04</td>\n",
       "      <td>01:15:53</td>\n",
       "      <td>22</td>\n",
       "    </tr>\n",
       "    <tr>\n",
       "      <th>5</th>\n",
       "      <td>2018-05-23</td>\n",
       "      <td>6782602</td>\n",
       "      <td>27</td>\n",
       "      <td>27_17</td>\n",
       "      <td>2</td>\n",
       "      <td>2018-05-23 19:37:32</td>\n",
       "      <td>2018-05-23 18:10:37</td>\n",
       "      <td>01:26:55</td>\n",
       "      <td>18</td>\n",
       "    </tr>\n",
       "    <tr>\n",
       "      <th>6</th>\n",
       "      <td>2018-02-16</td>\n",
       "      <td>6261199</td>\n",
       "      <td>53</td>\n",
       "      <td>53_20</td>\n",
       "      <td>1</td>\n",
       "      <td>2018-02-16 14:39:00</td>\n",
       "      <td>2018-02-16 14:01:04</td>\n",
       "      <td>00:37:56</td>\n",
       "      <td>14</td>\n",
       "    </tr>\n",
       "  </tbody>\n",
       "</table>\n",
       "</div>"
      ],
      "text/plain": [
       "  dayofservice   tripid lineid routeid  direction          actual_arr  \\\n",
       "0   2018-06-17  7013606     7A   7A_85          1 2018-06-17 18:37:45   \n",
       "2   2018-02-16  6258567     31   31_15          1 2018-02-16 20:38:17   \n",
       "4   2018-08-27  7500294     44   44_36          2 2018-08-27 23:45:57   \n",
       "5   2018-05-23  6782602     27   27_17          2 2018-05-23 19:37:32   \n",
       "6   2018-02-16  6261199     53   53_20          1 2018-02-16 14:39:00   \n",
       "\n",
       "           actual_dep triplength  leavehour  \n",
       "0 2018-06-17 17:28:21   01:09:24         17  \n",
       "2 2018-02-16 19:50:49   00:47:28         19  \n",
       "4 2018-08-27 22:30:04   01:15:53         22  \n",
       "5 2018-05-23 18:10:37   01:26:55         18  \n",
       "6 2018-02-16 14:01:04   00:37:56         14  "
      ]
     },
     "execution_count": 58,
     "metadata": {},
     "output_type": "execute_result"
    }
   ],
   "source": [
    "tripsdata.head()"
   ]
  },
  {
   "cell_type": "code",
   "execution_count": 59,
   "metadata": {
    "init_cell": true
   },
   "outputs": [
    {
     "data": {
      "text/html": [
       "<div>\n",
       "<style scoped>\n",
       "    .dataframe tbody tr th:only-of-type {\n",
       "        vertical-align: middle;\n",
       "    }\n",
       "\n",
       "    .dataframe tbody tr th {\n",
       "        vertical-align: top;\n",
       "    }\n",
       "\n",
       "    .dataframe thead th {\n",
       "        text-align: right;\n",
       "    }\n",
       "</style>\n",
       "<table border=\"1\" class=\"dataframe\">\n",
       "  <thead>\n",
       "    <tr style=\"text-align: right;\">\n",
       "      <th></th>\n",
       "      <th>dayofservice</th>\n",
       "      <th>hour</th>\n",
       "      <th>icon</th>\n",
       "      <th>temperature</th>\n",
       "      <th>humidity</th>\n",
       "      <th>cloudCover</th>\n",
       "      <th>windSpeed</th>\n",
       "      <th>rain</th>\n",
       "      <th>rkey</th>\n",
       "    </tr>\n",
       "  </thead>\n",
       "  <tbody>\n",
       "    <tr>\n",
       "      <th>0</th>\n",
       "      <td>2018-01-01 00:00:00</td>\n",
       "      <td>0</td>\n",
       "      <td>partly-cloudy-night</td>\n",
       "      <td>41.19</td>\n",
       "      <td>0.80</td>\n",
       "      <td>0.58</td>\n",
       "      <td>17.04</td>\n",
       "      <td>0.0</td>\n",
       "      <td>2018-01-01 00:00:00</td>\n",
       "    </tr>\n",
       "    <tr>\n",
       "      <th>1</th>\n",
       "      <td>2018-01-01 01:00:00</td>\n",
       "      <td>1</td>\n",
       "      <td>partly-cloudy-night</td>\n",
       "      <td>41.70</td>\n",
       "      <td>0.79</td>\n",
       "      <td>0.75</td>\n",
       "      <td>21.59</td>\n",
       "      <td>0.1</td>\n",
       "      <td>2018-01-01 01:00:00</td>\n",
       "    </tr>\n",
       "    <tr>\n",
       "      <th>2</th>\n",
       "      <td>2018-01-01 02:00:00</td>\n",
       "      <td>2</td>\n",
       "      <td>partly-cloudy-night</td>\n",
       "      <td>41.95</td>\n",
       "      <td>0.78</td>\n",
       "      <td>0.75</td>\n",
       "      <td>21.59</td>\n",
       "      <td>0.0</td>\n",
       "      <td>2018-01-01 02:00:00</td>\n",
       "    </tr>\n",
       "    <tr>\n",
       "      <th>3</th>\n",
       "      <td>2018-01-01 03:00:00</td>\n",
       "      <td>3</td>\n",
       "      <td>partly-cloudy-night</td>\n",
       "      <td>42.42</td>\n",
       "      <td>0.82</td>\n",
       "      <td>0.58</td>\n",
       "      <td>19.60</td>\n",
       "      <td>0.0</td>\n",
       "      <td>2018-01-01 03:00:00</td>\n",
       "    </tr>\n",
       "    <tr>\n",
       "      <th>4</th>\n",
       "      <td>2018-01-01 04:00:00</td>\n",
       "      <td>4</td>\n",
       "      <td>partly-cloudy-night</td>\n",
       "      <td>42.09</td>\n",
       "      <td>0.83</td>\n",
       "      <td>0.44</td>\n",
       "      <td>20.48</td>\n",
       "      <td>0.0</td>\n",
       "      <td>2018-01-01 04:00:00</td>\n",
       "    </tr>\n",
       "  </tbody>\n",
       "</table>\n",
       "</div>"
      ],
      "text/plain": [
       "         dayofservice  hour                 icon  temperature  humidity  \\\n",
       "0 2018-01-01 00:00:00     0  partly-cloudy-night        41.19      0.80   \n",
       "1 2018-01-01 01:00:00     1  partly-cloudy-night        41.70      0.79   \n",
       "2 2018-01-01 02:00:00     2  partly-cloudy-night        41.95      0.78   \n",
       "3 2018-01-01 03:00:00     3  partly-cloudy-night        42.42      0.82   \n",
       "4 2018-01-01 04:00:00     4  partly-cloudy-night        42.09      0.83   \n",
       "\n",
       "   cloudCover  windSpeed  rain                rkey  \n",
       "0        0.58      17.04   0.0 2018-01-01 00:00:00  \n",
       "1        0.75      21.59   0.1 2018-01-01 01:00:00  \n",
       "2        0.75      21.59   0.0 2018-01-01 02:00:00  \n",
       "3        0.58      19.60   0.0 2018-01-01 03:00:00  \n",
       "4        0.44      20.48   0.0 2018-01-01 04:00:00  "
      ]
     },
     "execution_count": 59,
     "metadata": {},
     "output_type": "execute_result"
    }
   ],
   "source": [
    "weather.head()"
   ]
  },
  {
   "cell_type": "code",
   "execution_count": 60,
   "metadata": {
    "init_cell": true
   },
   "outputs": [
    {
     "data": {
      "text/html": [
       "<div>\n",
       "<style scoped>\n",
       "    .dataframe tbody tr th:only-of-type {\n",
       "        vertical-align: middle;\n",
       "    }\n",
       "\n",
       "    .dataframe tbody tr th {\n",
       "        vertical-align: top;\n",
       "    }\n",
       "\n",
       "    .dataframe thead th {\n",
       "        text-align: right;\n",
       "    }\n",
       "</style>\n",
       "<table border=\"1\" class=\"dataframe\">\n",
       "  <thead>\n",
       "    <tr style=\"text-align: right;\">\n",
       "      <th></th>\n",
       "      <th>dayofservice</th>\n",
       "      <th>tripid</th>\n",
       "      <th>lineid</th>\n",
       "      <th>direction</th>\n",
       "      <th>progrnumber</th>\n",
       "      <th>stopid</th>\n",
       "      <th>plannedDEP</th>\n",
       "      <th>plannedARR</th>\n",
       "      <th>actualDEP</th>\n",
       "      <th>actualARR</th>\n",
       "      <th>routeid</th>\n",
       "      <th>time_at_stop</th>\n",
       "      <th>weather_merge_time</th>\n",
       "    </tr>\n",
       "  </thead>\n",
       "  <tbody>\n",
       "    <tr>\n",
       "      <th>0</th>\n",
       "      <td>2018-01-01</td>\n",
       "      <td>5955476</td>\n",
       "      <td>145</td>\n",
       "      <td>1</td>\n",
       "      <td>1</td>\n",
       "      <td>4320</td>\n",
       "      <td>2018-01-01 09:00:00</td>\n",
       "      <td>2018-01-01 09:00:00</td>\n",
       "      <td>2018-01-01 08:59:30</td>\n",
       "      <td>2018-01-01 08:59:30</td>\n",
       "      <td>145_102</td>\n",
       "      <td>00:00:00</td>\n",
       "      <td>2018-01-01 09:00:00</td>\n",
       "    </tr>\n",
       "    <tr>\n",
       "      <th>1</th>\n",
       "      <td>2018-01-01</td>\n",
       "      <td>5955476</td>\n",
       "      <td>145</td>\n",
       "      <td>1</td>\n",
       "      <td>2</td>\n",
       "      <td>1476</td>\n",
       "      <td>2018-01-01 09:01:44</td>\n",
       "      <td>2018-01-01 09:01:44</td>\n",
       "      <td>2018-01-01 09:01:01</td>\n",
       "      <td>2018-01-01 09:01:01</td>\n",
       "      <td>145_102</td>\n",
       "      <td>00:00:00</td>\n",
       "      <td>2018-01-01 09:00:00</td>\n",
       "    </tr>\n",
       "    <tr>\n",
       "      <th>2</th>\n",
       "      <td>2018-01-01</td>\n",
       "      <td>5955476</td>\n",
       "      <td>145</td>\n",
       "      <td>1</td>\n",
       "      <td>3</td>\n",
       "      <td>7453</td>\n",
       "      <td>2018-01-01 09:02:59</td>\n",
       "      <td>2018-01-01 09:02:59</td>\n",
       "      <td>2018-01-01 09:01:48</td>\n",
       "      <td>2018-01-01 09:01:48</td>\n",
       "      <td>145_102</td>\n",
       "      <td>00:00:00</td>\n",
       "      <td>2018-01-01 09:00:00</td>\n",
       "    </tr>\n",
       "    <tr>\n",
       "      <th>3</th>\n",
       "      <td>2018-01-01</td>\n",
       "      <td>5955476</td>\n",
       "      <td>145</td>\n",
       "      <td>1</td>\n",
       "      <td>4</td>\n",
       "      <td>1478</td>\n",
       "      <td>2018-01-01 09:04:10</td>\n",
       "      <td>2018-01-01 09:04:10</td>\n",
       "      <td>2018-01-01 09:03:02</td>\n",
       "      <td>2018-01-01 09:02:52</td>\n",
       "      <td>145_102</td>\n",
       "      <td>00:00:10</td>\n",
       "      <td>2018-01-01 09:00:00</td>\n",
       "    </tr>\n",
       "    <tr>\n",
       "      <th>4</th>\n",
       "      <td>2018-01-01</td>\n",
       "      <td>5955476</td>\n",
       "      <td>145</td>\n",
       "      <td>1</td>\n",
       "      <td>5</td>\n",
       "      <td>1479</td>\n",
       "      <td>2018-01-01 09:04:58</td>\n",
       "      <td>2018-01-01 09:04:58</td>\n",
       "      <td>2018-01-01 09:03:50</td>\n",
       "      <td>2018-01-01 09:03:50</td>\n",
       "      <td>145_102</td>\n",
       "      <td>00:00:00</td>\n",
       "      <td>2018-01-01 09:00:00</td>\n",
       "    </tr>\n",
       "  </tbody>\n",
       "</table>\n",
       "</div>"
      ],
      "text/plain": [
       "  dayofservice   tripid lineid  direction  progrnumber  stopid  \\\n",
       "0   2018-01-01  5955476    145          1            1    4320   \n",
       "1   2018-01-01  5955476    145          1            2    1476   \n",
       "2   2018-01-01  5955476    145          1            3    7453   \n",
       "3   2018-01-01  5955476    145          1            4    1478   \n",
       "4   2018-01-01  5955476    145          1            5    1479   \n",
       "\n",
       "           plannedDEP          plannedARR           actualDEP  \\\n",
       "0 2018-01-01 09:00:00 2018-01-01 09:00:00 2018-01-01 08:59:30   \n",
       "1 2018-01-01 09:01:44 2018-01-01 09:01:44 2018-01-01 09:01:01   \n",
       "2 2018-01-01 09:02:59 2018-01-01 09:02:59 2018-01-01 09:01:48   \n",
       "3 2018-01-01 09:04:10 2018-01-01 09:04:10 2018-01-01 09:03:02   \n",
       "4 2018-01-01 09:04:58 2018-01-01 09:04:58 2018-01-01 09:03:50   \n",
       "\n",
       "            actualARR  routeid time_at_stop  weather_merge_time  \n",
       "0 2018-01-01 08:59:30  145_102     00:00:00 2018-01-01 09:00:00  \n",
       "1 2018-01-01 09:01:01  145_102     00:00:00 2018-01-01 09:00:00  \n",
       "2 2018-01-01 09:01:48  145_102     00:00:00 2018-01-01 09:00:00  \n",
       "3 2018-01-01 09:02:52  145_102     00:00:10 2018-01-01 09:00:00  \n",
       "4 2018-01-01 09:03:50  145_102     00:00:00 2018-01-01 09:00:00  "
      ]
     },
     "execution_count": 60,
     "metadata": {},
     "output_type": "execute_result"
    }
   ],
   "source": [
    "data.head()"
   ]
  },
  {
   "cell_type": "markdown",
   "metadata": {},
   "source": [
    "## Combining Data"
   ]
  },
  {
   "cell_type": "markdown",
   "metadata": {},
   "source": [
    "### Combining weather and leavetimes"
   ]
  },
  {
   "cell_type": "code",
   "execution_count": 61,
   "metadata": {
    "ExecuteTime": {
     "end_time": "2019-07-23T13:43:07.234203Z",
     "start_time": "2019-07-23T13:43:06.439577Z"
    },
    "init_cell": true
   },
   "outputs": [],
   "source": [
    "combinedata = data.merge(weather[['icon','temperature','humidity','windSpeed','rain','rkey','hour']], \n",
    "                         left_on='weather_merge_time', \n",
    "                         right_on='rkey', \n",
    "                         how='left')"
   ]
  },
  {
   "cell_type": "code",
   "execution_count": 62,
   "metadata": {
    "ExecuteTime": {
     "end_time": "2019-07-23T13:43:07.894094Z",
     "start_time": "2019-07-23T13:43:07.518939Z"
    },
    "init_cell": true,
    "scrolled": true
   },
   "outputs": [],
   "source": [
    "# drop lineid as all are 145\n",
    "combinedata.drop(columns=['rkey','lineid','weather_merge_time','plannedDEP','plannedARR','time_at_stop','actualDEP'], inplace=True)"
   ]
  },
  {
   "cell_type": "markdown",
   "metadata": {},
   "source": [
    "### Combining trips and weather"
   ]
  },
  {
   "cell_type": "code",
   "execution_count": 63,
   "metadata": {
    "init_cell": true
   },
   "outputs": [],
   "source": [
    "tripsdata['weather_merge_time'] = tripsdata.actual_dep.dt.round('H')"
   ]
  },
  {
   "cell_type": "code",
   "execution_count": 64,
   "metadata": {
    "init_cell": true
   },
   "outputs": [],
   "source": [
    "combinedtrip = tripsdata.merge(weather[['icon','temperature','humidity','windSpeed','rain','rkey','hour']], \n",
    "                               left_on='weather_merge_time', \n",
    "                               right_on='rkey', \n",
    "                               how='left')"
   ]
  },
  {
   "cell_type": "markdown",
   "metadata": {},
   "source": [
    "## Cleaning / Adding Additional features"
   ]
  },
  {
   "cell_type": "markdown",
   "metadata": {},
   "source": [
    "### weekday vs weekend"
   ]
  },
  {
   "cell_type": "code",
   "execution_count": 65,
   "metadata": {
    "ExecuteTime": {
     "end_time": "2019-07-23T13:43:13.351698Z",
     "start_time": "2019-07-23T13:43:13.185519Z"
    },
    "init_cell": true
   },
   "outputs": [],
   "source": [
    "combinedata['weekend'] = combinedata.dayofservice.dt.weekday.isin([5,6])"
   ]
  },
  {
   "cell_type": "markdown",
   "metadata": {},
   "source": [
    "### holidays"
   ]
  },
  {
   "cell_type": "code",
   "execution_count": 66,
   "metadata": {
    "init_cell": true
   },
   "outputs": [],
   "source": [
    "combinedata['holiday'] = combinedata.dayofservice.apply(lambda x: x in ie_holidays)"
   ]
  },
  {
   "cell_type": "markdown",
   "metadata": {},
   "source": [
    "### Remove inactive stops from data"
   ]
  },
  {
   "cell_type": "code",
   "execution_count": 67,
   "metadata": {
    "init_cell": true
   },
   "outputs": [],
   "source": [
    "active_stopids = stops.stopid.values\n",
    "\n",
    "# remove all inactive stops from the dataset. -> additional models that arent needed. \n",
    "combinedata = combinedata[combinedata.stopid.isin(active_stopids)]"
   ]
  },
  {
   "cell_type": "markdown",
   "metadata": {},
   "source": [
    "### Pair Consecutive Stop IDs "
   ]
  },
  {
   "cell_type": "code",
   "execution_count": 68,
   "metadata": {
    "init_cell": true
   },
   "outputs": [],
   "source": [
    "# previous stopid\n",
    "previousstops =  list(combinedata.stopid)\n",
    "previousstops = np.array(previousstops[:-1]).astype(int)\n",
    "\n",
    "# progrnumber of previous stopid\n",
    "previousstops_progrnumber = list(combinedata.progrnumber)\n",
    "previousstops_progrnumber = np.array(previousstops_progrnumber[:-1]).astype(int)\n",
    "\n",
    "# Actual arrival time of previous stopid\n",
    "previousstops_actualARR = list(combinedata.actualARR)\n",
    "previousstops_actualARR = np.array(previousstops_actualARR[:-1])\n",
    "\n",
    "# Delete the first row of the dataframe to shift the progrnumbers by one. \n",
    "combinedata = combinedata.iloc[1:]"
   ]
  },
  {
   "cell_type": "code",
   "execution_count": 69,
   "metadata": {
    "init_cell": true,
    "scrolled": true
   },
   "outputs": [],
   "source": [
    "combinedata['previous_stopid'] = previousstops\n",
    "combinedata['previous_stopARR'] = previousstops_actualARR\n",
    "combinedata['previous_progrnumber'] = previousstops_progrnumber"
   ]
  },
  {
   "cell_type": "code",
   "execution_count": null,
   "metadata": {
    "scrolled": true
   },
   "outputs": [],
   "source": [
    "combinedata.head()"
   ]
  },
  {
   "cell_type": "markdown",
   "metadata": {},
   "source": [
    "#### Dropping mis-matched progrnumbers"
   ]
  },
  {
   "cell_type": "code",
   "execution_count": 70,
   "metadata": {
    "init_cell": true
   },
   "outputs": [],
   "source": [
    "# Dropping rows where progrnumber==1 as the first row is currently aligned with the last row of the previous tripid.\n",
    "combinedata = combinedata[combinedata.progrnumber != 1]\n",
    "combinedata.dropna(inplace=True);"
   ]
  },
  {
   "cell_type": "markdown",
   "metadata": {},
   "source": [
    "#### Dropping non-consecutive stop combinations"
   ]
  },
  {
   "cell_type": "code",
   "execution_count": 71,
   "metadata": {
    "init_cell": true,
    "scrolled": true
   },
   "outputs": [],
   "source": [
    "# recast type of integer cols from float to int. \n",
    "combinedata.previous_stopid = combinedata.previous_stopid.astype(int)\n",
    "combinedata.previous_progrnumber = combinedata.previous_progrnumber.astype(int)\n",
    "\n",
    "# make progrnumber difference column and then drop anything thats not exactly 1, removes data which skips stops. \n",
    "combinedata['progrnumber_difference'] = combinedata.progrnumber - combinedata.previous_progrnumber\n",
    "\n",
    "# checking how many rows will be left. \n",
    "# combinedata.progrnumber_difference.value_counts()"
   ]
  },
  {
   "cell_type": "code",
   "execution_count": 72,
   "metadata": {
    "init_cell": true
   },
   "outputs": [],
   "source": [
    "# remove non-consecutive stop pairs.\n",
    "combinedata = combinedata[combinedata.progrnumber_difference==1]\n",
    "\n",
    "# Remove additional columns added for this operantion\n",
    "combinedata.drop(columns=['progrnumber','previous_progrnumber','progrnumber_difference'], inplace=True);\n",
    "\n",
    "# ordering rows [and dropping irrelevant ones: direction, route_id]\n",
    "combinedata = combinedata[['dayofservice', 'tripid','stopid', 'previous_stopid', 'actualARR', 'previous_stopARR',\n",
    "                           'icon', 'temperature', 'humidity', 'windSpeed', 'rain', 'hour', 'weekend', 'holiday']]"
   ]
  },
  {
   "cell_type": "markdown",
   "metadata": {},
   "source": [
    "#### Unique Stopid combinations"
   ]
  },
  {
   "cell_type": "code",
   "execution_count": 73,
   "metadata": {
    "init_cell": true
   },
   "outputs": [
    {
     "name": "stdout",
     "output_type": "stream",
     "text": [
      "There are 159 unique pairs of stops on line: 145\n"
     ]
    }
   ],
   "source": [
    "# all unique stop combinations for a given lineid.\n",
    "stop_pairs = combinedata[['stopid','previous_stopid']].drop_duplicates()\n",
    "\n",
    "print(\"There are %d unique pairs of stops on line: %s\" % (stop_pairs.count()[0], data.lineid.unique()[0]))"
   ]
  },
  {
   "cell_type": "markdown",
   "metadata": {},
   "source": [
    "### Travel Time"
   ]
  },
  {
   "cell_type": "code",
   "execution_count": 74,
   "metadata": {
    "init_cell": true
   },
   "outputs": [],
   "source": [
    "# convert to seconds\n",
    "combinedata['travel_time'] = (combinedata.actualARR - combinedata.previous_stopARR).astype(int)/10**9\n",
    "\n",
    "# drop any values less than 5 seconds [assumed erroneous]\n",
    "combinedata = combinedata[combinedata.travel_time > 5]"
   ]
  },
  {
   "cell_type": "code",
   "execution_count": 75,
   "metadata": {
    "init_cell": true
   },
   "outputs": [
    {
     "name": "stdout",
     "output_type": "stream",
     "text": [
      "There are 3958657 valid pairs\n"
     ]
    }
   ],
   "source": [
    "print(\"There are %d valid pairs\" % combinedata.count()[0])"
   ]
  },
  {
   "cell_type": "markdown",
   "metadata": {},
   "source": [
    "### Distance between stops [ === Don't run again === ]"
   ]
  },
  {
   "cell_type": "code",
   "execution_count": null,
   "metadata": {
    "code_folding": [],
    "scrolled": true
   },
   "outputs": [],
   "source": [
    "# Function to get the distance between two stops. \n",
    "# def get_distance(start, finish):\n",
    "#     \"\"\"\n",
    "#     Distance between two (lat,lng) pairs\n",
    "    \n",
    "#     Inputs:\n",
    "#     ================================\n",
    "#     (int) start: stopid of first stop\n",
    "#     (int) finish: stopid of last stop\n",
    "    \n",
    "#     Outputs:\n",
    "#     ===============================\n",
    "#     (int) the distance in metres between the stops. \n",
    "    \n",
    "#     Notes:\n",
    "#     ===============================\n",
    "#     If there is an error, or the api fails to find the distance a value of None will be returned. \n",
    "#     \"\"\"\n",
    "#     try:\n",
    "#         begin = (stops[stops.stopid==start ]['lat'].values[0], stops[stops.stopid==start ]['lng'].values[0])\n",
    "#         end   = (stops[stops.stopid==finish]['lat'].values[0], stops[stops.stopid==finish]['lng'].values[0])\n",
    "\n",
    "#     except Exception as e:\n",
    "\n",
    "#         print(start, finish)\n",
    "#         print(repr(e)) \n",
    "#         return None\n",
    "        \n",
    "#     API_key = config.dmatrix_key #enter Google Maps API key\n",
    "#     gmaps = googlemaps.Client(key=API_key)\n",
    "    \n",
    "#     try:\n",
    "#         call = gmaps.distance_matrix(begin, end, mode='walking')\n",
    "    \n",
    "#     except Exception as eL:\n",
    "        \n",
    "#         print(repr(eL))\n",
    "#         return None\n",
    "    \n",
    "#     status = call['status']\n",
    "    \n",
    "#     if status=='OK':\n",
    "#         return call[\"rows\"][0][\"elements\"][0]['distance']['value']\n",
    "    \n",
    "#     else:\n",
    "#         print(status)\n",
    "#         return None\n",
    "\n",
    "# distances_list = []\n",
    "\n",
    "# for index, pair in tqdm_notebook(stop_pairs.iterrows(), total=stop_pairs.shape[0]):\n",
    "\n",
    "# # for pair in stop_pairs.iterrows():\n",
    "# #     start_stopid, finish_stopid = pair[1]\n",
    "\n",
    "#     start_stopid, finish_stopid = pair[0], pair[1]\n",
    "#     distances_list.append(get_distance(start_stopid, finish_stopid))\n",
    "    \n",
    "# distance_array = np.array(distances_list)\n",
    "\n",
    "# stop_pairs['distance'] = distance_array"
   ]
  },
  {
   "cell_type": "code",
   "execution_count": 76,
   "metadata": {
    "init_cell": true,
    "scrolled": true
   },
   "outputs": [],
   "source": [
    "combinedata = combinedata.merge(stop_distances, how='left', left_on=['stopid','previous_stopid'], right_on=['stopid','previous_stopid'])\n",
    "combinedata.distance = combinedata.distance.astype(int)"
   ]
  },
  {
   "cell_type": "code",
   "execution_count": null,
   "metadata": {
    "scrolled": true
   },
   "outputs": [],
   "source": [
    "# Add distance values for each row. progress_apply is the tqdm edit to have progress bar. \n",
    "# combinedata['distance'] = combinedata.progress_apply(lambda row: add_distance(row.stopid, row.previous_stopid), axis=1)"
   ]
  },
  {
   "cell_type": "markdown",
   "metadata": {},
   "source": [
    "### Average Speed"
   ]
  },
  {
   "cell_type": "code",
   "execution_count": 85,
   "metadata": {
    "init_cell": true
   },
   "outputs": [],
   "source": [
    "# Taking average speed as distance / time (km/h)\n",
    "combinedata['avgvel'] = (combinedata.distance / combinedata.travel_time) * (3600/1000)\n",
    "\n",
    "# Note need to drop all data over 120 km/h -> erroneous data\n",
    "combinedata = combinedata[combinedata.avgvel <= 120]"
   ]
  },
  {
   "cell_type": "markdown",
   "metadata": {},
   "source": [
    "### Traffic variance / effects"
   ]
  },
  {
   "cell_type": "code",
   "execution_count": null,
   "metadata": {
    "scrolled": false
   },
   "outputs": [],
   "source": [
    "# add in later for clustering purposes\n",
    "# combinedata['variance'] := score based on the two stops and effect traffic has on the travel time\n",
    "\n",
    "combinedata[(combinedata.stopid==1476)&(combinedata.previous_stopid==4320)]['avgvel'].hist(bins=100)\n",
    "plt.xlim([0,100])\n",
    "\n",
    "\n",
    "# Note need to drop all data over 120 km/h -> erroneous data"
   ]
  },
  {
   "cell_type": "markdown",
   "metadata": {},
   "source": [
    "### Removing outliers [=== Do this in the model training section as it will need to be done for each pair ===]"
   ]
  },
  {
   "cell_type": "markdown",
   "metadata": {},
   "source": [
    "#### Based on Time Spent at stops"
   ]
  },
  {
   "cell_type": "code",
   "execution_count": 78,
   "metadata": {
    "ExecuteTime": {
     "end_time": "2019-07-23T13:27:15.438874Z",
     "start_time": "2019-07-23T13:27:15.330000Z"
    },
    "init_cell": true
   },
   "outputs": [],
   "source": [
    "# combinedata.time_at_stop.astype(int).apply(lambda x: x*10**-9).hist(bins=1000) # hitogram of times spent at a stop. \n",
    "# combinedata.time_at_stop = combinedata.time_at_stop.astype(int) / 10**9\n",
    "# combinedata.head()\n",
    "\n",
    "# use this one\n",
    "## combinedata.travel_time.astype(int).hist(bins=10000) # hitogram of times spent at a stop. \n",
    "## plt.xlim([0,300])\n",
    "\n",
    "# combinedata[combinedata['time_at_stop'] != 0].boxplot(column= ['time_at_stop'])\n",
    "# combinedata.time_at_stop.describe().astype(int)\n",
    "\n",
    "# Will use 3$\\sigma$ as the threshold for outliers <br>\n",
    "# Note: This method can fail to detect outliers because the outliers increase the standard deviation.\n",
    "\n",
    "# # df[(np.abs(stats.zscore(df)) < 3).all(axis=1)]"
   ]
  },
  {
   "cell_type": "markdown",
   "metadata": {},
   "source": [
    "### Adding Month/Season"
   ]
  },
  {
   "cell_type": "code",
   "execution_count": 79,
   "metadata": {
    "init_cell": true
   },
   "outputs": [],
   "source": [
    "combinedata['month'] = combinedata.dayofservice.dt.month\n",
    "\n",
    "def set_season(x):\n",
    "    winter = [11,12,1]\n",
    "    autumn = [10,9,8]\n",
    "    spring = [4,3,2]\n",
    "\n",
    "    if x in winter:\n",
    "        return 'Winter'\n",
    "    elif x in autumn:\n",
    "        return 'Autumn'\n",
    "    elif x in spring:\n",
    "        return 'Spring'\n",
    "    else:\n",
    "        return 'Summer'\n",
    "    \n",
    "combinedata['season'] = combinedata.dayofservice.dt.month.apply(set_season)"
   ]
  },
  {
   "cell_type": "markdown",
   "metadata": {},
   "source": [
    "### Encoding categorical data"
   ]
  },
  {
   "cell_type": "markdown",
   "metadata": {},
   "source": [
    "#### Season Categories"
   ]
  },
  {
   "cell_type": "code",
   "execution_count": 80,
   "metadata": {
    "init_cell": true
   },
   "outputs": [],
   "source": [
    "combinedata.season = combinedata.season.astype('category', categories=['Summer','Spring','Autumn','Winter'])\n",
    "\n",
    "combinedata = pd.concat([combinedata, pd.get_dummies(combinedata.season, prefix='season')], axis=1)\n",
    "combinedata.drop(columns=['season'], inplace=True)"
   ]
  },
  {
   "cell_type": "markdown",
   "metadata": {},
   "source": [
    "#### Icon Categories"
   ]
  },
  {
   "cell_type": "code",
   "execution_count": 81,
   "metadata": {
    "init_cell": true
   },
   "outputs": [],
   "source": [
    "combinedata.icon = combinedata.icon.astype('category', categories=['partly-cloudy-day', 'partly-cloudy-night', 'clear-day', 'clear-night', 'rain', 'fog', 'cloudy', 'wind'])\n",
    "\n",
    "combinedata = pd.concat([combinedata, pd.get_dummies(combinedata.icon, prefix='icon')], axis=1)\n",
    "combinedata.drop(columns=['icon'], inplace=True)"
   ]
  },
  {
   "cell_type": "markdown",
   "metadata": {},
   "source": [
    "### Drop all N/A values"
   ]
  },
  {
   "cell_type": "code",
   "execution_count": 82,
   "metadata": {
    "init_cell": true
   },
   "outputs": [
    {
     "data": {
      "text/plain": [
       "dayofservice                datetime64[ns]\n",
       "tripid                               int64\n",
       "stopid                               int64\n",
       "previous_stopid                      int64\n",
       "actualARR                   datetime64[ns]\n",
       "previous_stopARR            datetime64[ns]\n",
       "temperature                        float64\n",
       "humidity                           float64\n",
       "windSpeed                          float64\n",
       "rain                               float64\n",
       "hour                               float64\n",
       "weekend                               bool\n",
       "holiday                               bool\n",
       "travel_time                        float64\n",
       "distance                             int64\n",
       "avgvel                             float64\n",
       "month                                int64\n",
       "season_Summer                        uint8\n",
       "season_Spring                        uint8\n",
       "season_Autumn                        uint8\n",
       "season_Winter                        uint8\n",
       "icon_clear-day                       uint8\n",
       "icon_clear-night                     uint8\n",
       "icon_cloudy                          uint8\n",
       "icon_fog                             uint8\n",
       "icon_partly-cloudy-day               uint8\n",
       "icon_partly-cloudy-night             uint8\n",
       "icon_rain                            uint8\n",
       "icon_wind                            uint8\n",
       "dtype: object"
      ]
     },
     "execution_count": 82,
     "metadata": {},
     "output_type": "execute_result"
    },
    {
     "name": "stdout",
     "output_type": "stream",
     "text": [
      "There are 3958657 valid pairs\n"
     ]
    }
   ],
   "source": [
    "combinedata = combinedata.dropna() # drop na values. \n",
    "combinedata.dtypes\n",
    "\n",
    "print(\"There are %d valid pairs\" % combinedata.count()[0])"
   ]
  },
  {
   "cell_type": "code",
   "execution_count": 83,
   "metadata": {},
   "outputs": [
    {
     "data": {
      "text/html": [
       "<div>\n",
       "<style scoped>\n",
       "    .dataframe tbody tr th:only-of-type {\n",
       "        vertical-align: middle;\n",
       "    }\n",
       "\n",
       "    .dataframe tbody tr th {\n",
       "        vertical-align: top;\n",
       "    }\n",
       "\n",
       "    .dataframe thead th {\n",
       "        text-align: right;\n",
       "    }\n",
       "</style>\n",
       "<table border=\"1\" class=\"dataframe\">\n",
       "  <thead>\n",
       "    <tr style=\"text-align: right;\">\n",
       "      <th></th>\n",
       "      <th>0</th>\n",
       "      <th>1</th>\n",
       "      <th>2</th>\n",
       "      <th>3</th>\n",
       "      <th>4</th>\n",
       "    </tr>\n",
       "  </thead>\n",
       "  <tbody>\n",
       "    <tr>\n",
       "      <th>dayofservice</th>\n",
       "      <td>2018-01-01 00:00:00</td>\n",
       "      <td>2018-01-01 00:00:00</td>\n",
       "      <td>2018-01-01 00:00:00</td>\n",
       "      <td>2018-01-01 00:00:00</td>\n",
       "      <td>2018-01-01 00:00:00</td>\n",
       "    </tr>\n",
       "    <tr>\n",
       "      <th>tripid</th>\n",
       "      <td>5955476</td>\n",
       "      <td>5955476</td>\n",
       "      <td>5955476</td>\n",
       "      <td>5955476</td>\n",
       "      <td>5955476</td>\n",
       "    </tr>\n",
       "    <tr>\n",
       "      <th>stopid</th>\n",
       "      <td>1476</td>\n",
       "      <td>7453</td>\n",
       "      <td>1478</td>\n",
       "      <td>1479</td>\n",
       "      <td>7622</td>\n",
       "    </tr>\n",
       "    <tr>\n",
       "      <th>previous_stopid</th>\n",
       "      <td>4320</td>\n",
       "      <td>1476</td>\n",
       "      <td>7453</td>\n",
       "      <td>1478</td>\n",
       "      <td>1479</td>\n",
       "    </tr>\n",
       "    <tr>\n",
       "      <th>actualARR</th>\n",
       "      <td>2018-01-01 09:01:01</td>\n",
       "      <td>2018-01-01 09:01:48</td>\n",
       "      <td>2018-01-01 09:02:52</td>\n",
       "      <td>2018-01-01 09:03:50</td>\n",
       "      <td>2018-01-01 09:05:04</td>\n",
       "    </tr>\n",
       "    <tr>\n",
       "      <th>previous_stopARR</th>\n",
       "      <td>2018-01-01 08:59:30</td>\n",
       "      <td>2018-01-01 09:01:01</td>\n",
       "      <td>2018-01-01 09:01:48</td>\n",
       "      <td>2018-01-01 09:02:52</td>\n",
       "      <td>2018-01-01 09:03:50</td>\n",
       "    </tr>\n",
       "    <tr>\n",
       "      <th>temperature</th>\n",
       "      <td>41.19</td>\n",
       "      <td>41.19</td>\n",
       "      <td>41.19</td>\n",
       "      <td>41.19</td>\n",
       "      <td>41.19</td>\n",
       "    </tr>\n",
       "    <tr>\n",
       "      <th>humidity</th>\n",
       "      <td>0.81</td>\n",
       "      <td>0.81</td>\n",
       "      <td>0.81</td>\n",
       "      <td>0.81</td>\n",
       "      <td>0.81</td>\n",
       "    </tr>\n",
       "    <tr>\n",
       "      <th>windSpeed</th>\n",
       "      <td>12.91</td>\n",
       "      <td>12.91</td>\n",
       "      <td>12.91</td>\n",
       "      <td>12.91</td>\n",
       "      <td>12.91</td>\n",
       "    </tr>\n",
       "    <tr>\n",
       "      <th>rain</th>\n",
       "      <td>0</td>\n",
       "      <td>0</td>\n",
       "      <td>0</td>\n",
       "      <td>0</td>\n",
       "      <td>0</td>\n",
       "    </tr>\n",
       "    <tr>\n",
       "      <th>hour</th>\n",
       "      <td>9</td>\n",
       "      <td>9</td>\n",
       "      <td>9</td>\n",
       "      <td>9</td>\n",
       "      <td>9</td>\n",
       "    </tr>\n",
       "    <tr>\n",
       "      <th>weekend</th>\n",
       "      <td>False</td>\n",
       "      <td>False</td>\n",
       "      <td>False</td>\n",
       "      <td>False</td>\n",
       "      <td>False</td>\n",
       "    </tr>\n",
       "    <tr>\n",
       "      <th>holiday</th>\n",
       "      <td>True</td>\n",
       "      <td>True</td>\n",
       "      <td>True</td>\n",
       "      <td>True</td>\n",
       "      <td>True</td>\n",
       "    </tr>\n",
       "    <tr>\n",
       "      <th>travel_time</th>\n",
       "      <td>91</td>\n",
       "      <td>47</td>\n",
       "      <td>64</td>\n",
       "      <td>58</td>\n",
       "      <td>74</td>\n",
       "    </tr>\n",
       "    <tr>\n",
       "      <th>distance</th>\n",
       "      <td>591</td>\n",
       "      <td>425</td>\n",
       "      <td>373</td>\n",
       "      <td>251</td>\n",
       "      <td>477</td>\n",
       "    </tr>\n",
       "    <tr>\n",
       "      <th>avgvel</th>\n",
       "      <td>23.3802</td>\n",
       "      <td>32.5532</td>\n",
       "      <td>20.9812</td>\n",
       "      <td>15.5793</td>\n",
       "      <td>23.2054</td>\n",
       "    </tr>\n",
       "    <tr>\n",
       "      <th>month</th>\n",
       "      <td>1</td>\n",
       "      <td>1</td>\n",
       "      <td>1</td>\n",
       "      <td>1</td>\n",
       "      <td>1</td>\n",
       "    </tr>\n",
       "    <tr>\n",
       "      <th>season_Summer</th>\n",
       "      <td>0</td>\n",
       "      <td>0</td>\n",
       "      <td>0</td>\n",
       "      <td>0</td>\n",
       "      <td>0</td>\n",
       "    </tr>\n",
       "    <tr>\n",
       "      <th>season_Spring</th>\n",
       "      <td>0</td>\n",
       "      <td>0</td>\n",
       "      <td>0</td>\n",
       "      <td>0</td>\n",
       "      <td>0</td>\n",
       "    </tr>\n",
       "    <tr>\n",
       "      <th>season_Autumn</th>\n",
       "      <td>0</td>\n",
       "      <td>0</td>\n",
       "      <td>0</td>\n",
       "      <td>0</td>\n",
       "      <td>0</td>\n",
       "    </tr>\n",
       "    <tr>\n",
       "      <th>season_Winter</th>\n",
       "      <td>1</td>\n",
       "      <td>1</td>\n",
       "      <td>1</td>\n",
       "      <td>1</td>\n",
       "      <td>1</td>\n",
       "    </tr>\n",
       "    <tr>\n",
       "      <th>icon_clear-day</th>\n",
       "      <td>0</td>\n",
       "      <td>0</td>\n",
       "      <td>0</td>\n",
       "      <td>0</td>\n",
       "      <td>0</td>\n",
       "    </tr>\n",
       "    <tr>\n",
       "      <th>icon_clear-night</th>\n",
       "      <td>0</td>\n",
       "      <td>0</td>\n",
       "      <td>0</td>\n",
       "      <td>0</td>\n",
       "      <td>0</td>\n",
       "    </tr>\n",
       "    <tr>\n",
       "      <th>icon_cloudy</th>\n",
       "      <td>0</td>\n",
       "      <td>0</td>\n",
       "      <td>0</td>\n",
       "      <td>0</td>\n",
       "      <td>0</td>\n",
       "    </tr>\n",
       "    <tr>\n",
       "      <th>icon_fog</th>\n",
       "      <td>0</td>\n",
       "      <td>0</td>\n",
       "      <td>0</td>\n",
       "      <td>0</td>\n",
       "      <td>0</td>\n",
       "    </tr>\n",
       "    <tr>\n",
       "      <th>icon_partly-cloudy-day</th>\n",
       "      <td>1</td>\n",
       "      <td>1</td>\n",
       "      <td>1</td>\n",
       "      <td>1</td>\n",
       "      <td>1</td>\n",
       "    </tr>\n",
       "    <tr>\n",
       "      <th>icon_partly-cloudy-night</th>\n",
       "      <td>0</td>\n",
       "      <td>0</td>\n",
       "      <td>0</td>\n",
       "      <td>0</td>\n",
       "      <td>0</td>\n",
       "    </tr>\n",
       "    <tr>\n",
       "      <th>icon_rain</th>\n",
       "      <td>0</td>\n",
       "      <td>0</td>\n",
       "      <td>0</td>\n",
       "      <td>0</td>\n",
       "      <td>0</td>\n",
       "    </tr>\n",
       "    <tr>\n",
       "      <th>icon_wind</th>\n",
       "      <td>0</td>\n",
       "      <td>0</td>\n",
       "      <td>0</td>\n",
       "      <td>0</td>\n",
       "      <td>0</td>\n",
       "    </tr>\n",
       "  </tbody>\n",
       "</table>\n",
       "</div>"
      ],
      "text/plain": [
       "                                            0                    1  \\\n",
       "dayofservice              2018-01-01 00:00:00  2018-01-01 00:00:00   \n",
       "tripid                                5955476              5955476   \n",
       "stopid                                   1476                 7453   \n",
       "previous_stopid                          4320                 1476   \n",
       "actualARR                 2018-01-01 09:01:01  2018-01-01 09:01:48   \n",
       "previous_stopARR          2018-01-01 08:59:30  2018-01-01 09:01:01   \n",
       "temperature                             41.19                41.19   \n",
       "humidity                                 0.81                 0.81   \n",
       "windSpeed                               12.91                12.91   \n",
       "rain                                        0                    0   \n",
       "hour                                        9                    9   \n",
       "weekend                                 False                False   \n",
       "holiday                                  True                 True   \n",
       "travel_time                                91                   47   \n",
       "distance                                  591                  425   \n",
       "avgvel                                23.3802              32.5532   \n",
       "month                                       1                    1   \n",
       "season_Summer                               0                    0   \n",
       "season_Spring                               0                    0   \n",
       "season_Autumn                               0                    0   \n",
       "season_Winter                               1                    1   \n",
       "icon_clear-day                              0                    0   \n",
       "icon_clear-night                            0                    0   \n",
       "icon_cloudy                                 0                    0   \n",
       "icon_fog                                    0                    0   \n",
       "icon_partly-cloudy-day                      1                    1   \n",
       "icon_partly-cloudy-night                    0                    0   \n",
       "icon_rain                                   0                    0   \n",
       "icon_wind                                   0                    0   \n",
       "\n",
       "                                            2                    3  \\\n",
       "dayofservice              2018-01-01 00:00:00  2018-01-01 00:00:00   \n",
       "tripid                                5955476              5955476   \n",
       "stopid                                   1478                 1479   \n",
       "previous_stopid                          7453                 1478   \n",
       "actualARR                 2018-01-01 09:02:52  2018-01-01 09:03:50   \n",
       "previous_stopARR          2018-01-01 09:01:48  2018-01-01 09:02:52   \n",
       "temperature                             41.19                41.19   \n",
       "humidity                                 0.81                 0.81   \n",
       "windSpeed                               12.91                12.91   \n",
       "rain                                        0                    0   \n",
       "hour                                        9                    9   \n",
       "weekend                                 False                False   \n",
       "holiday                                  True                 True   \n",
       "travel_time                                64                   58   \n",
       "distance                                  373                  251   \n",
       "avgvel                                20.9812              15.5793   \n",
       "month                                       1                    1   \n",
       "season_Summer                               0                    0   \n",
       "season_Spring                               0                    0   \n",
       "season_Autumn                               0                    0   \n",
       "season_Winter                               1                    1   \n",
       "icon_clear-day                              0                    0   \n",
       "icon_clear-night                            0                    0   \n",
       "icon_cloudy                                 0                    0   \n",
       "icon_fog                                    0                    0   \n",
       "icon_partly-cloudy-day                      1                    1   \n",
       "icon_partly-cloudy-night                    0                    0   \n",
       "icon_rain                                   0                    0   \n",
       "icon_wind                                   0                    0   \n",
       "\n",
       "                                            4  \n",
       "dayofservice              2018-01-01 00:00:00  \n",
       "tripid                                5955476  \n",
       "stopid                                   7622  \n",
       "previous_stopid                          1479  \n",
       "actualARR                 2018-01-01 09:05:04  \n",
       "previous_stopARR          2018-01-01 09:03:50  \n",
       "temperature                             41.19  \n",
       "humidity                                 0.81  \n",
       "windSpeed                               12.91  \n",
       "rain                                        0  \n",
       "hour                                        9  \n",
       "weekend                                 False  \n",
       "holiday                                  True  \n",
       "travel_time                                74  \n",
       "distance                                  477  \n",
       "avgvel                                23.2054  \n",
       "month                                       1  \n",
       "season_Summer                               0  \n",
       "season_Spring                               0  \n",
       "season_Autumn                               0  \n",
       "season_Winter                               1  \n",
       "icon_clear-day                              0  \n",
       "icon_clear-night                            0  \n",
       "icon_cloudy                                 0  \n",
       "icon_fog                                    0  \n",
       "icon_partly-cloudy-day                      1  \n",
       "icon_partly-cloudy-night                    0  \n",
       "icon_rain                                   0  \n",
       "icon_wind                                   0  "
      ]
     },
     "execution_count": 83,
     "metadata": {},
     "output_type": "execute_result"
    }
   ],
   "source": [
    "combinedata.head().T"
   ]
  },
  {
   "cell_type": "markdown",
   "metadata": {},
   "source": [
    "## Train Model"
   ]
  },
  {
   "cell_type": "code",
   "execution_count": null,
   "metadata": {},
   "outputs": [],
   "source": [
    "modeldata = combinedata[['travel_time','stopid','previous_stopid',\n",
    "                         'temperature','humidity', 'windSpeed', 'rain', 'hour', 'holiday', 'weekend',\n",
    "                         'month','season_Winter','season_Autumn','season_Summer','season_Spring',\n",
    "                         'icon_clear-day', 'icon_clear-night', 'icon_cloudy', 'icon_fog',\n",
    "                         'icon_partly-cloudy-day', 'icon_partly-cloudy-night', 'icon_rain','icon_wind']]\n",
    "modeldata.dtypes"
   ]
  },
  {
   "cell_type": "code",
   "execution_count": null,
   "metadata": {},
   "outputs": [],
   "source": [
    "for row in unique_coordinates.iterrows():\n",
    "    stop_A = row[1][1]\n",
    "    stop_B = row[1][0]\n",
    "    break\n",
    "    \n",
    "(stop_A, stop_B)"
   ]
  },
  {
   "cell_type": "code",
   "execution_count": null,
   "metadata": {},
   "outputs": [],
   "source": [
    "modeldata = combinedata[combinedata.stopid==stop_B]\n",
    "modeldata = modeldata[modeldata.previous_stopid==stop_A]"
   ]
  },
  {
   "cell_type": "code",
   "execution_count": null,
   "metadata": {},
   "outputs": [],
   "source": [
    "print(\"There are %d rows relating to pair (%d, %d)\" % (modeldata.count()[0], stop_A, stop_B))"
   ]
  },
  {
   "cell_type": "code",
   "execution_count": null,
   "metadata": {},
   "outputs": [],
   "source": [
    "# need to put this in a loop over the pairs of stops. (unique)\n",
    "target     = ['travel_time']\n",
    "predictors = ['temperature','humidity', 'windSpeed', 'rain', 'hour', 'holiday', 'weekend',\n",
    "              'month','season_Winter','season_Autumn','season_Summer','season_Spring',\n",
    "              'icon_clear-day', 'icon_clear-night', 'icon_cloudy', 'icon_fog',\n",
    "              'icon_partly-cloudy-day', 'icon_partly-cloudy-night', 'icon_rain','icon_wind']"
   ]
  },
  {
   "cell_type": "code",
   "execution_count": null,
   "metadata": {},
   "outputs": [],
   "source": [
    "modeldata.travel_time.hist(bins=100)"
   ]
  },
  {
   "cell_type": "code",
   "execution_count": null,
   "metadata": {},
   "outputs": [],
   "source": [
    "travel_time_deviation = modeldata.travel_time.std()\n",
    "\n",
    "# ERRORS HERE fixed,  - no\n",
    "# 2 sigma - 95% of data\n",
    "modeldata = modeldata[abs(modeldata.travel_time-modeldata.travel_time.mean()) < 3*travel_time_deviation]\n",
    "modeldata = modeldata[modeldata.travel_time >= 0]"
   ]
  },
  {
   "cell_type": "code",
   "execution_count": null,
   "metadata": {},
   "outputs": [],
   "source": [
    "modeldata.travel_time.hist(bins=100)"
   ]
  },
  {
   "cell_type": "code",
   "execution_count": null,
   "metadata": {},
   "outputs": [],
   "source": [
    "modeldata.travel_time.hist()\n"
   ]
  },
  {
   "cell_type": "code",
   "execution_count": null,
   "metadata": {},
   "outputs": [],
   "source": [
    "train, test = train_test_split(modeldata, test_size = 0.3)"
   ]
  },
  {
   "cell_type": "code",
   "execution_count": null,
   "metadata": {
    "scrolled": true
   },
   "outputs": [],
   "source": [
    "RFM = RandomForestClassifier(n_estimators=100, max_features='auto', oob_score=True, random_state=1)\n",
    "RFM.fit(train[predictors], train[target])"
   ]
  },
  {
   "cell_type": "code",
   "execution_count": null,
   "metadata": {},
   "outputs": [],
   "source": [
    "feature_importance = pd.DataFrame({'feature':predictors, 'importance': RFM.feature_importances_})\n",
    "\n",
    "feature_importance.set_index('feature', inplace=True)\n",
    "feature_importance.plot.barh(title='Feature importance')"
   ]
  },
  {
   "cell_type": "code",
   "execution_count": null,
   "metadata": {},
   "outputs": [],
   "source": [
    "RFM_predictions = RFM.predict(test[predictors])"
   ]
  },
  {
   "cell_type": "code",
   "execution_count": null,
   "metadata": {},
   "outputs": [],
   "source": [
    "plt.hist(RFM_predictions - test.travel_time, bins=20, density=True)\n",
    "\n",
    "\n",
    "# # best fit of data\n",
    "(mu, sigma) = stats.norm.fit(RFM_predictions - test.travel_time)\n",
    "\n",
    "# # the histogram of the data\n",
    "# n, bins, patches = plt.hist(RFM_predictions - test.travel_time, 2000, normed=1, facecolor='green', alpha=0.75)\n",
    "\n",
    "# add a 'best fit' line\n",
    "# y = mlab.normpdf(bins, mu, sigma)\n",
    "l = plt.plot(bins, y, 'r--', linewidth=2)\n",
    "plt.show()\n",
    "\n",
    "print(sigma, mu)\n",
    "\n",
    "test.travel_time.hist(bins=100)"
   ]
  },
  {
   "cell_type": "markdown",
   "metadata": {},
   "source": [
    "## Evaluate Model"
   ]
  },
  {
   "cell_type": "code",
   "execution_count": null,
   "metadata": {},
   "outputs": [],
   "source": [
    "# RMSE\n",
    "trips_145_FILTERED = trips_145.dropna()\n",
    "\n",
    "rmse_arrival_full = np.sqrt(metrics.mean_squared_error(trips_145_FILTERED.planned_arr.astype(int), trips_145_FILTERED.actual_arr.astype(int)))\n",
    "rmse_depart_full  = np.sqrt(metrics.mean_squared_error(trips_145_FILTERED.planned_dep.astype(int), trips_145_FILTERED.actual_dep.astype(int)))\n",
    "\n",
    "average_trip = (trips_145_FILTERED.actual_arr.astype(int) - trips_145_FILTERED.actual_dep.astype(int)).mean()\n",
    "\n",
    "print(f\"\"\"\n",
    "\n",
    "Full Trip:\n",
    "Average Trip length: {round(average_trip,2)}s [{round(average_trip/3600,2)}h]\n",
    "\n",
    "RMSE Arrival time:   {round(rmse_arrival_full,2)}s  [{round(100*(rmse_arrival_full/average_trip),2)}%] \n",
    "RMSE Departure time: {round(rmse_depart_full,2)}s  [{round(100*(rmse_depart_full/average_trip),2)}%]\n",
    "\n",
    "\"\"\")"
   ]
  },
  {
   "cell_type": "code",
   "execution_count": null,
   "metadata": {},
   "outputs": [],
   "source": []
  },
  {
   "cell_type": "code",
   "execution_count": null,
   "metadata": {},
   "outputs": [],
   "source": []
  },
  {
   "cell_type": "code",
   "execution_count": null,
   "metadata": {},
   "outputs": [],
   "source": []
  },
  {
   "cell_type": "markdown",
   "metadata": {},
   "source": [
    "## Exporting Model"
   ]
  },
  {
   "cell_type": "code",
   "execution_count": null,
   "metadata": {},
   "outputs": [],
   "source": []
  },
  {
   "cell_type": "code",
   "execution_count": null,
   "metadata": {},
   "outputs": [],
   "source": []
  }
 ],
 "metadata": {
  "celltoolbar": "Initialization Cell",
  "kernelspec": {
   "display_name": "Python 3",
   "language": "python",
   "name": "python3"
  },
  "language_info": {
   "codemirror_mode": {
    "name": "ipython",
    "version": 3
   },
   "file_extension": ".py",
   "mimetype": "text/x-python",
   "name": "python",
   "nbconvert_exporter": "python",
   "pygments_lexer": "ipython3",
   "version": "3.6.8"
  },
  "notify_time": "10",
  "toc": {
   "base_numbering": 1,
   "nav_menu": {},
   "number_sections": true,
   "sideBar": true,
   "skip_h1_title": false,
   "title_cell": "Table of Contents",
   "title_sidebar": "Contents",
   "toc_cell": false,
   "toc_position": {
    "height": "calc(100% - 180px)",
    "left": "10px",
    "top": "150px",
    "width": "447.75px"
   },
   "toc_section_display": true,
   "toc_window_display": true
  },
  "varInspector": {
   "cols": {
    "lenName": 16,
    "lenType": 16,
    "lenVar": 40
   },
   "kernels_config": {
    "python": {
     "delete_cmd_postfix": "",
     "delete_cmd_prefix": "del ",
     "library": "var_list.py",
     "varRefreshCmd": "print(var_dic_list())"
    },
    "r": {
     "delete_cmd_postfix": ") ",
     "delete_cmd_prefix": "rm(",
     "library": "var_list.r",
     "varRefreshCmd": "cat(var_dic_list()) "
    }
   },
   "types_to_exclude": [
    "module",
    "function",
    "builtin_function_or_method",
    "instance",
    "_Feature"
   ],
   "window_display": false
  }
 },
 "nbformat": 4,
 "nbformat_minor": 2
}

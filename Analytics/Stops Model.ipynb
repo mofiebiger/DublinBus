{
 "cells": [
  {
   "cell_type": "markdown",
   "metadata": {},
   "source": [
    "## Setup and importing modules"
   ]
  },
  {
   "cell_type": "code",
   "execution_count": 186,
   "metadata": {
    "ExecuteTime": {
     "end_time": "2019-07-23T13:42:46.639451Z",
     "start_time": "2019-07-23T13:42:45.962946Z"
    },
    "init_cell": true
   },
   "outputs": [],
   "source": [
    "from sklearn.model_selection import train_test_split\n",
    "from sklearn.model_selection import cross_val_score \n",
    "from sklearn.model_selection import cross_validate\n",
    "from sklearn.ensemble import RandomForestClassifier\n",
    "from sklearn.preprocessing import LabelEncoder\n",
    "\n",
    "import matplotlib.pyplot as plt\n",
    "import matplotlib.mlab as mlab\n",
    "\n",
    "from datetime import timedelta\n",
    "from datetime import datetime\n",
    "import scipy.stats as stats\n",
    "\n",
    "import requests as r\n",
    "import pandas as pd\n",
    "import seaborn as s\n",
    "import numpy as np\n",
    "\n",
    "import holidays\n",
    "ie_holidays = holidays.Ireland()\n",
    "\n",
    "import postgres\n",
    "import gmaps\n",
    "import googlemaps\n",
    "import json\n",
    "import config\n",
    "import math\n",
    "\n",
    "import xgboost as xgb\n",
    "from sklearn import metrics\n",
    "\n",
    "from tqdm import tnrange, tqdm_notebook, tqdm\n",
    "\n",
    "\n",
    "from tqdm._tqdm_notebook import tqdm_notebook as tdnot\n",
    "tdnot.pandas()\n",
    "\n",
    "import warnings\n",
    "warnings.filterwarnings(\"ignore\")"
   ]
  },
  {
   "cell_type": "code",
   "execution_count": 187,
   "metadata": {
    "ExecuteTime": {
     "end_time": "2019-07-23T13:42:46.946372Z",
     "start_time": "2019-07-23T13:42:46.939715Z"
    },
    "init_cell": true
   },
   "outputs": [
    {
     "data": {
      "text/plain": [
       "<module 'config' from '/media/storage/College/S3/Github/DublinBus/Analytics/config.py'>"
      ]
     },
     "execution_count": 187,
     "metadata": {},
     "output_type": "execute_result"
    }
   ],
   "source": [
    "import importlib\n",
    "importlib.reload(postgres.config)"
   ]
  },
  {
   "cell_type": "code",
   "execution_count": 188,
   "metadata": {
    "ExecuteTime": {
     "end_time": "2019-07-23T13:42:47.262528Z",
     "start_time": "2019-07-23T13:42:47.259779Z"
    },
    "init_cell": true
   },
   "outputs": [],
   "source": [
    "from IPython.core.interactiveshell import InteractiveShell\n",
    "InteractiveShell.ast_node_interactivity = \"all\""
   ]
  },
  {
   "cell_type": "markdown",
   "metadata": {},
   "source": [
    "## Import Data"
   ]
  },
  {
   "cell_type": "markdown",
   "metadata": {},
   "source": [
    "### Bus Data"
   ]
  },
  {
   "cell_type": "code",
   "execution_count": 189,
   "metadata": {
    "ExecuteTime": {
     "end_time": "2019-07-23T13:42:51.621496Z",
     "start_time": "2019-07-23T13:42:48.121000Z"
    },
    "init_cell": true
   },
   "outputs": [
    {
     "data": {
      "text/html": [
       "<div>\n",
       "<style scoped>\n",
       "    .dataframe tbody tr th:only-of-type {\n",
       "        vertical-align: middle;\n",
       "    }\n",
       "\n",
       "    .dataframe tbody tr th {\n",
       "        vertical-align: top;\n",
       "    }\n",
       "\n",
       "    .dataframe thead th {\n",
       "        text-align: right;\n",
       "    }\n",
       "</style>\n",
       "<table border=\"1\" class=\"dataframe\">\n",
       "  <thead>\n",
       "    <tr style=\"text-align: right;\">\n",
       "      <th></th>\n",
       "      <th>dayofservice</th>\n",
       "      <th>tripid</th>\n",
       "      <th>lineid</th>\n",
       "      <th>direction</th>\n",
       "      <th>progrnumber</th>\n",
       "      <th>stopid</th>\n",
       "      <th>plannedDEP</th>\n",
       "      <th>plannedARR</th>\n",
       "      <th>actualDEP</th>\n",
       "      <th>actualARR</th>\n",
       "      <th>routeid</th>\n",
       "    </tr>\n",
       "  </thead>\n",
       "  <tbody>\n",
       "    <tr>\n",
       "      <th>0</th>\n",
       "      <td>2018-01-01</td>\n",
       "      <td>5955476</td>\n",
       "      <td>145</td>\n",
       "      <td>1</td>\n",
       "      <td>1</td>\n",
       "      <td>4320</td>\n",
       "      <td>32400</td>\n",
       "      <td>32400</td>\n",
       "      <td>32370</td>\n",
       "      <td>32370</td>\n",
       "      <td>145_102</td>\n",
       "    </tr>\n",
       "    <tr>\n",
       "      <th>1</th>\n",
       "      <td>2018-01-01</td>\n",
       "      <td>5955476</td>\n",
       "      <td>145</td>\n",
       "      <td>1</td>\n",
       "      <td>2</td>\n",
       "      <td>1476</td>\n",
       "      <td>32504</td>\n",
       "      <td>32504</td>\n",
       "      <td>32461</td>\n",
       "      <td>32461</td>\n",
       "      <td>145_102</td>\n",
       "    </tr>\n",
       "    <tr>\n",
       "      <th>2</th>\n",
       "      <td>2018-01-01</td>\n",
       "      <td>5955476</td>\n",
       "      <td>145</td>\n",
       "      <td>1</td>\n",
       "      <td>3</td>\n",
       "      <td>7453</td>\n",
       "      <td>32579</td>\n",
       "      <td>32579</td>\n",
       "      <td>32508</td>\n",
       "      <td>32508</td>\n",
       "      <td>145_102</td>\n",
       "    </tr>\n",
       "    <tr>\n",
       "      <th>3</th>\n",
       "      <td>2018-01-01</td>\n",
       "      <td>5955476</td>\n",
       "      <td>145</td>\n",
       "      <td>1</td>\n",
       "      <td>4</td>\n",
       "      <td>1478</td>\n",
       "      <td>32650</td>\n",
       "      <td>32650</td>\n",
       "      <td>32582</td>\n",
       "      <td>32572</td>\n",
       "      <td>145_102</td>\n",
       "    </tr>\n",
       "    <tr>\n",
       "      <th>4</th>\n",
       "      <td>2018-01-01</td>\n",
       "      <td>5955476</td>\n",
       "      <td>145</td>\n",
       "      <td>1</td>\n",
       "      <td>5</td>\n",
       "      <td>1479</td>\n",
       "      <td>32698</td>\n",
       "      <td>32698</td>\n",
       "      <td>32630</td>\n",
       "      <td>32630</td>\n",
       "      <td>145_102</td>\n",
       "    </tr>\n",
       "  </tbody>\n",
       "</table>\n",
       "</div>"
      ],
      "text/plain": [
       "  dayofservice   tripid  lineid  direction  progrnumber  stopid  plannedDEP  \\\n",
       "0   2018-01-01  5955476     145          1            1    4320       32400   \n",
       "1   2018-01-01  5955476     145          1            2    1476       32504   \n",
       "2   2018-01-01  5955476     145          1            3    7453       32579   \n",
       "3   2018-01-01  5955476     145          1            4    1478       32650   \n",
       "4   2018-01-01  5955476     145          1            5    1479       32698   \n",
       "\n",
       "   plannedARR  actualDEP  actualARR  routeid  \n",
       "0       32400      32370      32370  145_102  \n",
       "1       32504      32461      32461  145_102  \n",
       "2       32579      32508      32508  145_102  \n",
       "3       32650      32582      32572  145_102  \n",
       "4       32698      32630      32630  145_102  "
      ]
     },
     "execution_count": 189,
     "metadata": {},
     "output_type": "execute_result"
    }
   ],
   "source": [
    "# data = postgres.query(\"SELECT * FROM combined;\", tunnel=True)\n",
    "# data = pd.DataFrame(data)\n",
    "\n",
    "data = pd.read_csv(\"stored_queries/combined145.csv\")\n",
    "data.head()"
   ]
  },
  {
   "cell_type": "code",
   "execution_count": 190,
   "metadata": {
    "ExecuteTime": {
     "end_time": "2019-07-23T13:42:51.715158Z",
     "start_time": "2019-07-23T13:42:51.691891Z"
    },
    "init_cell": true,
    "scrolled": true
   },
   "outputs": [],
   "source": [
    "data.columns = ['dayofservice','tripid','lineid','direction','progrnumber','stopid','plannedDEP','plannedARR','actualDEP','actualARR','routeid']"
   ]
  },
  {
   "cell_type": "code",
   "execution_count": 191,
   "metadata": {
    "ExecuteTime": {
     "end_time": "2019-07-23T13:42:52.715766Z",
     "start_time": "2019-07-23T13:42:51.774571Z"
    },
    "init_cell": true
   },
   "outputs": [],
   "source": [
    "data.dayofservice = pd.to_datetime(data.dayofservice.loc[:])\n",
    "data.lineid = data.lineid.astype('category')\n",
    "data.routeid= data.routeid.astype('category')"
   ]
  },
  {
   "cell_type": "code",
   "execution_count": 192,
   "metadata": {
    "ExecuteTime": {
     "end_time": "2019-07-23T13:42:54.073579Z",
     "start_time": "2019-07-23T13:42:52.773546Z"
    },
    "init_cell": true
   },
   "outputs": [],
   "source": [
    "data.sort_values(by=['dayofservice','lineid','tripid','direction','progrnumber'],inplace=True)\n",
    "# data.to_csv(\"stored_queries/combined145.csv\", index=False, chunksize=500000)"
   ]
  },
  {
   "cell_type": "code",
   "execution_count": 193,
   "metadata": {},
   "outputs": [],
   "source": [
    "# Drop duplicates \n",
    "data.drop_duplicates(inplace=True)"
   ]
  },
  {
   "cell_type": "markdown",
   "metadata": {
    "heading_collapsed": true
   },
   "source": [
    "### Trips information [for full route prediction]"
   ]
  },
  {
   "cell_type": "code",
   "execution_count": 194,
   "metadata": {
    "hidden": true
   },
   "outputs": [
    {
     "data": {
      "text/html": [
       "<div>\n",
       "<style scoped>\n",
       "    .dataframe tbody tr th:only-of-type {\n",
       "        vertical-align: middle;\n",
       "    }\n",
       "\n",
       "    .dataframe tbody tr th {\n",
       "        vertical-align: top;\n",
       "    }\n",
       "\n",
       "    .dataframe thead th {\n",
       "        text-align: right;\n",
       "    }\n",
       "</style>\n",
       "<table border=\"1\" class=\"dataframe\">\n",
       "  <thead>\n",
       "    <tr style=\"text-align: right;\">\n",
       "      <th></th>\n",
       "      <th>Unnamed: 0</th>\n",
       "      <th>dayofservice</th>\n",
       "      <th>tripid</th>\n",
       "      <th>lineid</th>\n",
       "      <th>routeid</th>\n",
       "      <th>direction</th>\n",
       "      <th>planned_arr</th>\n",
       "      <th>planned_dep</th>\n",
       "      <th>actual_arr</th>\n",
       "      <th>actual_dep</th>\n",
       "    </tr>\n",
       "  </thead>\n",
       "  <tbody>\n",
       "    <tr>\n",
       "      <th>0</th>\n",
       "      <td>0</td>\n",
       "      <td>2018-06-17</td>\n",
       "      <td>7013606</td>\n",
       "      <td>7A</td>\n",
       "      <td>7A_85</td>\n",
       "      <td>1</td>\n",
       "      <td>66484</td>\n",
       "      <td>62400</td>\n",
       "      <td>67065.0</td>\n",
       "      <td>62901.0</td>\n",
       "    </tr>\n",
       "    <tr>\n",
       "      <th>1</th>\n",
       "      <td>1</td>\n",
       "      <td>2018-07-03</td>\n",
       "      <td>7137867</td>\n",
       "      <td>41C</td>\n",
       "      <td>41C_79</td>\n",
       "      <td>2</td>\n",
       "      <td>51620</td>\n",
       "      <td>47700</td>\n",
       "      <td>NaN</td>\n",
       "      <td>47293.0</td>\n",
       "    </tr>\n",
       "    <tr>\n",
       "      <th>2</th>\n",
       "      <td>2</td>\n",
       "      <td>2018-02-16</td>\n",
       "      <td>6258567</td>\n",
       "      <td>31</td>\n",
       "      <td>31_15</td>\n",
       "      <td>1</td>\n",
       "      <td>74041</td>\n",
       "      <td>71400</td>\n",
       "      <td>74297.0</td>\n",
       "      <td>71449.0</td>\n",
       "    </tr>\n",
       "    <tr>\n",
       "      <th>3</th>\n",
       "      <td>3</td>\n",
       "      <td>2018-08-27</td>\n",
       "      <td>7499178</td>\n",
       "      <td>67</td>\n",
       "      <td>67_6</td>\n",
       "      <td>2</td>\n",
       "      <td>59030</td>\n",
       "      <td>54720</td>\n",
       "      <td>NaN</td>\n",
       "      <td>54687.0</td>\n",
       "    </tr>\n",
       "    <tr>\n",
       "      <th>4</th>\n",
       "      <td>4</td>\n",
       "      <td>2018-08-27</td>\n",
       "      <td>7500294</td>\n",
       "      <td>44</td>\n",
       "      <td>44_36</td>\n",
       "      <td>2</td>\n",
       "      <td>85563</td>\n",
       "      <td>81000</td>\n",
       "      <td>85557.0</td>\n",
       "      <td>81004.0</td>\n",
       "    </tr>\n",
       "  </tbody>\n",
       "</table>\n",
       "</div>"
      ],
      "text/plain": [
       "   Unnamed: 0 dayofservice   tripid lineid routeid  direction  planned_arr  \\\n",
       "0           0   2018-06-17  7013606     7A   7A_85          1        66484   \n",
       "1           1   2018-07-03  7137867    41C  41C_79          2        51620   \n",
       "2           2   2018-02-16  6258567     31   31_15          1        74041   \n",
       "3           3   2018-08-27  7499178     67    67_6          2        59030   \n",
       "4           4   2018-08-27  7500294     44   44_36          2        85563   \n",
       "\n",
       "   planned_dep  actual_arr  actual_dep  \n",
       "0        62400     67065.0     62901.0  \n",
       "1        47700         NaN     47293.0  \n",
       "2        71400     74297.0     71449.0  \n",
       "3        54720         NaN     54687.0  \n",
       "4        81000     85557.0     81004.0  "
      ]
     },
     "execution_count": 194,
     "metadata": {},
     "output_type": "execute_result"
    }
   ],
   "source": [
    "tripsdata = pd.read_csv(\"stored_queries/trips_df.csv\")\n",
    "tripsdata.head()"
   ]
  },
  {
   "cell_type": "code",
   "execution_count": 195,
   "metadata": {
    "hidden": true
   },
   "outputs": [],
   "source": [
    "tripsdata = tripsdata[['dayofservice', 'tripid', 'lineid', 'routeid', 'direction', 'actual_arr', 'actual_dep']]\n",
    "tripsdata.dayofservice = pd.to_datetime(tripsdata.dayofservice)\n",
    "tripsdata.dropna(inplace=True)"
   ]
  },
  {
   "cell_type": "markdown",
   "metadata": {
    "heading_collapsed": true
   },
   "source": [
    "### Stop Information"
   ]
  },
  {
   "cell_type": "code",
   "execution_count": 196,
   "metadata": {
    "ExecuteTime": {
     "end_time": "2019-07-23T13:42:54.176825Z",
     "start_time": "2019-07-23T13:42:54.159974Z"
    },
    "hidden": true,
    "init_cell": true
   },
   "outputs": [],
   "source": [
    "stops = pd.read_csv(\"stop_information.csv\")"
   ]
  },
  {
   "cell_type": "code",
   "execution_count": 197,
   "metadata": {
    "ExecuteTime": {
     "end_time": "2019-07-23T13:42:54.244019Z",
     "start_time": "2019-07-23T13:42:54.232737Z"
    },
    "hidden": true,
    "init_cell": true
   },
   "outputs": [
    {
     "data": {
      "text/html": [
       "<div>\n",
       "<style scoped>\n",
       "    .dataframe tbody tr th:only-of-type {\n",
       "        vertical-align: middle;\n",
       "    }\n",
       "\n",
       "    .dataframe tbody tr th {\n",
       "        vertical-align: top;\n",
       "    }\n",
       "\n",
       "    .dataframe thead th {\n",
       "        text-align: right;\n",
       "    }\n",
       "</style>\n",
       "<table border=\"1\" class=\"dataframe\">\n",
       "  <thead>\n",
       "    <tr style=\"text-align: right;\">\n",
       "      <th></th>\n",
       "      <th>id</th>\n",
       "      <th>stopid</th>\n",
       "      <th>stop_name</th>\n",
       "      <th>lat</th>\n",
       "      <th>lng</th>\n",
       "      <th>irish_name</th>\n",
       "      <th>routes</th>\n",
       "    </tr>\n",
       "  </thead>\n",
       "  <tbody>\n",
       "    <tr>\n",
       "      <th>0</th>\n",
       "      <td>4240</td>\n",
       "      <td>2</td>\n",
       "      <td>Parnell Square</td>\n",
       "      <td>53.352241</td>\n",
       "      <td>-6.263695</td>\n",
       "      <td>Cearnóg Parnell</td>\n",
       "      <td>['38', '38A', '38B', '38D', '46A', '46E']</td>\n",
       "    </tr>\n",
       "    <tr>\n",
       "      <th>1</th>\n",
       "      <td>4241</td>\n",
       "      <td>3</td>\n",
       "      <td>Parnell Square</td>\n",
       "      <td>53.352307</td>\n",
       "      <td>-6.263783</td>\n",
       "      <td>Cearnóg Parnell</td>\n",
       "      <td>['120', '122']</td>\n",
       "    </tr>\n",
       "    <tr>\n",
       "      <th>2</th>\n",
       "      <td>4242</td>\n",
       "      <td>4</td>\n",
       "      <td>Parnell Square</td>\n",
       "      <td>53.352567</td>\n",
       "      <td>-6.264166</td>\n",
       "      <td>Cearnóg Parnell</td>\n",
       "      <td>['7', '7A', '7B', '7D', '9']</td>\n",
       "    </tr>\n",
       "    <tr>\n",
       "      <th>3</th>\n",
       "      <td>4243</td>\n",
       "      <td>6</td>\n",
       "      <td>Parnell Square</td>\n",
       "      <td>53.352744</td>\n",
       "      <td>-6.264443</td>\n",
       "      <td>Cearnóg Parnell</td>\n",
       "      <td>['4', '155']</td>\n",
       "    </tr>\n",
       "    <tr>\n",
       "      <th>4</th>\n",
       "      <td>4244</td>\n",
       "      <td>7</td>\n",
       "      <td>Parnell Square</td>\n",
       "      <td>53.352836</td>\n",
       "      <td>-6.264562</td>\n",
       "      <td>Cearnóg Parnell</td>\n",
       "      <td>['13', '140', '40', '40B', '40D']</td>\n",
       "    </tr>\n",
       "  </tbody>\n",
       "</table>\n",
       "</div>"
      ],
      "text/plain": [
       "     id  stopid       stop_name        lat       lng       irish_name  \\\n",
       "0  4240       2  Parnell Square  53.352241 -6.263695  Cearnóg Parnell   \n",
       "1  4241       3  Parnell Square  53.352307 -6.263783  Cearnóg Parnell   \n",
       "2  4242       4  Parnell Square  53.352567 -6.264166  Cearnóg Parnell   \n",
       "3  4243       6  Parnell Square  53.352744 -6.264443  Cearnóg Parnell   \n",
       "4  4244       7  Parnell Square  53.352836 -6.264562  Cearnóg Parnell   \n",
       "\n",
       "                                      routes  \n",
       "0  ['38', '38A', '38B', '38D', '46A', '46E']  \n",
       "1                             ['120', '122']  \n",
       "2               ['7', '7A', '7B', '7D', '9']  \n",
       "3                               ['4', '155']  \n",
       "4          ['13', '140', '40', '40B', '40D']  "
      ]
     },
     "execution_count": 197,
     "metadata": {},
     "output_type": "execute_result"
    }
   ],
   "source": [
    "cols = list(stops.columns)\n",
    "cols[0] = 'ix'\n",
    "stops.columns = cols\n",
    "stops.drop(columns=cols[0], inplace=True)\n",
    "\n",
    "stops.head()"
   ]
  },
  {
   "cell_type": "markdown",
   "metadata": {
    "heading_collapsed": true
   },
   "source": [
    "### Weather Data"
   ]
  },
  {
   "cell_type": "code",
   "execution_count": 198,
   "metadata": {
    "ExecuteTime": {
     "end_time": "2019-07-23T13:42:54.329499Z",
     "start_time": "2019-07-23T13:42:54.305998Z"
    },
    "hidden": true,
    "init_cell": true,
    "scrolled": true
   },
   "outputs": [
    {
     "data": {
      "text/html": [
       "<div>\n",
       "<style scoped>\n",
       "    .dataframe tbody tr th:only-of-type {\n",
       "        vertical-align: middle;\n",
       "    }\n",
       "\n",
       "    .dataframe tbody tr th {\n",
       "        vertical-align: top;\n",
       "    }\n",
       "\n",
       "    .dataframe thead th {\n",
       "        text-align: right;\n",
       "    }\n",
       "</style>\n",
       "<table border=\"1\" class=\"dataframe\">\n",
       "  <thead>\n",
       "    <tr style=\"text-align: right;\">\n",
       "      <th></th>\n",
       "      <th>dayofservice</th>\n",
       "      <th>hour</th>\n",
       "      <th>icon</th>\n",
       "      <th>temperature</th>\n",
       "      <th>humidity</th>\n",
       "      <th>cloudCover</th>\n",
       "      <th>windSpeed</th>\n",
       "      <th>rain</th>\n",
       "    </tr>\n",
       "  </thead>\n",
       "  <tbody>\n",
       "    <tr>\n",
       "      <th>0</th>\n",
       "      <td>2018-01-01</td>\n",
       "      <td>0</td>\n",
       "      <td>partly-cloudy-night</td>\n",
       "      <td>41.19</td>\n",
       "      <td>0.80</td>\n",
       "      <td>0.58</td>\n",
       "      <td>17.04</td>\n",
       "      <td>0.0</td>\n",
       "    </tr>\n",
       "    <tr>\n",
       "      <th>1</th>\n",
       "      <td>2018-01-01</td>\n",
       "      <td>1</td>\n",
       "      <td>partly-cloudy-night</td>\n",
       "      <td>41.70</td>\n",
       "      <td>0.79</td>\n",
       "      <td>0.75</td>\n",
       "      <td>21.59</td>\n",
       "      <td>0.1</td>\n",
       "    </tr>\n",
       "    <tr>\n",
       "      <th>2</th>\n",
       "      <td>2018-01-01</td>\n",
       "      <td>2</td>\n",
       "      <td>partly-cloudy-night</td>\n",
       "      <td>41.95</td>\n",
       "      <td>0.78</td>\n",
       "      <td>0.75</td>\n",
       "      <td>21.59</td>\n",
       "      <td>0.0</td>\n",
       "    </tr>\n",
       "    <tr>\n",
       "      <th>3</th>\n",
       "      <td>2018-01-01</td>\n",
       "      <td>3</td>\n",
       "      <td>partly-cloudy-night</td>\n",
       "      <td>42.42</td>\n",
       "      <td>0.82</td>\n",
       "      <td>0.58</td>\n",
       "      <td>19.60</td>\n",
       "      <td>0.0</td>\n",
       "    </tr>\n",
       "    <tr>\n",
       "      <th>4</th>\n",
       "      <td>2018-01-01</td>\n",
       "      <td>4</td>\n",
       "      <td>partly-cloudy-night</td>\n",
       "      <td>42.09</td>\n",
       "      <td>0.83</td>\n",
       "      <td>0.44</td>\n",
       "      <td>20.48</td>\n",
       "      <td>0.0</td>\n",
       "    </tr>\n",
       "  </tbody>\n",
       "</table>\n",
       "</div>"
      ],
      "text/plain": [
       "  dayofservice  hour                 icon  temperature  humidity  cloudCover  \\\n",
       "0   2018-01-01     0  partly-cloudy-night        41.19      0.80        0.58   \n",
       "1   2018-01-01     1  partly-cloudy-night        41.70      0.79        0.75   \n",
       "2   2018-01-01     2  partly-cloudy-night        41.95      0.78        0.75   \n",
       "3   2018-01-01     3  partly-cloudy-night        42.42      0.82        0.58   \n",
       "4   2018-01-01     4  partly-cloudy-night        42.09      0.83        0.44   \n",
       "\n",
       "   windSpeed  rain  \n",
       "0      17.04   0.0  \n",
       "1      21.59   0.1  \n",
       "2      21.59   0.0  \n",
       "3      19.60   0.0  \n",
       "4      20.48   0.0  "
      ]
     },
     "execution_count": 198,
     "metadata": {},
     "output_type": "execute_result"
    }
   ],
   "source": [
    "weather = pd.read_csv(\"stored_queries/weather.csv\")\n",
    "\n",
    "weather.head()"
   ]
  },
  {
   "cell_type": "code",
   "execution_count": 199,
   "metadata": {
    "ExecuteTime": {
     "end_time": "2019-07-23T13:42:54.451519Z",
     "start_time": "2019-07-23T13:42:54.443935Z"
    },
    "hidden": true,
    "init_cell": true
   },
   "outputs": [
    {
     "data": {
      "text/plain": [
       "dayofservice    8751\n",
       "hour            8751\n",
       "icon            8751\n",
       "temperature     8751\n",
       "humidity        8751\n",
       "cloudCover      8496\n",
       "windSpeed       8745\n",
       "rain            8751\n",
       "dtype: int64"
      ]
     },
     "execution_count": 199,
     "metadata": {},
     "output_type": "execute_result"
    }
   ],
   "source": [
    "weather.count()"
   ]
  },
  {
   "cell_type": "code",
   "execution_count": 200,
   "metadata": {
    "ExecuteTime": {
     "end_time": "2019-07-23T13:42:54.536135Z",
     "start_time": "2019-07-23T13:42:54.529054Z"
    },
    "hidden": true,
    "init_cell": true
   },
   "outputs": [],
   "source": [
    "weather.icon = weather.icon.astype('category')\n",
    "weather.dayofservice = pd.to_datetime(weather.dayofservice)"
   ]
  },
  {
   "cell_type": "markdown",
   "metadata": {
    "heading_collapsed": true
   },
   "source": [
    "### Export/ Import the number of stops on each lineid for basic model."
   ]
  },
  {
   "cell_type": "code",
   "execution_count": 201,
   "metadata": {
    "code_folding": [
     0
    ],
    "hidden": true
   },
   "outputs": [],
   "source": [
    "# # Read in all lineids from teh database and store in a text file.\n",
    "\n",
    "\n",
    "# lineids = postgres.query(\"Select distinct(lineid) from combined;\", tunnel=True)\n",
    "\n",
    "# q = dict()\n",
    "# for lidx in tnrange(len(lineids)):\n",
    "    \n",
    "#     lid = lineids[lidx]\n",
    "#     q[lid[0]] = postgres.query(\"SELECT MAX(progrnumber) FROM combined WHERE lineid='%s';\" % str(lid[0]), tunnel=True)\n",
    "    \n",
    "# with open(\"stops_per_line.txt\",'w') as f:\n",
    "#     f.write(json.dumps(q))\n",
    "# f.closed\n"
   ]
  },
  {
   "cell_type": "code",
   "execution_count": 202,
   "metadata": {
    "hidden": true
   },
   "outputs": [],
   "source": [
    "with open(\"stops_per_line.txt\",'r') as g:\n",
    "    max_stops_per_line = json.loads(g.readlines()[0])"
   ]
  },
  {
   "cell_type": "markdown",
   "metadata": {
    "heading_collapsed": true
   },
   "source": [
    "### Import distances between stops data"
   ]
  },
  {
   "cell_type": "code",
   "execution_count": 203,
   "metadata": {
    "hidden": true,
    "init_cell": true
   },
   "outputs": [
    {
     "data": {
      "text/html": [
       "<div>\n",
       "<style scoped>\n",
       "    .dataframe tbody tr th:only-of-type {\n",
       "        vertical-align: middle;\n",
       "    }\n",
       "\n",
       "    .dataframe tbody tr th {\n",
       "        vertical-align: top;\n",
       "    }\n",
       "\n",
       "    .dataframe thead th {\n",
       "        text-align: right;\n",
       "    }\n",
       "</style>\n",
       "<table border=\"1\" class=\"dataframe\">\n",
       "  <thead>\n",
       "    <tr style=\"text-align: right;\">\n",
       "      <th></th>\n",
       "      <th>stopid</th>\n",
       "      <th>previous_stopid</th>\n",
       "      <th>distance</th>\n",
       "    </tr>\n",
       "  </thead>\n",
       "  <tbody>\n",
       "    <tr>\n",
       "      <th>0</th>\n",
       "      <td>1636</td>\n",
       "      <td>1635</td>\n",
       "      <td>397</td>\n",
       "    </tr>\n",
       "    <tr>\n",
       "      <th>1</th>\n",
       "      <td>1338</td>\n",
       "      <td>1337</td>\n",
       "      <td>151</td>\n",
       "    </tr>\n",
       "    <tr>\n",
       "      <th>2</th>\n",
       "      <td>837</td>\n",
       "      <td>836</td>\n",
       "      <td>137</td>\n",
       "    </tr>\n",
       "    <tr>\n",
       "      <th>3</th>\n",
       "      <td>2740</td>\n",
       "      <td>7177</td>\n",
       "      <td>481</td>\n",
       "    </tr>\n",
       "    <tr>\n",
       "      <th>4</th>\n",
       "      <td>1201</td>\n",
       "      <td>4385</td>\n",
       "      <td>324</td>\n",
       "    </tr>\n",
       "  </tbody>\n",
       "</table>\n",
       "</div>"
      ],
      "text/plain": [
       "   stopid  previous_stopid distance\n",
       "0    1636             1635      397\n",
       "1    1338             1337      151\n",
       "2     837              836      137\n",
       "3    2740             7177      481\n",
       "4    1201             4385      324"
      ]
     },
     "execution_count": 203,
     "metadata": {},
     "output_type": "execute_result"
    }
   ],
   "source": [
    "stop_distances = pd.read_csv(\"stored_queries/distancedata.csv\", header=None)\n",
    "stop_distances.columns = ['stopid','previous_stopid','distance']\n",
    "stop_distances.head()"
   ]
  },
  {
   "cell_type": "markdown",
   "metadata": {},
   "source": [
    "## Prepairing Data for Combining"
   ]
  },
  {
   "cell_type": "markdown",
   "metadata": {
    "heading_collapsed": true
   },
   "source": [
    "#### Weather and leavetimes"
   ]
  },
  {
   "cell_type": "code",
   "execution_count": 204,
   "metadata": {
    "ExecuteTime": {
     "end_time": "2019-07-23T13:43:03.479719Z",
     "start_time": "2019-07-23T13:43:02.888810Z"
    },
    "hidden": true,
    "init_cell": true
   },
   "outputs": [],
   "source": [
    "# leavetimes data\n",
    "data.plannedARR = data.dayofservice + pd.to_timedelta(data.plannedARR, unit = 'seconds') # in nanoseconds\n",
    "data.plannedDEP = data.dayofservice + pd.to_timedelta(data.plannedDEP, unit = 'seconds') # in nanoseconds\n",
    "data.actualARR = data.dayofservice + pd.to_timedelta(data.actualARR, unit = 'seconds') # in nanoseconds\n",
    "data.actualDEP = data.dayofservice + pd.to_timedelta(data.actualDEP, unit = 'seconds') # in nanoseconds\n",
    "\n",
    "# new columns for combining\n",
    "data['time_at_stop'] = data.actualDEP - data.actualARR\n",
    "data['weather_merge_time'] = data.actualARR.dt.round('H') #  .dt useful\n",
    "\n",
    "\n",
    "# weather data\n",
    "weather.dayofservice = weather.dayofservice + pd.to_timedelta(weather.hour, unit='hour')\n",
    "\n",
    "# new column for combining\n",
    "weather['rkey'] = weather.dayofservice"
   ]
  },
  {
   "cell_type": "markdown",
   "metadata": {
    "heading_collapsed": true
   },
   "source": [
    "#### Trips data preparation"
   ]
  },
  {
   "cell_type": "code",
   "execution_count": 205,
   "metadata": {
    "hidden": true
   },
   "outputs": [],
   "source": [
    "tripsdata.actual_arr = tripsdata.dayofservice + pd.to_timedelta(tripsdata.actual_arr, unit='seconds')\n",
    "tripsdata.actual_dep = tripsdata.dayofservice + pd.to_timedelta(tripsdata.actual_dep, unit='seconds')\n",
    "tripsdata['triplength'] = tripsdata.actual_arr - tripsdata.actual_dep\n",
    "tripsdata['leavehour'] = tripsdata.actual_dep.dt.hour"
   ]
  },
  {
   "cell_type": "code",
   "execution_count": 206,
   "metadata": {
    "hidden": true
   },
   "outputs": [
    {
     "data": {
      "text/html": [
       "<div>\n",
       "<style scoped>\n",
       "    .dataframe tbody tr th:only-of-type {\n",
       "        vertical-align: middle;\n",
       "    }\n",
       "\n",
       "    .dataframe tbody tr th {\n",
       "        vertical-align: top;\n",
       "    }\n",
       "\n",
       "    .dataframe thead th {\n",
       "        text-align: right;\n",
       "    }\n",
       "</style>\n",
       "<table border=\"1\" class=\"dataframe\">\n",
       "  <thead>\n",
       "    <tr style=\"text-align: right;\">\n",
       "      <th></th>\n",
       "      <th>dayofservice</th>\n",
       "      <th>tripid</th>\n",
       "      <th>lineid</th>\n",
       "      <th>routeid</th>\n",
       "      <th>direction</th>\n",
       "      <th>actual_arr</th>\n",
       "      <th>actual_dep</th>\n",
       "      <th>triplength</th>\n",
       "      <th>leavehour</th>\n",
       "    </tr>\n",
       "  </thead>\n",
       "  <tbody>\n",
       "    <tr>\n",
       "      <th>0</th>\n",
       "      <td>2018-06-17</td>\n",
       "      <td>7013606</td>\n",
       "      <td>7A</td>\n",
       "      <td>7A_85</td>\n",
       "      <td>1</td>\n",
       "      <td>2018-06-17 18:37:45</td>\n",
       "      <td>2018-06-17 17:28:21</td>\n",
       "      <td>01:09:24</td>\n",
       "      <td>17</td>\n",
       "    </tr>\n",
       "    <tr>\n",
       "      <th>2</th>\n",
       "      <td>2018-02-16</td>\n",
       "      <td>6258567</td>\n",
       "      <td>31</td>\n",
       "      <td>31_15</td>\n",
       "      <td>1</td>\n",
       "      <td>2018-02-16 20:38:17</td>\n",
       "      <td>2018-02-16 19:50:49</td>\n",
       "      <td>00:47:28</td>\n",
       "      <td>19</td>\n",
       "    </tr>\n",
       "    <tr>\n",
       "      <th>4</th>\n",
       "      <td>2018-08-27</td>\n",
       "      <td>7500294</td>\n",
       "      <td>44</td>\n",
       "      <td>44_36</td>\n",
       "      <td>2</td>\n",
       "      <td>2018-08-27 23:45:57</td>\n",
       "      <td>2018-08-27 22:30:04</td>\n",
       "      <td>01:15:53</td>\n",
       "      <td>22</td>\n",
       "    </tr>\n",
       "    <tr>\n",
       "      <th>5</th>\n",
       "      <td>2018-05-23</td>\n",
       "      <td>6782602</td>\n",
       "      <td>27</td>\n",
       "      <td>27_17</td>\n",
       "      <td>2</td>\n",
       "      <td>2018-05-23 19:37:32</td>\n",
       "      <td>2018-05-23 18:10:37</td>\n",
       "      <td>01:26:55</td>\n",
       "      <td>18</td>\n",
       "    </tr>\n",
       "    <tr>\n",
       "      <th>6</th>\n",
       "      <td>2018-02-16</td>\n",
       "      <td>6261199</td>\n",
       "      <td>53</td>\n",
       "      <td>53_20</td>\n",
       "      <td>1</td>\n",
       "      <td>2018-02-16 14:39:00</td>\n",
       "      <td>2018-02-16 14:01:04</td>\n",
       "      <td>00:37:56</td>\n",
       "      <td>14</td>\n",
       "    </tr>\n",
       "  </tbody>\n",
       "</table>\n",
       "</div>"
      ],
      "text/plain": [
       "  dayofservice   tripid lineid routeid  direction          actual_arr  \\\n",
       "0   2018-06-17  7013606     7A   7A_85          1 2018-06-17 18:37:45   \n",
       "2   2018-02-16  6258567     31   31_15          1 2018-02-16 20:38:17   \n",
       "4   2018-08-27  7500294     44   44_36          2 2018-08-27 23:45:57   \n",
       "5   2018-05-23  6782602     27   27_17          2 2018-05-23 19:37:32   \n",
       "6   2018-02-16  6261199     53   53_20          1 2018-02-16 14:39:00   \n",
       "\n",
       "           actual_dep triplength  leavehour  \n",
       "0 2018-06-17 17:28:21   01:09:24         17  \n",
       "2 2018-02-16 19:50:49   00:47:28         19  \n",
       "4 2018-08-27 22:30:04   01:15:53         22  \n",
       "5 2018-05-23 18:10:37   01:26:55         18  \n",
       "6 2018-02-16 14:01:04   00:37:56         14  "
      ]
     },
     "execution_count": 206,
     "metadata": {},
     "output_type": "execute_result"
    }
   ],
   "source": [
    "tripsdata.head()"
   ]
  },
  {
   "cell_type": "code",
   "execution_count": 207,
   "metadata": {
    "hidden": true,
    "init_cell": true
   },
   "outputs": [
    {
     "data": {
      "text/html": [
       "<div>\n",
       "<style scoped>\n",
       "    .dataframe tbody tr th:only-of-type {\n",
       "        vertical-align: middle;\n",
       "    }\n",
       "\n",
       "    .dataframe tbody tr th {\n",
       "        vertical-align: top;\n",
       "    }\n",
       "\n",
       "    .dataframe thead th {\n",
       "        text-align: right;\n",
       "    }\n",
       "</style>\n",
       "<table border=\"1\" class=\"dataframe\">\n",
       "  <thead>\n",
       "    <tr style=\"text-align: right;\">\n",
       "      <th></th>\n",
       "      <th>dayofservice</th>\n",
       "      <th>hour</th>\n",
       "      <th>icon</th>\n",
       "      <th>temperature</th>\n",
       "      <th>humidity</th>\n",
       "      <th>cloudCover</th>\n",
       "      <th>windSpeed</th>\n",
       "      <th>rain</th>\n",
       "      <th>rkey</th>\n",
       "    </tr>\n",
       "  </thead>\n",
       "  <tbody>\n",
       "    <tr>\n",
       "      <th>0</th>\n",
       "      <td>2018-01-01 00:00:00</td>\n",
       "      <td>0</td>\n",
       "      <td>partly-cloudy-night</td>\n",
       "      <td>41.19</td>\n",
       "      <td>0.80</td>\n",
       "      <td>0.58</td>\n",
       "      <td>17.04</td>\n",
       "      <td>0.0</td>\n",
       "      <td>2018-01-01 00:00:00</td>\n",
       "    </tr>\n",
       "    <tr>\n",
       "      <th>1</th>\n",
       "      <td>2018-01-01 01:00:00</td>\n",
       "      <td>1</td>\n",
       "      <td>partly-cloudy-night</td>\n",
       "      <td>41.70</td>\n",
       "      <td>0.79</td>\n",
       "      <td>0.75</td>\n",
       "      <td>21.59</td>\n",
       "      <td>0.1</td>\n",
       "      <td>2018-01-01 01:00:00</td>\n",
       "    </tr>\n",
       "    <tr>\n",
       "      <th>2</th>\n",
       "      <td>2018-01-01 02:00:00</td>\n",
       "      <td>2</td>\n",
       "      <td>partly-cloudy-night</td>\n",
       "      <td>41.95</td>\n",
       "      <td>0.78</td>\n",
       "      <td>0.75</td>\n",
       "      <td>21.59</td>\n",
       "      <td>0.0</td>\n",
       "      <td>2018-01-01 02:00:00</td>\n",
       "    </tr>\n",
       "    <tr>\n",
       "      <th>3</th>\n",
       "      <td>2018-01-01 03:00:00</td>\n",
       "      <td>3</td>\n",
       "      <td>partly-cloudy-night</td>\n",
       "      <td>42.42</td>\n",
       "      <td>0.82</td>\n",
       "      <td>0.58</td>\n",
       "      <td>19.60</td>\n",
       "      <td>0.0</td>\n",
       "      <td>2018-01-01 03:00:00</td>\n",
       "    </tr>\n",
       "    <tr>\n",
       "      <th>4</th>\n",
       "      <td>2018-01-01 04:00:00</td>\n",
       "      <td>4</td>\n",
       "      <td>partly-cloudy-night</td>\n",
       "      <td>42.09</td>\n",
       "      <td>0.83</td>\n",
       "      <td>0.44</td>\n",
       "      <td>20.48</td>\n",
       "      <td>0.0</td>\n",
       "      <td>2018-01-01 04:00:00</td>\n",
       "    </tr>\n",
       "  </tbody>\n",
       "</table>\n",
       "</div>"
      ],
      "text/plain": [
       "         dayofservice  hour                 icon  temperature  humidity  \\\n",
       "0 2018-01-01 00:00:00     0  partly-cloudy-night        41.19      0.80   \n",
       "1 2018-01-01 01:00:00     1  partly-cloudy-night        41.70      0.79   \n",
       "2 2018-01-01 02:00:00     2  partly-cloudy-night        41.95      0.78   \n",
       "3 2018-01-01 03:00:00     3  partly-cloudy-night        42.42      0.82   \n",
       "4 2018-01-01 04:00:00     4  partly-cloudy-night        42.09      0.83   \n",
       "\n",
       "   cloudCover  windSpeed  rain                rkey  \n",
       "0        0.58      17.04   0.0 2018-01-01 00:00:00  \n",
       "1        0.75      21.59   0.1 2018-01-01 01:00:00  \n",
       "2        0.75      21.59   0.0 2018-01-01 02:00:00  \n",
       "3        0.58      19.60   0.0 2018-01-01 03:00:00  \n",
       "4        0.44      20.48   0.0 2018-01-01 04:00:00  "
      ]
     },
     "execution_count": 207,
     "metadata": {},
     "output_type": "execute_result"
    }
   ],
   "source": [
    "weather.head()"
   ]
  },
  {
   "cell_type": "code",
   "execution_count": 208,
   "metadata": {
    "hidden": true,
    "init_cell": true
   },
   "outputs": [
    {
     "data": {
      "text/html": [
       "<div>\n",
       "<style scoped>\n",
       "    .dataframe tbody tr th:only-of-type {\n",
       "        vertical-align: middle;\n",
       "    }\n",
       "\n",
       "    .dataframe tbody tr th {\n",
       "        vertical-align: top;\n",
       "    }\n",
       "\n",
       "    .dataframe thead th {\n",
       "        text-align: right;\n",
       "    }\n",
       "</style>\n",
       "<table border=\"1\" class=\"dataframe\">\n",
       "  <thead>\n",
       "    <tr style=\"text-align: right;\">\n",
       "      <th></th>\n",
       "      <th>dayofservice</th>\n",
       "      <th>tripid</th>\n",
       "      <th>lineid</th>\n",
       "      <th>direction</th>\n",
       "      <th>progrnumber</th>\n",
       "      <th>stopid</th>\n",
       "      <th>plannedDEP</th>\n",
       "      <th>plannedARR</th>\n",
       "      <th>actualDEP</th>\n",
       "      <th>actualARR</th>\n",
       "      <th>routeid</th>\n",
       "      <th>time_at_stop</th>\n",
       "      <th>weather_merge_time</th>\n",
       "    </tr>\n",
       "  </thead>\n",
       "  <tbody>\n",
       "    <tr>\n",
       "      <th>0</th>\n",
       "      <td>2018-01-01</td>\n",
       "      <td>5955476</td>\n",
       "      <td>145</td>\n",
       "      <td>1</td>\n",
       "      <td>1</td>\n",
       "      <td>4320</td>\n",
       "      <td>2018-01-01 09:00:00</td>\n",
       "      <td>2018-01-01 09:00:00</td>\n",
       "      <td>2018-01-01 08:59:30</td>\n",
       "      <td>2018-01-01 08:59:30</td>\n",
       "      <td>145_102</td>\n",
       "      <td>00:00:00</td>\n",
       "      <td>2018-01-01 09:00:00</td>\n",
       "    </tr>\n",
       "    <tr>\n",
       "      <th>1</th>\n",
       "      <td>2018-01-01</td>\n",
       "      <td>5955476</td>\n",
       "      <td>145</td>\n",
       "      <td>1</td>\n",
       "      <td>2</td>\n",
       "      <td>1476</td>\n",
       "      <td>2018-01-01 09:01:44</td>\n",
       "      <td>2018-01-01 09:01:44</td>\n",
       "      <td>2018-01-01 09:01:01</td>\n",
       "      <td>2018-01-01 09:01:01</td>\n",
       "      <td>145_102</td>\n",
       "      <td>00:00:00</td>\n",
       "      <td>2018-01-01 09:00:00</td>\n",
       "    </tr>\n",
       "    <tr>\n",
       "      <th>2</th>\n",
       "      <td>2018-01-01</td>\n",
       "      <td>5955476</td>\n",
       "      <td>145</td>\n",
       "      <td>1</td>\n",
       "      <td>3</td>\n",
       "      <td>7453</td>\n",
       "      <td>2018-01-01 09:02:59</td>\n",
       "      <td>2018-01-01 09:02:59</td>\n",
       "      <td>2018-01-01 09:01:48</td>\n",
       "      <td>2018-01-01 09:01:48</td>\n",
       "      <td>145_102</td>\n",
       "      <td>00:00:00</td>\n",
       "      <td>2018-01-01 09:00:00</td>\n",
       "    </tr>\n",
       "    <tr>\n",
       "      <th>3</th>\n",
       "      <td>2018-01-01</td>\n",
       "      <td>5955476</td>\n",
       "      <td>145</td>\n",
       "      <td>1</td>\n",
       "      <td>4</td>\n",
       "      <td>1478</td>\n",
       "      <td>2018-01-01 09:04:10</td>\n",
       "      <td>2018-01-01 09:04:10</td>\n",
       "      <td>2018-01-01 09:03:02</td>\n",
       "      <td>2018-01-01 09:02:52</td>\n",
       "      <td>145_102</td>\n",
       "      <td>00:00:10</td>\n",
       "      <td>2018-01-01 09:00:00</td>\n",
       "    </tr>\n",
       "    <tr>\n",
       "      <th>4</th>\n",
       "      <td>2018-01-01</td>\n",
       "      <td>5955476</td>\n",
       "      <td>145</td>\n",
       "      <td>1</td>\n",
       "      <td>5</td>\n",
       "      <td>1479</td>\n",
       "      <td>2018-01-01 09:04:58</td>\n",
       "      <td>2018-01-01 09:04:58</td>\n",
       "      <td>2018-01-01 09:03:50</td>\n",
       "      <td>2018-01-01 09:03:50</td>\n",
       "      <td>145_102</td>\n",
       "      <td>00:00:00</td>\n",
       "      <td>2018-01-01 09:00:00</td>\n",
       "    </tr>\n",
       "  </tbody>\n",
       "</table>\n",
       "</div>"
      ],
      "text/plain": [
       "  dayofservice   tripid lineid  direction  progrnumber  stopid  \\\n",
       "0   2018-01-01  5955476    145          1            1    4320   \n",
       "1   2018-01-01  5955476    145          1            2    1476   \n",
       "2   2018-01-01  5955476    145          1            3    7453   \n",
       "3   2018-01-01  5955476    145          1            4    1478   \n",
       "4   2018-01-01  5955476    145          1            5    1479   \n",
       "\n",
       "           plannedDEP          plannedARR           actualDEP  \\\n",
       "0 2018-01-01 09:00:00 2018-01-01 09:00:00 2018-01-01 08:59:30   \n",
       "1 2018-01-01 09:01:44 2018-01-01 09:01:44 2018-01-01 09:01:01   \n",
       "2 2018-01-01 09:02:59 2018-01-01 09:02:59 2018-01-01 09:01:48   \n",
       "3 2018-01-01 09:04:10 2018-01-01 09:04:10 2018-01-01 09:03:02   \n",
       "4 2018-01-01 09:04:58 2018-01-01 09:04:58 2018-01-01 09:03:50   \n",
       "\n",
       "            actualARR  routeid time_at_stop  weather_merge_time  \n",
       "0 2018-01-01 08:59:30  145_102     00:00:00 2018-01-01 09:00:00  \n",
       "1 2018-01-01 09:01:01  145_102     00:00:00 2018-01-01 09:00:00  \n",
       "2 2018-01-01 09:01:48  145_102     00:00:00 2018-01-01 09:00:00  \n",
       "3 2018-01-01 09:02:52  145_102     00:00:10 2018-01-01 09:00:00  \n",
       "4 2018-01-01 09:03:50  145_102     00:00:00 2018-01-01 09:00:00  "
      ]
     },
     "execution_count": 208,
     "metadata": {},
     "output_type": "execute_result"
    }
   ],
   "source": [
    "data.head()"
   ]
  },
  {
   "cell_type": "markdown",
   "metadata": {},
   "source": [
    "## Combining Data"
   ]
  },
  {
   "cell_type": "markdown",
   "metadata": {
    "heading_collapsed": true
   },
   "source": [
    "### Combining weather and leavetimes"
   ]
  },
  {
   "cell_type": "code",
   "execution_count": 209,
   "metadata": {
    "ExecuteTime": {
     "end_time": "2019-07-23T13:43:07.234203Z",
     "start_time": "2019-07-23T13:43:06.439577Z"
    },
    "hidden": true,
    "init_cell": true
   },
   "outputs": [],
   "source": [
    "combinedata = data.merge(weather[['icon','temperature','humidity','windSpeed','rain','rkey','hour']], \n",
    "                         left_on='weather_merge_time', \n",
    "                         right_on='rkey', \n",
    "                         how='left')\n"
   ]
  },
  {
   "cell_type": "code",
   "execution_count": 210,
   "metadata": {
    "ExecuteTime": {
     "end_time": "2019-07-23T13:43:07.894094Z",
     "start_time": "2019-07-23T13:43:07.518939Z"
    },
    "hidden": true,
    "init_cell": true,
    "scrolled": true
   },
   "outputs": [],
   "source": [
    "# drop lineid as all are 145\n",
    "combinedata.drop(columns=['rkey','lineid','weather_merge_time','plannedDEP','plannedARR','time_at_stop','actualDEP'], inplace=True)"
   ]
  },
  {
   "cell_type": "markdown",
   "metadata": {
    "heading_collapsed": true
   },
   "source": [
    "### Combining trips and weather"
   ]
  },
  {
   "cell_type": "code",
   "execution_count": 211,
   "metadata": {
    "hidden": true
   },
   "outputs": [],
   "source": [
    "tripsdata['weather_merge_time'] = tripsdata.actual_dep.dt.round('H')"
   ]
  },
  {
   "cell_type": "code",
   "execution_count": 212,
   "metadata": {
    "hidden": true
   },
   "outputs": [],
   "source": [
    "combinedtrip = tripsdata.merge(weather[['icon','temperature','humidity','windSpeed','rain','rkey','hour']], \n",
    "                               left_on='weather_merge_time', \n",
    "                               right_on='rkey', \n",
    "                               how='left')"
   ]
  },
  {
   "cell_type": "markdown",
   "metadata": {},
   "source": [
    "## Cleaning / Adding Additional features"
   ]
  },
  {
   "cell_type": "markdown",
   "metadata": {
    "heading_collapsed": true
   },
   "source": [
    "### weekday vs weekend"
   ]
  },
  {
   "cell_type": "code",
   "execution_count": 213,
   "metadata": {
    "ExecuteTime": {
     "end_time": "2019-07-23T13:43:13.351698Z",
     "start_time": "2019-07-23T13:43:13.185519Z"
    },
    "hidden": true,
    "init_cell": true
   },
   "outputs": [],
   "source": [
    "combinedata['weekend'] = combinedata.dayofservice.dt.weekday.isin([5,6])"
   ]
  },
  {
   "cell_type": "markdown",
   "metadata": {
    "heading_collapsed": true
   },
   "source": [
    "### holidays"
   ]
  },
  {
   "cell_type": "code",
   "execution_count": 214,
   "metadata": {
    "hidden": true,
    "init_cell": true
   },
   "outputs": [],
   "source": [
    "combinedata['holiday'] = combinedata.dayofservice.apply(lambda x: x in ie_holidays)"
   ]
  },
  {
   "cell_type": "markdown",
   "metadata": {
    "heading_collapsed": true
   },
   "source": [
    "### Remove inactive stops from data"
   ]
  },
  {
   "cell_type": "code",
   "execution_count": 215,
   "metadata": {
    "hidden": true,
    "init_cell": true
   },
   "outputs": [],
   "source": [
    "active_stopids = stops.stopid.values\n",
    "\n",
    "# remove all inactive stops from the dataset. -> additional models that arent needed. \n",
    "combinedata = combinedata[combinedata.stopid.isin(active_stopids)]"
   ]
  },
  {
   "cell_type": "markdown",
   "metadata": {},
   "source": [
    "### Pair Consecutive Stop IDs "
   ]
  },
  {
   "cell_type": "markdown",
   "metadata": {
    "heading_collapsed": true
   },
   "source": [
    "#### Matching progrnumbers to previous stop"
   ]
  },
  {
   "cell_type": "code",
   "execution_count": 216,
   "metadata": {
    "hidden": true,
    "init_cell": true
   },
   "outputs": [],
   "source": [
    "# previous stopid\n",
    "previousstops =  list(combinedata.stopid)\n",
    "previousstops = np.array(previousstops[:-1]).astype(int)\n",
    "\n",
    "# progrnumber of previous stopid\n",
    "previousstops_progrnumber = list(combinedata.progrnumber)\n",
    "previousstops_progrnumber = np.array(previousstops_progrnumber[:-1]).astype(int)\n",
    "\n",
    "# Actual arrival time of previous stopid\n",
    "previousstops_actualARR = list(combinedata.actualARR)\n",
    "previousstops_actualARR = np.array(previousstops_actualARR[:-1])\n",
    "\n",
    "# Delete the first row of the dataframe to shift the progrnumbers by one. \n",
    "combinedata = combinedata.iloc[1:]"
   ]
  },
  {
   "cell_type": "code",
   "execution_count": 217,
   "metadata": {
    "hidden": true,
    "init_cell": true,
    "scrolled": true
   },
   "outputs": [],
   "source": [
    "combinedata['previous_stopid'] = previousstops\n",
    "combinedata['previous_stopARR'] = previousstops_actualARR\n",
    "combinedata['previous_progrnumber'] = previousstops_progrnumber"
   ]
  },
  {
   "cell_type": "code",
   "execution_count": 218,
   "metadata": {
    "hidden": true,
    "init_cell": true,
    "scrolled": true
   },
   "outputs": [
    {
     "data": {
      "text/html": [
       "<div>\n",
       "<style scoped>\n",
       "    .dataframe tbody tr th:only-of-type {\n",
       "        vertical-align: middle;\n",
       "    }\n",
       "\n",
       "    .dataframe tbody tr th {\n",
       "        vertical-align: top;\n",
       "    }\n",
       "\n",
       "    .dataframe thead th {\n",
       "        text-align: right;\n",
       "    }\n",
       "</style>\n",
       "<table border=\"1\" class=\"dataframe\">\n",
       "  <thead>\n",
       "    <tr style=\"text-align: right;\">\n",
       "      <th></th>\n",
       "      <th>dayofservice</th>\n",
       "      <th>tripid</th>\n",
       "      <th>direction</th>\n",
       "      <th>progrnumber</th>\n",
       "      <th>stopid</th>\n",
       "      <th>actualARR</th>\n",
       "      <th>routeid</th>\n",
       "      <th>icon</th>\n",
       "      <th>temperature</th>\n",
       "      <th>humidity</th>\n",
       "      <th>windSpeed</th>\n",
       "      <th>rain</th>\n",
       "      <th>hour</th>\n",
       "      <th>weekend</th>\n",
       "      <th>holiday</th>\n",
       "      <th>previous_stopid</th>\n",
       "      <th>previous_stopARR</th>\n",
       "      <th>previous_progrnumber</th>\n",
       "    </tr>\n",
       "  </thead>\n",
       "  <tbody>\n",
       "    <tr>\n",
       "      <th>1</th>\n",
       "      <td>2018-01-01</td>\n",
       "      <td>5955476</td>\n",
       "      <td>1</td>\n",
       "      <td>2</td>\n",
       "      <td>1476</td>\n",
       "      <td>2018-01-01 09:01:01</td>\n",
       "      <td>145_102</td>\n",
       "      <td>partly-cloudy-day</td>\n",
       "      <td>41.19</td>\n",
       "      <td>0.81</td>\n",
       "      <td>12.91</td>\n",
       "      <td>0.0</td>\n",
       "      <td>9.0</td>\n",
       "      <td>False</td>\n",
       "      <td>True</td>\n",
       "      <td>4320</td>\n",
       "      <td>2018-01-01 08:59:30</td>\n",
       "      <td>1</td>\n",
       "    </tr>\n",
       "    <tr>\n",
       "      <th>2</th>\n",
       "      <td>2018-01-01</td>\n",
       "      <td>5955476</td>\n",
       "      <td>1</td>\n",
       "      <td>3</td>\n",
       "      <td>7453</td>\n",
       "      <td>2018-01-01 09:01:48</td>\n",
       "      <td>145_102</td>\n",
       "      <td>partly-cloudy-day</td>\n",
       "      <td>41.19</td>\n",
       "      <td>0.81</td>\n",
       "      <td>12.91</td>\n",
       "      <td>0.0</td>\n",
       "      <td>9.0</td>\n",
       "      <td>False</td>\n",
       "      <td>True</td>\n",
       "      <td>1476</td>\n",
       "      <td>2018-01-01 09:01:01</td>\n",
       "      <td>2</td>\n",
       "    </tr>\n",
       "    <tr>\n",
       "      <th>3</th>\n",
       "      <td>2018-01-01</td>\n",
       "      <td>5955476</td>\n",
       "      <td>1</td>\n",
       "      <td>4</td>\n",
       "      <td>1478</td>\n",
       "      <td>2018-01-01 09:02:52</td>\n",
       "      <td>145_102</td>\n",
       "      <td>partly-cloudy-day</td>\n",
       "      <td>41.19</td>\n",
       "      <td>0.81</td>\n",
       "      <td>12.91</td>\n",
       "      <td>0.0</td>\n",
       "      <td>9.0</td>\n",
       "      <td>False</td>\n",
       "      <td>True</td>\n",
       "      <td>7453</td>\n",
       "      <td>2018-01-01 09:01:48</td>\n",
       "      <td>3</td>\n",
       "    </tr>\n",
       "    <tr>\n",
       "      <th>4</th>\n",
       "      <td>2018-01-01</td>\n",
       "      <td>5955476</td>\n",
       "      <td>1</td>\n",
       "      <td>5</td>\n",
       "      <td>1479</td>\n",
       "      <td>2018-01-01 09:03:50</td>\n",
       "      <td>145_102</td>\n",
       "      <td>partly-cloudy-day</td>\n",
       "      <td>41.19</td>\n",
       "      <td>0.81</td>\n",
       "      <td>12.91</td>\n",
       "      <td>0.0</td>\n",
       "      <td>9.0</td>\n",
       "      <td>False</td>\n",
       "      <td>True</td>\n",
       "      <td>1478</td>\n",
       "      <td>2018-01-01 09:02:52</td>\n",
       "      <td>4</td>\n",
       "    </tr>\n",
       "    <tr>\n",
       "      <th>5</th>\n",
       "      <td>2018-01-01</td>\n",
       "      <td>5955476</td>\n",
       "      <td>1</td>\n",
       "      <td>6</td>\n",
       "      <td>7622</td>\n",
       "      <td>2018-01-01 09:05:04</td>\n",
       "      <td>145_102</td>\n",
       "      <td>partly-cloudy-day</td>\n",
       "      <td>41.19</td>\n",
       "      <td>0.81</td>\n",
       "      <td>12.91</td>\n",
       "      <td>0.0</td>\n",
       "      <td>9.0</td>\n",
       "      <td>False</td>\n",
       "      <td>True</td>\n",
       "      <td>1479</td>\n",
       "      <td>2018-01-01 09:03:50</td>\n",
       "      <td>5</td>\n",
       "    </tr>\n",
       "  </tbody>\n",
       "</table>\n",
       "</div>"
      ],
      "text/plain": [
       "  dayofservice   tripid  direction  progrnumber  stopid           actualARR  \\\n",
       "1   2018-01-01  5955476          1            2    1476 2018-01-01 09:01:01   \n",
       "2   2018-01-01  5955476          1            3    7453 2018-01-01 09:01:48   \n",
       "3   2018-01-01  5955476          1            4    1478 2018-01-01 09:02:52   \n",
       "4   2018-01-01  5955476          1            5    1479 2018-01-01 09:03:50   \n",
       "5   2018-01-01  5955476          1            6    7622 2018-01-01 09:05:04   \n",
       "\n",
       "   routeid               icon  temperature  humidity  windSpeed  rain  hour  \\\n",
       "1  145_102  partly-cloudy-day        41.19      0.81      12.91   0.0   9.0   \n",
       "2  145_102  partly-cloudy-day        41.19      0.81      12.91   0.0   9.0   \n",
       "3  145_102  partly-cloudy-day        41.19      0.81      12.91   0.0   9.0   \n",
       "4  145_102  partly-cloudy-day        41.19      0.81      12.91   0.0   9.0   \n",
       "5  145_102  partly-cloudy-day        41.19      0.81      12.91   0.0   9.0   \n",
       "\n",
       "   weekend  holiday  previous_stopid    previous_stopARR  previous_progrnumber  \n",
       "1    False     True             4320 2018-01-01 08:59:30                     1  \n",
       "2    False     True             1476 2018-01-01 09:01:01                     2  \n",
       "3    False     True             7453 2018-01-01 09:01:48                     3  \n",
       "4    False     True             1478 2018-01-01 09:02:52                     4  \n",
       "5    False     True             1479 2018-01-01 09:03:50                     5  "
      ]
     },
     "execution_count": 218,
     "metadata": {},
     "output_type": "execute_result"
    }
   ],
   "source": [
    "combinedata.head()"
   ]
  },
  {
   "cell_type": "markdown",
   "metadata": {
    "heading_collapsed": true
   },
   "source": [
    "#### Dropping mis-matched progrnumbers"
   ]
  },
  {
   "cell_type": "code",
   "execution_count": 219,
   "metadata": {
    "hidden": true,
    "init_cell": true
   },
   "outputs": [],
   "source": [
    "# Dropping rows where progrnumber==1 as the first row is currently aligned with the last row of the previous tripid.\n",
    "combinedata = combinedata[combinedata.progrnumber != 1]\n",
    "combinedata.dropna(inplace=True);"
   ]
  },
  {
   "cell_type": "markdown",
   "metadata": {
    "heading_collapsed": true
   },
   "source": [
    "#### Dropping non-consecutive stop combinations"
   ]
  },
  {
   "cell_type": "code",
   "execution_count": 220,
   "metadata": {
    "hidden": true,
    "init_cell": true,
    "scrolled": true
   },
   "outputs": [],
   "source": [
    "# recast type of integer cols from float to int. \n",
    "combinedata.previous_stopid = combinedata.previous_stopid.astype(int)\n",
    "combinedata.previous_progrnumber = combinedata.previous_progrnumber.astype(int)\n",
    "\n",
    "# make progrnumber difference column and then drop anything thats not exactly 1, removes data which skips stops. \n",
    "combinedata['progrnumber_difference'] = combinedata.progrnumber - combinedata.previous_progrnumber\n",
    "\n",
    "# checking how many rows will be left. \n",
    "# combinedata.progrnumber_difference.value_counts()"
   ]
  },
  {
   "cell_type": "code",
   "execution_count": 221,
   "metadata": {
    "hidden": true,
    "init_cell": true
   },
   "outputs": [],
   "source": [
    "# remove non-consecutive stop pairs.\n",
    "combinedata = combinedata[combinedata.progrnumber_difference==1]\n",
    "\n",
    "# Remove additional columns added for this operantion\n",
    "combinedata.drop(columns=['progrnumber','previous_progrnumber','progrnumber_difference'], inplace=True);\n",
    "\n",
    "# ordering rows [and dropping irrelevant ones: direction, route_id]\n",
    "combinedata = combinedata[['dayofservice', 'tripid','stopid', 'previous_stopid', 'actualARR', 'previous_stopARR',\n",
    "                           'icon', 'temperature', 'humidity', 'windSpeed', 'rain', 'hour', 'weekend', 'holiday']]"
   ]
  },
  {
   "cell_type": "markdown",
   "metadata": {
    "heading_collapsed": true
   },
   "source": [
    "#### Unique Stopid combinations"
   ]
  },
  {
   "cell_type": "code",
   "execution_count": 222,
   "metadata": {
    "hidden": true,
    "init_cell": true
   },
   "outputs": [
    {
     "name": "stdout",
     "output_type": "stream",
     "text": [
      "There are 159 unique pairs of stops on line: 145\n"
     ]
    }
   ],
   "source": [
    "# all unique stop combinations for a given lineid.\n",
    "stop_pairs = combinedata[['stopid','previous_stopid']].drop_duplicates()\n",
    "\n",
    "print(\"There are %d unique pairs of stops on line: %s\" % (stop_pairs.count()[0], data.lineid.unique()[0]))"
   ]
  },
  {
   "cell_type": "markdown",
   "metadata": {
    "heading_collapsed": true
   },
   "source": [
    "### Travel Time"
   ]
  },
  {
   "cell_type": "code",
   "execution_count": 223,
   "metadata": {
    "hidden": true,
    "init_cell": true
   },
   "outputs": [],
   "source": [
    "# convert to seconds\n",
    "combinedata['travel_time'] = (combinedata.actualARR - combinedata.previous_stopARR).astype(int)/10**9\n",
    "\n",
    "# drop any values less than 5 seconds [assumed erroneous]\n",
    "combinedata = combinedata[combinedata.travel_time > 5]"
   ]
  },
  {
   "cell_type": "code",
   "execution_count": 224,
   "metadata": {
    "hidden": true,
    "init_cell": true
   },
   "outputs": [
    {
     "name": "stdout",
     "output_type": "stream",
     "text": [
      "There are 3958657 valid pairs\n"
     ]
    }
   ],
   "source": [
    "print(\"There are %d valid pairs\" % combinedata.count()[0])"
   ]
  },
  {
   "cell_type": "markdown",
   "metadata": {
    "heading_collapsed": true
   },
   "source": [
    "### Distance between stops [ === Don't run again === ]"
   ]
  },
  {
   "cell_type": "code",
   "execution_count": 225,
   "metadata": {
    "code_folding": [
     0
    ],
    "hidden": true,
    "scrolled": true
   },
   "outputs": [],
   "source": [
    "# Function to get the distance between two stops. \n",
    "# def get_distance(start, finish):\n",
    "#     \"\"\"\n",
    "#     Distance between two (lat,lng) pairs\n",
    "    \n",
    "#     Inputs:\n",
    "#     ================================\n",
    "#     (int) start: stopid of first stop\n",
    "#     (int) finish: stopid of last stop\n",
    "    \n",
    "#     Outputs:\n",
    "#     ===============================\n",
    "#     (int) the distance in metres between the stops. \n",
    "    \n",
    "#     Notes:\n",
    "#     ===============================\n",
    "#     If there is an error, or the api fails to find the distance a value of None will be returned. \n",
    "#     \"\"\"\n",
    "#     try:\n",
    "#         begin = (stops[stops.stopid==start ]['lat'].values[0], stops[stops.stopid==start ]['lng'].values[0])\n",
    "#         end   = (stops[stops.stopid==finish]['lat'].values[0], stops[stops.stopid==finish]['lng'].values[0])\n",
    "\n",
    "#     except Exception as e:\n",
    "\n",
    "#         print(start, finish)\n",
    "#         print(repr(e)) \n",
    "#         return None\n",
    "        \n",
    "#     API_key = config.dmatrix_key #enter Google Maps API key\n",
    "#     gmaps = googlemaps.Client(key=API_key)\n",
    "    \n",
    "#     try:\n",
    "#         call = gmaps.distance_matrix(begin, end, mode='walking')\n",
    "    \n",
    "#     except Exception as eL:\n",
    "        \n",
    "#         print(repr(eL))\n",
    "#         return None\n",
    "    \n",
    "#     status = call['status']\n",
    "    \n",
    "#     if status=='OK':\n",
    "#         return call[\"rows\"][0][\"elements\"][0]['distance']['value']\n",
    "    \n",
    "#     else:\n",
    "#         print(status)\n",
    "#         return None\n",
    "\n",
    "# distances_list = []\n",
    "\n",
    "# for index, pair in tqdm_notebook(stop_pairs.iterrows(), total=stop_pairs.shape[0]):\n",
    "\n",
    "# # for pair in stop_pairs.iterrows():\n",
    "# #     start_stopid, finish_stopid = pair[1]\n",
    "\n",
    "#     start_stopid, finish_stopid = pair[0], pair[1]\n",
    "#     distances_list.append(get_distance(start_stopid, finish_stopid))\n",
    "    \n",
    "# distance_array = np.array(distances_list)\n",
    "\n",
    "# stop_pairs['distance'] = distance_array"
   ]
  },
  {
   "cell_type": "code",
   "execution_count": 226,
   "metadata": {
    "hidden": true,
    "init_cell": true,
    "scrolled": true
   },
   "outputs": [],
   "source": [
    "combinedata = combinedata.merge(stop_distances, how='left', left_on=['stopid','previous_stopid'], right_on=['stopid','previous_stopid'])\n",
    "combinedata.distance = combinedata.distance.astype(int)"
   ]
  },
  {
   "cell_type": "markdown",
   "metadata": {},
   "source": [
    "### Average Speed"
   ]
  },
  {
   "cell_type": "code",
   "execution_count": 227,
   "metadata": {
    "init_cell": true
   },
   "outputs": [],
   "source": [
    "# Taking average speed as distance / time (km/h)\n",
    "combinedata['avgvel'] = (combinedata.distance / combinedata.travel_time) * (3600/1000)\n",
    "\n",
    "# Note need to drop all data over 120 km/h -> erroneous data\n",
    "combinedata = combinedata[combinedata.avgvel <= 120]"
   ]
  },
  {
   "cell_type": "markdown",
   "metadata": {},
   "source": [
    "### Adding Month/Season"
   ]
  },
  {
   "cell_type": "code",
   "execution_count": 228,
   "metadata": {
    "init_cell": true
   },
   "outputs": [],
   "source": [
    "combinedata['month'] = combinedata.dayofservice.dt.month\n",
    "\n",
    "def set_season(x):\n",
    "    winter = [11,12,1]\n",
    "    autumn = [10,9,8]\n",
    "    spring = [4,3,2]\n",
    "\n",
    "    if x in winter:\n",
    "        return 'Winter'\n",
    "    elif x in autumn:\n",
    "        return 'Autumn'\n",
    "    elif x in spring:\n",
    "        return 'Spring'\n",
    "    else:\n",
    "        return 'Summer'\n",
    "    \n",
    "combinedata['season'] = combinedata.dayofservice.dt.month.apply(set_season)"
   ]
  },
  {
   "cell_type": "markdown",
   "metadata": {},
   "source": [
    "## Correlation / boxplots"
   ]
  },
  {
   "cell_type": "code",
   "execution_count": 230,
   "metadata": {},
   "outputs": [],
   "source": [
    "# Note: travel time is continuous but is needed for comparison\n",
    "categorical_features = ['hour','holiday', 'weekend','month','season','icon']\n",
    "\n",
    "continuous_features  = ['travel_time','distance','temperature','windSpeed','rain','humidity']"
   ]
  },
  {
   "cell_type": "code",
   "execution_count": 231,
   "metadata": {},
   "outputs": [
    {
     "data": {
      "text/html": [
       "<style  type=\"text/css\" >\n",
       "    #T_82b7bcd8_bbb6_11e9_b018_67a8bd463ac4row0_col0 {\n",
       "            background-color:  #b40426;\n",
       "            color:  #f1f1f1;\n",
       "        }    #T_82b7bcd8_bbb6_11e9_b018_67a8bd463ac4row0_col1 {\n",
       "            background-color:  #80a3fa;\n",
       "            color:  #000000;\n",
       "        }    #T_82b7bcd8_bbb6_11e9_b018_67a8bd463ac4row0_col2 {\n",
       "            background-color:  #afcafc;\n",
       "            color:  #000000;\n",
       "        }    #T_82b7bcd8_bbb6_11e9_b018_67a8bd463ac4row0_col3 {\n",
       "            background-color:  #5977e3;\n",
       "            color:  #000000;\n",
       "        }    #T_82b7bcd8_bbb6_11e9_b018_67a8bd463ac4row0_col4 {\n",
       "            background-color:  #4a63d3;\n",
       "            color:  #f1f1f1;\n",
       "        }    #T_82b7bcd8_bbb6_11e9_b018_67a8bd463ac4row0_col5 {\n",
       "            background-color:  #a9c6fd;\n",
       "            color:  #000000;\n",
       "        }    #T_82b7bcd8_bbb6_11e9_b018_67a8bd463ac4row1_col0 {\n",
       "            background-color:  #84a7fc;\n",
       "            color:  #000000;\n",
       "        }    #T_82b7bcd8_bbb6_11e9_b018_67a8bd463ac4row1_col1 {\n",
       "            background-color:  #b40426;\n",
       "            color:  #f1f1f1;\n",
       "        }    #T_82b7bcd8_bbb6_11e9_b018_67a8bd463ac4row1_col2 {\n",
       "            background-color:  #adc9fd;\n",
       "            color:  #000000;\n",
       "        }    #T_82b7bcd8_bbb6_11e9_b018_67a8bd463ac4row1_col3 {\n",
       "            background-color:  #5572df;\n",
       "            color:  #000000;\n",
       "        }    #T_82b7bcd8_bbb6_11e9_b018_67a8bd463ac4row1_col4 {\n",
       "            background-color:  #4a63d3;\n",
       "            color:  #f1f1f1;\n",
       "        }    #T_82b7bcd8_bbb6_11e9_b018_67a8bd463ac4row1_col5 {\n",
       "            background-color:  #adc9fd;\n",
       "            color:  #000000;\n",
       "        }    #T_82b7bcd8_bbb6_11e9_b018_67a8bd463ac4row2_col0 {\n",
       "            background-color:  #4358cb;\n",
       "            color:  #f1f1f1;\n",
       "        }    #T_82b7bcd8_bbb6_11e9_b018_67a8bd463ac4row2_col1 {\n",
       "            background-color:  #3b4cc0;\n",
       "            color:  #f1f1f1;\n",
       "        }    #T_82b7bcd8_bbb6_11e9_b018_67a8bd463ac4row2_col2 {\n",
       "            background-color:  #b40426;\n",
       "            color:  #f1f1f1;\n",
       "        }    #T_82b7bcd8_bbb6_11e9_b018_67a8bd463ac4row2_col3 {\n",
       "            background-color:  #6e90f2;\n",
       "            color:  #000000;\n",
       "        }    #T_82b7bcd8_bbb6_11e9_b018_67a8bd463ac4row2_col4 {\n",
       "            background-color:  #3b4cc0;\n",
       "            color:  #f1f1f1;\n",
       "        }    #T_82b7bcd8_bbb6_11e9_b018_67a8bd463ac4row2_col5 {\n",
       "            background-color:  #3b4cc0;\n",
       "            color:  #f1f1f1;\n",
       "        }    #T_82b7bcd8_bbb6_11e9_b018_67a8bd463ac4row3_col0 {\n",
       "            background-color:  #445acc;\n",
       "            color:  #f1f1f1;\n",
       "        }    #T_82b7bcd8_bbb6_11e9_b018_67a8bd463ac4row3_col1 {\n",
       "            background-color:  #3b4cc0;\n",
       "            color:  #f1f1f1;\n",
       "        }    #T_82b7bcd8_bbb6_11e9_b018_67a8bd463ac4row3_col2 {\n",
       "            background-color:  #bfd3f6;\n",
       "            color:  #000000;\n",
       "        }    #T_82b7bcd8_bbb6_11e9_b018_67a8bd463ac4row3_col3 {\n",
       "            background-color:  #b40426;\n",
       "            color:  #f1f1f1;\n",
       "        }    #T_82b7bcd8_bbb6_11e9_b018_67a8bd463ac4row3_col4 {\n",
       "            background-color:  #5875e1;\n",
       "            color:  #000000;\n",
       "        }    #T_82b7bcd8_bbb6_11e9_b018_67a8bd463ac4row3_col5 {\n",
       "            background-color:  #97b8ff;\n",
       "            color:  #000000;\n",
       "        }    #T_82b7bcd8_bbb6_11e9_b018_67a8bd463ac4row4_col0 {\n",
       "            background-color:  #4055c8;\n",
       "            color:  #f1f1f1;\n",
       "        }    #T_82b7bcd8_bbb6_11e9_b018_67a8bd463ac4row4_col1 {\n",
       "            background-color:  #3b4cc0;\n",
       "            color:  #f1f1f1;\n",
       "        }    #T_82b7bcd8_bbb6_11e9_b018_67a8bd463ac4row4_col2 {\n",
       "            background-color:  #a1c0ff;\n",
       "            color:  #000000;\n",
       "        }    #T_82b7bcd8_bbb6_11e9_b018_67a8bd463ac4row4_col3 {\n",
       "            background-color:  #6282ea;\n",
       "            color:  #000000;\n",
       "        }    #T_82b7bcd8_bbb6_11e9_b018_67a8bd463ac4row4_col4 {\n",
       "            background-color:  #b40426;\n",
       "            color:  #f1f1f1;\n",
       "        }    #T_82b7bcd8_bbb6_11e9_b018_67a8bd463ac4row4_col5 {\n",
       "            background-color:  #c7d7f0;\n",
       "            color:  #000000;\n",
       "        }    #T_82b7bcd8_bbb6_11e9_b018_67a8bd463ac4row5_col0 {\n",
       "            background-color:  #3b4cc0;\n",
       "            color:  #f1f1f1;\n",
       "        }    #T_82b7bcd8_bbb6_11e9_b018_67a8bd463ac4row5_col1 {\n",
       "            background-color:  #3b4cc0;\n",
       "            color:  #f1f1f1;\n",
       "        }    #T_82b7bcd8_bbb6_11e9_b018_67a8bd463ac4row5_col2 {\n",
       "            background-color:  #3b4cc0;\n",
       "            color:  #f1f1f1;\n",
       "        }    #T_82b7bcd8_bbb6_11e9_b018_67a8bd463ac4row5_col3 {\n",
       "            background-color:  #3b4cc0;\n",
       "            color:  #f1f1f1;\n",
       "        }    #T_82b7bcd8_bbb6_11e9_b018_67a8bd463ac4row5_col4 {\n",
       "            background-color:  #7295f4;\n",
       "            color:  #000000;\n",
       "        }    #T_82b7bcd8_bbb6_11e9_b018_67a8bd463ac4row5_col5 {\n",
       "            background-color:  #b40426;\n",
       "            color:  #f1f1f1;\n",
       "        }</style><table id=\"T_82b7bcd8_bbb6_11e9_b018_67a8bd463ac4\" ><thead>    <tr>        <th class=\"blank level0\" ></th>        <th class=\"col_heading level0 col0\" >travel_time</th>        <th class=\"col_heading level0 col1\" >distance</th>        <th class=\"col_heading level0 col2\" >temperature</th>        <th class=\"col_heading level0 col3\" >windSpeed</th>        <th class=\"col_heading level0 col4\" >rain</th>        <th class=\"col_heading level0 col5\" >humidity</th>    </tr></thead><tbody>\n",
       "                <tr>\n",
       "                        <th id=\"T_82b7bcd8_bbb6_11e9_b018_67a8bd463ac4level0_row0\" class=\"row_heading level0 row0\" >travel_time</th>\n",
       "                        <td id=\"T_82b7bcd8_bbb6_11e9_b018_67a8bd463ac4row0_col0\" class=\"data row0 col0\" >1</td>\n",
       "                        <td id=\"T_82b7bcd8_bbb6_11e9_b018_67a8bd463ac4row0_col1\" class=\"data row0 col1\" >0.21</td>\n",
       "                        <td id=\"T_82b7bcd8_bbb6_11e9_b018_67a8bd463ac4row0_col2\" class=\"data row0 col2\" >0.0088</td>\n",
       "                        <td id=\"T_82b7bcd8_bbb6_11e9_b018_67a8bd463ac4row0_col3\" class=\"data row0 col3\" >0.015</td>\n",
       "                        <td id=\"T_82b7bcd8_bbb6_11e9_b018_67a8bd463ac4row0_col4\" class=\"data row0 col4\" >0.0015</td>\n",
       "                        <td id=\"T_82b7bcd8_bbb6_11e9_b018_67a8bd463ac4row0_col5\" class=\"data row0 col5\" >-0.019</td>\n",
       "            </tr>\n",
       "            <tr>\n",
       "                        <th id=\"T_82b7bcd8_bbb6_11e9_b018_67a8bd463ac4level0_row1\" class=\"row_heading level0 row1\" >distance</th>\n",
       "                        <td id=\"T_82b7bcd8_bbb6_11e9_b018_67a8bd463ac4row1_col0\" class=\"data row1 col0\" >0.21</td>\n",
       "                        <td id=\"T_82b7bcd8_bbb6_11e9_b018_67a8bd463ac4row1_col1\" class=\"data row1 col1\" >1</td>\n",
       "                        <td id=\"T_82b7bcd8_bbb6_11e9_b018_67a8bd463ac4row1_col2\" class=\"data row1 col2\" >-0.00095</td>\n",
       "                        <td id=\"T_82b7bcd8_bbb6_11e9_b018_67a8bd463ac4row1_col3\" class=\"data row1 col3\" >-9.6e-05</td>\n",
       "                        <td id=\"T_82b7bcd8_bbb6_11e9_b018_67a8bd463ac4row1_col4\" class=\"data row1 col4\" >0.00018</td>\n",
       "                        <td id=\"T_82b7bcd8_bbb6_11e9_b018_67a8bd463ac4row1_col5\" class=\"data row1 col5\" >-0.00064</td>\n",
       "            </tr>\n",
       "            <tr>\n",
       "                        <th id=\"T_82b7bcd8_bbb6_11e9_b018_67a8bd463ac4level0_row2\" class=\"row_heading level0 row2\" >temperature</th>\n",
       "                        <td id=\"T_82b7bcd8_bbb6_11e9_b018_67a8bd463ac4row2_col0\" class=\"data row2 col0\" >0.0088</td>\n",
       "                        <td id=\"T_82b7bcd8_bbb6_11e9_b018_67a8bd463ac4row2_col1\" class=\"data row2 col1\" >-0.00095</td>\n",
       "                        <td id=\"T_82b7bcd8_bbb6_11e9_b018_67a8bd463ac4row2_col2\" class=\"data row2 col2\" >1</td>\n",
       "                        <td id=\"T_82b7bcd8_bbb6_11e9_b018_67a8bd463ac4row2_col3\" class=\"data row2 col3\" >0.081</td>\n",
       "                        <td id=\"T_82b7bcd8_bbb6_11e9_b018_67a8bd463ac4row2_col4\" class=\"data row2 col4\" >-0.056</td>\n",
       "                        <td id=\"T_82b7bcd8_bbb6_11e9_b018_67a8bd463ac4row2_col5\" class=\"data row2 col5\" >-0.52</td>\n",
       "            </tr>\n",
       "            <tr>\n",
       "                        <th id=\"T_82b7bcd8_bbb6_11e9_b018_67a8bd463ac4level0_row3\" class=\"row_heading level0 row3\" >windSpeed</th>\n",
       "                        <td id=\"T_82b7bcd8_bbb6_11e9_b018_67a8bd463ac4row3_col0\" class=\"data row3 col0\" >0.015</td>\n",
       "                        <td id=\"T_82b7bcd8_bbb6_11e9_b018_67a8bd463ac4row3_col1\" class=\"data row3 col1\" >-9.6e-05</td>\n",
       "                        <td id=\"T_82b7bcd8_bbb6_11e9_b018_67a8bd463ac4row3_col2\" class=\"data row3 col2\" >0.081</td>\n",
       "                        <td id=\"T_82b7bcd8_bbb6_11e9_b018_67a8bd463ac4row3_col3\" class=\"data row3 col3\" >1</td>\n",
       "                        <td id=\"T_82b7bcd8_bbb6_11e9_b018_67a8bd463ac4row3_col4\" class=\"data row3 col4\" >0.044</td>\n",
       "                        <td id=\"T_82b7bcd8_bbb6_11e9_b018_67a8bd463ac4row3_col5\" class=\"data row3 col5\" >-0.096</td>\n",
       "            </tr>\n",
       "            <tr>\n",
       "                        <th id=\"T_82b7bcd8_bbb6_11e9_b018_67a8bd463ac4level0_row4\" class=\"row_heading level0 row4\" >rain</th>\n",
       "                        <td id=\"T_82b7bcd8_bbb6_11e9_b018_67a8bd463ac4row4_col0\" class=\"data row4 col0\" >0.0015</td>\n",
       "                        <td id=\"T_82b7bcd8_bbb6_11e9_b018_67a8bd463ac4row4_col1\" class=\"data row4 col1\" >0.00018</td>\n",
       "                        <td id=\"T_82b7bcd8_bbb6_11e9_b018_67a8bd463ac4row4_col2\" class=\"data row4 col2\" >-0.056</td>\n",
       "                        <td id=\"T_82b7bcd8_bbb6_11e9_b018_67a8bd463ac4row4_col3\" class=\"data row4 col3\" >0.044</td>\n",
       "                        <td id=\"T_82b7bcd8_bbb6_11e9_b018_67a8bd463ac4row4_col4\" class=\"data row4 col4\" >1</td>\n",
       "                        <td id=\"T_82b7bcd8_bbb6_11e9_b018_67a8bd463ac4row4_col5\" class=\"data row4 col5\" >0.13</td>\n",
       "            </tr>\n",
       "            <tr>\n",
       "                        <th id=\"T_82b7bcd8_bbb6_11e9_b018_67a8bd463ac4level0_row5\" class=\"row_heading level0 row5\" >humidity</th>\n",
       "                        <td id=\"T_82b7bcd8_bbb6_11e9_b018_67a8bd463ac4row5_col0\" class=\"data row5 col0\" >-0.019</td>\n",
       "                        <td id=\"T_82b7bcd8_bbb6_11e9_b018_67a8bd463ac4row5_col1\" class=\"data row5 col1\" >-0.00064</td>\n",
       "                        <td id=\"T_82b7bcd8_bbb6_11e9_b018_67a8bd463ac4row5_col2\" class=\"data row5 col2\" >-0.52</td>\n",
       "                        <td id=\"T_82b7bcd8_bbb6_11e9_b018_67a8bd463ac4row5_col3\" class=\"data row5 col3\" >-0.096</td>\n",
       "                        <td id=\"T_82b7bcd8_bbb6_11e9_b018_67a8bd463ac4row5_col4\" class=\"data row5 col4\" >0.13</td>\n",
       "                        <td id=\"T_82b7bcd8_bbb6_11e9_b018_67a8bd463ac4row5_col5\" class=\"data row5 col5\" >1</td>\n",
       "            </tr>\n",
       "    </tbody></table>"
      ],
      "text/plain": [
       "<pandas.io.formats.style.Styler at 0x7fb2dab9af98>"
      ]
     },
     "execution_count": 231,
     "metadata": {},
     "output_type": "execute_result"
    }
   ],
   "source": [
    "corr = combinedata[continuous_features].corr()\n",
    "corr.style.background_gradient(cmap='coolwarm').set_precision(2)"
   ]
  },
  {
   "cell_type": "code",
   "execution_count": 232,
   "metadata": {
    "scrolled": false
   },
   "outputs": [
    {
     "data": {
      "text/plain": [
       "<matplotlib.axes._subplots.AxesSubplot at 0x7fb3d57f46d8>"
      ]
     },
     "execution_count": 232,
     "metadata": {},
     "output_type": "execute_result"
    },
    {
     "data": {
      "text/plain": [
       "<matplotlib.axes._subplots.AxesSubplot at 0x7fb3d5606e80>"
      ]
     },
     "execution_count": 232,
     "metadata": {},
     "output_type": "execute_result"
    },
    {
     "data": {
      "text/plain": [
       "<matplotlib.axes._subplots.AxesSubplot at 0x7fb3d4fcfe80>"
      ]
     },
     "execution_count": 232,
     "metadata": {},
     "output_type": "execute_result"
    },
    {
     "data": {
      "text/plain": [
       "<matplotlib.axes._subplots.AxesSubplot at 0x7fb3d46c68d0>"
      ]
     },
     "execution_count": 232,
     "metadata": {},
     "output_type": "execute_result"
    },
    {
     "data": {
      "text/plain": [
       "<matplotlib.axes._subplots.AxesSubplot at 0x7fb3d462c470>"
      ]
     },
     "execution_count": 232,
     "metadata": {},
     "output_type": "execute_result"
    },
    {
     "data": {
      "text/plain": [
       "<matplotlib.axes._subplots.AxesSubplot at 0x7fb2d81a2390>"
      ]
     },
     "execution_count": 232,
     "metadata": {},
     "output_type": "execute_result"
    },
    {
     "data": {
      "image/png": "[encoded data removed]",
      "text/plain": [
       "<Figure size 864x432 with 1 Axes>"
      ]
     },
     "metadata": {
      "needs_background": "light"
     },
     "output_type": "display_data"
    },
    {
     "data": {
      "image/png": "[encoded data removed]",
      "text/plain": [
       "<Figure size 864x432 with 1 Axes>"
      ]
     },
     "metadata": {
      "needs_background": "light"
     },
     "output_type": "display_data"
    },
    {
     "data": {
      "image/png": "[encoded data removed]",
      "text/plain": [
       "<Figure size 864x432 with 1 Axes>"
      ]
     },
     "metadata": {
      "needs_background": "light"
     },
     "output_type": "display_data"
    },
    {
     "data": {
      "image/png": "[encoded data removed]",
      "text/plain": [
       "<Figure size 864x432 with 1 Axes>"
      ]
     },
     "metadata": {
      "needs_background": "light"
     },
     "output_type": "display_data"
    },
    {
     "data": {
      "image/png": "[encoded data removed]",
      "text/plain": [
       "<Figure size 864x432 with 1 Axes>"
      ]
     },
     "metadata": {
      "needs_background": "light"
     },
     "output_type": "display_data"
    },
    {
     "data": {
      "image/png": "[encoded data removed]",
      "text/plain": [
       "<Figure size 864x432 with 1 Axes>"
      ]
     },
     "metadata": {
      "needs_background": "light"
     },
     "output_type": "display_data"
    }
   ],
   "source": [
    "for cat_ft in categorical_features:\n",
    "    combinedata.boxplot(column=['travel_time'], by=cat_ft, grid=False, figsize=(12,6), showfliers=False)\n",
    "    "
   ]
  },
  {
   "cell_type": "markdown",
   "metadata": {},
   "source": [
    "## Encoding categorical data"
   ]
  },
  {
   "cell_type": "markdown",
   "metadata": {},
   "source": [
    "#### Season Categories"
   ]
  },
  {
   "cell_type": "code",
   "execution_count": 74,
   "metadata": {
    "init_cell": true
   },
   "outputs": [],
   "source": [
    "combinedata.season = combinedata.season.astype('category', categories=['Summer','Spring','Autumn','Winter'])\n",
    "\n",
    "combinedata = pd.concat([combinedata, pd.get_dummies(combinedata.season, prefix='season')], axis=1)\n",
    "combinedata.drop(columns=['season'], inplace=True)"
   ]
  },
  {
   "cell_type": "markdown",
   "metadata": {},
   "source": [
    "#### Icon Categories"
   ]
  },
  {
   "cell_type": "code",
   "execution_count": 75,
   "metadata": {
    "init_cell": true
   },
   "outputs": [],
   "source": [
    "combinedata.icon = combinedata.icon.astype('category', categories=['partly-cloudy-day', 'partly-cloudy-night', 'clear-day', 'clear-night', 'rain', 'fog', 'cloudy', 'wind'])\n",
    "\n",
    "combinedata = pd.concat([combinedata, pd.get_dummies(combinedata.icon, prefix='icon')], axis=1)\n",
    "combinedata.drop(columns=['icon'], inplace=True)"
   ]
  },
  {
   "cell_type": "markdown",
   "metadata": {},
   "source": [
    "### Drop all N/A values"
   ]
  },
  {
   "cell_type": "code",
   "execution_count": 76,
   "metadata": {
    "init_cell": true
   },
   "outputs": [
    {
     "data": {
      "text/plain": [
       "dayofservice                datetime64[ns]\n",
       "tripid                               int64\n",
       "stopid                               int64\n",
       "previous_stopid                      int64\n",
       "actualARR                   datetime64[ns]\n",
       "previous_stopARR            datetime64[ns]\n",
       "temperature                        float64\n",
       "humidity                           float64\n",
       "windSpeed                          float64\n",
       "rain                               float64\n",
       "hour                               float64\n",
       "weekend                               bool\n",
       "holiday                               bool\n",
       "travel_time                        float64\n",
       "distance                             int64\n",
       "avgvel                             float64\n",
       "month                                int64\n",
       "season_Summer                        uint8\n",
       "season_Spring                        uint8\n",
       "season_Autumn                        uint8\n",
       "season_Winter                        uint8\n",
       "icon_clear-day                       uint8\n",
       "icon_clear-night                     uint8\n",
       "icon_cloudy                          uint8\n",
       "icon_fog                             uint8\n",
       "icon_partly-cloudy-day               uint8\n",
       "icon_partly-cloudy-night             uint8\n",
       "icon_rain                            uint8\n",
       "icon_wind                            uint8\n",
       "dtype: object"
      ]
     },
     "execution_count": 76,
     "metadata": {},
     "output_type": "execute_result"
    },
    {
     "name": "stdout",
     "output_type": "stream",
     "text": [
      "There are 3953011 valid pairs\n"
     ]
    }
   ],
   "source": [
    "combinedata = combinedata.dropna() # drop na values. \n",
    "combinedata.dtypes\n",
    "\n",
    "print(\"There are %d valid pairs\" % combinedata.count()[0])"
   ]
  },
  {
   "cell_type": "code",
   "execution_count": 77,
   "metadata": {
    "init_cell": true
   },
   "outputs": [
    {
     "data": {
      "text/html": [
       "<div>\n",
       "<style scoped>\n",
       "    .dataframe tbody tr th:only-of-type {\n",
       "        vertical-align: middle;\n",
       "    }\n",
       "\n",
       "    .dataframe tbody tr th {\n",
       "        vertical-align: top;\n",
       "    }\n",
       "\n",
       "    .dataframe thead th {\n",
       "        text-align: right;\n",
       "    }\n",
       "</style>\n",
       "<table border=\"1\" class=\"dataframe\">\n",
       "  <thead>\n",
       "    <tr style=\"text-align: right;\">\n",
       "      <th></th>\n",
       "      <th>0</th>\n",
       "      <th>1</th>\n",
       "      <th>2</th>\n",
       "      <th>3</th>\n",
       "      <th>4</th>\n",
       "    </tr>\n",
       "  </thead>\n",
       "  <tbody>\n",
       "    <tr>\n",
       "      <th>dayofservice</th>\n",
       "      <td>2018-01-01 00:00:00</td>\n",
       "      <td>2018-01-01 00:00:00</td>\n",
       "      <td>2018-01-01 00:00:00</td>\n",
       "      <td>2018-01-01 00:00:00</td>\n",
       "      <td>2018-01-01 00:00:00</td>\n",
       "    </tr>\n",
       "    <tr>\n",
       "      <th>tripid</th>\n",
       "      <td>5955476</td>\n",
       "      <td>5955476</td>\n",
       "      <td>5955476</td>\n",
       "      <td>5955476</td>\n",
       "      <td>5955476</td>\n",
       "    </tr>\n",
       "    <tr>\n",
       "      <th>stopid</th>\n",
       "      <td>1476</td>\n",
       "      <td>7453</td>\n",
       "      <td>1478</td>\n",
       "      <td>1479</td>\n",
       "      <td>7622</td>\n",
       "    </tr>\n",
       "    <tr>\n",
       "      <th>previous_stopid</th>\n",
       "      <td>4320</td>\n",
       "      <td>1476</td>\n",
       "      <td>7453</td>\n",
       "      <td>1478</td>\n",
       "      <td>1479</td>\n",
       "    </tr>\n",
       "    <tr>\n",
       "      <th>actualARR</th>\n",
       "      <td>2018-01-01 09:01:01</td>\n",
       "      <td>2018-01-01 09:01:48</td>\n",
       "      <td>2018-01-01 09:02:52</td>\n",
       "      <td>2018-01-01 09:03:50</td>\n",
       "      <td>2018-01-01 09:05:04</td>\n",
       "    </tr>\n",
       "    <tr>\n",
       "      <th>previous_stopARR</th>\n",
       "      <td>2018-01-01 08:59:30</td>\n",
       "      <td>2018-01-01 09:01:01</td>\n",
       "      <td>2018-01-01 09:01:48</td>\n",
       "      <td>2018-01-01 09:02:52</td>\n",
       "      <td>2018-01-01 09:03:50</td>\n",
       "    </tr>\n",
       "    <tr>\n",
       "      <th>temperature</th>\n",
       "      <td>41.19</td>\n",
       "      <td>41.19</td>\n",
       "      <td>41.19</td>\n",
       "      <td>41.19</td>\n",
       "      <td>41.19</td>\n",
       "    </tr>\n",
       "    <tr>\n",
       "      <th>humidity</th>\n",
       "      <td>0.81</td>\n",
       "      <td>0.81</td>\n",
       "      <td>0.81</td>\n",
       "      <td>0.81</td>\n",
       "      <td>0.81</td>\n",
       "    </tr>\n",
       "    <tr>\n",
       "      <th>windSpeed</th>\n",
       "      <td>12.91</td>\n",
       "      <td>12.91</td>\n",
       "      <td>12.91</td>\n",
       "      <td>12.91</td>\n",
       "      <td>12.91</td>\n",
       "    </tr>\n",
       "    <tr>\n",
       "      <th>rain</th>\n",
       "      <td>0</td>\n",
       "      <td>0</td>\n",
       "      <td>0</td>\n",
       "      <td>0</td>\n",
       "      <td>0</td>\n",
       "    </tr>\n",
       "    <tr>\n",
       "      <th>hour</th>\n",
       "      <td>9</td>\n",
       "      <td>9</td>\n",
       "      <td>9</td>\n",
       "      <td>9</td>\n",
       "      <td>9</td>\n",
       "    </tr>\n",
       "    <tr>\n",
       "      <th>weekend</th>\n",
       "      <td>False</td>\n",
       "      <td>False</td>\n",
       "      <td>False</td>\n",
       "      <td>False</td>\n",
       "      <td>False</td>\n",
       "    </tr>\n",
       "    <tr>\n",
       "      <th>holiday</th>\n",
       "      <td>True</td>\n",
       "      <td>True</td>\n",
       "      <td>True</td>\n",
       "      <td>True</td>\n",
       "      <td>True</td>\n",
       "    </tr>\n",
       "    <tr>\n",
       "      <th>travel_time</th>\n",
       "      <td>91</td>\n",
       "      <td>47</td>\n",
       "      <td>64</td>\n",
       "      <td>58</td>\n",
       "      <td>74</td>\n",
       "    </tr>\n",
       "    <tr>\n",
       "      <th>distance</th>\n",
       "      <td>591</td>\n",
       "      <td>425</td>\n",
       "      <td>373</td>\n",
       "      <td>251</td>\n",
       "      <td>477</td>\n",
       "    </tr>\n",
       "    <tr>\n",
       "      <th>avgvel</th>\n",
       "      <td>23.3802</td>\n",
       "      <td>32.5532</td>\n",
       "      <td>20.9812</td>\n",
       "      <td>15.5793</td>\n",
       "      <td>23.2054</td>\n",
       "    </tr>\n",
       "    <tr>\n",
       "      <th>month</th>\n",
       "      <td>1</td>\n",
       "      <td>1</td>\n",
       "      <td>1</td>\n",
       "      <td>1</td>\n",
       "      <td>1</td>\n",
       "    </tr>\n",
       "    <tr>\n",
       "      <th>season_Summer</th>\n",
       "      <td>0</td>\n",
       "      <td>0</td>\n",
       "      <td>0</td>\n",
       "      <td>0</td>\n",
       "      <td>0</td>\n",
       "    </tr>\n",
       "    <tr>\n",
       "      <th>season_Spring</th>\n",
       "      <td>0</td>\n",
       "      <td>0</td>\n",
       "      <td>0</td>\n",
       "      <td>0</td>\n",
       "      <td>0</td>\n",
       "    </tr>\n",
       "    <tr>\n",
       "      <th>season_Autumn</th>\n",
       "      <td>0</td>\n",
       "      <td>0</td>\n",
       "      <td>0</td>\n",
       "      <td>0</td>\n",
       "      <td>0</td>\n",
       "    </tr>\n",
       "    <tr>\n",
       "      <th>season_Winter</th>\n",
       "      <td>1</td>\n",
       "      <td>1</td>\n",
       "      <td>1</td>\n",
       "      <td>1</td>\n",
       "      <td>1</td>\n",
       "    </tr>\n",
       "    <tr>\n",
       "      <th>icon_clear-day</th>\n",
       "      <td>0</td>\n",
       "      <td>0</td>\n",
       "      <td>0</td>\n",
       "      <td>0</td>\n",
       "      <td>0</td>\n",
       "    </tr>\n",
       "    <tr>\n",
       "      <th>icon_clear-night</th>\n",
       "      <td>0</td>\n",
       "      <td>0</td>\n",
       "      <td>0</td>\n",
       "      <td>0</td>\n",
       "      <td>0</td>\n",
       "    </tr>\n",
       "    <tr>\n",
       "      <th>icon_cloudy</th>\n",
       "      <td>0</td>\n",
       "      <td>0</td>\n",
       "      <td>0</td>\n",
       "      <td>0</td>\n",
       "      <td>0</td>\n",
       "    </tr>\n",
       "    <tr>\n",
       "      <th>icon_fog</th>\n",
       "      <td>0</td>\n",
       "      <td>0</td>\n",
       "      <td>0</td>\n",
       "      <td>0</td>\n",
       "      <td>0</td>\n",
       "    </tr>\n",
       "    <tr>\n",
       "      <th>icon_partly-cloudy-day</th>\n",
       "      <td>1</td>\n",
       "      <td>1</td>\n",
       "      <td>1</td>\n",
       "      <td>1</td>\n",
       "      <td>1</td>\n",
       "    </tr>\n",
       "    <tr>\n",
       "      <th>icon_partly-cloudy-night</th>\n",
       "      <td>0</td>\n",
       "      <td>0</td>\n",
       "      <td>0</td>\n",
       "      <td>0</td>\n",
       "      <td>0</td>\n",
       "    </tr>\n",
       "    <tr>\n",
       "      <th>icon_rain</th>\n",
       "      <td>0</td>\n",
       "      <td>0</td>\n",
       "      <td>0</td>\n",
       "      <td>0</td>\n",
       "      <td>0</td>\n",
       "    </tr>\n",
       "    <tr>\n",
       "      <th>icon_wind</th>\n",
       "      <td>0</td>\n",
       "      <td>0</td>\n",
       "      <td>0</td>\n",
       "      <td>0</td>\n",
       "      <td>0</td>\n",
       "    </tr>\n",
       "  </tbody>\n",
       "</table>\n",
       "</div>"
      ],
      "text/plain": [
       "                                            0                    1  \\\n",
       "dayofservice              2018-01-01 00:00:00  2018-01-01 00:00:00   \n",
       "tripid                                5955476              5955476   \n",
       "stopid                                   1476                 7453   \n",
       "previous_stopid                          4320                 1476   \n",
       "actualARR                 2018-01-01 09:01:01  2018-01-01 09:01:48   \n",
       "previous_stopARR          2018-01-01 08:59:30  2018-01-01 09:01:01   \n",
       "temperature                             41.19                41.19   \n",
       "humidity                                 0.81                 0.81   \n",
       "windSpeed                               12.91                12.91   \n",
       "rain                                        0                    0   \n",
       "hour                                        9                    9   \n",
       "weekend                                 False                False   \n",
       "holiday                                  True                 True   \n",
       "travel_time                                91                   47   \n",
       "distance                                  591                  425   \n",
       "avgvel                                23.3802              32.5532   \n",
       "month                                       1                    1   \n",
       "season_Summer                               0                    0   \n",
       "season_Spring                               0                    0   \n",
       "season_Autumn                               0                    0   \n",
       "season_Winter                               1                    1   \n",
       "icon_clear-day                              0                    0   \n",
       "icon_clear-night                            0                    0   \n",
       "icon_cloudy                                 0                    0   \n",
       "icon_fog                                    0                    0   \n",
       "icon_partly-cloudy-day                      1                    1   \n",
       "icon_partly-cloudy-night                    0                    0   \n",
       "icon_rain                                   0                    0   \n",
       "icon_wind                                   0                    0   \n",
       "\n",
       "                                            2                    3  \\\n",
       "dayofservice              2018-01-01 00:00:00  2018-01-01 00:00:00   \n",
       "tripid                                5955476              5955476   \n",
       "stopid                                   1478                 1479   \n",
       "previous_stopid                          7453                 1478   \n",
       "actualARR                 2018-01-01 09:02:52  2018-01-01 09:03:50   \n",
       "previous_stopARR          2018-01-01 09:01:48  2018-01-01 09:02:52   \n",
       "temperature                             41.19                41.19   \n",
       "humidity                                 0.81                 0.81   \n",
       "windSpeed                               12.91                12.91   \n",
       "rain                                        0                    0   \n",
       "hour                                        9                    9   \n",
       "weekend                                 False                False   \n",
       "holiday                                  True                 True   \n",
       "travel_time                                64                   58   \n",
       "distance                                  373                  251   \n",
       "avgvel                                20.9812              15.5793   \n",
       "month                                       1                    1   \n",
       "season_Summer                               0                    0   \n",
       "season_Spring                               0                    0   \n",
       "season_Autumn                               0                    0   \n",
       "season_Winter                               1                    1   \n",
       "icon_clear-day                              0                    0   \n",
       "icon_clear-night                            0                    0   \n",
       "icon_cloudy                                 0                    0   \n",
       "icon_fog                                    0                    0   \n",
       "icon_partly-cloudy-day                      1                    1   \n",
       "icon_partly-cloudy-night                    0                    0   \n",
       "icon_rain                                   0                    0   \n",
       "icon_wind                                   0                    0   \n",
       "\n",
       "                                            4  \n",
       "dayofservice              2018-01-01 00:00:00  \n",
       "tripid                                5955476  \n",
       "stopid                                   7622  \n",
       "previous_stopid                          1479  \n",
       "actualARR                 2018-01-01 09:05:04  \n",
       "previous_stopARR          2018-01-01 09:03:50  \n",
       "temperature                             41.19  \n",
       "humidity                                 0.81  \n",
       "windSpeed                               12.91  \n",
       "rain                                        0  \n",
       "hour                                        9  \n",
       "weekend                                 False  \n",
       "holiday                                  True  \n",
       "travel_time                                74  \n",
       "distance                                  477  \n",
       "avgvel                                23.2054  \n",
       "month                                       1  \n",
       "season_Summer                               0  \n",
       "season_Spring                               0  \n",
       "season_Autumn                               0  \n",
       "season_Winter                               1  \n",
       "icon_clear-day                              0  \n",
       "icon_clear-night                            0  \n",
       "icon_cloudy                                 0  \n",
       "icon_fog                                    0  \n",
       "icon_partly-cloudy-day                      1  \n",
       "icon_partly-cloudy-night                    0  \n",
       "icon_rain                                   0  \n",
       "icon_wind                                   0  "
      ]
     },
     "execution_count": 77,
     "metadata": {},
     "output_type": "execute_result"
    }
   ],
   "source": [
    "combinedata.head().T"
   ]
  },
  {
   "cell_type": "markdown",
   "metadata": {},
   "source": [
    "## Train Models"
   ]
  },
  {
   "cell_type": "markdown",
   "metadata": {},
   "source": [
    "### Setting Predictor / Target variables"
   ]
  },
  {
   "cell_type": "code",
   "execution_count": 107,
   "metadata": {},
   "outputs": [
    {
     "data": {
      "text/plain": [
       "travel_time                 float64\n",
       "stopid                        int64\n",
       "previous_stopid               int64\n",
       "distance                      int64\n",
       "temperature                 float64\n",
       "humidity                    float64\n",
       "windSpeed                   float64\n",
       "rain                        float64\n",
       "hour                        float64\n",
       "holiday                        bool\n",
       "weekend                        bool\n",
       "month                         int64\n",
       "season_Winter                 uint8\n",
       "season_Autumn                 uint8\n",
       "season_Summer                 uint8\n",
       "season_Spring                 uint8\n",
       "icon_clear-day                uint8\n",
       "icon_clear-night              uint8\n",
       "icon_cloudy                   uint8\n",
       "icon_fog                      uint8\n",
       "icon_partly-cloudy-day        uint8\n",
       "icon_partly-cloudy-night      uint8\n",
       "icon_rain                     uint8\n",
       "icon_wind                     uint8\n",
       "dtype: object"
      ]
     },
     "execution_count": 107,
     "metadata": {},
     "output_type": "execute_result"
    }
   ],
   "source": [
    "modeldata = combinedata[['travel_time','stopid','previous_stopid','distance',\n",
    "                         'temperature','humidity', 'windSpeed', 'rain', 'hour', 'holiday', 'weekend',\n",
    "                         'month','season_Winter','season_Autumn','season_Summer','season_Spring',\n",
    "                         'icon_clear-day', 'icon_clear-night', 'icon_cloudy', 'icon_fog',\n",
    "                         'icon_partly-cloudy-day', 'icon_partly-cloudy-night', 'icon_rain','icon_wind']]\n",
    "modeldata.dtypes"
   ]
  },
  {
   "cell_type": "code",
   "execution_count": 108,
   "metadata": {},
   "outputs": [],
   "source": [
    "# need to put this in a loop over the pairs of stops. (unique)\n",
    "target     = ['travel_time']\n",
    "predictors = ['temperature','humidity', 'windSpeed', 'rain', 'hour', 'holiday', 'weekend',\n",
    "              'month','season_Winter','season_Autumn','season_Summer','season_Spring',\n",
    "              'icon_clear-day', 'icon_clear-night', 'icon_cloudy', 'icon_fog',\n",
    "              'icon_partly-cloudy-day', 'icon_partly-cloudy-night', 'icon_rain','icon_wind']\n",
    "\n",
    "General_predictors = ['temperature','humidity', 'windSpeed', 'rain', 'hour', \n",
    "                      'holiday', 'weekend','month','distance',\n",
    "                      'season_Winter','season_Autumn','season_Summer','season_Spring',\n",
    "                      'icon_clear-day', 'icon_clear-night', 'icon_cloudy', 'icon_fog',\n",
    "                      'icon_partly-cloudy-day', 'icon_partly-cloudy-night', \n",
    "                      'icon_rain','icon_wind']"
   ]
  },
  {
   "cell_type": "code",
   "execution_count": 128,
   "metadata": {},
   "outputs": [
    {
     "name": "stdout",
     "output_type": "stream",
     "text": [
      "There are 3953011 rows in model data\n",
      "Average Travel Time between stops: 75.01564554209436\n"
     ]
    }
   ],
   "source": [
    "print(\"There are %d rows in model data\" % (modeldata.count()[0]))\n",
    "print(\"Average Travel Time between stops: {}\".format(modeldata.travel_time.mean()))"
   ]
  },
  {
   "cell_type": "markdown",
   "metadata": {},
   "source": [
    "### General Model for stops not in the data [ will take ages to train ]"
   ]
  },
  {
   "cell_type": "markdown",
   "metadata": {
    "heading_collapsed": true
   },
   "source": [
    "#### Filtering outliers"
   ]
  },
  {
   "cell_type": "code",
   "execution_count": 141,
   "metadata": {
    "hidden": true
   },
   "outputs": [
    {
     "data": {
      "text/plain": [
       "<matplotlib.axes._subplots.AxesSubplot at 0x7fb3cd1e0b00>"
      ]
     },
     "execution_count": 141,
     "metadata": {},
     "output_type": "execute_result"
    },
    {
     "data": {
      "image/png": "[encoded data removed]",
      "text/plain": [
       "<Figure size 432x288 with 1 Axes>"
      ]
     },
     "metadata": {
      "needs_background": "light"
     },
     "output_type": "display_data"
    }
   ],
   "source": [
    "travel_time_deviation = modeldata.travel_time.std()\n",
    "\n",
    "# Only allow travel times greater than zero \n",
    "General_modeldata = modeldata[modeldata.travel_time >= 0]\n",
    "\n",
    "# Filter outliers from the dataset\n",
    "General_modeldata = General_modeldata[abs(General_modeldata.travel_time-General_modeldata.travel_time.mean()) < 3*travel_time_deviation]\n",
    "\n",
    "# Show spread of data\n",
    "General_modeldata.travel_time.hist(bins=150)"
   ]
  },
  {
   "cell_type": "markdown",
   "metadata": {
    "heading_collapsed": true
   },
   "source": [
    "#### Correlation matrix post filter"
   ]
  },
  {
   "cell_type": "code",
   "execution_count": 164,
   "metadata": {
    "hidden": true
   },
   "outputs": [
    {
     "data": {
      "text/html": [
       "<style  type=\"text/css\" >\n",
       "    #T_9ac081f2_bbb1_11e9_b018_67a8bd463ac4row0_col0 {\n",
       "            background-color:  #b40426;\n",
       "            color:  #f1f1f1;\n",
       "        }    #T_9ac081f2_bbb1_11e9_b018_67a8bd463ac4row0_col1 {\n",
       "            background-color:  #80a3fa;\n",
       "            color:  #000000;\n",
       "        }    #T_9ac081f2_bbb1_11e9_b018_67a8bd463ac4row0_col2 {\n",
       "            background-color:  #afcafc;\n",
       "            color:  #000000;\n",
       "        }    #T_9ac081f2_bbb1_11e9_b018_67a8bd463ac4row0_col3 {\n",
       "            background-color:  #5977e3;\n",
       "            color:  #000000;\n",
       "        }    #T_9ac081f2_bbb1_11e9_b018_67a8bd463ac4row0_col4 {\n",
       "            background-color:  #4a63d3;\n",
       "            color:  #f1f1f1;\n",
       "        }    #T_9ac081f2_bbb1_11e9_b018_67a8bd463ac4row0_col5 {\n",
       "            background-color:  #a9c6fd;\n",
       "            color:  #000000;\n",
       "        }    #T_9ac081f2_bbb1_11e9_b018_67a8bd463ac4row1_col0 {\n",
       "            background-color:  #84a7fc;\n",
       "            color:  #000000;\n",
       "        }    #T_9ac081f2_bbb1_11e9_b018_67a8bd463ac4row1_col1 {\n",
       "            background-color:  #b40426;\n",
       "            color:  #f1f1f1;\n",
       "        }    #T_9ac081f2_bbb1_11e9_b018_67a8bd463ac4row1_col2 {\n",
       "            background-color:  #adc9fd;\n",
       "            color:  #000000;\n",
       "        }    #T_9ac081f2_bbb1_11e9_b018_67a8bd463ac4row1_col3 {\n",
       "            background-color:  #5572df;\n",
       "            color:  #000000;\n",
       "        }    #T_9ac081f2_bbb1_11e9_b018_67a8bd463ac4row1_col4 {\n",
       "            background-color:  #4a63d3;\n",
       "            color:  #f1f1f1;\n",
       "        }    #T_9ac081f2_bbb1_11e9_b018_67a8bd463ac4row1_col5 {\n",
       "            background-color:  #adc9fd;\n",
       "            color:  #000000;\n",
       "        }    #T_9ac081f2_bbb1_11e9_b018_67a8bd463ac4row2_col0 {\n",
       "            background-color:  #4358cb;\n",
       "            color:  #f1f1f1;\n",
       "        }    #T_9ac081f2_bbb1_11e9_b018_67a8bd463ac4row2_col1 {\n",
       "            background-color:  #3b4cc0;\n",
       "            color:  #f1f1f1;\n",
       "        }    #T_9ac081f2_bbb1_11e9_b018_67a8bd463ac4row2_col2 {\n",
       "            background-color:  #b40426;\n",
       "            color:  #f1f1f1;\n",
       "        }    #T_9ac081f2_bbb1_11e9_b018_67a8bd463ac4row2_col3 {\n",
       "            background-color:  #6e90f2;\n",
       "            color:  #000000;\n",
       "        }    #T_9ac081f2_bbb1_11e9_b018_67a8bd463ac4row2_col4 {\n",
       "            background-color:  #3b4cc0;\n",
       "            color:  #f1f1f1;\n",
       "        }    #T_9ac081f2_bbb1_11e9_b018_67a8bd463ac4row2_col5 {\n",
       "            background-color:  #3b4cc0;\n",
       "            color:  #f1f1f1;\n",
       "        }    #T_9ac081f2_bbb1_11e9_b018_67a8bd463ac4row3_col0 {\n",
       "            background-color:  #445acc;\n",
       "            color:  #f1f1f1;\n",
       "        }    #T_9ac081f2_bbb1_11e9_b018_67a8bd463ac4row3_col1 {\n",
       "            background-color:  #3b4cc0;\n",
       "            color:  #f1f1f1;\n",
       "        }    #T_9ac081f2_bbb1_11e9_b018_67a8bd463ac4row3_col2 {\n",
       "            background-color:  #bfd3f6;\n",
       "            color:  #000000;\n",
       "        }    #T_9ac081f2_bbb1_11e9_b018_67a8bd463ac4row3_col3 {\n",
       "            background-color:  #b40426;\n",
       "            color:  #f1f1f1;\n",
       "        }    #T_9ac081f2_bbb1_11e9_b018_67a8bd463ac4row3_col4 {\n",
       "            background-color:  #5875e1;\n",
       "            color:  #000000;\n",
       "        }    #T_9ac081f2_bbb1_11e9_b018_67a8bd463ac4row3_col5 {\n",
       "            background-color:  #97b8ff;\n",
       "            color:  #000000;\n",
       "        }    #T_9ac081f2_bbb1_11e9_b018_67a8bd463ac4row4_col0 {\n",
       "            background-color:  #4055c8;\n",
       "            color:  #f1f1f1;\n",
       "        }    #T_9ac081f2_bbb1_11e9_b018_67a8bd463ac4row4_col1 {\n",
       "            background-color:  #3b4cc0;\n",
       "            color:  #f1f1f1;\n",
       "        }    #T_9ac081f2_bbb1_11e9_b018_67a8bd463ac4row4_col2 {\n",
       "            background-color:  #a1c0ff;\n",
       "            color:  #000000;\n",
       "        }    #T_9ac081f2_bbb1_11e9_b018_67a8bd463ac4row4_col3 {\n",
       "            background-color:  #6282ea;\n",
       "            color:  #000000;\n",
       "        }    #T_9ac081f2_bbb1_11e9_b018_67a8bd463ac4row4_col4 {\n",
       "            background-color:  #b40426;\n",
       "            color:  #f1f1f1;\n",
       "        }    #T_9ac081f2_bbb1_11e9_b018_67a8bd463ac4row4_col5 {\n",
       "            background-color:  #c7d7f0;\n",
       "            color:  #000000;\n",
       "        }    #T_9ac081f2_bbb1_11e9_b018_67a8bd463ac4row5_col0 {\n",
       "            background-color:  #3b4cc0;\n",
       "            color:  #f1f1f1;\n",
       "        }    #T_9ac081f2_bbb1_11e9_b018_67a8bd463ac4row5_col1 {\n",
       "            background-color:  #3b4cc0;\n",
       "            color:  #f1f1f1;\n",
       "        }    #T_9ac081f2_bbb1_11e9_b018_67a8bd463ac4row5_col2 {\n",
       "            background-color:  #3b4cc0;\n",
       "            color:  #f1f1f1;\n",
       "        }    #T_9ac081f2_bbb1_11e9_b018_67a8bd463ac4row5_col3 {\n",
       "            background-color:  #3b4cc0;\n",
       "            color:  #f1f1f1;\n",
       "        }    #T_9ac081f2_bbb1_11e9_b018_67a8bd463ac4row5_col4 {\n",
       "            background-color:  #7295f4;\n",
       "            color:  #000000;\n",
       "        }    #T_9ac081f2_bbb1_11e9_b018_67a8bd463ac4row5_col5 {\n",
       "            background-color:  #b40426;\n",
       "            color:  #f1f1f1;\n",
       "        }</style><table id=\"T_9ac081f2_bbb1_11e9_b018_67a8bd463ac4\" ><thead>    <tr>        <th class=\"blank level0\" ></th>        <th class=\"col_heading level0 col0\" >travel_time</th>        <th class=\"col_heading level0 col1\" >distance</th>        <th class=\"col_heading level0 col2\" >temperature</th>        <th class=\"col_heading level0 col3\" >windSpeed</th>        <th class=\"col_heading level0 col4\" >rain</th>        <th class=\"col_heading level0 col5\" >humidity</th>    </tr></thead><tbody>\n",
       "                <tr>\n",
       "                        <th id=\"T_9ac081f2_bbb1_11e9_b018_67a8bd463ac4level0_row0\" class=\"row_heading level0 row0\" >travel_time</th>\n",
       "                        <td id=\"T_9ac081f2_bbb1_11e9_b018_67a8bd463ac4row0_col0\" class=\"data row0 col0\" >1</td>\n",
       "                        <td id=\"T_9ac081f2_bbb1_11e9_b018_67a8bd463ac4row0_col1\" class=\"data row0 col1\" >0.21</td>\n",
       "                        <td id=\"T_9ac081f2_bbb1_11e9_b018_67a8bd463ac4row0_col2\" class=\"data row0 col2\" >0.0088</td>\n",
       "                        <td id=\"T_9ac081f2_bbb1_11e9_b018_67a8bd463ac4row0_col3\" class=\"data row0 col3\" >0.015</td>\n",
       "                        <td id=\"T_9ac081f2_bbb1_11e9_b018_67a8bd463ac4row0_col4\" class=\"data row0 col4\" >0.0015</td>\n",
       "                        <td id=\"T_9ac081f2_bbb1_11e9_b018_67a8bd463ac4row0_col5\" class=\"data row0 col5\" >-0.019</td>\n",
       "            </tr>\n",
       "            <tr>\n",
       "                        <th id=\"T_9ac081f2_bbb1_11e9_b018_67a8bd463ac4level0_row1\" class=\"row_heading level0 row1\" >distance</th>\n",
       "                        <td id=\"T_9ac081f2_bbb1_11e9_b018_67a8bd463ac4row1_col0\" class=\"data row1 col0\" >0.21</td>\n",
       "                        <td id=\"T_9ac081f2_bbb1_11e9_b018_67a8bd463ac4row1_col1\" class=\"data row1 col1\" >1</td>\n",
       "                        <td id=\"T_9ac081f2_bbb1_11e9_b018_67a8bd463ac4row1_col2\" class=\"data row1 col2\" >-0.00095</td>\n",
       "                        <td id=\"T_9ac081f2_bbb1_11e9_b018_67a8bd463ac4row1_col3\" class=\"data row1 col3\" >-9.6e-05</td>\n",
       "                        <td id=\"T_9ac081f2_bbb1_11e9_b018_67a8bd463ac4row1_col4\" class=\"data row1 col4\" >0.00018</td>\n",
       "                        <td id=\"T_9ac081f2_bbb1_11e9_b018_67a8bd463ac4row1_col5\" class=\"data row1 col5\" >-0.00064</td>\n",
       "            </tr>\n",
       "            <tr>\n",
       "                        <th id=\"T_9ac081f2_bbb1_11e9_b018_67a8bd463ac4level0_row2\" class=\"row_heading level0 row2\" >temperature</th>\n",
       "                        <td id=\"T_9ac081f2_bbb1_11e9_b018_67a8bd463ac4row2_col0\" class=\"data row2 col0\" >0.0088</td>\n",
       "                        <td id=\"T_9ac081f2_bbb1_11e9_b018_67a8bd463ac4row2_col1\" class=\"data row2 col1\" >-0.00095</td>\n",
       "                        <td id=\"T_9ac081f2_bbb1_11e9_b018_67a8bd463ac4row2_col2\" class=\"data row2 col2\" >1</td>\n",
       "                        <td id=\"T_9ac081f2_bbb1_11e9_b018_67a8bd463ac4row2_col3\" class=\"data row2 col3\" >0.081</td>\n",
       "                        <td id=\"T_9ac081f2_bbb1_11e9_b018_67a8bd463ac4row2_col4\" class=\"data row2 col4\" >-0.056</td>\n",
       "                        <td id=\"T_9ac081f2_bbb1_11e9_b018_67a8bd463ac4row2_col5\" class=\"data row2 col5\" >-0.52</td>\n",
       "            </tr>\n",
       "            <tr>\n",
       "                        <th id=\"T_9ac081f2_bbb1_11e9_b018_67a8bd463ac4level0_row3\" class=\"row_heading level0 row3\" >windSpeed</th>\n",
       "                        <td id=\"T_9ac081f2_bbb1_11e9_b018_67a8bd463ac4row3_col0\" class=\"data row3 col0\" >0.015</td>\n",
       "                        <td id=\"T_9ac081f2_bbb1_11e9_b018_67a8bd463ac4row3_col1\" class=\"data row3 col1\" >-9.6e-05</td>\n",
       "                        <td id=\"T_9ac081f2_bbb1_11e9_b018_67a8bd463ac4row3_col2\" class=\"data row3 col2\" >0.081</td>\n",
       "                        <td id=\"T_9ac081f2_bbb1_11e9_b018_67a8bd463ac4row3_col3\" class=\"data row3 col3\" >1</td>\n",
       "                        <td id=\"T_9ac081f2_bbb1_11e9_b018_67a8bd463ac4row3_col4\" class=\"data row3 col4\" >0.044</td>\n",
       "                        <td id=\"T_9ac081f2_bbb1_11e9_b018_67a8bd463ac4row3_col5\" class=\"data row3 col5\" >-0.096</td>\n",
       "            </tr>\n",
       "            <tr>\n",
       "                        <th id=\"T_9ac081f2_bbb1_11e9_b018_67a8bd463ac4level0_row4\" class=\"row_heading level0 row4\" >rain</th>\n",
       "                        <td id=\"T_9ac081f2_bbb1_11e9_b018_67a8bd463ac4row4_col0\" class=\"data row4 col0\" >0.0015</td>\n",
       "                        <td id=\"T_9ac081f2_bbb1_11e9_b018_67a8bd463ac4row4_col1\" class=\"data row4 col1\" >0.00018</td>\n",
       "                        <td id=\"T_9ac081f2_bbb1_11e9_b018_67a8bd463ac4row4_col2\" class=\"data row4 col2\" >-0.056</td>\n",
       "                        <td id=\"T_9ac081f2_bbb1_11e9_b018_67a8bd463ac4row4_col3\" class=\"data row4 col3\" >0.044</td>\n",
       "                        <td id=\"T_9ac081f2_bbb1_11e9_b018_67a8bd463ac4row4_col4\" class=\"data row4 col4\" >1</td>\n",
       "                        <td id=\"T_9ac081f2_bbb1_11e9_b018_67a8bd463ac4row4_col5\" class=\"data row4 col5\" >0.13</td>\n",
       "            </tr>\n",
       "            <tr>\n",
       "                        <th id=\"T_9ac081f2_bbb1_11e9_b018_67a8bd463ac4level0_row5\" class=\"row_heading level0 row5\" >humidity</th>\n",
       "                        <td id=\"T_9ac081f2_bbb1_11e9_b018_67a8bd463ac4row5_col0\" class=\"data row5 col0\" >-0.019</td>\n",
       "                        <td id=\"T_9ac081f2_bbb1_11e9_b018_67a8bd463ac4row5_col1\" class=\"data row5 col1\" >-0.00064</td>\n",
       "                        <td id=\"T_9ac081f2_bbb1_11e9_b018_67a8bd463ac4row5_col2\" class=\"data row5 col2\" >-0.52</td>\n",
       "                        <td id=\"T_9ac081f2_bbb1_11e9_b018_67a8bd463ac4row5_col3\" class=\"data row5 col3\" >-0.096</td>\n",
       "                        <td id=\"T_9ac081f2_bbb1_11e9_b018_67a8bd463ac4row5_col4\" class=\"data row5 col4\" >0.13</td>\n",
       "                        <td id=\"T_9ac081f2_bbb1_11e9_b018_67a8bd463ac4row5_col5\" class=\"data row5 col5\" >1</td>\n",
       "            </tr>\n",
       "    </tbody></table>"
      ],
      "text/plain": [
       "<pandas.io.formats.style.Styler at 0x7fb2d7d09ef0>"
      ]
     },
     "execution_count": 164,
     "metadata": {},
     "output_type": "execute_result"
    }
   ],
   "source": [
    "General_corr = modeldata[['travel_time','distance','temperature','windSpeed','rain','humidity']].corr()\n",
    "General_corr.style.background_gradient(cmap='coolwarm').set_precision(2)"
   ]
  },
  {
   "cell_type": "markdown",
   "metadata": {},
   "source": [
    "#### Boxplots post filter"
   ]
  },
  {
   "cell_type": "code",
   "execution_count": null,
   "metadata": {},
   "outputs": [],
   "source": []
  },
  {
   "cell_type": "markdown",
   "metadata": {},
   "source": [
    "#### Test train split"
   ]
  },
  {
   "cell_type": "code",
   "execution_count": 111,
   "metadata": {},
   "outputs": [
    {
     "data": {
      "text/html": [
       "<div>\n",
       "<style scoped>\n",
       "    .dataframe tbody tr th:only-of-type {\n",
       "        vertical-align: middle;\n",
       "    }\n",
       "\n",
       "    .dataframe tbody tr th {\n",
       "        vertical-align: top;\n",
       "    }\n",
       "\n",
       "    .dataframe thead th {\n",
       "        text-align: right;\n",
       "    }\n",
       "</style>\n",
       "<table border=\"1\" class=\"dataframe\">\n",
       "  <thead>\n",
       "    <tr style=\"text-align: right;\">\n",
       "      <th></th>\n",
       "      <th>temperature</th>\n",
       "      <th>humidity</th>\n",
       "      <th>windSpeed</th>\n",
       "      <th>rain</th>\n",
       "      <th>hour</th>\n",
       "      <th>holiday</th>\n",
       "      <th>weekend</th>\n",
       "      <th>month</th>\n",
       "      <th>distance</th>\n",
       "      <th>season_Winter</th>\n",
       "      <th>...</th>\n",
       "      <th>season_Summer</th>\n",
       "      <th>season_Spring</th>\n",
       "      <th>icon_clear-day</th>\n",
       "      <th>icon_clear-night</th>\n",
       "      <th>icon_cloudy</th>\n",
       "      <th>icon_fog</th>\n",
       "      <th>icon_partly-cloudy-day</th>\n",
       "      <th>icon_partly-cloudy-night</th>\n",
       "      <th>icon_rain</th>\n",
       "      <th>icon_wind</th>\n",
       "    </tr>\n",
       "  </thead>\n",
       "  <tbody>\n",
       "    <tr>\n",
       "      <th>3837469</th>\n",
       "      <td>44.02</td>\n",
       "      <td>0.73</td>\n",
       "      <td>7.90</td>\n",
       "      <td>0.0</td>\n",
       "      <td>9.0</td>\n",
       "      <td>False</td>\n",
       "      <td>True</td>\n",
       "      <td>12</td>\n",
       "      <td>586</td>\n",
       "      <td>1</td>\n",
       "      <td>...</td>\n",
       "      <td>0</td>\n",
       "      <td>0</td>\n",
       "      <td>0</td>\n",
       "      <td>0</td>\n",
       "      <td>0</td>\n",
       "      <td>0</td>\n",
       "      <td>1</td>\n",
       "      <td>0</td>\n",
       "      <td>0</td>\n",
       "      <td>0</td>\n",
       "    </tr>\n",
       "    <tr>\n",
       "      <th>438761</th>\n",
       "      <td>31.58</td>\n",
       "      <td>0.88</td>\n",
       "      <td>7.10</td>\n",
       "      <td>0.0</td>\n",
       "      <td>8.0</td>\n",
       "      <td>False</td>\n",
       "      <td>False</td>\n",
       "      <td>2</td>\n",
       "      <td>487</td>\n",
       "      <td>0</td>\n",
       "      <td>...</td>\n",
       "      <td>0</td>\n",
       "      <td>1</td>\n",
       "      <td>0</td>\n",
       "      <td>0</td>\n",
       "      <td>0</td>\n",
       "      <td>0</td>\n",
       "      <td>0</td>\n",
       "      <td>1</td>\n",
       "      <td>0</td>\n",
       "      <td>0</td>\n",
       "    </tr>\n",
       "    <tr>\n",
       "      <th>1544833</th>\n",
       "      <td>59.50</td>\n",
       "      <td>0.30</td>\n",
       "      <td>10.29</td>\n",
       "      <td>0.0</td>\n",
       "      <td>15.0</td>\n",
       "      <td>False</td>\n",
       "      <td>False</td>\n",
       "      <td>5</td>\n",
       "      <td>453</td>\n",
       "      <td>0</td>\n",
       "      <td>...</td>\n",
       "      <td>1</td>\n",
       "      <td>0</td>\n",
       "      <td>0</td>\n",
       "      <td>0</td>\n",
       "      <td>0</td>\n",
       "      <td>0</td>\n",
       "      <td>1</td>\n",
       "      <td>0</td>\n",
       "      <td>0</td>\n",
       "      <td>0</td>\n",
       "    </tr>\n",
       "    <tr>\n",
       "      <th>1887144</th>\n",
       "      <td>59.92</td>\n",
       "      <td>0.80</td>\n",
       "      <td>13.08</td>\n",
       "      <td>0.0</td>\n",
       "      <td>20.0</td>\n",
       "      <td>False</td>\n",
       "      <td>False</td>\n",
       "      <td>6</td>\n",
       "      <td>330</td>\n",
       "      <td>0</td>\n",
       "      <td>...</td>\n",
       "      <td>1</td>\n",
       "      <td>0</td>\n",
       "      <td>0</td>\n",
       "      <td>0</td>\n",
       "      <td>0</td>\n",
       "      <td>0</td>\n",
       "      <td>1</td>\n",
       "      <td>0</td>\n",
       "      <td>0</td>\n",
       "      <td>0</td>\n",
       "    </tr>\n",
       "    <tr>\n",
       "      <th>3761840</th>\n",
       "      <td>44.63</td>\n",
       "      <td>0.79</td>\n",
       "      <td>19.00</td>\n",
       "      <td>0.0</td>\n",
       "      <td>17.0</td>\n",
       "      <td>False</td>\n",
       "      <td>False</td>\n",
       "      <td>12</td>\n",
       "      <td>289</td>\n",
       "      <td>1</td>\n",
       "      <td>...</td>\n",
       "      <td>0</td>\n",
       "      <td>0</td>\n",
       "      <td>0</td>\n",
       "      <td>0</td>\n",
       "      <td>0</td>\n",
       "      <td>0</td>\n",
       "      <td>0</td>\n",
       "      <td>1</td>\n",
       "      <td>0</td>\n",
       "      <td>0</td>\n",
       "    </tr>\n",
       "  </tbody>\n",
       "</table>\n",
       "<p>5 rows × 21 columns</p>\n",
       "</div>"
      ],
      "text/plain": [
       "         temperature  humidity  windSpeed  rain  hour  holiday  weekend  \\\n",
       "3837469        44.02      0.73       7.90   0.0   9.0    False     True   \n",
       "438761         31.58      0.88       7.10   0.0   8.0    False    False   \n",
       "1544833        59.50      0.30      10.29   0.0  15.0    False    False   \n",
       "1887144        59.92      0.80      13.08   0.0  20.0    False    False   \n",
       "3761840        44.63      0.79      19.00   0.0  17.0    False    False   \n",
       "\n",
       "         month  distance  season_Winter  ...  season_Summer  season_Spring  \\\n",
       "3837469     12       586              1  ...              0              0   \n",
       "438761       2       487              0  ...              0              1   \n",
       "1544833      5       453              0  ...              1              0   \n",
       "1887144      6       330              0  ...              1              0   \n",
       "3761840     12       289              1  ...              0              0   \n",
       "\n",
       "         icon_clear-day  icon_clear-night  icon_cloudy  icon_fog  \\\n",
       "3837469               0                 0            0         0   \n",
       "438761                0                 0            0         0   \n",
       "1544833               0                 0            0         0   \n",
       "1887144               0                 0            0         0   \n",
       "3761840               0                 0            0         0   \n",
       "\n",
       "         icon_partly-cloudy-day  icon_partly-cloudy-night  icon_rain  \\\n",
       "3837469                       1                         0          0   \n",
       "438761                        0                         1          0   \n",
       "1544833                       1                         0          0   \n",
       "1887144                       1                         0          0   \n",
       "3761840                       0                         1          0   \n",
       "\n",
       "         icon_wind  \n",
       "3837469          0  \n",
       "438761           0  \n",
       "1544833          0  \n",
       "1887144          0  \n",
       "3761840          0  \n",
       "\n",
       "[5 rows x 21 columns]"
      ]
     },
     "execution_count": 111,
     "metadata": {},
     "output_type": "execute_result"
    }
   ],
   "source": [
    "# ========================= Test/Train Splits ========================== #\n",
    "General_X_train, General_X_test, General_y_train, General_y_test = train_test_split(General_modeldata[General_predictors],\n",
    "                                                                                     General_modeldata[target].values.ravel(), \n",
    "                                                                                     test_size=0.2, \n",
    "                                                                                     shuffle=True)\n",
    "General_X_train.head()"
   ]
  },
  {
   "cell_type": "markdown",
   "metadata": {},
   "source": [
    "#### Training Model"
   ]
  },
  {
   "cell_type": "code",
   "execution_count": 112,
   "metadata": {
    "scrolled": false
   },
   "outputs": [
    {
     "name": "stdout",
     "output_type": "stream",
     "text": [
      "[0]\tTest-rmse:74.1422\n",
      "Will train until Test-rmse hasn't improved in 100 rounds.\n",
      "[50]\tTest-rmse:31.6654\n",
      "[99]\tTest-rmse:30.6325\n"
     ]
    },
    {
     "data": {
      "text/plain": [
       "<matplotlib.axes._subplots.AxesSubplot at 0x7fb3c4333780>"
      ]
     },
     "execution_count": 112,
     "metadata": {},
     "output_type": "execute_result"
    },
    {
     "data": {
      "image/png": "[encoded data removed]",
      "text/plain": [
       "<Figure size 432x288 with 1 Axes>"
      ]
     },
     "metadata": {
      "needs_background": "light"
     },
     "output_type": "display_data"
    }
   ],
   "source": [
    "# ========================== Making DMatrices ========================== #\n",
    "General_dtrain = xgb.DMatrix(General_X_train, label=General_y_train)\n",
    "General_dtest = xgb.DMatrix(General_X_test, label=General_y_test)\n",
    "\n",
    "# =========================== Training Model =========================== #\n",
    "\n",
    "param = {\n",
    "#     'tree_method':'gpu_hist',\n",
    "    'eta':0.15,\n",
    "    'max_depth':6\n",
    "}\n",
    "num_rounds = 100\n",
    "\n",
    "General_model = xgb.train(param, General_dtrain, num_rounds, evals=[(General_dtest, 'Test')], verbose_eval=50, early_stopping_rounds=100)\n",
    "\n",
    "# ============================  Predictions ============================ #\n",
    "General_xgbpreds = General_model.predict(General_dtest)\n",
    "\n",
    "# ====================== Feature Importance graph ====================== #\n",
    "xgb.plot_importance(General_model)"
   ]
  },
  {
   "cell_type": "markdown",
   "metadata": {},
   "source": [
    "## Evaluate Models"
   ]
  },
  {
   "cell_type": "markdown",
   "metadata": {},
   "source": [
    "### General Model"
   ]
  },
  {
   "cell_type": "code",
   "execution_count": 127,
   "metadata": {},
   "outputs": [
    {
     "data": {
      "image/png": "[encoded data removed]",
      "text/plain": [
       "<Figure size 432x288 with 1 Axes>"
      ]
     },
     "metadata": {
      "needs_background": "light"
     },
     "output_type": "display_data"
    },
    {
     "name": "stdout",
     "output_type": "stream",
     "text": [
      "30.633610337193943 -0.025708931596132925\n"
     ]
    },
    {
     "data": {
      "text/plain": [
       "<Figure size 2880x360 with 0 Axes>"
      ]
     },
     "execution_count": 127,
     "metadata": {},
     "output_type": "execute_result"
    },
    {
     "data": {
      "text/plain": [
       "[<matplotlib.lines.Line2D at 0x7fb3cfe15160>]"
      ]
     },
     "execution_count": 127,
     "metadata": {},
     "output_type": "execute_result"
    },
    {
     "data": {
      "image/png": "[encoded data removed]",
      "text/plain": [
       "<Figure size 2880x360 with 1 Axes>"
      ]
     },
     "metadata": {
      "needs_background": "light"
     },
     "output_type": "display_data"
    }
   ],
   "source": [
    "# ========================= Visualising Errors ========================= #\n",
    "General_xgbresiduals = General_xgbpreds - General_y_test\n",
    "\n",
    "# best fit of data\n",
    "(xmu, xsigma) = stats.norm.fit(General_xgbresiduals)\n",
    "\n",
    "# # The histogram of the data\n",
    "xn, xbins, xpatches = plt.hist(General_xgbresiduals, 100, density=True, facecolor='blue', alpha=0.6)\n",
    "\n",
    "# add a 'best fit' line\n",
    "xy = mlab.normpdf(xbins, xmu, xsigma)\n",
    "xl = plt.plot(xbins, xy, 'r--', linewidth=2)\n",
    "plt.show()\n",
    "\n",
    "print(xsigma,xmu)\n",
    "\n",
    "plt.figure(figsize=(40,5))\n",
    "plt.plot(list(filter(lambda x: abs(x)>2, General_xgbresiduals)))"
   ]
  },
  {
   "cell_type": "markdown",
   "metadata": {},
   "source": [
    "### Individual Models"
   ]
  },
  {
   "cell_type": "code",
   "execution_count": null,
   "metadata": {},
   "outputs": [],
   "source": []
  },
  {
   "cell_type": "markdown",
   "metadata": {},
   "source": [
    "## Exporting Model"
   ]
  },
  {
   "cell_type": "code",
   "execution_count": null,
   "metadata": {},
   "outputs": [],
   "source": []
  }
 ],
 "metadata": {
  "kernelspec": {
   "display_name": "Python 3",
   "language": "python",
   "name": "python3"
  },
  "language_info": {
   "codemirror_mode": {
    "name": "ipython",
    "version": 3
   },
   "file_extension": ".py",
   "mimetype": "text/x-python",
   "name": "python",
   "nbconvert_exporter": "python",
   "pygments_lexer": "ipython3",
   "version": "3.6.8"
  },
  "notify_time": "10",
  "toc": {
   "base_numbering": 1,
   "nav_menu": {},
   "number_sections": true,
   "sideBar": true,
   "skip_h1_title": true,
   "title_cell": "Table of Contents",
   "title_sidebar": "Contents",
   "toc_cell": false,
   "toc_position": {
    "height": "calc(100% - 180px)",
    "left": "10px",
    "top": "150px",
    "width": "447.75px"
   },
   "toc_section_display": true,
   "toc_window_display": true
  },
  "varInspector": {
   "cols": {
    "lenName": 16,
    "lenType": 16,
    "lenVar": 40
   },
   "kernels_config": {
    "python": {
     "delete_cmd_postfix": "",
     "delete_cmd_prefix": "del ",
     "library": "var_list.py",
     "varRefreshCmd": "print(var_dic_list())"
    },
    "r": {
     "delete_cmd_postfix": ") ",
     "delete_cmd_prefix": "rm(",
     "library": "var_list.r",
     "varRefreshCmd": "cat(var_dic_list()) "
    }
   },
   "types_to_exclude": [
    "module",
    "function",
    "builtin_function_or_method",
    "instance",
    "_Feature"
   ],
   "window_display": false
  }
 },
 "nbformat": 4,
 "nbformat_minor": 2
}

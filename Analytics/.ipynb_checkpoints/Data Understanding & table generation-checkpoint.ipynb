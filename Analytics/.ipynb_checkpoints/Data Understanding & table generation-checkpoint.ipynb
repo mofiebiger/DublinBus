{
 "cells": [
  {
   "cell_type": "markdown",
   "metadata": {},
   "source": [
    "# Importing Modules & setup"
   ]
  },
  {
   "cell_type": "code",
   "execution_count": 172,
   "metadata": {
    "init_cell": true
   },
   "outputs": [
    {
     "data": {
      "text/plain": [
       "<module 'postgres' from '/media/storage/College/S3/Github/DublinBus/Analytics/postgres.py'>"
      ]
     },
     "execution_count": 172,
     "metadata": {},
     "output_type": "execute_result"
    }
   ],
   "source": [
    "import matplotlib.pyplot as plt\n",
    "import matplotlib.mlab as mlab\n",
    "from datetime import timedelta\n",
    "from datetime import datetime\n",
    "import scipy.stats as stats\n",
    "import requests as r\n",
    "import pandas as pd\n",
    "import seaborn as s\n",
    "import numpy as np\n",
    "import postgres\n",
    "import gmaps\n",
    "import json\n",
    "import math\n",
    "\n",
    "import importlib\n",
    "importlib.reload(postgres)\n",
    "\n",
    "# Show all vars\n",
    "from IPython.core.interactiveshell import InteractiveShell\n",
    "InteractiveShell.ast_node_interactivity = \"all\""
   ]
  },
  {
   "cell_type": "code",
   "execution_count": 173,
   "metadata": {
    "code_folding": [],
    "scrolled": true
   },
   "outputs": [
    {
     "name": "stdout",
     "output_type": "stream",
     "text": [
      "stored_queries/diff1011.csv\n",
      "stored_queries/leavetimes_Sample_Data.csv\n",
      "stored_queries/query145leavetimes.csv\n",
      "stored_queries/query145leavetimes_first.csv\n",
      "stored_queries/query145leavetimes_full.csv\n",
      "stored_queries/stop_locations.csv\n",
      "stored_queries/trips_df.csv\n",
      "stored_queries/vehicles_Sample_Data.csv\n",
      "stored_queries/weather_darksky.csv\n",
      "stored_queries/weather_phoenix_park.csv\n"
     ]
    }
   ],
   "source": [
    "%%bash \n",
    "ls stored_queries/*.csv"
   ]
  },
  {
   "cell_type": "markdown",
   "metadata": {},
   "source": [
    "# Importing Data"
   ]
  },
  {
   "cell_type": "markdown",
   "metadata": {},
   "source": [
    "**Reading csv files**"
   ]
  },
  {
   "cell_type": "code",
   "execution_count": 268,
   "metadata": {
    "init_cell": true
   },
   "outputs": [],
   "source": [
    "leave   = pd.read_csv(\"stored_queries/query145leavetimes_first.csv\", header=None)\n",
    "# leave   = pd.read_csv(\"stored_queries/leavetimes_Sample_Data.csv\")\n",
    "weatherMET = pd.read_csv(\"stored_queries/weather_phoenix_park.csv\")\n",
    "weather = pd.read_csv(\"stored_queries/weather_darksky.csv\")\n",
    "stops   = pd.read_csv(\"stored_queries/stop_locations.csv\")\n",
    "trips   = pd.read_csv(\"stored_queries/trips_df.csv\")"
   ]
  },
  {
   "cell_type": "markdown",
   "metadata": {},
   "source": [
    "**Leavetimes Data**"
   ]
  },
  {
   "cell_type": "code",
   "execution_count": 269,
   "metadata": {
    "init_cell": true
   },
   "outputs": [
    {
     "data": {
      "text/html": [
       "<div>\n",
       "<style scoped>\n",
       "    .dataframe tbody tr th:only-of-type {\n",
       "        vertical-align: middle;\n",
       "    }\n",
       "\n",
       "    .dataframe tbody tr th {\n",
       "        vertical-align: top;\n",
       "    }\n",
       "\n",
       "    .dataframe thead th {\n",
       "        text-align: right;\n",
       "    }\n",
       "</style>\n",
       "<table border=\"1\" class=\"dataframe\">\n",
       "  <thead>\n",
       "    <tr style=\"text-align: right;\">\n",
       "      <th></th>\n",
       "      <th>dayofservice</th>\n",
       "      <th>tripid</th>\n",
       "      <th>progrnumber</th>\n",
       "      <th>stopid</th>\n",
       "      <th>planned_arr</th>\n",
       "      <th>planned_dep</th>\n",
       "      <th>actual_arr</th>\n",
       "      <th>actual_dep</th>\n",
       "    </tr>\n",
       "  </thead>\n",
       "  <tbody>\n",
       "    <tr>\n",
       "      <th>0</th>\n",
       "      <td>2018-03-06</td>\n",
       "      <td>6361484</td>\n",
       "      <td>10</td>\n",
       "      <td>842</td>\n",
       "      <td>28777</td>\n",
       "      <td>28799</td>\n",
       "      <td>28994</td>\n",
       "      <td>28994</td>\n",
       "    </tr>\n",
       "  </tbody>\n",
       "</table>\n",
       "</div>"
      ],
      "text/plain": [
       "  dayofservice   tripid  progrnumber  stopid  planned_arr  planned_dep  \\\n",
       "0   2018-03-06  6361484           10     842        28777        28799   \n",
       "\n",
       "   actual_arr  actual_dep  \n",
       "0       28994       28994  "
      ]
     },
     "execution_count": 269,
     "metadata": {},
     "output_type": "execute_result"
    }
   ],
   "source": [
    "leave.columns = ['dayofservice', 'tripid', 'progrnumber', 'stopid', 'planned_arr','planned_dep','actual_arr','actual_dep']\n",
    "# leave.drop(columns=['note','updated','ix'], inplace=True);\n",
    "leave.head(1)\n",
    "                 \n",
    "# leave.columns = ['ix','dayofservice', 'tripid', 'progrnumber', 'stopid', 'planned_arr','planned_dep','actual_arr','actual_dep','note','updated']\n",
    "# leave.drop(columns=['note','updated','ix'], inplace=True);\n",
    "# leave.head(1)"
   ]
  },
  {
   "cell_type": "markdown",
   "metadata": {},
   "source": [
    "**Trips Data**"
   ]
  },
  {
   "cell_type": "code",
   "execution_count": 270,
   "metadata": {
    "init_cell": true,
    "scrolled": true
   },
   "outputs": [
    {
     "data": {
      "text/html": [
       "<div>\n",
       "<style scoped>\n",
       "    .dataframe tbody tr th:only-of-type {\n",
       "        vertical-align: middle;\n",
       "    }\n",
       "\n",
       "    .dataframe tbody tr th {\n",
       "        vertical-align: top;\n",
       "    }\n",
       "\n",
       "    .dataframe thead th {\n",
       "        text-align: right;\n",
       "    }\n",
       "</style>\n",
       "<table border=\"1\" class=\"dataframe\">\n",
       "  <thead>\n",
       "    <tr style=\"text-align: right;\">\n",
       "      <th></th>\n",
       "      <th>dayofservice</th>\n",
       "      <th>tripid</th>\n",
       "      <th>lineid</th>\n",
       "      <th>routeid</th>\n",
       "      <th>direction</th>\n",
       "      <th>planned_arr</th>\n",
       "      <th>planned_dep</th>\n",
       "      <th>actual_arr</th>\n",
       "      <th>actual_dep</th>\n",
       "    </tr>\n",
       "  </thead>\n",
       "  <tbody>\n",
       "    <tr>\n",
       "      <th>0</th>\n",
       "      <td>2018-06-17</td>\n",
       "      <td>7013606</td>\n",
       "      <td>7A</td>\n",
       "      <td>7A_85</td>\n",
       "      <td>1</td>\n",
       "      <td>66484</td>\n",
       "      <td>62400</td>\n",
       "      <td>67065.0</td>\n",
       "      <td>62901.0</td>\n",
       "    </tr>\n",
       "  </tbody>\n",
       "</table>\n",
       "</div>"
      ],
      "text/plain": [
       "  dayofservice   tripid lineid routeid  direction  planned_arr  planned_dep  \\\n",
       "0   2018-06-17  7013606     7A   7A_85          1        66484        62400   \n",
       "\n",
       "   actual_arr  actual_dep  \n",
       "0     67065.0     62901.0  "
      ]
     },
     "execution_count": 270,
     "metadata": {},
     "output_type": "execute_result"
    }
   ],
   "source": [
    "# trips.index.name=\"idx\"\n",
    "trips.columns = ['ix', 'dayofservice', 'tripid', 'lineid', 'routeid','direction', 'planned_arr', 'planned_dep', 'actual_arr', 'actual_dep']\n",
    "trips.drop(columns=['ix'], inplace=True);\n",
    "trips.head(1)"
   ]
  },
  {
   "cell_type": "markdown",
   "metadata": {},
   "source": [
    "**Stop Locations**"
   ]
  },
  {
   "cell_type": "code",
   "execution_count": 271,
   "metadata": {
    "init_cell": true
   },
   "outputs": [
    {
     "data": {
      "text/html": [
       "<div>\n",
       "<style scoped>\n",
       "    .dataframe tbody tr th:only-of-type {\n",
       "        vertical-align: middle;\n",
       "    }\n",
       "\n",
       "    .dataframe tbody tr th {\n",
       "        vertical-align: top;\n",
       "    }\n",
       "\n",
       "    .dataframe thead th {\n",
       "        text-align: right;\n",
       "    }\n",
       "</style>\n",
       "<table border=\"1\" class=\"dataframe\">\n",
       "  <thead>\n",
       "    <tr style=\"text-align: right;\">\n",
       "      <th></th>\n",
       "      <th>actual_stop_id</th>\n",
       "      <th>stop_id</th>\n",
       "      <th>lat</th>\n",
       "      <th>lng</th>\n",
       "      <th>stop name</th>\n",
       "    </tr>\n",
       "  </thead>\n",
       "  <tbody>\n",
       "    <tr>\n",
       "      <th>0</th>\n",
       "      <td>1965</td>\n",
       "      <td>8230DB001965</td>\n",
       "      <td>53.323868</td>\n",
       "      <td>-6.379297</td>\n",
       "      <td>Woodford Walk (Woodford Grove)</td>\n",
       "    </tr>\n",
       "  </tbody>\n",
       "</table>\n",
       "</div>"
      ],
      "text/plain": [
       "  actual_stop_id       stop_id        lat       lng  \\\n",
       "0           1965  8230DB001965  53.323868 -6.379297   \n",
       "\n",
       "                        stop name  \n",
       "0  Woodford Walk (Woodford Grove)  "
      ]
     },
     "execution_count": 271,
     "metadata": {},
     "output_type": "execute_result"
    }
   ],
   "source": [
    "stops.columns = ['ix','actual_stop_id','stop_id','lat','lng','stop name']\n",
    "stops.drop(columns=['ix'], inplace=True)\n",
    "stops.head(1)"
   ]
  },
  {
   "cell_type": "markdown",
   "metadata": {},
   "source": [
    "**Weather Data**"
   ]
  },
  {
   "cell_type": "code",
   "execution_count": 272,
   "metadata": {
    "init_cell": true
   },
   "outputs": [
    {
     "data": {
      "text/html": [
       "<div>\n",
       "<style scoped>\n",
       "    .dataframe tbody tr th:only-of-type {\n",
       "        vertical-align: middle;\n",
       "    }\n",
       "\n",
       "    .dataframe tbody tr th {\n",
       "        vertical-align: top;\n",
       "    }\n",
       "\n",
       "    .dataframe thead th {\n",
       "        text-align: right;\n",
       "    }\n",
       "</style>\n",
       "<table border=\"1\" class=\"dataframe\">\n",
       "  <thead>\n",
       "    <tr style=\"text-align: right;\">\n",
       "      <th></th>\n",
       "      <th>date_recorded</th>\n",
       "      <th>cloudCover</th>\n",
       "      <th>humidity</th>\n",
       "      <th>icon</th>\n",
       "      <th>prepIntensity</th>\n",
       "      <th>temperature</th>\n",
       "      <th>windSpeed</th>\n",
       "    </tr>\n",
       "  </thead>\n",
       "  <tbody>\n",
       "    <tr>\n",
       "      <th>0</th>\n",
       "      <td>2018-01-01 00:00:00</td>\n",
       "      <td>0.58</td>\n",
       "      <td>0.8</td>\n",
       "      <td>partly-cloudy-night</td>\n",
       "      <td>0.0</td>\n",
       "      <td>41.19</td>\n",
       "      <td>17.04</td>\n",
       "    </tr>\n",
       "  </tbody>\n",
       "</table>\n",
       "</div>"
      ],
      "text/plain": [
       "         date_recorded  cloudCover  humidity                 icon  \\\n",
       "0  2018-01-01 00:00:00        0.58       0.8  partly-cloudy-night   \n",
       "\n",
       "   prepIntensity  temperature  windSpeed  \n",
       "0            0.0        41.19      17.04  "
      ]
     },
     "execution_count": 272,
     "metadata": {},
     "output_type": "execute_result"
    },
    {
     "data": {
      "text/html": [
       "<div>\n",
       "<style scoped>\n",
       "    .dataframe tbody tr th:only-of-type {\n",
       "        vertical-align: middle;\n",
       "    }\n",
       "\n",
       "    .dataframe tbody tr th {\n",
       "        vertical-align: top;\n",
       "    }\n",
       "\n",
       "    .dataframe thead th {\n",
       "        text-align: right;\n",
       "    }\n",
       "</style>\n",
       "<table border=\"1\" class=\"dataframe\">\n",
       "  <thead>\n",
       "    <tr style=\"text-align: right;\">\n",
       "      <th></th>\n",
       "      <th>date_recorded</th>\n",
       "      <th>rain</th>\n",
       "      <th>temperature</th>\n",
       "      <th>humidity</th>\n",
       "      <th>windspeed</th>\n",
       "    </tr>\n",
       "  </thead>\n",
       "  <tbody>\n",
       "    <tr>\n",
       "      <th>0</th>\n",
       "      <td>01/01/2018 00:00</td>\n",
       "      <td>0</td>\n",
       "      <td>4.6</td>\n",
       "      <td>82</td>\n",
       "      <td>20</td>\n",
       "    </tr>\n",
       "  </tbody>\n",
       "</table>\n",
       "</div>"
      ],
      "text/plain": [
       "      date_recorded rain  temperature  humidity  windspeed\n",
       "0  01/01/2018 00:00    0          4.6        82         20"
      ]
     },
     "execution_count": 272,
     "metadata": {},
     "output_type": "execute_result"
    }
   ],
   "source": [
    "weather.columns = ['date_recorded','cloudCover','humidity','icon','prepIntensity','pressure','temperature','visibility','windSpeed']\n",
    "weather.drop(columns=['visibility','pressure'],inplace=True)\n",
    "weather.head(1)\n",
    "\n",
    "weatherMET.columns = ['ix','station','date_recorded','rain','temperature','humidity','windspeed','winddir']\n",
    "weatherMET.drop(columns=['ix', 'station','winddir'],inplace=True)\n",
    "weatherMET.head(1)"
   ]
  },
  {
   "cell_type": "markdown",
   "metadata": {},
   "source": [
    "# Cleaning Data"
   ]
  },
  {
   "cell_type": "markdown",
   "metadata": {
    "heading_collapsed": true
   },
   "source": [
    "### Description of Data"
   ]
  },
  {
   "cell_type": "markdown",
   "metadata": {
    "hidden": true
   },
   "source": [
    "<div>\n",
    "<b> Description of Data </b><br>\n",
    "\n",
    "<table style=\"margin-left:0px;float:left;\">\n",
    "<th colspan=2><b>leave Columns Desccription</b></th>\n",
    "<tr>\n",
    "    <td>dayofservice</td>\n",
    "    <td>date of trip</td>\n",
    "</tr>\n",
    "<tr>\n",
    "    <td>tripid</td>\n",
    "    <td>identifier of trip [fk trips]</td>\n",
    "</tr>\n",
    "<tr>\n",
    "    <td>progrnumber </td>\n",
    "    <td>The sequential position of the route in the journey.</td>\n",
    "</tr>\n",
    "<tr>\n",
    "    <td>stopid</td>\n",
    "    <td>stop number</td>\n",
    "</tr>\n",
    "<tr>\n",
    "    <td>planned_arr</td>\n",
    "    <td>planned time of arrival at the stop</td>\n",
    "</tr>\n",
    "<tr>\n",
    "    <td>planned_dep</td>\n",
    "    <td>planned time of departure from stop</td>\n",
    "</tr>\n",
    "<tr>\n",
    "    <td>actual_arr</td>\n",
    "    <td>actual time of arrival at the stop</td>\n",
    "</tr>\n",
    "<tr>\n",
    "    <td>actual_dep</td>\n",
    "    <td>actual time of departure from stop</td>\n",
    "</tr>\n",
    "<tr>\n",
    "    <td>distance</td>\n",
    "    <td>distance travelled up to this point in the journey</td>\n",
    "</tr>\n",
    "</table>\n",
    "\n",
    "\n",
    "<table style=\"margin-left:15px;float:left;\">\n",
    "<th colspan=2><b>Trips Columns Desccription</b></th>\n",
    "<tr>\n",
    "    <td>dayofservice</td>\n",
    "    <td>date of trip</td>\n",
    "</tr>\n",
    "<tr>\n",
    "    <td>tripid</td>\n",
    "    <td>identifier of trip</td>\n",
    "</tr>\n",
    "<tr>\n",
    "    <td>lineid</td>\n",
    "    <td>bus route id/name</td>\n",
    "</tr>\n",
    "<tr>\n",
    "    <td>routeid</td>\n",
    "    <td>Unique route identifier [change with stop changes for line number]</td>\n",
    "</tr>\n",
    "<tr>\n",
    "    <td>direction</td>\n",
    "    <td>Forward or backward journey</td>\n",
    "</tr>\n",
    "<tr>\n",
    "    <td>planned_arr</td>\n",
    "    <td>planned time of arrival at end</td>\n",
    "</tr>\n",
    "<tr>\n",
    "    <td>planned_dep</td>\n",
    "    <td>planned time of departure from start</td>\n",
    "</tr>\n",
    "<tr>\n",
    "    <td>actual_arr</td>\n",
    "    <td>actual time of arrival at end</td>\n",
    "</tr>\n",
    "<tr>\n",
    "    <td>actual_dep</td>\n",
    "    <td>actual time of departure from start</td>\n",
    "</tr>\n",
    "</table>\n",
    "\n",
    "<table style=\"margin-left:15px;float:left;\">\n",
    "<th colspan=2><b>Stops Columns Desccription</b></th>\n",
    "<tr>\n",
    "    <td>actual_stop_id</td>\n",
    "    <td>Stop Number</td>\n",
    "</tr>\n",
    "<tr>\n",
    "    <td>stop_id</td>\n",
    "    <td>full identifier of stop</td>\n",
    "</tr>\n",
    "<tr>\n",
    "    <td>lat</td>\n",
    "    <td>latitude</td>\n",
    "</tr>\n",
    "<tr>\n",
    "    <td>lng</td>\n",
    "    <td>longitude</td>\n",
    "</tr>\n",
    "<tr>\n",
    "    <td>stop name</td>\n",
    "    <td>address of stop</td>\n",
    "</tr>\n",
    "</table>\n",
    "\n",
    "<table style=\"margin-left:15px;float:left;\">\n",
    "<th colspan=2><b>Weather Columns Desccription</b></th>\n",
    "<tr>\n",
    "    <td>cloudCover</td>\n",
    "    <td>The percentage of sky occluded by clouds, between 0 and 1, inclusive</td>\n",
    "</tr>\n",
    "<tr>\n",
    "    <td>humidity</td>\n",
    "    <td>The relative humidity, between 0 and 1, inclusive.</td>\n",
    "</tr>\n",
    "<tr>\n",
    "    <td>icon</td>\n",
    "    <td>One of : 'partly-cloudy-night', 'partly-cloudy-day', 'rain', 'wind',\n",
    "       'cloudy', 'fog', 'clear-night', 'clear-day'</td>\n",
    "</tr>\n",
    "<tr>\n",
    "    <td>prepIntensity</td>\n",
    "    <td>The intensity (in inches of liquid water per hour) of precipitation occurring at the given time. <br>This value is conditional on probability (that is, assuming any precipitation occurs at all).</td>\n",
    "</tr>\n",
    "<tr>\n",
    "    <td>pressure</td>\n",
    "    <td>The sea-level air pressure in millibars.</td>\n",
    "</tr>\n",
    "<tr>\n",
    "    <td>temperature\t</td>\n",
    "    <td>The air temperature in degrees Fahrenheit</td>\n",
    "</tr>\n",
    "<tr>\n",
    "    <td>windSpeed</td>\n",
    "    <td>The wind speed in miles per hour.</td>\n",
    "</tr>\n",
    "\n",
    "</table>\n",
    "</div>"
   ]
  },
  {
   "cell_type": "markdown",
   "metadata": {
    "hidden": true
   },
   "source": [
    "**Notes on Data**"
   ]
  },
  {
   "cell_type": "markdown",
   "metadata": {
    "hidden": true
   },
   "source": [
    "Leavetimes Table: \n",
    "- There are 4774 distinct stop ids\n",
    "- There dates run between 01/01/18 and 31/12/18\n",
    "- Tripid is not unique to a single bus journey but rather a specific route taken by the bus.\n",
    "- Progrnumber has min value 1 and max value of 109 indicating there are no more than 109 stops in any given route\n",
    "- All time columns may go over the 86400 mark indicating they have pushed over into the next day. $ t \\in [16200, 91680]$\n",
    "- distance may be useful - unsure yet. If a graph structure is made of the connected stops the distance between a given two could be useful. \n",
    "\n",
    "Trips Table:\n",
    "- lineid does not contain all the bus routes [17, 175, etc not included]\n",
    "- routeid needs more attention \n",
    "- direction which way its going along the route - this is useless as the distance between stops is route agnostic\n",
    "- times can go beyond 86400 if trips take extra long. \n",
    "\n",
    "Stops Table:\n",
    "- actual_stop_id may be useful - need to link it to stoppointid from the leave times table\n",
    "- lat,lng are very useful. \n",
    "- stop names are probably useless [other that front end use]\n",
    "\n",
    "Weather Table:\n",
    "- missing a rake of data - Not sure how to rectify this yet. Maybe need to use the met eireann data where there arent missing values ?? \n",
    "- Have currently put in the wrong data but this may be an issue. "
   ]
  },
  {
   "cell_type": "markdown",
   "metadata": {
    "heading_collapsed": true
   },
   "source": [
    "### Weather Table"
   ]
  },
  {
   "cell_type": "markdown",
   "metadata": {
    "hidden": true
   },
   "source": [
    "#### Setting Data Types"
   ]
  },
  {
   "cell_type": "code",
   "execution_count": 273,
   "metadata": {
    "hidden": true
   },
   "outputs": [
    {
     "data": {
      "text/plain": [
       "date_recorded     object\n",
       "cloudCover       float64\n",
       "humidity         float64\n",
       "icon              object\n",
       "prepIntensity    float64\n",
       "temperature      float64\n",
       "windSpeed        float64\n",
       "dtype: object"
      ]
     },
     "execution_count": 273,
     "metadata": {},
     "output_type": "execute_result"
    },
    {
     "data": {
      "text/plain": [
       "date_recorded     object\n",
       "rain              object\n",
       "temperature      float64\n",
       "humidity           int64\n",
       "windspeed          int64\n",
       "dtype: object"
      ]
     },
     "execution_count": 273,
     "metadata": {},
     "output_type": "execute_result"
    }
   ],
   "source": [
    "weather.dtypes\n",
    "weatherMET.dtypes"
   ]
  },
  {
   "cell_type": "code",
   "execution_count": 274,
   "metadata": {
    "hidden": true
   },
   "outputs": [],
   "source": [
    "weatherMET.date_recorded = pd.to_datetime(weatherMET.date_recorded)\n",
    "weather.date_recorded= pd.to_datetime(weather.date_recorded)"
   ]
  },
  {
   "cell_type": "code",
   "execution_count": 275,
   "metadata": {
    "hidden": true,
    "scrolled": true
   },
   "outputs": [
    {
     "name": "stdout",
     "output_type": "stream",
     "text": [
      "icon Values\n"
     ]
    },
    {
     "data": {
      "text/plain": [
       "array(['partly-cloudy-night', 'partly-cloudy-day', 'rain', 'wind',\n",
       "       'cloudy', 'fog', 'clear-night', 'clear-day'], dtype=object)"
      ]
     },
     "execution_count": 275,
     "metadata": {},
     "output_type": "execute_result"
    }
   ],
   "source": [
    "print(\"icon Values\")\n",
    "weather.icon.unique()"
   ]
  },
  {
   "cell_type": "code",
   "execution_count": 276,
   "metadata": {
    "hidden": true
   },
   "outputs": [],
   "source": [
    "weather.icon = weather.icon.astype('category');"
   ]
  },
  {
   "cell_type": "markdown",
   "metadata": {
    "hidden": true
   },
   "source": [
    "#### Looking for Null / Missing / Duplicated Data"
   ]
  },
  {
   "cell_type": "code",
   "execution_count": 277,
   "metadata": {
    "hidden": true,
    "init_cell": true,
    "scrolled": true
   },
   "outputs": [
    {
     "data": {
      "text/html": [
       "<div>\n",
       "<style scoped>\n",
       "    .dataframe tbody tr th:only-of-type {\n",
       "        vertical-align: middle;\n",
       "    }\n",
       "\n",
       "    .dataframe tbody tr th {\n",
       "        vertical-align: top;\n",
       "    }\n",
       "\n",
       "    .dataframe thead th {\n",
       "        text-align: right;\n",
       "    }\n",
       "</style>\n",
       "<table border=\"1\" class=\"dataframe\">\n",
       "  <thead>\n",
       "    <tr style=\"text-align: right;\">\n",
       "      <th></th>\n",
       "      <th>NonNull</th>\n",
       "      <th>Null</th>\n",
       "      <th>PctNull</th>\n",
       "    </tr>\n",
       "  </thead>\n",
       "  <tbody>\n",
       "    <tr>\n",
       "      <th>date_recorded</th>\n",
       "      <td>8751</td>\n",
       "      <td>0</td>\n",
       "      <td>0.00</td>\n",
       "    </tr>\n",
       "    <tr>\n",
       "      <th>cloudCover</th>\n",
       "      <td>8496</td>\n",
       "      <td>255</td>\n",
       "      <td>2.91</td>\n",
       "    </tr>\n",
       "    <tr>\n",
       "      <th>humidity</th>\n",
       "      <td>8751</td>\n",
       "      <td>0</td>\n",
       "      <td>0.00</td>\n",
       "    </tr>\n",
       "    <tr>\n",
       "      <th>icon</th>\n",
       "      <td>8751</td>\n",
       "      <td>0</td>\n",
       "      <td>0.00</td>\n",
       "    </tr>\n",
       "    <tr>\n",
       "      <th>prepIntensity</th>\n",
       "      <td>7617</td>\n",
       "      <td>1134</td>\n",
       "      <td>12.96</td>\n",
       "    </tr>\n",
       "    <tr>\n",
       "      <th>temperature</th>\n",
       "      <td>8751</td>\n",
       "      <td>0</td>\n",
       "      <td>0.00</td>\n",
       "    </tr>\n",
       "    <tr>\n",
       "      <th>windSpeed</th>\n",
       "      <td>8745</td>\n",
       "      <td>6</td>\n",
       "      <td>0.07</td>\n",
       "    </tr>\n",
       "  </tbody>\n",
       "</table>\n",
       "</div>"
      ],
      "text/plain": [
       "               NonNull  Null  PctNull\n",
       "date_recorded     8751     0     0.00\n",
       "cloudCover        8496   255     2.91\n",
       "humidity          8751     0     0.00\n",
       "icon              8751     0     0.00\n",
       "prepIntensity     7617  1134    12.96\n",
       "temperature       8751     0     0.00\n",
       "windSpeed         8745     6     0.07"
      ]
     },
     "execution_count": 277,
     "metadata": {},
     "output_type": "execute_result"
    }
   ],
   "source": [
    "weather_count = pd.DataFrame([weather.count(), weather.isnull().sum()]).transpose()\n",
    "weather_count.columns=['NonNull','Null']\n",
    "weather_count['PctNull'] = round(100 * weather_count.Null / (weather_count.NonNull + weather_count.Null),2)\n",
    "weather_count"
   ]
  },
  {
   "cell_type": "markdown",
   "metadata": {
    "hidden": true
   },
   "source": [
    "#### Handling Missing/ Null/ Duplicated Data"
   ]
  },
  {
   "cell_type": "markdown",
   "metadata": {
    "hidden": true
   },
   "source": [
    "##### CloudCover Column"
   ]
  },
  {
   "cell_type": "code",
   "execution_count": 278,
   "metadata": {
    "code_folding": [
     0
    ],
    "hidden": true
   },
   "outputs": [],
   "source": [
    "# plt.figure(figsize=(30 ,5))\n",
    "# plt.plot(weather.cloudCover)\n",
    "# plt.xlim([4000,4500])"
   ]
  },
  {
   "cell_type": "code",
   "execution_count": 279,
   "metadata": {
    "code_folding": [
     0
    ],
    "hidden": true
   },
   "outputs": [],
   "source": [
    "# ser = weather.cloudCover\n",
    "\n",
    "# for row in ser.index:\n",
    "    \n",
    "#     if pd.isnull(ser.iloc[row]):\n",
    "        \n",
    "#         i=1\n",
    "#         j=1\n",
    "#         print(ser.isnull().sum(), end='-')\n",
    "        \n",
    "#         while pd.isnull(ser.iloc[row]):\n",
    "            \n",
    "#             if not (pd.isnull(ser.iloc[row-i]) and pd.isnull(ser.iloc[row+j])):\n",
    "#                 ser.iloc[row] = (ser.iloc[row-i]+ser.iloc[row+j])/2\n",
    "            \n",
    "#             elif not pd.isnull(ser.iloc[row-i]):\n",
    "#                 ser.iloc[row] = ser.iloc[row-i]\n",
    "#                 i+=1\n",
    "#                 continue\n",
    "                \n",
    "#             elif not pd.isnull(ser.iloc[row+j]):\n",
    "#                 ser.iloc[row] = ser.iloc[row+j]\n",
    "#                 j+=1\n",
    "#                 continue\n",
    "                \n",
    "#             j+=1\n",
    "#             i+=1"
   ]
  },
  {
   "cell_type": "code",
   "execution_count": 280,
   "metadata": {
    "code_folding": [
     0
    ],
    "hidden": true
   },
   "outputs": [],
   "source": [
    "# plt.figure(figsize=(30 ,5))\n",
    "# plt.plot(ser)\n",
    "# plt.xlim([4000,4500])"
   ]
  },
  {
   "cell_type": "markdown",
   "metadata": {
    "hidden": true
   },
   "source": [
    "##### PrepIntensity Column"
   ]
  },
  {
   "cell_type": "markdown",
   "metadata": {
    "hidden": true
   },
   "source": [
    "Solution: The column prepIntensity will be replaced with the column rain from the met Eireann data. "
   ]
  },
  {
   "cell_type": "code",
   "execution_count": 281,
   "metadata": {
    "hidden": true
   },
   "outputs": [],
   "source": [
    "# weatherdf = pd.merge(weather, weatherMET, how='outer', on='date_recorded')"
   ]
  },
  {
   "cell_type": "markdown",
   "metadata": {
    "heading_collapsed": true
   },
   "source": [
    "### Leave Times Table"
   ]
  },
  {
   "cell_type": "markdown",
   "metadata": {
    "hidden": true
   },
   "source": [
    "#### Setting Data Types"
   ]
  },
  {
   "cell_type": "code",
   "execution_count": 282,
   "metadata": {
    "hidden": true
   },
   "outputs": [
    {
     "data": {
      "text/plain": [
       "dayofservice    object\n",
       "tripid           int64\n",
       "progrnumber      int64\n",
       "stopid           int64\n",
       "planned_arr      int64\n",
       "planned_dep      int64\n",
       "actual_arr       int64\n",
       "actual_dep       int64\n",
       "dtype: object"
      ]
     },
     "execution_count": 282,
     "metadata": {},
     "output_type": "execute_result"
    }
   ],
   "source": [
    "leave.dtypes"
   ]
  },
  {
   "cell_type": "code",
   "execution_count": 283,
   "metadata": {
    "hidden": true
   },
   "outputs": [],
   "source": [
    "leave.dayofservice = pd.to_datetime(leave.dayofservice.iloc[:])"
   ]
  },
  {
   "cell_type": "markdown",
   "metadata": {
    "hidden": true
   },
   "source": [
    "#### Looking for Null / Missing / Duplicated Data"
   ]
  },
  {
   "cell_type": "code",
   "execution_count": 284,
   "metadata": {
    "hidden": true
   },
   "outputs": [
    {
     "data": {
      "text/html": [
       "<div>\n",
       "<style scoped>\n",
       "    .dataframe tbody tr th:only-of-type {\n",
       "        vertical-align: middle;\n",
       "    }\n",
       "\n",
       "    .dataframe tbody tr th {\n",
       "        vertical-align: top;\n",
       "    }\n",
       "\n",
       "    .dataframe thead th {\n",
       "        text-align: right;\n",
       "    }\n",
       "</style>\n",
       "<table border=\"1\" class=\"dataframe\">\n",
       "  <thead>\n",
       "    <tr style=\"text-align: right;\">\n",
       "      <th></th>\n",
       "      <th>NonNull</th>\n",
       "      <th>Null</th>\n",
       "      <th>PctNull</th>\n",
       "    </tr>\n",
       "  </thead>\n",
       "  <tbody>\n",
       "    <tr>\n",
       "      <th>dayofservice</th>\n",
       "      <td>9951765</td>\n",
       "      <td>0</td>\n",
       "      <td>0.0</td>\n",
       "    </tr>\n",
       "    <tr>\n",
       "      <th>tripid</th>\n",
       "      <td>9951765</td>\n",
       "      <td>0</td>\n",
       "      <td>0.0</td>\n",
       "    </tr>\n",
       "    <tr>\n",
       "      <th>progrnumber</th>\n",
       "      <td>9951765</td>\n",
       "      <td>0</td>\n",
       "      <td>0.0</td>\n",
       "    </tr>\n",
       "    <tr>\n",
       "      <th>stopid</th>\n",
       "      <td>9951765</td>\n",
       "      <td>0</td>\n",
       "      <td>0.0</td>\n",
       "    </tr>\n",
       "    <tr>\n",
       "      <th>planned_arr</th>\n",
       "      <td>9951765</td>\n",
       "      <td>0</td>\n",
       "      <td>0.0</td>\n",
       "    </tr>\n",
       "    <tr>\n",
       "      <th>planned_dep</th>\n",
       "      <td>9951765</td>\n",
       "      <td>0</td>\n",
       "      <td>0.0</td>\n",
       "    </tr>\n",
       "    <tr>\n",
       "      <th>actual_arr</th>\n",
       "      <td>9951765</td>\n",
       "      <td>0</td>\n",
       "      <td>0.0</td>\n",
       "    </tr>\n",
       "    <tr>\n",
       "      <th>actual_dep</th>\n",
       "      <td>9951765</td>\n",
       "      <td>0</td>\n",
       "      <td>0.0</td>\n",
       "    </tr>\n",
       "  </tbody>\n",
       "</table>\n",
       "</div>"
      ],
      "text/plain": [
       "              NonNull  Null  PctNull\n",
       "dayofservice  9951765     0      0.0\n",
       "tripid        9951765     0      0.0\n",
       "progrnumber   9951765     0      0.0\n",
       "stopid        9951765     0      0.0\n",
       "planned_arr   9951765     0      0.0\n",
       "planned_dep   9951765     0      0.0\n",
       "actual_arr    9951765     0      0.0\n",
       "actual_dep    9951765     0      0.0"
      ]
     },
     "execution_count": 284,
     "metadata": {},
     "output_type": "execute_result"
    }
   ],
   "source": [
    "# Note this is just on a subset of the actual data\n",
    "leave_count = pd.DataFrame([leave.count(), leave.isnull().sum()]).transpose()\n",
    "leave_count.columns=['NonNull','Null']\n",
    "leave_count['PctNull'] = round(100 * leave_count.Null / (leave_count.NonNull + leave_count.Null),2)\n",
    "leave_count"
   ]
  },
  {
   "cell_type": "code",
   "execution_count": 285,
   "metadata": {
    "hidden": true
   },
   "outputs": [],
   "source": [
    "leave[\"is_duplicated\"]=leave.duplicated(subset=['dayofservice', 'tripid', 'progrnumber'], keep=False)"
   ]
  },
  {
   "cell_type": "code",
   "execution_count": 286,
   "metadata": {
    "hidden": true,
    "scrolled": false
   },
   "outputs": [],
   "source": [
    "# leave[leave.is_duplicated==True].groupby(by=['dayofservice', 'tripid', 'progrnumber']).head()"
   ]
  },
  {
   "cell_type": "markdown",
   "metadata": {
    "hidden": true
   },
   "source": [
    "#### Handling Missing/ Null/ Duplicated Data"
   ]
  },
  {
   "cell_type": "code",
   "execution_count": 287,
   "metadata": {
    "hidden": true
   },
   "outputs": [],
   "source": [
    "# None detected"
   ]
  },
  {
   "cell_type": "markdown",
   "metadata": {
    "heading_collapsed": true
   },
   "source": [
    "### Trips Table"
   ]
  },
  {
   "cell_type": "markdown",
   "metadata": {
    "hidden": true
   },
   "source": [
    "#### Setting Data Types"
   ]
  },
  {
   "cell_type": "markdown",
   "metadata": {
    "hidden": true
   },
   "source": [
    "Want to delete the rows with missing values.<br> However, Need to check if there are \n",
    "any tripids in the leavetimes table that have a linked lineid in trips first. \n",
    "If no links are found, then there rows will be deleted. <br>\n",
    "=> links found => fuck"
   ]
  },
  {
   "cell_type": "code",
   "execution_count": 288,
   "metadata": {
    "hidden": true
   },
   "outputs": [
    {
     "data": {
      "text/plain": [
       "dayofservice     object\n",
       "tripid            int64\n",
       "lineid           object\n",
       "routeid          object\n",
       "direction         int64\n",
       "planned_arr       int64\n",
       "planned_dep       int64\n",
       "actual_arr      float64\n",
       "actual_dep      float64\n",
       "dtype: object"
      ]
     },
     "execution_count": 288,
     "metadata": {},
     "output_type": "execute_result"
    }
   ],
   "source": [
    "trips.dtypes"
   ]
  },
  {
   "cell_type": "code",
   "execution_count": 289,
   "metadata": {
    "hidden": true
   },
   "outputs": [
    {
     "data": {
      "text/plain": [
       "['7A', '41C', '31', '67', '44', '27', '53', '4', '65B', '140']"
      ]
     },
     "execution_count": 289,
     "metadata": {},
     "output_type": "execute_result"
    },
    {
     "data": {
      "text/plain": [
       "['7A_85', '41C_79', '31_15', '67_6', '44_36']"
      ]
     },
     "execution_count": 289,
     "metadata": {},
     "output_type": "execute_result"
    }
   ],
   "source": [
    "list(trips.lineid.unique()[:10])\n",
    "list(trips.routeid.unique()[:5])\n"
   ]
  },
  {
   "cell_type": "code",
   "execution_count": 290,
   "metadata": {
    "hidden": true
   },
   "outputs": [],
   "source": [
    "trips.dayofservice = pd.to_datetime(trips.dayofservice.iloc[:])\n",
    "trips.lineid = trips.lineid.astype('category');\n",
    "trips.routeid= trips.routeid.astype('category');"
   ]
  },
  {
   "cell_type": "markdown",
   "metadata": {
    "heading_collapsed": true,
    "hidden": true
   },
   "source": [
    "#### Looking for Null / Missing / Duplicated Data"
   ]
  },
  {
   "cell_type": "code",
   "execution_count": 291,
   "metadata": {
    "hidden": true,
    "scrolled": false
   },
   "outputs": [
    {
     "name": "stdout",
     "output_type": "stream",
     "text": [
      "No. Null actual_arr and actual_dep: 12488\n",
      "No. Null actual_arr or  actual_dep: 164551\n",
      "No. Null actual_arr: 137207\n",
      "No. Null actual_dep: 164551\n"
     ]
    },
    {
     "data": {
      "text/html": [
       "<div>\n",
       "<style scoped>\n",
       "    .dataframe tbody tr th:only-of-type {\n",
       "        vertical-align: middle;\n",
       "    }\n",
       "\n",
       "    .dataframe tbody tr th {\n",
       "        vertical-align: top;\n",
       "    }\n",
       "\n",
       "    .dataframe thead th {\n",
       "        text-align: right;\n",
       "    }\n",
       "</style>\n",
       "<table border=\"1\" class=\"dataframe\">\n",
       "  <thead>\n",
       "    <tr style=\"text-align: right;\">\n",
       "      <th></th>\n",
       "      <th>NonNull</th>\n",
       "      <th>Null</th>\n",
       "      <th>PctNull</th>\n",
       "    </tr>\n",
       "  </thead>\n",
       "  <tbody>\n",
       "    <tr>\n",
       "      <th>dayofservice</th>\n",
       "      <td>2182637</td>\n",
       "      <td>0</td>\n",
       "      <td>0.00</td>\n",
       "    </tr>\n",
       "    <tr>\n",
       "      <th>tripid</th>\n",
       "      <td>2182637</td>\n",
       "      <td>0</td>\n",
       "      <td>0.00</td>\n",
       "    </tr>\n",
       "    <tr>\n",
       "      <th>lineid</th>\n",
       "      <td>2182637</td>\n",
       "      <td>0</td>\n",
       "      <td>0.00</td>\n",
       "    </tr>\n",
       "    <tr>\n",
       "      <th>routeid</th>\n",
       "      <td>2182637</td>\n",
       "      <td>0</td>\n",
       "      <td>0.00</td>\n",
       "    </tr>\n",
       "    <tr>\n",
       "      <th>direction</th>\n",
       "      <td>2182637</td>\n",
       "      <td>0</td>\n",
       "      <td>0.00</td>\n",
       "    </tr>\n",
       "    <tr>\n",
       "      <th>planned_arr</th>\n",
       "      <td>2182637</td>\n",
       "      <td>0</td>\n",
       "      <td>0.00</td>\n",
       "    </tr>\n",
       "    <tr>\n",
       "      <th>planned_dep</th>\n",
       "      <td>2182637</td>\n",
       "      <td>0</td>\n",
       "      <td>0.00</td>\n",
       "    </tr>\n",
       "    <tr>\n",
       "      <th>actual_arr</th>\n",
       "      <td>2045430</td>\n",
       "      <td>137207</td>\n",
       "      <td>6.29</td>\n",
       "    </tr>\n",
       "    <tr>\n",
       "      <th>actual_dep</th>\n",
       "      <td>2018086</td>\n",
       "      <td>164551</td>\n",
       "      <td>7.54</td>\n",
       "    </tr>\n",
       "  </tbody>\n",
       "</table>\n",
       "</div>"
      ],
      "text/plain": [
       "              NonNull    Null  PctNull\n",
       "dayofservice  2182637       0     0.00\n",
       "tripid        2182637       0     0.00\n",
       "lineid        2182637       0     0.00\n",
       "routeid       2182637       0     0.00\n",
       "direction     2182637       0     0.00\n",
       "planned_arr   2182637       0     0.00\n",
       "planned_dep   2182637       0     0.00\n",
       "actual_arr    2045430  137207     6.29\n",
       "actual_dep    2018086  164551     7.54"
      ]
     },
     "execution_count": 291,
     "metadata": {},
     "output_type": "execute_result"
    }
   ],
   "source": [
    "print(f\"No. Null actual_arr and actual_dep: {trips[trips.actual_arr.isnull() & trips.actual_dep.isnull()].isnull().sum()['actual_arr']}\")\n",
    "print(f\"No. Null actual_arr or  actual_dep: {trips[trips.actual_arr.isnull() | trips.actual_dep.isnull()].isnull().sum().max()}\")\n",
    "print(f\"No. Null actual_arr: {trips[trips.actual_arr.isnull()].isnull().sum()['actual_arr']}\")\n",
    "print(f\"No. Null actual_dep: {trips[trips.actual_dep.isnull()].isnull().sum()['actual_dep']}\")\n",
    "\n",
    "trips_count = pd.DataFrame([trips.count(), trips.isnull().sum()]).transpose()\n",
    "trips_count.columns=['NonNull','Null']\n",
    "trips_count['PctNull'] = round(100 * trips_count.Null / (trips_count.NonNull + trips_count.Null),2)\n",
    "trips_count"
   ]
  },
  {
   "cell_type": "markdown",
   "metadata": {
    "heading_collapsed": true,
    "hidden": true
   },
   "source": [
    "#### Handling Missing/ Null/ Duplicated Data"
   ]
  },
  {
   "cell_type": "markdown",
   "metadata": {
    "hidden": true
   },
   "source": [
    "**Given that its stop to stop times being modeled. It should be fine to drop the time columns from trips.**"
   ]
  },
  {
   "cell_type": "code",
   "execution_count": 292,
   "metadata": {
    "hidden": true
   },
   "outputs": [
    {
     "data": {
      "text/html": [
       "<div>\n",
       "<style scoped>\n",
       "    .dataframe tbody tr th:only-of-type {\n",
       "        vertical-align: middle;\n",
       "    }\n",
       "\n",
       "    .dataframe tbody tr th {\n",
       "        vertical-align: top;\n",
       "    }\n",
       "\n",
       "    .dataframe thead th {\n",
       "        text-align: right;\n",
       "    }\n",
       "</style>\n",
       "<table border=\"1\" class=\"dataframe\">\n",
       "  <thead>\n",
       "    <tr style=\"text-align: right;\">\n",
       "      <th></th>\n",
       "      <th>dayofservice</th>\n",
       "      <th>tripid</th>\n",
       "      <th>lineid</th>\n",
       "      <th>routeid</th>\n",
       "      <th>direction</th>\n",
       "    </tr>\n",
       "  </thead>\n",
       "  <tbody>\n",
       "    <tr>\n",
       "      <th>0</th>\n",
       "      <td>2018-06-17</td>\n",
       "      <td>7013606</td>\n",
       "      <td>7A</td>\n",
       "      <td>7A_85</td>\n",
       "      <td>1</td>\n",
       "    </tr>\n",
       "  </tbody>\n",
       "</table>\n",
       "</div>"
      ],
      "text/plain": [
       "  dayofservice   tripid lineid routeid  direction\n",
       "0   2018-06-17  7013606     7A   7A_85          1"
      ]
     },
     "execution_count": 292,
     "metadata": {},
     "output_type": "execute_result"
    }
   ],
   "source": [
    "trips.drop(columns=['planned_arr', 'planned_dep', 'actual_arr', 'actual_dep'], inplace=True)\n",
    "trips.head(1)"
   ]
  },
  {
   "cell_type": "markdown",
   "metadata": {
    "heading_collapsed": true
   },
   "source": [
    "### Stops Table"
   ]
  },
  {
   "cell_type": "markdown",
   "metadata": {
    "heading_collapsed": true,
    "hidden": true
   },
   "source": [
    "#### Setting Data Types"
   ]
  },
  {
   "cell_type": "code",
   "execution_count": 293,
   "metadata": {
    "hidden": true
   },
   "outputs": [
    {
     "data": {
      "text/plain": [
       "actual_stop_id     object\n",
       "stop_id            object\n",
       "lat               float64\n",
       "lng               float64\n",
       "stop name          object\n",
       "dtype: object"
      ]
     },
     "execution_count": 293,
     "metadata": {},
     "output_type": "execute_result"
    }
   ],
   "source": [
    "stops.dtypes"
   ]
  },
  {
   "cell_type": "code",
   "execution_count": 294,
   "metadata": {
    "hidden": true
   },
   "outputs": [
    {
     "data": {
      "text/plain": [
       "array(['1965', '1112', '318', ..., '7015', '7016', '3370'], dtype=object)"
      ]
     },
     "execution_count": 294,
     "metadata": {},
     "output_type": "execute_result"
    },
    {
     "data": {
      "text/plain": [
       "['8230DB001965',\n",
       " '8230DB001112',\n",
       " '8220DB000318',\n",
       " '8230DB000100',\n",
       " '8220DB002396']"
      ]
     },
     "execution_count": 294,
     "metadata": {},
     "output_type": "execute_result"
    },
    {
     "data": {
      "text/plain": [
       "['Woodford Walk (Woodford Grove)',\n",
       " 'Whitehall Park',\n",
       " \"Westmoreland Street (O'Connell Bridge)\",\n",
       " 'Wellington Lane (Wellington Green',\n",
       " 'Wainsfort Estate']"
      ]
     },
     "execution_count": 294,
     "metadata": {},
     "output_type": "execute_result"
    }
   ],
   "source": [
    "stops.actual_stop_id.unique()\n",
    "list(stops.stop_id.unique()[:5])\n",
    "list(stops['stop name'].unique()[:5])"
   ]
  },
  {
   "cell_type": "code",
   "execution_count": 295,
   "metadata": {
    "hidden": true
   },
   "outputs": [],
   "source": [
    "# replace errors and drop nas to set data type as int\n",
    "stops.actual_stop_id = stops.actual_stop_id[~stops.actual_stop_id.str.contains(':')]\n",
    "stops = stops.dropna()\n",
    "stops.actual_stop_id = stops.actual_stop_id.astype(int)"
   ]
  },
  {
   "cell_type": "code",
   "execution_count": 297,
   "metadata": {
    "hidden": true
   },
   "outputs": [],
   "source": [
    "stops.stop_id = stops.stop_id.astype(str)\n",
    "stops['stop name']=stops['stop name'].astype(str)"
   ]
  },
  {
   "cell_type": "code",
   "execution_count": 298,
   "metadata": {
    "hidden": true
   },
   "outputs": [
    {
     "data": {
      "text/plain": [
       "actual_stop_id      int64\n",
       "stop_id            object\n",
       "lat               float64\n",
       "lng               float64\n",
       "stop name          object\n",
       "dtype: object"
      ]
     },
     "execution_count": 298,
     "metadata": {},
     "output_type": "execute_result"
    }
   ],
   "source": [
    "stops.dtypes"
   ]
  },
  {
   "cell_type": "markdown",
   "metadata": {
    "heading_collapsed": true,
    "hidden": true
   },
   "source": [
    "#### Looking for Null / Missing / Duplicated Data"
   ]
  },
  {
   "cell_type": "code",
   "execution_count": 299,
   "metadata": {
    "hidden": true
   },
   "outputs": [
    {
     "data": {
      "text/html": [
       "<div>\n",
       "<style scoped>\n",
       "    .dataframe tbody tr th:only-of-type {\n",
       "        vertical-align: middle;\n",
       "    }\n",
       "\n",
       "    .dataframe tbody tr th {\n",
       "        vertical-align: top;\n",
       "    }\n",
       "\n",
       "    .dataframe thead th {\n",
       "        text-align: right;\n",
       "    }\n",
       "</style>\n",
       "<table border=\"1\" class=\"dataframe\">\n",
       "  <thead>\n",
       "    <tr style=\"text-align: right;\">\n",
       "      <th></th>\n",
       "      <th>NonNull</th>\n",
       "      <th>Null</th>\n",
       "      <th>PctNull</th>\n",
       "    </tr>\n",
       "  </thead>\n",
       "  <tbody>\n",
       "    <tr>\n",
       "      <th>actual_stop_id</th>\n",
       "      <td>4228</td>\n",
       "      <td>0</td>\n",
       "      <td>0.0</td>\n",
       "    </tr>\n",
       "    <tr>\n",
       "      <th>stop_id</th>\n",
       "      <td>4228</td>\n",
       "      <td>0</td>\n",
       "      <td>0.0</td>\n",
       "    </tr>\n",
       "    <tr>\n",
       "      <th>lat</th>\n",
       "      <td>4228</td>\n",
       "      <td>0</td>\n",
       "      <td>0.0</td>\n",
       "    </tr>\n",
       "    <tr>\n",
       "      <th>lng</th>\n",
       "      <td>4228</td>\n",
       "      <td>0</td>\n",
       "      <td>0.0</td>\n",
       "    </tr>\n",
       "    <tr>\n",
       "      <th>stop name</th>\n",
       "      <td>4228</td>\n",
       "      <td>0</td>\n",
       "      <td>0.0</td>\n",
       "    </tr>\n",
       "  </tbody>\n",
       "</table>\n",
       "</div>"
      ],
      "text/plain": [
       "                NonNull  Null  PctNull\n",
       "actual_stop_id     4228     0      0.0\n",
       "stop_id            4228     0      0.0\n",
       "lat                4228     0      0.0\n",
       "lng                4228     0      0.0\n",
       "stop name          4228     0      0.0"
      ]
     },
     "execution_count": 299,
     "metadata": {},
     "output_type": "execute_result"
    }
   ],
   "source": [
    "stops_count = pd.DataFrame([stops.count(), stops.isnull().sum()]).transpose()\n",
    "stops_count.columns=['NonNull','Null']\n",
    "stops_count['PctNull'] = round(100 * stops_count.Null / (stops_count.NonNull + stops_count.Null),2)\n",
    "stops_count"
   ]
  },
  {
   "cell_type": "markdown",
   "metadata": {
    "heading_collapsed": true
   },
   "source": [
    "### Summary"
   ]
  },
  {
   "cell_type": "markdown",
   "metadata": {
    "hidden": true
   },
   "source": [
    "The tables leave and stops have no null values. \n",
    "\n",
    "Trips:<br> \n",
    "Null Values in the actual_arr and actual_dep columns. According to the accompanying documentation this denotes a suppressed journey. \n",
    "\n",
    "Weather<br>\n",
    "Missing Values in the cloudCover, PrepIntensity and Pressure Columns. This is possible to rectify by using a different weather source."
   ]
  },
  {
   "cell_type": "markdown",
   "metadata": {},
   "source": [
    "# Investigating features"
   ]
  },
  {
   "cell_type": "code",
   "execution_count": null,
   "metadata": {},
   "outputs": [],
   "source": [
    "# group trips into on time and late. then check features effect with box plots to determine if they have a notable effect on the outcome. \n",
    "\n",
    "# box plots on train \n",
    "# also some bar charts \n",
    "# possibly a shitty model. "
   ]
  },
  {
   "cell_type": "markdown",
   "metadata": {},
   "source": [
    "## Combining Features"
   ]
  },
  {
   "cell_type": "code",
   "execution_count": null,
   "metadata": {},
   "outputs": [],
   "source": [
    "# Are there any features which can be combined to create a better explanatory variable."
   ]
  }
 ],
 "metadata": {
  "kernelspec": {
   "display_name": "Python 3",
   "language": "python",
   "name": "python3"
  },
  "language_info": {
   "codemirror_mode": {
    "name": "ipython",
    "version": 3
   },
   "file_extension": ".py",
   "mimetype": "text/x-python",
   "name": "python",
   "nbconvert_exporter": "python",
   "pygments_lexer": "ipython3",
   "version": "3.6.8"
  },
  "toc": {
   "base_numbering": 1,
   "nav_menu": {},
   "number_sections": true,
   "sideBar": true,
   "skip_h1_title": false,
   "title_cell": "Table of Contents",
   "title_sidebar": "Contents",
   "toc_cell": false,
   "toc_position": {
    "height": "calc(100% - 180px)",
    "left": "10px",
    "top": "150px",
    "width": "384.333px"
   },
   "toc_section_display": true,
   "toc_window_display": true
  },
  "varInspector": {
   "cols": {
    "lenName": 16,
    "lenType": 16,
    "lenVar": 40
   },
   "kernels_config": {
    "python": {
     "delete_cmd_postfix": "",
     "delete_cmd_prefix": "del ",
     "library": "var_list.py",
     "varRefreshCmd": "print(var_dic_list())"
    },
    "r": {
     "delete_cmd_postfix": ") ",
     "delete_cmd_prefix": "rm(",
     "library": "var_list.r",
     "varRefreshCmd": "cat(var_dic_list()) "
    }
   },
   "types_to_exclude": [
    "module",
    "function",
    "builtin_function_or_method",
    "instance",
    "_Feature"
   ],
   "window_display": false
  }
 },
 "nbformat": 4,
 "nbformat_minor": 2
}

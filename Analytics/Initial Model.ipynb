{
 "cells": [
  {
   "cell_type": "code",
   "execution_count": 1,
   "metadata": {
    "ExecuteTime": {
     "end_time": "2019-07-22T08:44:44.247372Z",
     "start_time": "2019-07-22T08:44:43.444138Z"
    }
   },
   "outputs": [],
   "source": [
    "import matplotlib.pyplot as plt\n",
    "import matplotlib.mlab as mlab\n",
    "\n",
    "from datetime import timedelta\n",
    "from datetime import datetime\n",
    "import scipy.stats as stats\n",
    "\n",
    "import requests as r\n",
    "import pandas as pd\n",
    "import seaborn as s\n",
    "import numpy as np\n",
    "\n",
    "import postgres\n",
    "import gmaps\n",
    "import json\n",
    "import math"
   ]
  },
  {
   "cell_type": "code",
   "execution_count": 2,
   "metadata": {
    "ExecuteTime": {
     "end_time": "2019-07-22T08:44:44.254753Z",
     "start_time": "2019-07-22T08:44:44.249005Z"
    }
   },
   "outputs": [
    {
     "data": {
      "text/plain": [
       "<module 'config' from '/media/storage/College/S3/Github/DublinBus/Analytics/config.py'>"
      ]
     },
     "execution_count": 2,
     "metadata": {},
     "output_type": "execute_result"
    }
   ],
   "source": [
    "import importlib\n",
    "importlib.reload(postgres.config)"
   ]
  },
  {
   "cell_type": "code",
   "execution_count": 3,
   "metadata": {
    "ExecuteTime": {
     "end_time": "2019-07-22T08:44:44.260389Z",
     "start_time": "2019-07-22T08:44:44.256568Z"
    }
   },
   "outputs": [],
   "source": [
    "from IPython.core.interactiveshell import InteractiveShell\n",
    "InteractiveShell.ast_node_interactivity = \"all\""
   ]
  },
  {
   "cell_type": "markdown",
   "metadata": {},
   "source": [
    "## Import Data"
   ]
  },
  {
   "cell_type": "markdown",
   "metadata": {},
   "source": [
    "### Bus Data"
   ]
  },
  {
   "cell_type": "code",
   "execution_count": 4,
   "metadata": {
    "ExecuteTime": {
     "end_time": "2019-07-22T08:44:47.770611Z",
     "start_time": "2019-07-22T08:44:44.262816Z"
    }
   },
   "outputs": [
    {
     "data": {
      "text/html": [
       "<div>\n",
       "<style scoped>\n",
       "    .dataframe tbody tr th:only-of-type {\n",
       "        vertical-align: middle;\n",
       "    }\n",
       "\n",
       "    .dataframe tbody tr th {\n",
       "        vertical-align: top;\n",
       "    }\n",
       "\n",
       "    .dataframe thead th {\n",
       "        text-align: right;\n",
       "    }\n",
       "</style>\n",
       "<table border=\"1\" class=\"dataframe\">\n",
       "  <thead>\n",
       "    <tr style=\"text-align: right;\">\n",
       "      <th></th>\n",
       "      <th>dayofservice</th>\n",
       "      <th>tripid</th>\n",
       "      <th>lineid</th>\n",
       "      <th>direction</th>\n",
       "      <th>progrnumber</th>\n",
       "      <th>stopid</th>\n",
       "      <th>plannedDEP</th>\n",
       "      <th>plannedARR</th>\n",
       "      <th>actualDEP</th>\n",
       "      <th>actualARR</th>\n",
       "      <th>routeid</th>\n",
       "    </tr>\n",
       "  </thead>\n",
       "  <tbody>\n",
       "    <tr>\n",
       "      <th>0</th>\n",
       "      <td>2018-01-01</td>\n",
       "      <td>5955476</td>\n",
       "      <td>145</td>\n",
       "      <td>1</td>\n",
       "      <td>1</td>\n",
       "      <td>4320</td>\n",
       "      <td>32400</td>\n",
       "      <td>32400</td>\n",
       "      <td>32370</td>\n",
       "      <td>32370</td>\n",
       "      <td>145_102</td>\n",
       "    </tr>\n",
       "    <tr>\n",
       "      <th>1</th>\n",
       "      <td>2018-01-01</td>\n",
       "      <td>5955476</td>\n",
       "      <td>145</td>\n",
       "      <td>1</td>\n",
       "      <td>2</td>\n",
       "      <td>1476</td>\n",
       "      <td>32504</td>\n",
       "      <td>32504</td>\n",
       "      <td>32461</td>\n",
       "      <td>32461</td>\n",
       "      <td>145_102</td>\n",
       "    </tr>\n",
       "  </tbody>\n",
       "</table>\n",
       "</div>"
      ],
      "text/plain": [
       "  dayofservice   tripid  lineid  direction  progrnumber  stopid  plannedDEP  \\\n",
       "0   2018-01-01  5955476     145          1            1    4320       32400   \n",
       "1   2018-01-01  5955476     145          1            2    1476       32504   \n",
       "\n",
       "   plannedARR  actualDEP  actualARR  routeid  \n",
       "0       32400      32370      32370  145_102  \n",
       "1       32504      32461      32461  145_102  "
      ]
     },
     "execution_count": 4,
     "metadata": {},
     "output_type": "execute_result"
    }
   ],
   "source": [
    "# data = postgres.query(\"SELECT * FROM combined WHERE lineid='145';\", tunnel=True)\n",
    "# data = pd.DataFrame(data)\n",
    "data = pd.read_csv(\"stored_queries/combined145.csv\")\n",
    "data.head(2)"
   ]
  },
  {
   "cell_type": "code",
   "execution_count": 5,
   "metadata": {
    "ExecuteTime": {
     "end_time": "2019-07-22T08:44:47.785446Z",
     "start_time": "2019-07-22T08:44:47.772439Z"
    }
   },
   "outputs": [
    {
     "data": {
      "text/html": [
       "<div>\n",
       "<style scoped>\n",
       "    .dataframe tbody tr th:only-of-type {\n",
       "        vertical-align: middle;\n",
       "    }\n",
       "\n",
       "    .dataframe tbody tr th {\n",
       "        vertical-align: top;\n",
       "    }\n",
       "\n",
       "    .dataframe thead th {\n",
       "        text-align: right;\n",
       "    }\n",
       "</style>\n",
       "<table border=\"1\" class=\"dataframe\">\n",
       "  <thead>\n",
       "    <tr style=\"text-align: right;\">\n",
       "      <th></th>\n",
       "      <th>dayofservice</th>\n",
       "      <th>tripid</th>\n",
       "      <th>lineid</th>\n",
       "      <th>direction</th>\n",
       "      <th>progrnumber</th>\n",
       "      <th>stopid</th>\n",
       "      <th>plannedDEP</th>\n",
       "      <th>plannedARR</th>\n",
       "      <th>actualDEP</th>\n",
       "      <th>actualARR</th>\n",
       "      <th>routeid</th>\n",
       "    </tr>\n",
       "  </thead>\n",
       "  <tbody>\n",
       "    <tr>\n",
       "      <th>0</th>\n",
       "      <td>2018-01-01</td>\n",
       "      <td>5955476</td>\n",
       "      <td>145</td>\n",
       "      <td>1</td>\n",
       "      <td>1</td>\n",
       "      <td>4320</td>\n",
       "      <td>32400</td>\n",
       "      <td>32400</td>\n",
       "      <td>32370</td>\n",
       "      <td>32370</td>\n",
       "      <td>145_102</td>\n",
       "    </tr>\n",
       "    <tr>\n",
       "      <th>1</th>\n",
       "      <td>2018-01-01</td>\n",
       "      <td>5955476</td>\n",
       "      <td>145</td>\n",
       "      <td>1</td>\n",
       "      <td>2</td>\n",
       "      <td>1476</td>\n",
       "      <td>32504</td>\n",
       "      <td>32504</td>\n",
       "      <td>32461</td>\n",
       "      <td>32461</td>\n",
       "      <td>145_102</td>\n",
       "    </tr>\n",
       "  </tbody>\n",
       "</table>\n",
       "</div>"
      ],
      "text/plain": [
       "  dayofservice   tripid  lineid  direction  progrnumber  stopid  plannedDEP  \\\n",
       "0   2018-01-01  5955476     145          1            1    4320       32400   \n",
       "1   2018-01-01  5955476     145          1            2    1476       32504   \n",
       "\n",
       "   plannedARR  actualDEP  actualARR  routeid  \n",
       "0       32400      32370      32370  145_102  \n",
       "1       32504      32461      32461  145_102  "
      ]
     },
     "execution_count": 5,
     "metadata": {},
     "output_type": "execute_result"
    },
    {
     "data": {
      "text/plain": [
       "dayofservice    object\n",
       "tripid           int64\n",
       "lineid           int64\n",
       "direction        int64\n",
       "progrnumber      int64\n",
       "stopid           int64\n",
       "plannedDEP       int64\n",
       "plannedARR       int64\n",
       "actualDEP        int64\n",
       "actualARR        int64\n",
       "routeid         object\n",
       "dtype: object"
      ]
     },
     "execution_count": 5,
     "metadata": {},
     "output_type": "execute_result"
    }
   ],
   "source": [
    "data.columns = ['dayofservice','tripid','lineid','direction','progrnumber','stopid','plannedDEP','plannedARR','actualDEP','actualARR','routeid']\n",
    "data.head(2)\n",
    "data.dtypes"
   ]
  },
  {
   "cell_type": "code",
   "execution_count": 6,
   "metadata": {
    "ExecuteTime": {
     "end_time": "2019-07-22T08:44:48.908472Z",
     "start_time": "2019-07-22T08:44:47.797058Z"
    }
   },
   "outputs": [],
   "source": [
    "data.dayofservice = pd.to_datetime(data.dayofservice.loc[:])\n",
    "data.lineid = data.lineid.astype('category')\n",
    "data.routeid= data.routeid.astype('category')"
   ]
  },
  {
   "cell_type": "code",
   "execution_count": 7,
   "metadata": {
    "ExecuteTime": {
     "end_time": "2019-07-22T08:44:50.101308Z",
     "start_time": "2019-07-22T08:44:48.913706Z"
    }
   },
   "outputs": [],
   "source": [
    "data.sort_values(by=['dayofservice','lineid','tripid','direction','progrnumber'],inplace=True)"
   ]
  },
  {
   "cell_type": "code",
   "execution_count": 8,
   "metadata": {
    "ExecuteTime": {
     "end_time": "2019-07-22T08:44:50.106320Z",
     "start_time": "2019-07-22T08:44:50.103764Z"
    }
   },
   "outputs": [],
   "source": [
    "# data.to_csv(\"stored_queries/combined145.csv\", index=False, chunksize=500000)"
   ]
  },
  {
   "cell_type": "markdown",
   "metadata": {},
   "source": [
    "### Stop Information"
   ]
  },
  {
   "cell_type": "code",
   "execution_count": 9,
   "metadata": {
    "ExecuteTime": {
     "end_time": "2019-07-22T08:44:50.127360Z",
     "start_time": "2019-07-22T08:44:50.109298Z"
    }
   },
   "outputs": [],
   "source": [
    "stops = pd.read_csv(\"stop_information.csv\")"
   ]
  },
  {
   "cell_type": "code",
   "execution_count": 10,
   "metadata": {
    "ExecuteTime": {
     "end_time": "2019-07-22T08:44:50.146128Z",
     "start_time": "2019-07-22T08:44:50.130090Z"
    }
   },
   "outputs": [
    {
     "data": {
      "text/html": [
       "<div>\n",
       "<style scoped>\n",
       "    .dataframe tbody tr th:only-of-type {\n",
       "        vertical-align: middle;\n",
       "    }\n",
       "\n",
       "    .dataframe tbody tr th {\n",
       "        vertical-align: top;\n",
       "    }\n",
       "\n",
       "    .dataframe thead th {\n",
       "        text-align: right;\n",
       "    }\n",
       "</style>\n",
       "<table border=\"1\" class=\"dataframe\">\n",
       "  <thead>\n",
       "    <tr style=\"text-align: right;\">\n",
       "      <th></th>\n",
       "      <th>id</th>\n",
       "      <th>stopid</th>\n",
       "      <th>stop_name</th>\n",
       "      <th>lat</th>\n",
       "      <th>lng</th>\n",
       "      <th>irish_name</th>\n",
       "      <th>routes</th>\n",
       "    </tr>\n",
       "  </thead>\n",
       "  <tbody>\n",
       "    <tr>\n",
       "      <th>0</th>\n",
       "      <td>4240</td>\n",
       "      <td>2</td>\n",
       "      <td>Parnell Square</td>\n",
       "      <td>53.352241</td>\n",
       "      <td>-6.263695</td>\n",
       "      <td>Cearnóg Parnell</td>\n",
       "      <td>['38', '38A', '38B', '38D', '46A', '46E']</td>\n",
       "    </tr>\n",
       "    <tr>\n",
       "      <th>1</th>\n",
       "      <td>4241</td>\n",
       "      <td>3</td>\n",
       "      <td>Parnell Square</td>\n",
       "      <td>53.352307</td>\n",
       "      <td>-6.263783</td>\n",
       "      <td>Cearnóg Parnell</td>\n",
       "      <td>['120', '122']</td>\n",
       "    </tr>\n",
       "    <tr>\n",
       "      <th>2</th>\n",
       "      <td>4242</td>\n",
       "      <td>4</td>\n",
       "      <td>Parnell Square</td>\n",
       "      <td>53.352567</td>\n",
       "      <td>-6.264166</td>\n",
       "      <td>Cearnóg Parnell</td>\n",
       "      <td>['7', '7A', '7B', '7D', '9']</td>\n",
       "    </tr>\n",
       "    <tr>\n",
       "      <th>3</th>\n",
       "      <td>4243</td>\n",
       "      <td>6</td>\n",
       "      <td>Parnell Square</td>\n",
       "      <td>53.352744</td>\n",
       "      <td>-6.264443</td>\n",
       "      <td>Cearnóg Parnell</td>\n",
       "      <td>['4', '155']</td>\n",
       "    </tr>\n",
       "    <tr>\n",
       "      <th>4</th>\n",
       "      <td>4244</td>\n",
       "      <td>7</td>\n",
       "      <td>Parnell Square</td>\n",
       "      <td>53.352836</td>\n",
       "      <td>-6.264562</td>\n",
       "      <td>Cearnóg Parnell</td>\n",
       "      <td>['13', '140', '40', '40B', '40D']</td>\n",
       "    </tr>\n",
       "  </tbody>\n",
       "</table>\n",
       "</div>"
      ],
      "text/plain": [
       "     id  stopid       stop_name        lat       lng       irish_name  \\\n",
       "0  4240       2  Parnell Square  53.352241 -6.263695  Cearnóg Parnell   \n",
       "1  4241       3  Parnell Square  53.352307 -6.263783  Cearnóg Parnell   \n",
       "2  4242       4  Parnell Square  53.352567 -6.264166  Cearnóg Parnell   \n",
       "3  4243       6  Parnell Square  53.352744 -6.264443  Cearnóg Parnell   \n",
       "4  4244       7  Parnell Square  53.352836 -6.264562  Cearnóg Parnell   \n",
       "\n",
       "                                      routes  \n",
       "0  ['38', '38A', '38B', '38D', '46A', '46E']  \n",
       "1                             ['120', '122']  \n",
       "2               ['7', '7A', '7B', '7D', '9']  \n",
       "3                               ['4', '155']  \n",
       "4          ['13', '140', '40', '40B', '40D']  "
      ]
     },
     "execution_count": 10,
     "metadata": {},
     "output_type": "execute_result"
    }
   ],
   "source": [
    "cols = list(stops.columns)\n",
    "cols[0] = 'ix'\n",
    "stops.columns = cols\n",
    "stops.drop(columns=cols[0], inplace=True)\n",
    "\n",
    "stops.head()"
   ]
  },
  {
   "cell_type": "markdown",
   "metadata": {},
   "source": [
    "### Weather Data"
   ]
  },
  {
   "cell_type": "code",
   "execution_count": 11,
   "metadata": {
    "ExecuteTime": {
     "end_time": "2019-07-22T08:44:50.191132Z",
     "start_time": "2019-07-22T08:44:50.148129Z"
    }
   },
   "outputs": [
    {
     "data": {
      "text/html": [
       "<div>\n",
       "<style scoped>\n",
       "    .dataframe tbody tr th:only-of-type {\n",
       "        vertical-align: middle;\n",
       "    }\n",
       "\n",
       "    .dataframe tbody tr th {\n",
       "        vertical-align: top;\n",
       "    }\n",
       "\n",
       "    .dataframe thead th {\n",
       "        text-align: right;\n",
       "    }\n",
       "</style>\n",
       "<table border=\"1\" class=\"dataframe\">\n",
       "  <thead>\n",
       "    <tr style=\"text-align: right;\">\n",
       "      <th></th>\n",
       "      <th>dayofservice</th>\n",
       "      <th>hour</th>\n",
       "      <th>icon</th>\n",
       "      <th>temperature</th>\n",
       "      <th>humidity</th>\n",
       "      <th>cloudCover</th>\n",
       "      <th>windSpeed</th>\n",
       "      <th>rain</th>\n",
       "    </tr>\n",
       "  </thead>\n",
       "  <tbody>\n",
       "    <tr>\n",
       "      <th>0</th>\n",
       "      <td>2018-01-01</td>\n",
       "      <td>0</td>\n",
       "      <td>partly-cloudy-night</td>\n",
       "      <td>41.19</td>\n",
       "      <td>0.80</td>\n",
       "      <td>0.58</td>\n",
       "      <td>17.04</td>\n",
       "      <td>0.0</td>\n",
       "    </tr>\n",
       "    <tr>\n",
       "      <th>1</th>\n",
       "      <td>2018-01-01</td>\n",
       "      <td>1</td>\n",
       "      <td>partly-cloudy-night</td>\n",
       "      <td>41.70</td>\n",
       "      <td>0.79</td>\n",
       "      <td>0.75</td>\n",
       "      <td>21.59</td>\n",
       "      <td>0.1</td>\n",
       "    </tr>\n",
       "    <tr>\n",
       "      <th>2</th>\n",
       "      <td>2018-01-01</td>\n",
       "      <td>2</td>\n",
       "      <td>partly-cloudy-night</td>\n",
       "      <td>41.95</td>\n",
       "      <td>0.78</td>\n",
       "      <td>0.75</td>\n",
       "      <td>21.59</td>\n",
       "      <td>0.0</td>\n",
       "    </tr>\n",
       "    <tr>\n",
       "      <th>3</th>\n",
       "      <td>2018-01-01</td>\n",
       "      <td>3</td>\n",
       "      <td>partly-cloudy-night</td>\n",
       "      <td>42.42</td>\n",
       "      <td>0.82</td>\n",
       "      <td>0.58</td>\n",
       "      <td>19.60</td>\n",
       "      <td>0.0</td>\n",
       "    </tr>\n",
       "    <tr>\n",
       "      <th>4</th>\n",
       "      <td>2018-01-01</td>\n",
       "      <td>4</td>\n",
       "      <td>partly-cloudy-night</td>\n",
       "      <td>42.09</td>\n",
       "      <td>0.83</td>\n",
       "      <td>0.44</td>\n",
       "      <td>20.48</td>\n",
       "      <td>0.0</td>\n",
       "    </tr>\n",
       "  </tbody>\n",
       "</table>\n",
       "</div>"
      ],
      "text/plain": [
       "  dayofservice  hour                 icon  temperature  humidity  cloudCover  \\\n",
       "0   2018-01-01     0  partly-cloudy-night        41.19      0.80        0.58   \n",
       "1   2018-01-01     1  partly-cloudy-night        41.70      0.79        0.75   \n",
       "2   2018-01-01     2  partly-cloudy-night        41.95      0.78        0.75   \n",
       "3   2018-01-01     3  partly-cloudy-night        42.42      0.82        0.58   \n",
       "4   2018-01-01     4  partly-cloudy-night        42.09      0.83        0.44   \n",
       "\n",
       "   windSpeed  rain  \n",
       "0      17.04   0.0  \n",
       "1      21.59   0.1  \n",
       "2      21.59   0.0  \n",
       "3      19.60   0.0  \n",
       "4      20.48   0.0  "
      ]
     },
     "execution_count": 11,
     "metadata": {},
     "output_type": "execute_result"
    }
   ],
   "source": [
    "weather = pd.read_csv(\"stored_queries/weather.csv\")\n",
    "weather.head()"
   ]
  },
  {
   "cell_type": "code",
   "execution_count": 12,
   "metadata": {
    "ExecuteTime": {
     "end_time": "2019-07-22T08:44:50.204911Z",
     "start_time": "2019-07-22T08:44:50.193771Z"
    }
   },
   "outputs": [
    {
     "data": {
      "text/plain": [
       "dayofservice    8751\n",
       "hour            8751\n",
       "icon            8751\n",
       "temperature     8751\n",
       "humidity        8751\n",
       "cloudCover      8496\n",
       "windSpeed       8745\n",
       "rain            8751\n",
       "dtype: int64"
      ]
     },
     "execution_count": 12,
     "metadata": {},
     "output_type": "execute_result"
    }
   ],
   "source": [
    "weather.count()"
   ]
  },
  {
   "cell_type": "code",
   "execution_count": 13,
   "metadata": {
    "ExecuteTime": {
     "end_time": "2019-07-22T08:44:50.220156Z",
     "start_time": "2019-07-22T08:44:50.208137Z"
    }
   },
   "outputs": [],
   "source": [
    "weather.icon = weather.icon.astype('category')\n",
    "weather.dayofservice = pd.to_datetime(weather.dayofservice)"
   ]
  },
  {
   "cell_type": "markdown",
   "metadata": {},
   "source": [
    "## Matching weather data to combined data"
   ]
  },
  {
   "cell_type": "code",
   "execution_count": 14,
   "metadata": {
    "ExecuteTime": {
     "end_time": "2019-07-22T08:44:50.266811Z",
     "start_time": "2019-07-22T08:44:50.222635Z"
    }
   },
   "outputs": [
    {
     "data": {
      "text/html": [
       "<div>\n",
       "<style scoped>\n",
       "    .dataframe tbody tr th:only-of-type {\n",
       "        vertical-align: middle;\n",
       "    }\n",
       "\n",
       "    .dataframe tbody tr th {\n",
       "        vertical-align: top;\n",
       "    }\n",
       "\n",
       "    .dataframe thead th {\n",
       "        text-align: right;\n",
       "    }\n",
       "</style>\n",
       "<table border=\"1\" class=\"dataframe\">\n",
       "  <thead>\n",
       "    <tr style=\"text-align: right;\">\n",
       "      <th></th>\n",
       "      <th>dayofservice</th>\n",
       "      <th>hour</th>\n",
       "      <th>icon</th>\n",
       "      <th>temperature</th>\n",
       "      <th>humidity</th>\n",
       "      <th>cloudCover</th>\n",
       "      <th>windSpeed</th>\n",
       "      <th>rain</th>\n",
       "    </tr>\n",
       "  </thead>\n",
       "  <tbody>\n",
       "    <tr>\n",
       "      <th>0</th>\n",
       "      <td>2018-01-01</td>\n",
       "      <td>0</td>\n",
       "      <td>partly-cloudy-night</td>\n",
       "      <td>41.19</td>\n",
       "      <td>0.8</td>\n",
       "      <td>0.58</td>\n",
       "      <td>17.04</td>\n",
       "      <td>0.0</td>\n",
       "    </tr>\n",
       "  </tbody>\n",
       "</table>\n",
       "</div>"
      ],
      "text/plain": [
       "  dayofservice  hour                 icon  temperature  humidity  cloudCover  \\\n",
       "0   2018-01-01     0  partly-cloudy-night        41.19       0.8        0.58   \n",
       "\n",
       "   windSpeed  rain  \n",
       "0      17.04   0.0  "
      ]
     },
     "execution_count": 14,
     "metadata": {},
     "output_type": "execute_result"
    },
    {
     "data": {
      "text/html": [
       "<div>\n",
       "<style scoped>\n",
       "    .dataframe tbody tr th:only-of-type {\n",
       "        vertical-align: middle;\n",
       "    }\n",
       "\n",
       "    .dataframe tbody tr th {\n",
       "        vertical-align: top;\n",
       "    }\n",
       "\n",
       "    .dataframe thead th {\n",
       "        text-align: right;\n",
       "    }\n",
       "</style>\n",
       "<table border=\"1\" class=\"dataframe\">\n",
       "  <thead>\n",
       "    <tr style=\"text-align: right;\">\n",
       "      <th></th>\n",
       "      <th>dayofservice</th>\n",
       "      <th>tripid</th>\n",
       "      <th>lineid</th>\n",
       "      <th>direction</th>\n",
       "      <th>progrnumber</th>\n",
       "      <th>stopid</th>\n",
       "      <th>plannedDEP</th>\n",
       "      <th>plannedARR</th>\n",
       "      <th>actualDEP</th>\n",
       "      <th>actualARR</th>\n",
       "      <th>routeid</th>\n",
       "    </tr>\n",
       "  </thead>\n",
       "  <tbody>\n",
       "    <tr>\n",
       "      <th>0</th>\n",
       "      <td>2018-01-01</td>\n",
       "      <td>5955476</td>\n",
       "      <td>145</td>\n",
       "      <td>1</td>\n",
       "      <td>1</td>\n",
       "      <td>4320</td>\n",
       "      <td>32400</td>\n",
       "      <td>32400</td>\n",
       "      <td>32370</td>\n",
       "      <td>32370</td>\n",
       "      <td>145_102</td>\n",
       "    </tr>\n",
       "  </tbody>\n",
       "</table>\n",
       "</div>"
      ],
      "text/plain": [
       "  dayofservice   tripid lineid  direction  progrnumber  stopid  plannedDEP  \\\n",
       "0   2018-01-01  5955476    145          1            1    4320       32400   \n",
       "\n",
       "   plannedARR  actualDEP  actualARR  routeid  \n",
       "0       32400      32370      32370  145_102  "
      ]
     },
     "execution_count": 14,
     "metadata": {},
     "output_type": "execute_result"
    }
   ],
   "source": [
    "# merge on date and time. ( or convert weather time to seconds? )\n",
    "# converting to time stamp allows for ignoring of past midnight issues. <-- go with convert seconds to datetime. \n",
    "weather.head(1)\n",
    "data.head(1)"
   ]
  },
  {
   "cell_type": "code",
   "execution_count": 15,
   "metadata": {
    "ExecuteTime": {
     "end_time": "2019-07-22T08:44:51.032541Z",
     "start_time": "2019-07-22T08:44:50.269137Z"
    }
   },
   "outputs": [],
   "source": [
    "# leavetimes data\n",
    "data.plannedARR = data.dayofservice + pd.to_timedelta(data.plannedARR, unit = 'seconds') # in nanoseconds\n",
    "data.plannedDEP = data.dayofservice + pd.to_timedelta(data.plannedDEP, unit = 'seconds') # in nanoseconds\n",
    "data.actualARR = data.dayofservice + pd.to_timedelta(data.actualARR, unit = 'seconds') # in nanoseconds\n",
    "data.actualDEP = data.dayofservice + pd.to_timedelta(data.actualDEP, unit = 'seconds') # in nanoseconds\n",
    "\n",
    "# # weather data\n",
    "weather.dayofservice = weather.dayofservice + pd.to_timedelta(weather.hour, unit='hour')"
   ]
  },
  {
   "cell_type": "code",
   "execution_count": 16,
   "metadata": {
    "ExecuteTime": {
     "end_time": "2019-07-22T08:44:51.066446Z",
     "start_time": "2019-07-22T08:44:51.033839Z"
    }
   },
   "outputs": [
    {
     "data": {
      "text/html": [
       "<div>\n",
       "<style scoped>\n",
       "    .dataframe tbody tr th:only-of-type {\n",
       "        vertical-align: middle;\n",
       "    }\n",
       "\n",
       "    .dataframe tbody tr th {\n",
       "        vertical-align: top;\n",
       "    }\n",
       "\n",
       "    .dataframe thead th {\n",
       "        text-align: right;\n",
       "    }\n",
       "</style>\n",
       "<table border=\"1\" class=\"dataframe\">\n",
       "  <thead>\n",
       "    <tr style=\"text-align: right;\">\n",
       "      <th></th>\n",
       "      <th>dayofservice</th>\n",
       "      <th>tripid</th>\n",
       "      <th>lineid</th>\n",
       "      <th>direction</th>\n",
       "      <th>progrnumber</th>\n",
       "      <th>stopid</th>\n",
       "      <th>plannedDEP</th>\n",
       "      <th>plannedARR</th>\n",
       "      <th>actualDEP</th>\n",
       "      <th>actualARR</th>\n",
       "      <th>routeid</th>\n",
       "    </tr>\n",
       "  </thead>\n",
       "  <tbody>\n",
       "    <tr>\n",
       "      <th>0</th>\n",
       "      <td>2018-01-01</td>\n",
       "      <td>5955476</td>\n",
       "      <td>145</td>\n",
       "      <td>1</td>\n",
       "      <td>1</td>\n",
       "      <td>4320</td>\n",
       "      <td>2018-01-01 09:00:00</td>\n",
       "      <td>2018-01-01 09:00:00</td>\n",
       "      <td>2018-01-01 08:59:30</td>\n",
       "      <td>2018-01-01 08:59:30</td>\n",
       "      <td>145_102</td>\n",
       "    </tr>\n",
       "    <tr>\n",
       "      <th>1</th>\n",
       "      <td>2018-01-01</td>\n",
       "      <td>5955476</td>\n",
       "      <td>145</td>\n",
       "      <td>1</td>\n",
       "      <td>2</td>\n",
       "      <td>1476</td>\n",
       "      <td>2018-01-01 09:01:44</td>\n",
       "      <td>2018-01-01 09:01:44</td>\n",
       "      <td>2018-01-01 09:01:01</td>\n",
       "      <td>2018-01-01 09:01:01</td>\n",
       "      <td>145_102</td>\n",
       "    </tr>\n",
       "    <tr>\n",
       "      <th>2</th>\n",
       "      <td>2018-01-01</td>\n",
       "      <td>5955476</td>\n",
       "      <td>145</td>\n",
       "      <td>1</td>\n",
       "      <td>3</td>\n",
       "      <td>7453</td>\n",
       "      <td>2018-01-01 09:02:59</td>\n",
       "      <td>2018-01-01 09:02:59</td>\n",
       "      <td>2018-01-01 09:01:48</td>\n",
       "      <td>2018-01-01 09:01:48</td>\n",
       "      <td>145_102</td>\n",
       "    </tr>\n",
       "    <tr>\n",
       "      <th>3</th>\n",
       "      <td>2018-01-01</td>\n",
       "      <td>5955476</td>\n",
       "      <td>145</td>\n",
       "      <td>1</td>\n",
       "      <td>4</td>\n",
       "      <td>1478</td>\n",
       "      <td>2018-01-01 09:04:10</td>\n",
       "      <td>2018-01-01 09:04:10</td>\n",
       "      <td>2018-01-01 09:03:02</td>\n",
       "      <td>2018-01-01 09:02:52</td>\n",
       "      <td>145_102</td>\n",
       "    </tr>\n",
       "    <tr>\n",
       "      <th>4</th>\n",
       "      <td>2018-01-01</td>\n",
       "      <td>5955476</td>\n",
       "      <td>145</td>\n",
       "      <td>1</td>\n",
       "      <td>5</td>\n",
       "      <td>1479</td>\n",
       "      <td>2018-01-01 09:04:58</td>\n",
       "      <td>2018-01-01 09:04:58</td>\n",
       "      <td>2018-01-01 09:03:50</td>\n",
       "      <td>2018-01-01 09:03:50</td>\n",
       "      <td>145_102</td>\n",
       "    </tr>\n",
       "  </tbody>\n",
       "</table>\n",
       "</div>"
      ],
      "text/plain": [
       "  dayofservice   tripid lineid  direction  progrnumber  stopid  \\\n",
       "0   2018-01-01  5955476    145          1            1    4320   \n",
       "1   2018-01-01  5955476    145          1            2    1476   \n",
       "2   2018-01-01  5955476    145          1            3    7453   \n",
       "3   2018-01-01  5955476    145          1            4    1478   \n",
       "4   2018-01-01  5955476    145          1            5    1479   \n",
       "\n",
       "           plannedDEP          plannedARR           actualDEP  \\\n",
       "0 2018-01-01 09:00:00 2018-01-01 09:00:00 2018-01-01 08:59:30   \n",
       "1 2018-01-01 09:01:44 2018-01-01 09:01:44 2018-01-01 09:01:01   \n",
       "2 2018-01-01 09:02:59 2018-01-01 09:02:59 2018-01-01 09:01:48   \n",
       "3 2018-01-01 09:04:10 2018-01-01 09:04:10 2018-01-01 09:03:02   \n",
       "4 2018-01-01 09:04:58 2018-01-01 09:04:58 2018-01-01 09:03:50   \n",
       "\n",
       "            actualARR  routeid  \n",
       "0 2018-01-01 08:59:30  145_102  \n",
       "1 2018-01-01 09:01:01  145_102  \n",
       "2 2018-01-01 09:01:48  145_102  \n",
       "3 2018-01-01 09:02:52  145_102  \n",
       "4 2018-01-01 09:03:50  145_102  "
      ]
     },
     "execution_count": 16,
     "metadata": {},
     "output_type": "execute_result"
    },
    {
     "data": {
      "text/html": [
       "<div>\n",
       "<style scoped>\n",
       "    .dataframe tbody tr th:only-of-type {\n",
       "        vertical-align: middle;\n",
       "    }\n",
       "\n",
       "    .dataframe tbody tr th {\n",
       "        vertical-align: top;\n",
       "    }\n",
       "\n",
       "    .dataframe thead th {\n",
       "        text-align: right;\n",
       "    }\n",
       "</style>\n",
       "<table border=\"1\" class=\"dataframe\">\n",
       "  <thead>\n",
       "    <tr style=\"text-align: right;\">\n",
       "      <th></th>\n",
       "      <th>dayofservice</th>\n",
       "      <th>hour</th>\n",
       "      <th>icon</th>\n",
       "      <th>temperature</th>\n",
       "      <th>humidity</th>\n",
       "      <th>cloudCover</th>\n",
       "      <th>windSpeed</th>\n",
       "      <th>rain</th>\n",
       "    </tr>\n",
       "  </thead>\n",
       "  <tbody>\n",
       "    <tr>\n",
       "      <th>0</th>\n",
       "      <td>2018-01-01 00:00:00</td>\n",
       "      <td>0</td>\n",
       "      <td>partly-cloudy-night</td>\n",
       "      <td>41.19</td>\n",
       "      <td>0.80</td>\n",
       "      <td>0.58</td>\n",
       "      <td>17.04</td>\n",
       "      <td>0.0</td>\n",
       "    </tr>\n",
       "    <tr>\n",
       "      <th>1</th>\n",
       "      <td>2018-01-01 01:00:00</td>\n",
       "      <td>1</td>\n",
       "      <td>partly-cloudy-night</td>\n",
       "      <td>41.70</td>\n",
       "      <td>0.79</td>\n",
       "      <td>0.75</td>\n",
       "      <td>21.59</td>\n",
       "      <td>0.1</td>\n",
       "    </tr>\n",
       "    <tr>\n",
       "      <th>2</th>\n",
       "      <td>2018-01-01 02:00:00</td>\n",
       "      <td>2</td>\n",
       "      <td>partly-cloudy-night</td>\n",
       "      <td>41.95</td>\n",
       "      <td>0.78</td>\n",
       "      <td>0.75</td>\n",
       "      <td>21.59</td>\n",
       "      <td>0.0</td>\n",
       "    </tr>\n",
       "    <tr>\n",
       "      <th>3</th>\n",
       "      <td>2018-01-01 03:00:00</td>\n",
       "      <td>3</td>\n",
       "      <td>partly-cloudy-night</td>\n",
       "      <td>42.42</td>\n",
       "      <td>0.82</td>\n",
       "      <td>0.58</td>\n",
       "      <td>19.60</td>\n",
       "      <td>0.0</td>\n",
       "    </tr>\n",
       "    <tr>\n",
       "      <th>4</th>\n",
       "      <td>2018-01-01 04:00:00</td>\n",
       "      <td>4</td>\n",
       "      <td>partly-cloudy-night</td>\n",
       "      <td>42.09</td>\n",
       "      <td>0.83</td>\n",
       "      <td>0.44</td>\n",
       "      <td>20.48</td>\n",
       "      <td>0.0</td>\n",
       "    </tr>\n",
       "  </tbody>\n",
       "</table>\n",
       "</div>"
      ],
      "text/plain": [
       "         dayofservice  hour                 icon  temperature  humidity  \\\n",
       "0 2018-01-01 00:00:00     0  partly-cloudy-night        41.19      0.80   \n",
       "1 2018-01-01 01:00:00     1  partly-cloudy-night        41.70      0.79   \n",
       "2 2018-01-01 02:00:00     2  partly-cloudy-night        41.95      0.78   \n",
       "3 2018-01-01 03:00:00     3  partly-cloudy-night        42.42      0.82   \n",
       "4 2018-01-01 04:00:00     4  partly-cloudy-night        42.09      0.83   \n",
       "\n",
       "   cloudCover  windSpeed  rain  \n",
       "0        0.58      17.04   0.0  \n",
       "1        0.75      21.59   0.1  \n",
       "2        0.75      21.59   0.0  \n",
       "3        0.58      19.60   0.0  \n",
       "4        0.44      20.48   0.0  "
      ]
     },
     "execution_count": 16,
     "metadata": {},
     "output_type": "execute_result"
    }
   ],
   "source": [
    "data.head()\n",
    "weather.head()"
   ]
  },
  {
   "cell_type": "code",
   "execution_count": 17,
   "metadata": {
    "ExecuteTime": {
     "end_time": "2019-07-22T08:44:51.072931Z",
     "start_time": "2019-07-22T08:44:51.067915Z"
    }
   },
   "outputs": [
    {
     "data": {
      "text/plain": [
       "Index(['dayofservice', 'tripid', 'lineid', 'direction', 'progrnumber',\n",
       "       'stopid', 'plannedDEP', 'plannedARR', 'actualDEP', 'actualARR',\n",
       "       'routeid'],\n",
       "      dtype='object')"
      ]
     },
     "execution_count": 17,
     "metadata": {},
     "output_type": "execute_result"
    },
    {
     "data": {
      "text/plain": [
       "Index(['dayofservice', 'hour', 'icon', 'temperature', 'humidity', 'cloudCover',\n",
       "       'windSpeed', 'rain'],\n",
       "      dtype='object')"
      ]
     },
     "execution_count": 17,
     "metadata": {},
     "output_type": "execute_result"
    }
   ],
   "source": [
    "data.columns\n",
    "weather.columns"
   ]
  },
  {
   "cell_type": "code",
   "execution_count": 18,
   "metadata": {
    "ExecuteTime": {
     "end_time": "2019-07-22T08:44:51.365808Z",
     "start_time": "2019-07-22T08:44:51.075515Z"
    }
   },
   "outputs": [
    {
     "data": {
      "text/html": [
       "<div>\n",
       "<style scoped>\n",
       "    .dataframe tbody tr th:only-of-type {\n",
       "        vertical-align: middle;\n",
       "    }\n",
       "\n",
       "    .dataframe tbody tr th {\n",
       "        vertical-align: top;\n",
       "    }\n",
       "\n",
       "    .dataframe thead th {\n",
       "        text-align: right;\n",
       "    }\n",
       "</style>\n",
       "<table border=\"1\" class=\"dataframe\">\n",
       "  <thead>\n",
       "    <tr style=\"text-align: right;\">\n",
       "      <th></th>\n",
       "      <th>dayofservice</th>\n",
       "      <th>tripid</th>\n",
       "      <th>lineid</th>\n",
       "      <th>direction</th>\n",
       "      <th>progrnumber</th>\n",
       "      <th>stopid</th>\n",
       "      <th>plannedDEP</th>\n",
       "      <th>plannedARR</th>\n",
       "      <th>actualDEP</th>\n",
       "      <th>actualARR</th>\n",
       "      <th>routeid</th>\n",
       "      <th>time_at_stop</th>\n",
       "      <th>weather_merge_time</th>\n",
       "    </tr>\n",
       "  </thead>\n",
       "  <tbody>\n",
       "    <tr>\n",
       "      <th>0</th>\n",
       "      <td>2018-01-01</td>\n",
       "      <td>5955476</td>\n",
       "      <td>145</td>\n",
       "      <td>1</td>\n",
       "      <td>1</td>\n",
       "      <td>4320</td>\n",
       "      <td>2018-01-01 09:00:00</td>\n",
       "      <td>2018-01-01 09:00:00</td>\n",
       "      <td>2018-01-01 08:59:30</td>\n",
       "      <td>2018-01-01 08:59:30</td>\n",
       "      <td>145_102</td>\n",
       "      <td>00:00:00</td>\n",
       "      <td>2018-01-01 09:00:00</td>\n",
       "    </tr>\n",
       "    <tr>\n",
       "      <th>1</th>\n",
       "      <td>2018-01-01</td>\n",
       "      <td>5955476</td>\n",
       "      <td>145</td>\n",
       "      <td>1</td>\n",
       "      <td>2</td>\n",
       "      <td>1476</td>\n",
       "      <td>2018-01-01 09:01:44</td>\n",
       "      <td>2018-01-01 09:01:44</td>\n",
       "      <td>2018-01-01 09:01:01</td>\n",
       "      <td>2018-01-01 09:01:01</td>\n",
       "      <td>145_102</td>\n",
       "      <td>00:00:00</td>\n",
       "      <td>2018-01-01 09:00:00</td>\n",
       "    </tr>\n",
       "    <tr>\n",
       "      <th>2</th>\n",
       "      <td>2018-01-01</td>\n",
       "      <td>5955476</td>\n",
       "      <td>145</td>\n",
       "      <td>1</td>\n",
       "      <td>3</td>\n",
       "      <td>7453</td>\n",
       "      <td>2018-01-01 09:02:59</td>\n",
       "      <td>2018-01-01 09:02:59</td>\n",
       "      <td>2018-01-01 09:01:48</td>\n",
       "      <td>2018-01-01 09:01:48</td>\n",
       "      <td>145_102</td>\n",
       "      <td>00:00:00</td>\n",
       "      <td>2018-01-01 09:00:00</td>\n",
       "    </tr>\n",
       "    <tr>\n",
       "      <th>3</th>\n",
       "      <td>2018-01-01</td>\n",
       "      <td>5955476</td>\n",
       "      <td>145</td>\n",
       "      <td>1</td>\n",
       "      <td>4</td>\n",
       "      <td>1478</td>\n",
       "      <td>2018-01-01 09:04:10</td>\n",
       "      <td>2018-01-01 09:04:10</td>\n",
       "      <td>2018-01-01 09:03:02</td>\n",
       "      <td>2018-01-01 09:02:52</td>\n",
       "      <td>145_102</td>\n",
       "      <td>00:00:10</td>\n",
       "      <td>2018-01-01 09:00:00</td>\n",
       "    </tr>\n",
       "    <tr>\n",
       "      <th>4</th>\n",
       "      <td>2018-01-01</td>\n",
       "      <td>5955476</td>\n",
       "      <td>145</td>\n",
       "      <td>1</td>\n",
       "      <td>5</td>\n",
       "      <td>1479</td>\n",
       "      <td>2018-01-01 09:04:58</td>\n",
       "      <td>2018-01-01 09:04:58</td>\n",
       "      <td>2018-01-01 09:03:50</td>\n",
       "      <td>2018-01-01 09:03:50</td>\n",
       "      <td>145_102</td>\n",
       "      <td>00:00:00</td>\n",
       "      <td>2018-01-01 09:00:00</td>\n",
       "    </tr>\n",
       "  </tbody>\n",
       "</table>\n",
       "</div>"
      ],
      "text/plain": [
       "  dayofservice   tripid lineid  direction  progrnumber  stopid  \\\n",
       "0   2018-01-01  5955476    145          1            1    4320   \n",
       "1   2018-01-01  5955476    145          1            2    1476   \n",
       "2   2018-01-01  5955476    145          1            3    7453   \n",
       "3   2018-01-01  5955476    145          1            4    1478   \n",
       "4   2018-01-01  5955476    145          1            5    1479   \n",
       "\n",
       "           plannedDEP          plannedARR           actualDEP  \\\n",
       "0 2018-01-01 09:00:00 2018-01-01 09:00:00 2018-01-01 08:59:30   \n",
       "1 2018-01-01 09:01:44 2018-01-01 09:01:44 2018-01-01 09:01:01   \n",
       "2 2018-01-01 09:02:59 2018-01-01 09:02:59 2018-01-01 09:01:48   \n",
       "3 2018-01-01 09:04:10 2018-01-01 09:04:10 2018-01-01 09:03:02   \n",
       "4 2018-01-01 09:04:58 2018-01-01 09:04:58 2018-01-01 09:03:50   \n",
       "\n",
       "            actualARR  routeid time_at_stop  weather_merge_time  \n",
       "0 2018-01-01 08:59:30  145_102     00:00:00 2018-01-01 09:00:00  \n",
       "1 2018-01-01 09:01:01  145_102     00:00:00 2018-01-01 09:00:00  \n",
       "2 2018-01-01 09:01:48  145_102     00:00:00 2018-01-01 09:00:00  \n",
       "3 2018-01-01 09:02:52  145_102     00:00:10 2018-01-01 09:00:00  \n",
       "4 2018-01-01 09:03:50  145_102     00:00:00 2018-01-01 09:00:00  "
      ]
     },
     "execution_count": 18,
     "metadata": {},
     "output_type": "execute_result"
    }
   ],
   "source": [
    "data['time_at_stop'] = data.actualDEP - data.actualARR\n",
    "data['weather_merge_time'] = data.actualARR.dt.round('H') #  .dt is super useful. \n",
    "data.head()"
   ]
  },
  {
   "cell_type": "code",
   "execution_count": 20,
   "metadata": {
    "ExecuteTime": {
     "end_time": "2019-07-22T08:46:46.408194Z",
     "start_time": "2019-07-22T08:46:46.402959Z"
    }
   },
   "outputs": [],
   "source": [
    "weather['rkey'] = weather.dayofservice"
   ]
  },
  {
   "cell_type": "code",
   "execution_count": 21,
   "metadata": {
    "ExecuteTime": {
     "end_time": "2019-07-22T08:46:48.112063Z",
     "start_time": "2019-07-22T08:46:47.417237Z"
    }
   },
   "outputs": [],
   "source": [
    "combinedata = data.merge(weather[['icon','temperature','humidity','windSpeed','rain','rkey']], left_on='weather_merge_time', right_on='rkey', how='left')"
   ]
  },
  {
   "cell_type": "code",
   "execution_count": 22,
   "metadata": {
    "ExecuteTime": {
     "end_time": "2019-07-22T08:46:48.929917Z",
     "start_time": "2019-07-22T08:46:48.424653Z"
    },
    "scrolled": true
   },
   "outputs": [],
   "source": [
    "combinedata.drop(columns=['rkey','lineid'], inplace=True); # drop lineid as all are 145"
   ]
  },
  {
   "cell_type": "markdown",
   "metadata": {},
   "source": [
    "### Dropping na values"
   ]
  },
  {
   "cell_type": "code",
   "execution_count": 23,
   "metadata": {
    "ExecuteTime": {
     "end_time": "2019-07-22T08:46:52.081023Z",
     "start_time": "2019-07-22T08:46:50.865810Z"
    }
   },
   "outputs": [
    {
     "data": {
      "text/plain": [
       "dayofservice           datetime64[ns]\n",
       "tripid                          int64\n",
       "direction                       int64\n",
       "progrnumber                     int64\n",
       "stopid                          int64\n",
       "plannedDEP             datetime64[ns]\n",
       "plannedARR             datetime64[ns]\n",
       "actualDEP              datetime64[ns]\n",
       "actualARR              datetime64[ns]\n",
       "routeid                      category\n",
       "time_at_stop          timedelta64[ns]\n",
       "weather_merge_time     datetime64[ns]\n",
       "icon                         category\n",
       "temperature                   float64\n",
       "humidity                      float64\n",
       "windSpeed                     float64\n",
       "rain                          float64\n",
       "dtype: object"
      ]
     },
     "execution_count": 23,
     "metadata": {},
     "output_type": "execute_result"
    }
   ],
   "source": [
    "combinedata = combinedata.dropna() # drop na values. \n",
    "combinedata.dtypes"
   ]
  },
  {
   "cell_type": "markdown",
   "metadata": {},
   "source": [
    "### Removing outliers"
   ]
  },
  {
   "cell_type": "code",
   "execution_count": 25,
   "metadata": {
    "ExecuteTime": {
     "end_time": "2019-07-22T08:47:46.265606Z",
     "start_time": "2019-07-22T08:47:46.247880Z"
    }
   },
   "outputs": [
    {
     "data": {
      "text/html": [
       "<div>\n",
       "<style scoped>\n",
       "    .dataframe tbody tr th:only-of-type {\n",
       "        vertical-align: middle;\n",
       "    }\n",
       "\n",
       "    .dataframe tbody tr th {\n",
       "        vertical-align: top;\n",
       "    }\n",
       "\n",
       "    .dataframe thead th {\n",
       "        text-align: right;\n",
       "    }\n",
       "</style>\n",
       "<table border=\"1\" class=\"dataframe\">\n",
       "  <thead>\n",
       "    <tr style=\"text-align: right;\">\n",
       "      <th></th>\n",
       "      <th>dayofservice</th>\n",
       "      <th>tripid</th>\n",
       "      <th>direction</th>\n",
       "      <th>progrnumber</th>\n",
       "      <th>stopid</th>\n",
       "      <th>plannedDEP</th>\n",
       "      <th>plannedARR</th>\n",
       "      <th>actualDEP</th>\n",
       "      <th>actualARR</th>\n",
       "      <th>routeid</th>\n",
       "      <th>time_at_stop</th>\n",
       "      <th>weather_merge_time</th>\n",
       "      <th>icon</th>\n",
       "      <th>temperature</th>\n",
       "      <th>humidity</th>\n",
       "      <th>windSpeed</th>\n",
       "      <th>rain</th>\n",
       "    </tr>\n",
       "  </thead>\n",
       "  <tbody>\n",
       "    <tr>\n",
       "      <th>0</th>\n",
       "      <td>2018-01-01</td>\n",
       "      <td>5955476</td>\n",
       "      <td>1</td>\n",
       "      <td>1</td>\n",
       "      <td>4320</td>\n",
       "      <td>2018-01-01 09:00:00</td>\n",
       "      <td>2018-01-01 09:00:00</td>\n",
       "      <td>2018-01-01 08:59:30</td>\n",
       "      <td>2018-01-01 08:59:30</td>\n",
       "      <td>145_102</td>\n",
       "      <td>0.0</td>\n",
       "      <td>2018-01-01 09:00:00</td>\n",
       "      <td>partly-cloudy-day</td>\n",
       "      <td>41.19</td>\n",
       "      <td>0.81</td>\n",
       "      <td>12.91</td>\n",
       "      <td>0.0</td>\n",
       "    </tr>\n",
       "    <tr>\n",
       "      <th>1</th>\n",
       "      <td>2018-01-01</td>\n",
       "      <td>5955476</td>\n",
       "      <td>1</td>\n",
       "      <td>2</td>\n",
       "      <td>1476</td>\n",
       "      <td>2018-01-01 09:01:44</td>\n",
       "      <td>2018-01-01 09:01:44</td>\n",
       "      <td>2018-01-01 09:01:01</td>\n",
       "      <td>2018-01-01 09:01:01</td>\n",
       "      <td>145_102</td>\n",
       "      <td>0.0</td>\n",
       "      <td>2018-01-01 09:00:00</td>\n",
       "      <td>partly-cloudy-day</td>\n",
       "      <td>41.19</td>\n",
       "      <td>0.81</td>\n",
       "      <td>12.91</td>\n",
       "      <td>0.0</td>\n",
       "    </tr>\n",
       "    <tr>\n",
       "      <th>2</th>\n",
       "      <td>2018-01-01</td>\n",
       "      <td>5955476</td>\n",
       "      <td>1</td>\n",
       "      <td>3</td>\n",
       "      <td>7453</td>\n",
       "      <td>2018-01-01 09:02:59</td>\n",
       "      <td>2018-01-01 09:02:59</td>\n",
       "      <td>2018-01-01 09:01:48</td>\n",
       "      <td>2018-01-01 09:01:48</td>\n",
       "      <td>145_102</td>\n",
       "      <td>0.0</td>\n",
       "      <td>2018-01-01 09:00:00</td>\n",
       "      <td>partly-cloudy-day</td>\n",
       "      <td>41.19</td>\n",
       "      <td>0.81</td>\n",
       "      <td>12.91</td>\n",
       "      <td>0.0</td>\n",
       "    </tr>\n",
       "    <tr>\n",
       "      <th>3</th>\n",
       "      <td>2018-01-01</td>\n",
       "      <td>5955476</td>\n",
       "      <td>1</td>\n",
       "      <td>4</td>\n",
       "      <td>1478</td>\n",
       "      <td>2018-01-01 09:04:10</td>\n",
       "      <td>2018-01-01 09:04:10</td>\n",
       "      <td>2018-01-01 09:03:02</td>\n",
       "      <td>2018-01-01 09:02:52</td>\n",
       "      <td>145_102</td>\n",
       "      <td>10.0</td>\n",
       "      <td>2018-01-01 09:00:00</td>\n",
       "      <td>partly-cloudy-day</td>\n",
       "      <td>41.19</td>\n",
       "      <td>0.81</td>\n",
       "      <td>12.91</td>\n",
       "      <td>0.0</td>\n",
       "    </tr>\n",
       "    <tr>\n",
       "      <th>4</th>\n",
       "      <td>2018-01-01</td>\n",
       "      <td>5955476</td>\n",
       "      <td>1</td>\n",
       "      <td>5</td>\n",
       "      <td>1479</td>\n",
       "      <td>2018-01-01 09:04:58</td>\n",
       "      <td>2018-01-01 09:04:58</td>\n",
       "      <td>2018-01-01 09:03:50</td>\n",
       "      <td>2018-01-01 09:03:50</td>\n",
       "      <td>145_102</td>\n",
       "      <td>0.0</td>\n",
       "      <td>2018-01-01 09:00:00</td>\n",
       "      <td>partly-cloudy-day</td>\n",
       "      <td>41.19</td>\n",
       "      <td>0.81</td>\n",
       "      <td>12.91</td>\n",
       "      <td>0.0</td>\n",
       "    </tr>\n",
       "  </tbody>\n",
       "</table>\n",
       "</div>"
      ],
      "text/plain": [
       "  dayofservice   tripid  direction  progrnumber  stopid          plannedDEP  \\\n",
       "0   2018-01-01  5955476          1            1    4320 2018-01-01 09:00:00   \n",
       "1   2018-01-01  5955476          1            2    1476 2018-01-01 09:01:44   \n",
       "2   2018-01-01  5955476          1            3    7453 2018-01-01 09:02:59   \n",
       "3   2018-01-01  5955476          1            4    1478 2018-01-01 09:04:10   \n",
       "4   2018-01-01  5955476          1            5    1479 2018-01-01 09:04:58   \n",
       "\n",
       "           plannedARR           actualDEP           actualARR  routeid  \\\n",
       "0 2018-01-01 09:00:00 2018-01-01 08:59:30 2018-01-01 08:59:30  145_102   \n",
       "1 2018-01-01 09:01:44 2018-01-01 09:01:01 2018-01-01 09:01:01  145_102   \n",
       "2 2018-01-01 09:02:59 2018-01-01 09:01:48 2018-01-01 09:01:48  145_102   \n",
       "3 2018-01-01 09:04:10 2018-01-01 09:03:02 2018-01-01 09:02:52  145_102   \n",
       "4 2018-01-01 09:04:58 2018-01-01 09:03:50 2018-01-01 09:03:50  145_102   \n",
       "\n",
       "   time_at_stop  weather_merge_time               icon  temperature  humidity  \\\n",
       "0           0.0 2018-01-01 09:00:00  partly-cloudy-day        41.19      0.81   \n",
       "1           0.0 2018-01-01 09:00:00  partly-cloudy-day        41.19      0.81   \n",
       "2           0.0 2018-01-01 09:00:00  partly-cloudy-day        41.19      0.81   \n",
       "3          10.0 2018-01-01 09:00:00  partly-cloudy-day        41.19      0.81   \n",
       "4           0.0 2018-01-01 09:00:00  partly-cloudy-day        41.19      0.81   \n",
       "\n",
       "   windSpeed  rain  \n",
       "0      12.91   0.0  \n",
       "1      12.91   0.0  \n",
       "2      12.91   0.0  \n",
       "3      12.91   0.0  \n",
       "4      12.91   0.0  "
      ]
     },
     "execution_count": 25,
     "metadata": {},
     "output_type": "execute_result"
    }
   ],
   "source": [
    "# combinedata.time_at_stop.astype(int).apply(lambda x: x*10**-9).hist(bins=1000) # hitogram of times spent at a stop. \n",
    "combinedata.time_at_stop = combinedata.time_at_stop.astype(int) / 10**9\n",
    "combinedata.head()"
   ]
  },
  {
   "cell_type": "code",
   "execution_count": 36,
   "metadata": {
    "ExecuteTime": {
     "end_time": "2019-07-22T08:55:24.464216Z",
     "start_time": "2019-07-22T08:55:23.413610Z"
    }
   },
   "outputs": [
    {
     "data": {
      "text/plain": [
       "<matplotlib.axes._subplots.AxesSubplot at 0x7f8774116c18>"
      ]
     },
     "execution_count": 36,
     "metadata": {},
     "output_type": "execute_result"
    },
    {
     "data": {
      "text/plain": [
       "count    4116135\n",
       "mean          13\n",
       "std           29\n",
       "min            0\n",
       "25%            0\n",
       "50%           11\n",
       "75%           18\n",
       "max        19795\n",
       "Name: time_at_stop, dtype: int64"
      ]
     },
     "execution_count": 36,
     "metadata": {},
     "output_type": "execute_result"
    },
    {
     "data": {
      "image/png": "[encoded data removed]",
      "text/plain": [
       "<Figure size 432x288 with 1 Axes>"
      ]
     },
     "metadata": {
      "needs_background": "light"
     },
     "output_type": "display_data"
    }
   ],
   "source": [
    "combinedata[combinedata['time_at_stop'] != 0].boxplot(column= ['time_at_stop'])\n",
    "combinedata.time_at_stop.describe().astype(int)"
   ]
  },
  {
   "cell_type": "markdown",
   "metadata": {},
   "source": [
    "Will use 3$\\sigma$ as the threshold for outliers <br>\n",
    "Note: This method can fail to detect outliers because the outliers increase the standard deviation."
   ]
  },
  {
   "cell_type": "code",
   "execution_count": null,
   "metadata": {},
   "outputs": [],
   "source": [
    "df[(np.abs(stats.zscore(df)) < 3).all(axis=1)]"
   ]
  },
  {
   "cell_type": "markdown",
   "metadata": {},
   "source": [
    "## Train Model"
   ]
  },
  {
   "cell_type": "code",
   "execution_count": null,
   "metadata": {},
   "outputs": [],
   "source": []
  },
  {
   "cell_type": "code",
   "execution_count": null,
   "metadata": {},
   "outputs": [],
   "source": []
  },
  {
   "cell_type": "code",
   "execution_count": null,
   "metadata": {},
   "outputs": [],
   "source": []
  },
  {
   "cell_type": "code",
   "execution_count": null,
   "metadata": {},
   "outputs": [],
   "source": []
  },
  {
   "cell_type": "markdown",
   "metadata": {},
   "source": [
    "## Evaluate Model"
   ]
  },
  {
   "cell_type": "code",
   "execution_count": null,
   "metadata": {},
   "outputs": [],
   "source": []
  },
  {
   "cell_type": "code",
   "execution_count": null,
   "metadata": {},
   "outputs": [],
   "source": []
  },
  {
   "cell_type": "code",
   "execution_count": null,
   "metadata": {},
   "outputs": [],
   "source": []
  },
  {
   "cell_type": "code",
   "execution_count": null,
   "metadata": {},
   "outputs": [],
   "source": []
  },
  {
   "cell_type": "markdown",
   "metadata": {},
   "source": [
    "## Changes"
   ]
  },
  {
   "cell_type": "code",
   "execution_count": null,
   "metadata": {},
   "outputs": [],
   "source": []
  },
  {
   "cell_type": "code",
   "execution_count": null,
   "metadata": {},
   "outputs": [],
   "source": []
  }
 ],
 "metadata": {
  "kernelspec": {
   "display_name": "Python 3",
   "language": "python",
   "name": "python3"
  },
  "language_info": {
   "codemirror_mode": {
    "name": "ipython",
    "version": 3
   },
   "file_extension": ".py",
   "mimetype": "text/x-python",
   "name": "python",
   "nbconvert_exporter": "python",
   "pygments_lexer": "ipython3",
   "version": "3.6.8"
  },
  "toc": {
   "base_numbering": 1,
   "nav_menu": {},
   "number_sections": true,
   "sideBar": true,
   "skip_h1_title": false,
   "title_cell": "Table of Contents",
   "title_sidebar": "Contents",
   "toc_cell": false,
   "toc_position": {},
   "toc_section_display": true,
   "toc_window_display": false
  },
  "varInspector": {
   "cols": {
    "lenName": 16,
    "lenType": 16,
    "lenVar": 40
   },
   "kernels_config": {
    "python": {
     "delete_cmd_postfix": "",
     "delete_cmd_prefix": "del ",
     "library": "var_list.py",
     "varRefreshCmd": "print(var_dic_list())"
    },
    "r": {
     "delete_cmd_postfix": ") ",
     "delete_cmd_prefix": "rm(",
     "library": "var_list.r",
     "varRefreshCmd": "cat(var_dic_list()) "
    }
   },
   "types_to_exclude": [
    "module",
    "function",
    "builtin_function_or_method",
    "instance",
    "_Feature"
   ],
   "window_display": false
  }
 },
 "nbformat": 4,
 "nbformat_minor": 2
}

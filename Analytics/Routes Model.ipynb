{
 "cells": [
  {
   "cell_type": "code",
   "execution_count": 27,
   "metadata": {},
   "outputs": [],
   "source": [
    "import matplotlib.pyplot as plt\n",
    "import matplotlib.mlab as mlab\n",
    "\n",
    "from datetime import timedelta\n",
    "from datetime import datetime\n",
    "import scipy.stats as stats\n",
    "\n",
    "import requests as r\n",
    "import pandas as pd\n",
    "import seaborn as s\n",
    "import numpy as np\n",
    "\n",
    "import holidays\n",
    "ie_holidays = holidays.Ireland()\n",
    "\n",
    "import postgres\n",
    "import gmaps\n",
    "import googlemaps\n",
    "import json\n",
    "import math\n",
    "import config\n",
    "\n",
    "import xgboost as xgb\n",
    "from sklearn import metrics\n",
    "\n",
    "from tqdm import tnrange, tqdm_notebook\n",
    "\n",
    "from sklearn.model_selection import train_test_split\n",
    "from sklearn.model_selection import cross_val_score \n",
    "from sklearn.model_selection import cross_validate\n",
    "from sklearn.ensemble import RandomForestClassifier\n",
    "from sklearn.preprocessing import LabelEncoder\n",
    "\n",
    "import pickle"
   ]
  },
  {
   "cell_type": "code",
   "execution_count": 2,
   "metadata": {},
   "outputs": [
    {
     "data": {
      "text/plain": [
       "<module 'config' from '/media/storage/College/S3/Github/DublinBus/Analytics/config.py'>"
      ]
     },
     "execution_count": 2,
     "metadata": {},
     "output_type": "execute_result"
    }
   ],
   "source": [
    "import importlib\n",
    "importlib.reload(postgres.config)"
   ]
  },
  {
   "cell_type": "code",
   "execution_count": 3,
   "metadata": {},
   "outputs": [],
   "source": [
    "from IPython.core.interactiveshell import InteractiveShell\n",
    "InteractiveShell.ast_node_interactivity = \"all\""
   ]
  },
  {
   "cell_type": "code",
   "execution_count": 4,
   "metadata": {},
   "outputs": [],
   "source": [
    "# data = pd.read_csv(\"stored_queries/combined145.csv\")\n",
    "# data.columns = ['dayofservice','tripid','lineid','direction','progrnumber','stopid','plannedDEP','plannedARR','actualDEP','actualARR','routeid']\n",
    "# data.head(2)\n",
    "# data.dtypes"
   ]
  },
  {
   "cell_type": "code",
   "execution_count": 5,
   "metadata": {},
   "outputs": [],
   "source": [
    "# data.dayofservice = pd.to_datetime(data.dayofservice.loc[:])\n",
    "# data.lineid = data.lineid.astype('category')\n",
    "# data.routeid= data.routeid.astype('category')\n",
    "# data.sort_values(by=['dayofservice','lineid','tripid','direction','progrnumber'],inplace=True)"
   ]
  },
  {
   "cell_type": "code",
   "execution_count": null,
   "metadata": {},
   "outputs": [],
   "source": []
  },
  {
   "cell_type": "markdown",
   "metadata": {},
   "source": [
    "# Trips Data"
   ]
  },
  {
   "cell_type": "code",
   "execution_count": 6,
   "metadata": {},
   "outputs": [
    {
     "data": {
      "text/html": [
       "<div>\n",
       "<style scoped>\n",
       "    .dataframe tbody tr th:only-of-type {\n",
       "        vertical-align: middle;\n",
       "    }\n",
       "\n",
       "    .dataframe tbody tr th {\n",
       "        vertical-align: top;\n",
       "    }\n",
       "\n",
       "    .dataframe thead th {\n",
       "        text-align: right;\n",
       "    }\n",
       "</style>\n",
       "<table border=\"1\" class=\"dataframe\">\n",
       "  <thead>\n",
       "    <tr style=\"text-align: right;\">\n",
       "      <th></th>\n",
       "      <th>Unnamed: 0</th>\n",
       "      <th>dayofservice</th>\n",
       "      <th>tripid</th>\n",
       "      <th>lineid</th>\n",
       "      <th>routeid</th>\n",
       "      <th>direction</th>\n",
       "      <th>planned_arr</th>\n",
       "      <th>planned_dep</th>\n",
       "      <th>actual_arr</th>\n",
       "      <th>actual_dep</th>\n",
       "    </tr>\n",
       "  </thead>\n",
       "  <tbody>\n",
       "    <tr>\n",
       "      <th>0</th>\n",
       "      <td>0</td>\n",
       "      <td>2018-06-17</td>\n",
       "      <td>7013606</td>\n",
       "      <td>7A</td>\n",
       "      <td>7A_85</td>\n",
       "      <td>1</td>\n",
       "      <td>66484</td>\n",
       "      <td>62400</td>\n",
       "      <td>67065.0</td>\n",
       "      <td>62901.0</td>\n",
       "    </tr>\n",
       "    <tr>\n",
       "      <th>1</th>\n",
       "      <td>1</td>\n",
       "      <td>2018-07-03</td>\n",
       "      <td>7137867</td>\n",
       "      <td>41C</td>\n",
       "      <td>41C_79</td>\n",
       "      <td>2</td>\n",
       "      <td>51620</td>\n",
       "      <td>47700</td>\n",
       "      <td>NaN</td>\n",
       "      <td>47293.0</td>\n",
       "    </tr>\n",
       "    <tr>\n",
       "      <th>2</th>\n",
       "      <td>2</td>\n",
       "      <td>2018-02-16</td>\n",
       "      <td>6258567</td>\n",
       "      <td>31</td>\n",
       "      <td>31_15</td>\n",
       "      <td>1</td>\n",
       "      <td>74041</td>\n",
       "      <td>71400</td>\n",
       "      <td>74297.0</td>\n",
       "      <td>71449.0</td>\n",
       "    </tr>\n",
       "    <tr>\n",
       "      <th>3</th>\n",
       "      <td>3</td>\n",
       "      <td>2018-08-27</td>\n",
       "      <td>7499178</td>\n",
       "      <td>67</td>\n",
       "      <td>67_6</td>\n",
       "      <td>2</td>\n",
       "      <td>59030</td>\n",
       "      <td>54720</td>\n",
       "      <td>NaN</td>\n",
       "      <td>54687.0</td>\n",
       "    </tr>\n",
       "    <tr>\n",
       "      <th>4</th>\n",
       "      <td>4</td>\n",
       "      <td>2018-08-27</td>\n",
       "      <td>7500294</td>\n",
       "      <td>44</td>\n",
       "      <td>44_36</td>\n",
       "      <td>2</td>\n",
       "      <td>85563</td>\n",
       "      <td>81000</td>\n",
       "      <td>85557.0</td>\n",
       "      <td>81004.0</td>\n",
       "    </tr>\n",
       "  </tbody>\n",
       "</table>\n",
       "</div>"
      ],
      "text/plain": [
       "   Unnamed: 0 dayofservice   tripid lineid routeid  direction  planned_arr  \\\n",
       "0           0   2018-06-17  7013606     7A   7A_85          1        66484   \n",
       "1           1   2018-07-03  7137867    41C  41C_79          2        51620   \n",
       "2           2   2018-02-16  6258567     31   31_15          1        74041   \n",
       "3           3   2018-08-27  7499178     67    67_6          2        59030   \n",
       "4           4   2018-08-27  7500294     44   44_36          2        85563   \n",
       "\n",
       "   planned_dep  actual_arr  actual_dep  \n",
       "0        62400     67065.0     62901.0  \n",
       "1        47700         NaN     47293.0  \n",
       "2        71400     74297.0     71449.0  \n",
       "3        54720         NaN     54687.0  \n",
       "4        81000     85557.0     81004.0  "
      ]
     },
     "execution_count": 6,
     "metadata": {},
     "output_type": "execute_result"
    }
   ],
   "source": [
    "tripsdata = pd.read_csv(\"stored_queries/trips_df.csv\")\n",
    "tripsdata.head()"
   ]
  },
  {
   "cell_type": "code",
   "execution_count": 7,
   "metadata": {},
   "outputs": [],
   "source": [
    "tripsdata = tripsdata[['dayofservice', 'tripid', 'lineid', 'routeid', 'direction', 'actual_arr', 'actual_dep']]\n",
    "tripsdata.dayofservice = pd.to_datetime(tripsdata.dayofservice)\n",
    "tripsdata.dropna(inplace=True)"
   ]
  },
  {
   "cell_type": "code",
   "execution_count": 8,
   "metadata": {},
   "outputs": [],
   "source": [
    "tripsdata['triplength'] = tripsdata.actual_arr - tripsdata.actual_dep\n",
    "tripsdata.actual_arr = tripsdata.dayofservice + pd.to_timedelta(tripsdata.actual_arr, unit='seconds')\n",
    "tripsdata.actual_dep = tripsdata.dayofservice + pd.to_timedelta(tripsdata.actual_dep, unit='seconds')\n",
    "tripsdata['leavehour'] = tripsdata.actual_dep.dt.hour"
   ]
  },
  {
   "cell_type": "code",
   "execution_count": 9,
   "metadata": {},
   "outputs": [],
   "source": [
    "tripsdata['weather_merge_time'] = tripsdata.actual_dep.dt.round('H') #  .dt is super useful. "
   ]
  },
  {
   "cell_type": "code",
   "execution_count": 10,
   "metadata": {},
   "outputs": [
    {
     "data": {
      "text/html": [
       "<div>\n",
       "<style scoped>\n",
       "    .dataframe tbody tr th:only-of-type {\n",
       "        vertical-align: middle;\n",
       "    }\n",
       "\n",
       "    .dataframe tbody tr th {\n",
       "        vertical-align: top;\n",
       "    }\n",
       "\n",
       "    .dataframe thead th {\n",
       "        text-align: right;\n",
       "    }\n",
       "</style>\n",
       "<table border=\"1\" class=\"dataframe\">\n",
       "  <thead>\n",
       "    <tr style=\"text-align: right;\">\n",
       "      <th></th>\n",
       "      <th>dayofservice</th>\n",
       "      <th>tripid</th>\n",
       "      <th>lineid</th>\n",
       "      <th>routeid</th>\n",
       "      <th>direction</th>\n",
       "      <th>actual_arr</th>\n",
       "      <th>actual_dep</th>\n",
       "      <th>triplength</th>\n",
       "      <th>leavehour</th>\n",
       "      <th>weather_merge_time</th>\n",
       "    </tr>\n",
       "  </thead>\n",
       "  <tbody>\n",
       "    <tr>\n",
       "      <th>0</th>\n",
       "      <td>2018-06-17</td>\n",
       "      <td>7013606</td>\n",
       "      <td>7A</td>\n",
       "      <td>7A_85</td>\n",
       "      <td>1</td>\n",
       "      <td>2018-06-17 18:37:45</td>\n",
       "      <td>2018-06-17 17:28:21</td>\n",
       "      <td>4164.0</td>\n",
       "      <td>17</td>\n",
       "      <td>2018-06-17 17:00:00</td>\n",
       "    </tr>\n",
       "    <tr>\n",
       "      <th>2</th>\n",
       "      <td>2018-02-16</td>\n",
       "      <td>6258567</td>\n",
       "      <td>31</td>\n",
       "      <td>31_15</td>\n",
       "      <td>1</td>\n",
       "      <td>2018-02-16 20:38:17</td>\n",
       "      <td>2018-02-16 19:50:49</td>\n",
       "      <td>2848.0</td>\n",
       "      <td>19</td>\n",
       "      <td>2018-02-16 20:00:00</td>\n",
       "    </tr>\n",
       "    <tr>\n",
       "      <th>4</th>\n",
       "      <td>2018-08-27</td>\n",
       "      <td>7500294</td>\n",
       "      <td>44</td>\n",
       "      <td>44_36</td>\n",
       "      <td>2</td>\n",
       "      <td>2018-08-27 23:45:57</td>\n",
       "      <td>2018-08-27 22:30:04</td>\n",
       "      <td>4553.0</td>\n",
       "      <td>22</td>\n",
       "      <td>2018-08-27 23:00:00</td>\n",
       "    </tr>\n",
       "    <tr>\n",
       "      <th>5</th>\n",
       "      <td>2018-05-23</td>\n",
       "      <td>6782602</td>\n",
       "      <td>27</td>\n",
       "      <td>27_17</td>\n",
       "      <td>2</td>\n",
       "      <td>2018-05-23 19:37:32</td>\n",
       "      <td>2018-05-23 18:10:37</td>\n",
       "      <td>5215.0</td>\n",
       "      <td>18</td>\n",
       "      <td>2018-05-23 18:00:00</td>\n",
       "    </tr>\n",
       "    <tr>\n",
       "      <th>6</th>\n",
       "      <td>2018-02-16</td>\n",
       "      <td>6261199</td>\n",
       "      <td>53</td>\n",
       "      <td>53_20</td>\n",
       "      <td>1</td>\n",
       "      <td>2018-02-16 14:39:00</td>\n",
       "      <td>2018-02-16 14:01:04</td>\n",
       "      <td>2276.0</td>\n",
       "      <td>14</td>\n",
       "      <td>2018-02-16 14:00:00</td>\n",
       "    </tr>\n",
       "  </tbody>\n",
       "</table>\n",
       "</div>"
      ],
      "text/plain": [
       "  dayofservice   tripid lineid routeid  direction          actual_arr  \\\n",
       "0   2018-06-17  7013606     7A   7A_85          1 2018-06-17 18:37:45   \n",
       "2   2018-02-16  6258567     31   31_15          1 2018-02-16 20:38:17   \n",
       "4   2018-08-27  7500294     44   44_36          2 2018-08-27 23:45:57   \n",
       "5   2018-05-23  6782602     27   27_17          2 2018-05-23 19:37:32   \n",
       "6   2018-02-16  6261199     53   53_20          1 2018-02-16 14:39:00   \n",
       "\n",
       "           actual_dep  triplength  leavehour  weather_merge_time  \n",
       "0 2018-06-17 17:28:21      4164.0         17 2018-06-17 17:00:00  \n",
       "2 2018-02-16 19:50:49      2848.0         19 2018-02-16 20:00:00  \n",
       "4 2018-08-27 22:30:04      4553.0         22 2018-08-27 23:00:00  \n",
       "5 2018-05-23 18:10:37      5215.0         18 2018-05-23 18:00:00  \n",
       "6 2018-02-16 14:01:04      2276.0         14 2018-02-16 14:00:00  "
      ]
     },
     "execution_count": 10,
     "metadata": {},
     "output_type": "execute_result"
    }
   ],
   "source": [
    "tripsdata.head()"
   ]
  },
  {
   "cell_type": "markdown",
   "metadata": {},
   "source": [
    "# Weather Data"
   ]
  },
  {
   "cell_type": "code",
   "execution_count": 11,
   "metadata": {},
   "outputs": [],
   "source": [
    "weather = pd.read_csv(\"stored_queries/weather.csv\")\n",
    "\n",
    "weather.icon = weather.icon.astype('category')\n",
    "weather.dayofservice = pd.to_datetime(weather.dayofservice)"
   ]
  },
  {
   "cell_type": "code",
   "execution_count": 12,
   "metadata": {},
   "outputs": [],
   "source": [
    "weather['rkey'] = weather.dayofservice + pd.to_timedelta(weather.hour, unit='hour')"
   ]
  },
  {
   "cell_type": "code",
   "execution_count": null,
   "metadata": {},
   "outputs": [],
   "source": []
  },
  {
   "cell_type": "markdown",
   "metadata": {},
   "source": [
    "# Combining Data"
   ]
  },
  {
   "cell_type": "code",
   "execution_count": 13,
   "metadata": {},
   "outputs": [],
   "source": [
    "combinedtrip = tripsdata.merge(weather[['icon','temperature','humidity','windSpeed','rain','rkey','hour']], left_on='weather_merge_time', right_on='rkey', how='left')"
   ]
  },
  {
   "cell_type": "markdown",
   "metadata": {},
   "source": [
    "## Adding features"
   ]
  },
  {
   "cell_type": "markdown",
   "metadata": {},
   "source": [
    "Holidays"
   ]
  },
  {
   "cell_type": "code",
   "execution_count": 14,
   "metadata": {},
   "outputs": [],
   "source": [
    "combinedtrip['holiday'] = combinedtrip.dayofservice.apply(lambda x: x in ie_holidays)"
   ]
  },
  {
   "cell_type": "markdown",
   "metadata": {},
   "source": [
    "Weekday/Weekend"
   ]
  },
  {
   "cell_type": "code",
   "execution_count": 15,
   "metadata": {},
   "outputs": [],
   "source": [
    "combinedtrip['weekend'] = combinedtrip.dayofservice.dt.weekday.isin([5,6])"
   ]
  },
  {
   "cell_type": "markdown",
   "metadata": {},
   "source": [
    "Encoding Icon categorical Data"
   ]
  },
  {
   "cell_type": "code",
   "execution_count": 16,
   "metadata": {},
   "outputs": [
    {
     "name": "stderr",
     "output_type": "stream",
     "text": [
      "/home/ciaran/.conda/envs/BusEnv/lib/python3.6/site-packages/IPython/core/interactiveshell.py:3296: FutureWarning: specifying 'categories' or 'ordered' in .astype() is deprecated; pass a CategoricalDtype instead\n",
      "  exec(code_obj, self.user_global_ns, self.user_ns)\n"
     ]
    }
   ],
   "source": [
    "combinedtrip.icon = combinedtrip.icon.astype('category', categories=['partly-cloudy-day', 'partly-cloudy-night', 'clear-day', 'clear-night', 'rain', 'fog', 'cloudy', 'wind'])\n",
    "\n",
    "combinedtrip = pd.concat([combinedtrip, pd.get_dummies(combinedtrip.icon, prefix='icon')], axis=1)\n",
    "combinedtrip.drop(columns=['icon'], inplace=True)"
   ]
  },
  {
   "cell_type": "markdown",
   "metadata": {},
   "source": [
    "Adding month and season data"
   ]
  },
  {
   "cell_type": "code",
   "execution_count": 17,
   "metadata": {},
   "outputs": [],
   "source": [
    "combinedtrip['month'] = combinedtrip.dayofservice.dt.month\n",
    "\n",
    "def set_season(x):\n",
    "    winter = [11,12,1]\n",
    "    autumn = [10,9,8]\n",
    "    spring = [4,3,2]\n",
    "\n",
    "    if x in winter:\n",
    "        return 'Winter'\n",
    "    elif x in autumn:\n",
    "        return 'Autumn'\n",
    "    elif x in spring:\n",
    "        return 'Spring'\n",
    "    else:\n",
    "        return 'Summer'\n",
    "    \n",
    "combinedtrip['season'] = combinedtrip.dayofservice.dt.month.apply(set_season)"
   ]
  },
  {
   "cell_type": "code",
   "execution_count": 18,
   "metadata": {},
   "outputs": [],
   "source": [
    "combinedtrip.season = combinedtrip.season.astype('category', categories=['Summer','Spring','Autumn','Winter'])\n",
    "\n",
    "combinedtrip = pd.concat([combinedtrip, pd.get_dummies(combinedtrip.season, prefix='season')], axis=1)\n",
    "combinedtrip.drop(columns=['season'], inplace=True)"
   ]
  },
  {
   "cell_type": "code",
   "execution_count": 19,
   "metadata": {},
   "outputs": [
    {
     "data": {
      "text/html": [
       "<div>\n",
       "<style scoped>\n",
       "    .dataframe tbody tr th:only-of-type {\n",
       "        vertical-align: middle;\n",
       "    }\n",
       "\n",
       "    .dataframe tbody tr th {\n",
       "        vertical-align: top;\n",
       "    }\n",
       "\n",
       "    .dataframe thead th {\n",
       "        text-align: right;\n",
       "    }\n",
       "</style>\n",
       "<table border=\"1\" class=\"dataframe\">\n",
       "  <thead>\n",
       "    <tr style=\"text-align: right;\">\n",
       "      <th></th>\n",
       "      <th>dayofservice</th>\n",
       "      <th>tripid</th>\n",
       "      <th>lineid</th>\n",
       "      <th>routeid</th>\n",
       "      <th>direction</th>\n",
       "      <th>actual_arr</th>\n",
       "      <th>actual_dep</th>\n",
       "      <th>triplength</th>\n",
       "      <th>leavehour</th>\n",
       "      <th>weather_merge_time</th>\n",
       "      <th>...</th>\n",
       "      <th>icon_fog</th>\n",
       "      <th>icon_partly-cloudy-day</th>\n",
       "      <th>icon_partly-cloudy-night</th>\n",
       "      <th>icon_rain</th>\n",
       "      <th>icon_wind</th>\n",
       "      <th>month</th>\n",
       "      <th>season_Summer</th>\n",
       "      <th>season_Spring</th>\n",
       "      <th>season_Autumn</th>\n",
       "      <th>season_Winter</th>\n",
       "    </tr>\n",
       "  </thead>\n",
       "  <tbody>\n",
       "    <tr>\n",
       "      <th>0</th>\n",
       "      <td>2018-06-17</td>\n",
       "      <td>7013606</td>\n",
       "      <td>7A</td>\n",
       "      <td>7A_85</td>\n",
       "      <td>1</td>\n",
       "      <td>2018-06-17 18:37:45</td>\n",
       "      <td>2018-06-17 17:28:21</td>\n",
       "      <td>4164.0</td>\n",
       "      <td>17</td>\n",
       "      <td>2018-06-17 17:00:00</td>\n",
       "      <td>...</td>\n",
       "      <td>0</td>\n",
       "      <td>1</td>\n",
       "      <td>0</td>\n",
       "      <td>0</td>\n",
       "      <td>0</td>\n",
       "      <td>6</td>\n",
       "      <td>1</td>\n",
       "      <td>0</td>\n",
       "      <td>0</td>\n",
       "      <td>0</td>\n",
       "    </tr>\n",
       "    <tr>\n",
       "      <th>1</th>\n",
       "      <td>2018-02-16</td>\n",
       "      <td>6258567</td>\n",
       "      <td>31</td>\n",
       "      <td>31_15</td>\n",
       "      <td>1</td>\n",
       "      <td>2018-02-16 20:38:17</td>\n",
       "      <td>2018-02-16 19:50:49</td>\n",
       "      <td>2848.0</td>\n",
       "      <td>19</td>\n",
       "      <td>2018-02-16 20:00:00</td>\n",
       "      <td>...</td>\n",
       "      <td>0</td>\n",
       "      <td>0</td>\n",
       "      <td>1</td>\n",
       "      <td>0</td>\n",
       "      <td>0</td>\n",
       "      <td>2</td>\n",
       "      <td>0</td>\n",
       "      <td>1</td>\n",
       "      <td>0</td>\n",
       "      <td>0</td>\n",
       "    </tr>\n",
       "    <tr>\n",
       "      <th>2</th>\n",
       "      <td>2018-08-27</td>\n",
       "      <td>7500294</td>\n",
       "      <td>44</td>\n",
       "      <td>44_36</td>\n",
       "      <td>2</td>\n",
       "      <td>2018-08-27 23:45:57</td>\n",
       "      <td>2018-08-27 22:30:04</td>\n",
       "      <td>4553.0</td>\n",
       "      <td>22</td>\n",
       "      <td>2018-08-27 23:00:00</td>\n",
       "      <td>...</td>\n",
       "      <td>0</td>\n",
       "      <td>0</td>\n",
       "      <td>1</td>\n",
       "      <td>0</td>\n",
       "      <td>0</td>\n",
       "      <td>8</td>\n",
       "      <td>0</td>\n",
       "      <td>0</td>\n",
       "      <td>1</td>\n",
       "      <td>0</td>\n",
       "    </tr>\n",
       "    <tr>\n",
       "      <th>3</th>\n",
       "      <td>2018-05-23</td>\n",
       "      <td>6782602</td>\n",
       "      <td>27</td>\n",
       "      <td>27_17</td>\n",
       "      <td>2</td>\n",
       "      <td>2018-05-23 19:37:32</td>\n",
       "      <td>2018-05-23 18:10:37</td>\n",
       "      <td>5215.0</td>\n",
       "      <td>18</td>\n",
       "      <td>2018-05-23 18:00:00</td>\n",
       "      <td>...</td>\n",
       "      <td>0</td>\n",
       "      <td>1</td>\n",
       "      <td>0</td>\n",
       "      <td>0</td>\n",
       "      <td>0</td>\n",
       "      <td>5</td>\n",
       "      <td>1</td>\n",
       "      <td>0</td>\n",
       "      <td>0</td>\n",
       "      <td>0</td>\n",
       "    </tr>\n",
       "    <tr>\n",
       "      <th>4</th>\n",
       "      <td>2018-02-16</td>\n",
       "      <td>6261199</td>\n",
       "      <td>53</td>\n",
       "      <td>53_20</td>\n",
       "      <td>1</td>\n",
       "      <td>2018-02-16 14:39:00</td>\n",
       "      <td>2018-02-16 14:01:04</td>\n",
       "      <td>2276.0</td>\n",
       "      <td>14</td>\n",
       "      <td>2018-02-16 14:00:00</td>\n",
       "      <td>...</td>\n",
       "      <td>0</td>\n",
       "      <td>1</td>\n",
       "      <td>0</td>\n",
       "      <td>0</td>\n",
       "      <td>0</td>\n",
       "      <td>2</td>\n",
       "      <td>0</td>\n",
       "      <td>1</td>\n",
       "      <td>0</td>\n",
       "      <td>0</td>\n",
       "    </tr>\n",
       "  </tbody>\n",
       "</table>\n",
       "<p>5 rows × 31 columns</p>\n",
       "</div>"
      ],
      "text/plain": [
       "  dayofservice   tripid lineid routeid  direction          actual_arr  \\\n",
       "0   2018-06-17  7013606     7A   7A_85          1 2018-06-17 18:37:45   \n",
       "1   2018-02-16  6258567     31   31_15          1 2018-02-16 20:38:17   \n",
       "2   2018-08-27  7500294     44   44_36          2 2018-08-27 23:45:57   \n",
       "3   2018-05-23  6782602     27   27_17          2 2018-05-23 19:37:32   \n",
       "4   2018-02-16  6261199     53   53_20          1 2018-02-16 14:39:00   \n",
       "\n",
       "           actual_dep  triplength  leavehour  weather_merge_time  ...  \\\n",
       "0 2018-06-17 17:28:21      4164.0         17 2018-06-17 17:00:00  ...   \n",
       "1 2018-02-16 19:50:49      2848.0         19 2018-02-16 20:00:00  ...   \n",
       "2 2018-08-27 22:30:04      4553.0         22 2018-08-27 23:00:00  ...   \n",
       "3 2018-05-23 18:10:37      5215.0         18 2018-05-23 18:00:00  ...   \n",
       "4 2018-02-16 14:01:04      2276.0         14 2018-02-16 14:00:00  ...   \n",
       "\n",
       "   icon_fog  icon_partly-cloudy-day  icon_partly-cloudy-night  icon_rain  \\\n",
       "0         0                       1                         0          0   \n",
       "1         0                       0                         1          0   \n",
       "2         0                       0                         1          0   \n",
       "3         0                       1                         0          0   \n",
       "4         0                       1                         0          0   \n",
       "\n",
       "  icon_wind  month  season_Summer  season_Spring  season_Autumn  season_Winter  \n",
       "0         0      6              1              0              0              0  \n",
       "1         0      2              0              1              0              0  \n",
       "2         0      8              0              0              1              0  \n",
       "3         0      5              1              0              0              0  \n",
       "4         0      2              0              1              0              0  \n",
       "\n",
       "[5 rows x 31 columns]"
      ]
     },
     "execution_count": 19,
     "metadata": {},
     "output_type": "execute_result"
    }
   ],
   "source": [
    "combinedtrip.head()"
   ]
  },
  {
   "cell_type": "markdown",
   "metadata": {},
   "source": [
    "# Null Values"
   ]
  },
  {
   "cell_type": "code",
   "execution_count": 20,
   "metadata": {},
   "outputs": [],
   "source": [
    "combinedtrip.drop(columns=['routeid','weather_merge_time','rkey','tripid','actual_arr','actual_dep','dayofservice'], inplace=True)"
   ]
  },
  {
   "cell_type": "code",
   "execution_count": 21,
   "metadata": {},
   "outputs": [],
   "source": [
    "combinedtrip.dropna(inplace=True)\n",
    "combinedtrip = combinedtrip[combinedtrip.triplength > 0]"
   ]
  },
  {
   "cell_type": "code",
   "execution_count": 22,
   "metadata": {},
   "outputs": [
    {
     "data": {
      "text/html": [
       "<div>\n",
       "<style scoped>\n",
       "    .dataframe tbody tr th:only-of-type {\n",
       "        vertical-align: middle;\n",
       "    }\n",
       "\n",
       "    .dataframe tbody tr th {\n",
       "        vertical-align: top;\n",
       "    }\n",
       "\n",
       "    .dataframe thead th {\n",
       "        text-align: right;\n",
       "    }\n",
       "</style>\n",
       "<table border=\"1\" class=\"dataframe\">\n",
       "  <thead>\n",
       "    <tr style=\"text-align: right;\">\n",
       "      <th></th>\n",
       "      <th>lineid</th>\n",
       "      <th>direction</th>\n",
       "      <th>triplength</th>\n",
       "      <th>leavehour</th>\n",
       "      <th>temperature</th>\n",
       "      <th>humidity</th>\n",
       "      <th>windSpeed</th>\n",
       "      <th>rain</th>\n",
       "      <th>hour</th>\n",
       "      <th>holiday</th>\n",
       "      <th>...</th>\n",
       "      <th>icon_fog</th>\n",
       "      <th>icon_partly-cloudy-day</th>\n",
       "      <th>icon_partly-cloudy-night</th>\n",
       "      <th>icon_rain</th>\n",
       "      <th>icon_wind</th>\n",
       "      <th>month</th>\n",
       "      <th>season_Summer</th>\n",
       "      <th>season_Spring</th>\n",
       "      <th>season_Autumn</th>\n",
       "      <th>season_Winter</th>\n",
       "    </tr>\n",
       "  </thead>\n",
       "  <tbody>\n",
       "    <tr>\n",
       "      <th>0</th>\n",
       "      <td>7A</td>\n",
       "      <td>1</td>\n",
       "      <td>4164.0</td>\n",
       "      <td>17</td>\n",
       "      <td>63.52</td>\n",
       "      <td>0.72</td>\n",
       "      <td>20.07</td>\n",
       "      <td>0.0</td>\n",
       "      <td>17.0</td>\n",
       "      <td>False</td>\n",
       "      <td>...</td>\n",
       "      <td>0</td>\n",
       "      <td>1</td>\n",
       "      <td>0</td>\n",
       "      <td>0</td>\n",
       "      <td>0</td>\n",
       "      <td>6</td>\n",
       "      <td>1</td>\n",
       "      <td>0</td>\n",
       "      <td>0</td>\n",
       "      <td>0</td>\n",
       "    </tr>\n",
       "    <tr>\n",
       "      <th>1</th>\n",
       "      <td>31</td>\n",
       "      <td>1</td>\n",
       "      <td>2848.0</td>\n",
       "      <td>19</td>\n",
       "      <td>42.09</td>\n",
       "      <td>0.89</td>\n",
       "      <td>8.29</td>\n",
       "      <td>0.0</td>\n",
       "      <td>20.0</td>\n",
       "      <td>False</td>\n",
       "      <td>...</td>\n",
       "      <td>0</td>\n",
       "      <td>0</td>\n",
       "      <td>1</td>\n",
       "      <td>0</td>\n",
       "      <td>0</td>\n",
       "      <td>2</td>\n",
       "      <td>0</td>\n",
       "      <td>1</td>\n",
       "      <td>0</td>\n",
       "      <td>0</td>\n",
       "    </tr>\n",
       "    <tr>\n",
       "      <th>2</th>\n",
       "      <td>44</td>\n",
       "      <td>2</td>\n",
       "      <td>4553.0</td>\n",
       "      <td>22</td>\n",
       "      <td>55.60</td>\n",
       "      <td>0.80</td>\n",
       "      <td>6.79</td>\n",
       "      <td>0.0</td>\n",
       "      <td>23.0</td>\n",
       "      <td>False</td>\n",
       "      <td>...</td>\n",
       "      <td>0</td>\n",
       "      <td>0</td>\n",
       "      <td>1</td>\n",
       "      <td>0</td>\n",
       "      <td>0</td>\n",
       "      <td>8</td>\n",
       "      <td>0</td>\n",
       "      <td>0</td>\n",
       "      <td>1</td>\n",
       "      <td>0</td>\n",
       "    </tr>\n",
       "    <tr>\n",
       "      <th>3</th>\n",
       "      <td>27</td>\n",
       "      <td>2</td>\n",
       "      <td>5215.0</td>\n",
       "      <td>18</td>\n",
       "      <td>58.99</td>\n",
       "      <td>0.65</td>\n",
       "      <td>10.25</td>\n",
       "      <td>0.0</td>\n",
       "      <td>18.0</td>\n",
       "      <td>False</td>\n",
       "      <td>...</td>\n",
       "      <td>0</td>\n",
       "      <td>1</td>\n",
       "      <td>0</td>\n",
       "      <td>0</td>\n",
       "      <td>0</td>\n",
       "      <td>5</td>\n",
       "      <td>1</td>\n",
       "      <td>0</td>\n",
       "      <td>0</td>\n",
       "      <td>0</td>\n",
       "    </tr>\n",
       "    <tr>\n",
       "      <th>4</th>\n",
       "      <td>53</td>\n",
       "      <td>1</td>\n",
       "      <td>2276.0</td>\n",
       "      <td>14</td>\n",
       "      <td>47.28</td>\n",
       "      <td>0.69</td>\n",
       "      <td>13.11</td>\n",
       "      <td>0.1</td>\n",
       "      <td>14.0</td>\n",
       "      <td>False</td>\n",
       "      <td>...</td>\n",
       "      <td>0</td>\n",
       "      <td>1</td>\n",
       "      <td>0</td>\n",
       "      <td>0</td>\n",
       "      <td>0</td>\n",
       "      <td>2</td>\n",
       "      <td>0</td>\n",
       "      <td>1</td>\n",
       "      <td>0</td>\n",
       "      <td>0</td>\n",
       "    </tr>\n",
       "  </tbody>\n",
       "</table>\n",
       "<p>5 rows × 24 columns</p>\n",
       "</div>"
      ],
      "text/plain": [
       "  lineid  direction  triplength  leavehour  temperature  humidity  windSpeed  \\\n",
       "0     7A          1      4164.0         17        63.52      0.72      20.07   \n",
       "1     31          1      2848.0         19        42.09      0.89       8.29   \n",
       "2     44          2      4553.0         22        55.60      0.80       6.79   \n",
       "3     27          2      5215.0         18        58.99      0.65      10.25   \n",
       "4     53          1      2276.0         14        47.28      0.69      13.11   \n",
       "\n",
       "   rain  hour  holiday  ...  icon_fog  icon_partly-cloudy-day  \\\n",
       "0   0.0  17.0    False  ...         0                       1   \n",
       "1   0.0  20.0    False  ...         0                       0   \n",
       "2   0.0  23.0    False  ...         0                       0   \n",
       "3   0.0  18.0    False  ...         0                       1   \n",
       "4   0.1  14.0    False  ...         0                       1   \n",
       "\n",
       "   icon_partly-cloudy-night  icon_rain  icon_wind  month  season_Summer  \\\n",
       "0                         0          0          0      6              1   \n",
       "1                         1          0          0      2              0   \n",
       "2                         1          0          0      8              0   \n",
       "3                         0          0          0      5              1   \n",
       "4                         0          0          0      2              0   \n",
       "\n",
       "   season_Spring  season_Autumn  season_Winter  \n",
       "0              0              0              0  \n",
       "1              1              0              0  \n",
       "2              0              1              0  \n",
       "3              0              0              0  \n",
       "4              1              0              0  \n",
       "\n",
       "[5 rows x 24 columns]"
      ]
     },
     "execution_count": 22,
     "metadata": {},
     "output_type": "execute_result"
    }
   ],
   "source": [
    "combinedtrip.head()"
   ]
  },
  {
   "cell_type": "markdown",
   "metadata": {},
   "source": [
    "# Remove outliers"
   ]
  },
  {
   "cell_type": "code",
   "execution_count": 23,
   "metadata": {
    "scrolled": false
   },
   "outputs": [],
   "source": [
    "# need to put this in a loop over the pairs of stops. (unique)\n",
    "target     = ['triplength']\n",
    "predictors = ['temperature','humidity', 'windSpeed', 'rain', 'hour', 'holiday', 'weekend',\n",
    "              'icon_clear-day', 'icon_clear-night', 'icon_cloudy', 'icon_fog',\n",
    "              'icon_partly-cloudy-day', 'icon_partly-cloudy-night', 'icon_rain','icon_wind',\n",
    "              'month','season_Winter','season_Autumn','season_Summer','season_Spring']\n",
    "\n",
    "# plt.figure()\n",
    "# for pr in predictors:\n",
    "#     try:\n",
    "        \n",
    "#         combinedtrip[pr].hist(bins=100, normed=True)\n",
    "#         print(pr)\n",
    "#         plt.figure()\n",
    "        \n",
    "#     except Exception:\n",
    "#         continue\n",
    "        \n",
    "# plt.show()"
   ]
  },
  {
   "cell_type": "markdown",
   "metadata": {},
   "source": [
    "# Sample Model Data"
   ]
  },
  {
   "cell_type": "code",
   "execution_count": null,
   "metadata": {},
   "outputs": [],
   "source": [
    "modeldata = combinedtrip[combinedtrip.lineid=='145']\n",
    "# modeldata = modeldata[modeldata.direction==1]\n",
    "# Ignore direction for now, consider it later. \n",
    "modeldata.head()"
   ]
  },
  {
   "cell_type": "code",
   "execution_count": null,
   "metadata": {},
   "outputs": [],
   "source": [
    "modeldata.count()\n",
    "plt.hist(modeldata.triplength, bins=100)"
   ]
  },
  {
   "cell_type": "code",
   "execution_count": null,
   "metadata": {},
   "outputs": [],
   "source": [
    "travel_time_deviation = modeldata.triplength.std()\n",
    "\n",
    "# 2 sigma - 95% of data\n",
    "modeldata = modeldata[abs(modeldata.triplength-modeldata.triplength.mean()) < 2*travel_time_deviation]\n",
    "modeldata = modeldata[modeldata.triplength >= 0]"
   ]
  },
  {
   "cell_type": "code",
   "execution_count": null,
   "metadata": {},
   "outputs": [],
   "source": [
    "# modeldata.count()\n",
    "# plt.hist(modeldata.triplength, bins=100)"
   ]
  },
  {
   "cell_type": "markdown",
   "metadata": {},
   "source": [
    "# Training Model"
   ]
  },
  {
   "cell_type": "code",
   "execution_count": null,
   "metadata": {},
   "outputs": [],
   "source": []
  },
  {
   "cell_type": "markdown",
   "metadata": {},
   "source": [
    "## Random Forest (skLearn)"
   ]
  },
  {
   "cell_type": "code",
   "execution_count": null,
   "metadata": {},
   "outputs": [],
   "source": [
    "# train, test = train_test_split(modeldata, test_size = 0.3, shuffle=True)\n",
    "\n",
    "# RFM\n",
    "\n",
    "# RFM = RandomForestClassifier(n_estimators=100, max_features='auto', oob_score=True, random_state=1)\n",
    "# RFM.fit(train[predictors], train[target].values.ravel())\n",
    "# RFM_predictions = RFM.predict(test[predictors])\n",
    "\n",
    "# feature_importance = pd.DataFrame({'feature':predictors, 'importance': RFM.feature_importances_})\n",
    "\n",
    "# feature_importance.set_index('feature', inplace=True)\n",
    "# feature_importance.plot.barh(title='Feature importance')"
   ]
  },
  {
   "cell_type": "markdown",
   "metadata": {},
   "source": [
    "## XGBoost"
   ]
  },
  {
   "cell_type": "markdown",
   "metadata": {},
   "source": [
    "### Training XGBoost Model"
   ]
  },
  {
   "cell_type": "code",
   "execution_count": null,
   "metadata": {
    "scrolled": false
   },
   "outputs": [],
   "source": [
    "# ========================= Test/Train Splits ========================== #\n",
    "X_train, X_test, y_train, y_test = train_test_split(modeldata[predictors],modeldata[target].values.ravel(), test_size=0.3, shuffle=True)\n",
    "\n",
    "# ========================== Making DMatrices ========================== #\n",
    "dtrain = xgb.DMatrix(X_train, label=y_train)\n",
    "dtest = xgb.DMatrix(X_test, label=y_test)\n",
    "\n",
    "# =========================== Training Model =========================== #\n",
    "\n",
    "param = {\n",
    "#     'tree_method':'gpu_hist',\n",
    "    'eta':0.1,\n",
    "    'max_depth':6\n",
    "}\n",
    "num_rounds = 10000\n",
    "\n",
    "model = xgb.train(param, dtrain, num_rounds, evals=[(dtest, 'Test')], verbose_eval=200, early_stopping_rounds=100)\n",
    "\n",
    "\n",
    "# ============================  Predictions ============================ #\n",
    "xgbpreds = model.predict(dtest)\n",
    "\n",
    "# ====================== Feature Importance graph ====================== #\n",
    "# xgb.plot_importance(model)\n",
    "\n",
    "X_train.head()"
   ]
  },
  {
   "cell_type": "code",
   "execution_count": null,
   "metadata": {},
   "outputs": [],
   "source": [
    "# ========================= Visualising Errors ========================= #\n",
    "xgbresiduals = xgbpreds - y_test\n",
    "\n",
    "# best fit of data\n",
    "(xmu, xsigma) = stats.norm.fit(xgbresiduals)\n",
    "\n",
    "# # The histogram of the data\n",
    "xn, xbins, xpatches = plt.hist(xgbresiduals, 100, density=True, facecolor='green', alpha=0.75)\n",
    "\n",
    "# add a 'best fit' line\n",
    "xy = mlab.normpdf(xbins, xmu, xsigma)\n",
    "xl = plt.plot(xbins, xy, 'r--', linewidth=2)\n",
    "plt.show()\n",
    "\n",
    "print(xsigma,xmu)\n",
    "\n",
    "plt.figure()\n",
    "plt.plot(xgbresiduals)"
   ]
  },
  {
   "cell_type": "markdown",
   "metadata": {
    "heading_collapsed": true
   },
   "source": [
    "### Running models for all lineids"
   ]
  },
  {
   "cell_type": "code",
   "execution_count": null,
   "metadata": {
    "hidden": true
   },
   "outputs": [],
   "source": [
    "# Training Model for all lineids in dataset\n",
    "\n",
    "lineids = combinedtrip.lineid.unique()\n",
    "\n",
    "models = dict()\n",
    "\n",
    "for lidn in tnrange(len(lineids)):\n",
    "    \n",
    "    lid = lineids[lidn]\n",
    "    \n",
    "    modeldata = combinedtrip[combinedtrip.lineid==lid]\n",
    "#     modeldata = modeldata[modeldata.direction==1]\n",
    "    \n",
    "    travel_time_deviation = modeldata.triplength.std()\n",
    "\n",
    "    # 3 sigma - 99.7% of data\n",
    "    modeldata = modeldata[abs(modeldata.triplength-modeldata.triplength.mean()) < 2*travel_time_deviation]\n",
    "    modeldata = modeldata[modeldata.triplength >= 0]\n",
    "    \n",
    "    modeldata.dropna(inplace=True)\n",
    "\n",
    "\n",
    "    # ========================= Test/Train Splits ========================== #\n",
    "    X_train, X_test, y_train, y_test = train_test_split(modeldata[predictors],modeldata[target].values.ravel(), test_size=0.5, shuffle=True)\n",
    "\n",
    "    # ========================== Making DMatrices ========================== #\n",
    "    dtrain = xgb.DMatrix(X_train, label=y_train)\n",
    "    dtest = xgb.DMatrix(X_test, label=y_test)\n",
    "\n",
    "    # =========================== Training Model =========================== #\n",
    "\n",
    "    param = {\n",
    "    #     'tree_method':'gpu_hist',\n",
    "        'eta':0.1,\n",
    "        'max_depth':6\n",
    "    }\n",
    "    num_rounds = 10000\n",
    "\n",
    "    try:\n",
    "        models[f'Route{lid}'] = xgb.train(param, dtrain, num_rounds, evals=[(dtest, 'Test')], verbose_eval=False, early_stopping_rounds=100)\n",
    "    \n",
    "    except Exception as e:\n",
    "        print(lid)\n",
    "        modeldata.head()\n",
    "        print(repr(e))"
   ]
  },
  {
   "cell_type": "markdown",
   "metadata": {
    "heading_collapsed": true
   },
   "source": [
    "# Saving Models"
   ]
  },
  {
   "cell_type": "code",
   "execution_count": null,
   "metadata": {
    "hidden": true
   },
   "outputs": [],
   "source": [
    "# import sys\n",
    "# sys.getsizeof(model.best_iteration)"
   ]
  },
  {
   "cell_type": "markdown",
   "metadata": {
    "hidden": true
   },
   "source": [
    "Random Forest (using pickle) - memory errors"
   ]
  },
  {
   "cell_type": "code",
   "execution_count": null,
   "metadata": {
    "hidden": true
   },
   "outputs": [],
   "source": [
    "# save model\n",
    "# pickle.dump(RFM, open(\"modelFiles/Route145.sav\", 'w'))\n",
    "\n",
    "# load model\n",
    "# loaded_model = pickle.load(open(\"modelFiles/route145.sav\", 'rb'))"
   ]
  },
  {
   "cell_type": "markdown",
   "metadata": {
    "hidden": true
   },
   "source": [
    "XGBoost model"
   ]
  },
  {
   "cell_type": "code",
   "execution_count": null,
   "metadata": {
    "hidden": true
   },
   "outputs": [],
   "source": [
    "# model.save_model(\"modelFiles/route145.model\")\n",
    "\n",
    "mkeys = list(models.keys())\n",
    "\n",
    "for k in tnrange(len(mkeys)):\n",
    "    \n",
    "    key = mkeys[k]\n",
    "    \n",
    "    models[key].save_model(f\"ModelFiles/RouteModels/{key}.model\")"
   ]
  },
  {
   "cell_type": "code",
   "execution_count": null,
   "metadata": {
    "hidden": true
   },
   "outputs": [],
   "source": [
    "# samplehow to load model.\n",
    "\n",
    "model3 = xgb.Booster()\n",
    "model3.load_model(\"ModelFiles/RouteModels/Route41D.model\")"
   ]
  },
  {
   "cell_type": "markdown",
   "metadata": {},
   "source": [
    "# Testing"
   ]
  },
  {
   "cell_type": "markdown",
   "metadata": {},
   "source": [
    "**Sample function to call predictions for a route.** "
   ]
  },
  {
   "cell_type": "code",
   "execution_count": 53,
   "metadata": {},
   "outputs": [
    {
     "data": {
      "text/plain": [
       "'Please select a valid date/time. Only future values are valid.'"
      ]
     },
     "execution_count": 53,
     "metadata": {},
     "output_type": "execute_result"
    }
   ],
   "source": [
    "import config\n",
    "import numpy as np\n",
    "import pandas as pd\n",
    "import xgboost as xgb\n",
    "import requests as req\n",
    "import holidays as hol\n",
    "ie_holidays = hol.Ireland()\n",
    "\n",
    "from datetime import date, time, datetime\n",
    "\n",
    "def set_season(x):\n",
    "    winter = [11,12,1]\n",
    "    autumn = [10,9,8]\n",
    "    spring = [4,3,2]\n",
    "\n",
    "    if x in winter:\n",
    "        return 'Winter'\n",
    "    elif x in autumn:\n",
    "        return 'Autumn'\n",
    "    elif x in spring:\n",
    "        return 'Spring'\n",
    "    else:\n",
    "        return 'Summer'\n",
    "       \n",
    "\n",
    "def prediction(PDate, Routeid, PTime, Number_Stops):\n",
    "    \"\"\"\n",
    "    Return an estimate of travel time, in seconds, for a given journey. \n",
    "    \n",
    "    inputs:\n",
    "    ---------------------------------------\n",
    "    (str) Date:            YYYY-MM-DD\n",
    "    (str) Routeid:         lineid\n",
    "    (str) Time:            HH:MM\n",
    "    (int) Number_Stops:    Number of stops to be travelled\n",
    "    \n",
    "    \n",
    "    Outpus:\n",
    "    ---------------------------------------\n",
    "    (int) time:            Seconds\n",
    "    \"\"\"\n",
    "    \n",
    "    # =========================== Import Model ========================= #\n",
    "    \n",
    "    model = xgb.Booster()\n",
    "    model.load_model(f\"ModelFiles/RouteModels/Route{Routeid}.model\")\n",
    "    \n",
    "    # ====================== Dateand Time objects ====================== #\n",
    "    \n",
    "    ddate = date(int(PDate[:4]), int(PDate[5:7]), int(PDate[-2:]))\n",
    "    dtime = time(int(PTime[:2]), int(PTime[-2:]))\n",
    "    ddiff = datetime.combine(ddate, dtime) - datetime.now()   \n",
    "        \n",
    "    if ddiff < time(1,0):\n",
    "        return \"Please select a valid date/time. Only future values are valid.\"\n",
    "        \n",
    "    inputs.hour = dtime.hour\n",
    "    inputs.month= ddate.month    \n",
    "    \n",
    "    # ========================== Weather Data ========================== # \n",
    "    # will need to sync this with the automated live weather updates to no waste calls. Also add forecasting option. \n",
    "    \n",
    "    weathercall = req.get(f\"https://api.darksky.net/forecast/{config.DarkSkyKeys}/53.3498,-6.2603\").content\n",
    "    weather = json.loads(weathercall)\n",
    "    \n",
    "    if diff.days < 2:\n",
    "        \n",
    "        if (ddiff.seconds < 3600) and (ddiff.days==0):\n",
    "            weather = weather['minutely']\n",
    "            \n",
    "        else:\n",
    "            weather = weather['hourly']\n",
    "    \n",
    "    else: \n",
    "        weather = weather['daily']\n",
    "        \n",
    "    dstamp = datetime.to_timestamp()    \n",
    "    \n",
    "        \n",
    "    \n",
    "    # ======================== Inputs DataFrame ======================== #\n",
    "    \n",
    "    predictors = ['temperature','humidity', 'windSpeed', 'rain', 'hour', 'holiday', 'weekend',\n",
    "              'icon_clear-day', 'icon_clear-night', 'icon_cloudy', 'icon_fog',\n",
    "              'icon_partly-cloudy-day', 'icon_partly-cloudy-night', 'icon_rain','icon_wind',\n",
    "              'month','season_Winter','season_Autumn','season_Summer','season_Spring']    \n",
    "    \n",
    "    # Make dataframe of inputs. \n",
    "    inputs = pd.DataFrame(np.zeros(len(predictors))).T\n",
    "    inputs.columns = predictors\n",
    "    \n",
    "    # ========================= Weather Columns ======================== #\n",
    "    \n",
    "    inputs.temperature = weather['temperature']\n",
    "    inputs.humidity = weather['humidity']\n",
    "    inputs.windSpeed = weather['windSpeed']\n",
    "    \n",
    "    # convert in inches of liquid water per hour to mm\n",
    "    inputs.rain = float(weather['precipIntensity'])/0.0394\n",
    "    \n",
    "    # ========================= Weekday/Weekend ======================== #    \n",
    "    \n",
    "    if ddate.weekday() in [5,6]:\n",
    "        inputs.weekday=False\n",
    "    else:\n",
    "        inputs.weekday=True\n",
    "    \n",
    "    # ===================== One Hot Encoded Columns ==================== #  \n",
    "    \n",
    "    inputs[\"icon_{0}\".format(weather['icon'])]=1\n",
    "    inputs[\"season_{0}\".format(set_season(ddate.month))]=1\n",
    "    \n",
    "    # ========================= Applying Model ========================= #\n",
    "    \n",
    "    inputdata = xgb.DMatrix(inputs)\n",
    "    estimate = model.predict(inputdata)\n",
    "    \n",
    "    # ======================= Adjust for #stops ======================== #\n",
    "    \n",
    "    estimate = int(estimate.tolist()[0])\n",
    "    \n",
    "    with open(\"stops_per_line.txt\",'r') as f:\n",
    "        stopnums = json.loads(f.readlines()[0])\n",
    "    \n",
    "    total_stops = stopnums[Routeid][0][0]\n",
    "    \n",
    "    travel_time_estimate = (Number_Stops/total_stops) * estimate\n",
    "    \n",
    "    # ========================= Returning Data ========================= #\n",
    "    \n",
    "    return travel_time_estimate\n",
    "    \n",
    "    \n",
    "prediction(\"2018-01-08\", '145', \"10:45\", 1)"
   ]
  },
  {
   "cell_type": "code",
   "execution_count": null,
   "metadata": {},
   "outputs": [],
   "source": []
  }
 ],
 "metadata": {
  "kernelspec": {
   "display_name": "Python 3",
   "language": "python",
   "name": "python3"
  },
  "language_info": {
   "codemirror_mode": {
    "name": "ipython",
    "version": 3
   },
   "file_extension": ".py",
   "mimetype": "text/x-python",
   "name": "python",
   "nbconvert_exporter": "python",
   "pygments_lexer": "ipython3",
   "version": "3.6.8"
  },
  "toc": {
   "base_numbering": 1,
   "nav_menu": {},
   "number_sections": true,
   "sideBar": true,
   "skip_h1_title": false,
   "title_cell": "Table of Contents",
   "title_sidebar": "Contents",
   "toc_cell": false,
   "toc_position": {},
   "toc_section_display": true,
   "toc_window_display": false
  },
  "varInspector": {
   "cols": {
    "lenName": 16,
    "lenType": 16,
    "lenVar": 40
   },
   "kernels_config": {
    "python": {
     "delete_cmd_postfix": "",
     "delete_cmd_prefix": "del ",
     "library": "var_list.py",
     "varRefreshCmd": "print(var_dic_list())"
    },
    "r": {
     "delete_cmd_postfix": ") ",
     "delete_cmd_prefix": "rm(",
     "library": "var_list.r",
     "varRefreshCmd": "cat(var_dic_list()) "
    }
   },
   "position": {
    "height": "667.5px",
    "left": "2030px",
    "right": "20px",
    "top": "120px",
    "width": "350px"
   },
   "types_to_exclude": [
    "module",
    "function",
    "builtin_function_or_method",
    "instance",
    "_Feature"
   ],
   "window_display": false
  }
 },
 "nbformat": 4,
 "nbformat_minor": 2
}

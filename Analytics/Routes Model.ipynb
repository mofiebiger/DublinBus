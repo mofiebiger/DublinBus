{
 "cells": [
  {
   "cell_type": "code",
   "execution_count": 79,
   "metadata": {},
   "outputs": [],
   "source": [
    "import matplotlib.pyplot as plt\n",
    "import matplotlib.mlab as mlab\n",
    "\n",
    "from datetime import timedelta\n",
    "from datetime import datetime\n",
    "import scipy.stats as stats\n",
    "\n",
    "import requests as r\n",
    "import pandas as pd\n",
    "import seaborn as s\n",
    "import numpy as np\n",
    "\n",
    "import holidays\n",
    "ie_holidays = holidays.Ireland()\n",
    "\n",
    "import postgres\n",
    "import gmaps\n",
    "import googlemaps\n",
    "import json\n",
    "import math\n",
    "\n",
    "import xgboost as xgb\n",
    "from sklearn import metrics\n",
    "\n",
    "from tqdm import tnrange, tqdm_notebook\n",
    "\n",
    "from sklearn.model_selection import train_test_split\n",
    "from sklearn.model_selection import cross_val_score \n",
    "from sklearn.model_selection import cross_validate\n",
    "from sklearn.ensemble import RandomForestClassifier\n",
    "from sklearn.preprocessing import LabelEncoder\n",
    "\n",
    "import pickle"
   ]
  },
  {
   "cell_type": "code",
   "execution_count": 51,
   "metadata": {},
   "outputs": [
    {
     "data": {
      "text/plain": [
       "<module 'config' from '/media/storage/College/S3/Github/DublinBus/Analytics/config.py'>"
      ]
     },
     "execution_count": 51,
     "metadata": {},
     "output_type": "execute_result"
    }
   ],
   "source": [
    "import importlib\n",
    "importlib.reload(postgres.config)"
   ]
  },
  {
   "cell_type": "code",
   "execution_count": 52,
   "metadata": {},
   "outputs": [],
   "source": [
    "from IPython.core.interactiveshell import InteractiveShell\n",
    "InteractiveShell.ast_node_interactivity = \"all\""
   ]
  },
  {
   "cell_type": "code",
   "execution_count": 53,
   "metadata": {},
   "outputs": [],
   "source": [
    "# data = pd.read_csv(\"stored_queries/combined145.csv\")\n",
    "# data.columns = ['dayofservice','tripid','lineid','direction','progrnumber','stopid','plannedDEP','plannedARR','actualDEP','actualARR','routeid']\n",
    "# data.head(2)\n",
    "# data.dtypes"
   ]
  },
  {
   "cell_type": "code",
   "execution_count": 54,
   "metadata": {},
   "outputs": [],
   "source": [
    "# data.dayofservice = pd.to_datetime(data.dayofservice.loc[:])\n",
    "# data.lineid = data.lineid.astype('category')\n",
    "# data.routeid= data.routeid.astype('category')\n",
    "# data.sort_values(by=['dayofservice','lineid','tripid','direction','progrnumber'],inplace=True)"
   ]
  },
  {
   "cell_type": "code",
   "execution_count": null,
   "metadata": {},
   "outputs": [],
   "source": []
  },
  {
   "cell_type": "markdown",
   "metadata": {},
   "source": [
    "# Trips Data"
   ]
  },
  {
   "cell_type": "code",
   "execution_count": 55,
   "metadata": {},
   "outputs": [
    {
     "data": {
      "text/html": [
       "<div>\n",
       "<style scoped>\n",
       "    .dataframe tbody tr th:only-of-type {\n",
       "        vertical-align: middle;\n",
       "    }\n",
       "\n",
       "    .dataframe tbody tr th {\n",
       "        vertical-align: top;\n",
       "    }\n",
       "\n",
       "    .dataframe thead th {\n",
       "        text-align: right;\n",
       "    }\n",
       "</style>\n",
       "<table border=\"1\" class=\"dataframe\">\n",
       "  <thead>\n",
       "    <tr style=\"text-align: right;\">\n",
       "      <th></th>\n",
       "      <th>Unnamed: 0</th>\n",
       "      <th>dayofservice</th>\n",
       "      <th>tripid</th>\n",
       "      <th>lineid</th>\n",
       "      <th>routeid</th>\n",
       "      <th>direction</th>\n",
       "      <th>planned_arr</th>\n",
       "      <th>planned_dep</th>\n",
       "      <th>actual_arr</th>\n",
       "      <th>actual_dep</th>\n",
       "    </tr>\n",
       "  </thead>\n",
       "  <tbody>\n",
       "    <tr>\n",
       "      <th>0</th>\n",
       "      <td>0</td>\n",
       "      <td>2018-06-17</td>\n",
       "      <td>7013606</td>\n",
       "      <td>7A</td>\n",
       "      <td>7A_85</td>\n",
       "      <td>1</td>\n",
       "      <td>66484</td>\n",
       "      <td>62400</td>\n",
       "      <td>67065.0</td>\n",
       "      <td>62901.0</td>\n",
       "    </tr>\n",
       "    <tr>\n",
       "      <th>1</th>\n",
       "      <td>1</td>\n",
       "      <td>2018-07-03</td>\n",
       "      <td>7137867</td>\n",
       "      <td>41C</td>\n",
       "      <td>41C_79</td>\n",
       "      <td>2</td>\n",
       "      <td>51620</td>\n",
       "      <td>47700</td>\n",
       "      <td>NaN</td>\n",
       "      <td>47293.0</td>\n",
       "    </tr>\n",
       "    <tr>\n",
       "      <th>2</th>\n",
       "      <td>2</td>\n",
       "      <td>2018-02-16</td>\n",
       "      <td>6258567</td>\n",
       "      <td>31</td>\n",
       "      <td>31_15</td>\n",
       "      <td>1</td>\n",
       "      <td>74041</td>\n",
       "      <td>71400</td>\n",
       "      <td>74297.0</td>\n",
       "      <td>71449.0</td>\n",
       "    </tr>\n",
       "    <tr>\n",
       "      <th>3</th>\n",
       "      <td>3</td>\n",
       "      <td>2018-08-27</td>\n",
       "      <td>7499178</td>\n",
       "      <td>67</td>\n",
       "      <td>67_6</td>\n",
       "      <td>2</td>\n",
       "      <td>59030</td>\n",
       "      <td>54720</td>\n",
       "      <td>NaN</td>\n",
       "      <td>54687.0</td>\n",
       "    </tr>\n",
       "    <tr>\n",
       "      <th>4</th>\n",
       "      <td>4</td>\n",
       "      <td>2018-08-27</td>\n",
       "      <td>7500294</td>\n",
       "      <td>44</td>\n",
       "      <td>44_36</td>\n",
       "      <td>2</td>\n",
       "      <td>85563</td>\n",
       "      <td>81000</td>\n",
       "      <td>85557.0</td>\n",
       "      <td>81004.0</td>\n",
       "    </tr>\n",
       "  </tbody>\n",
       "</table>\n",
       "</div>"
      ],
      "text/plain": [
       "   Unnamed: 0 dayofservice   tripid lineid routeid  direction  planned_arr  \\\n",
       "0           0   2018-06-17  7013606     7A   7A_85          1        66484   \n",
       "1           1   2018-07-03  7137867    41C  41C_79          2        51620   \n",
       "2           2   2018-02-16  6258567     31   31_15          1        74041   \n",
       "3           3   2018-08-27  7499178     67    67_6          2        59030   \n",
       "4           4   2018-08-27  7500294     44   44_36          2        85563   \n",
       "\n",
       "   planned_dep  actual_arr  actual_dep  \n",
       "0        62400     67065.0     62901.0  \n",
       "1        47700         NaN     47293.0  \n",
       "2        71400     74297.0     71449.0  \n",
       "3        54720         NaN     54687.0  \n",
       "4        81000     85557.0     81004.0  "
      ]
     },
     "execution_count": 55,
     "metadata": {},
     "output_type": "execute_result"
    }
   ],
   "source": [
    "tripsdata = pd.read_csv(\"stored_queries/trips_df.csv\")\n",
    "tripsdata.head()"
   ]
  },
  {
   "cell_type": "code",
   "execution_count": 56,
   "metadata": {},
   "outputs": [],
   "source": [
    "tripsdata = tripsdata[['dayofservice', 'tripid', 'lineid', 'routeid', 'direction', 'actual_arr', 'actual_dep']]\n",
    "tripsdata.dayofservice = pd.to_datetime(tripsdata.dayofservice)\n",
    "tripsdata.dropna(inplace=True)"
   ]
  },
  {
   "cell_type": "code",
   "execution_count": 57,
   "metadata": {},
   "outputs": [],
   "source": [
    "tripsdata['triplength'] = tripsdata.actual_arr - tripsdata.actual_dep\n",
    "tripsdata.actual_arr = tripsdata.dayofservice + pd.to_timedelta(tripsdata.actual_arr, unit='seconds')\n",
    "tripsdata.actual_dep = tripsdata.dayofservice + pd.to_timedelta(tripsdata.actual_dep, unit='seconds')\n",
    "tripsdata['leavehour'] = tripsdata.actual_dep.dt.hour"
   ]
  },
  {
   "cell_type": "code",
   "execution_count": 58,
   "metadata": {},
   "outputs": [],
   "source": [
    "tripsdata['weather_merge_time'] = tripsdata.actual_dep.dt.round('H') #  .dt is super useful. "
   ]
  },
  {
   "cell_type": "code",
   "execution_count": 59,
   "metadata": {},
   "outputs": [
    {
     "data": {
      "text/html": [
       "<div>\n",
       "<style scoped>\n",
       "    .dataframe tbody tr th:only-of-type {\n",
       "        vertical-align: middle;\n",
       "    }\n",
       "\n",
       "    .dataframe tbody tr th {\n",
       "        vertical-align: top;\n",
       "    }\n",
       "\n",
       "    .dataframe thead th {\n",
       "        text-align: right;\n",
       "    }\n",
       "</style>\n",
       "<table border=\"1\" class=\"dataframe\">\n",
       "  <thead>\n",
       "    <tr style=\"text-align: right;\">\n",
       "      <th></th>\n",
       "      <th>dayofservice</th>\n",
       "      <th>tripid</th>\n",
       "      <th>lineid</th>\n",
       "      <th>routeid</th>\n",
       "      <th>direction</th>\n",
       "      <th>actual_arr</th>\n",
       "      <th>actual_dep</th>\n",
       "      <th>triplength</th>\n",
       "      <th>leavehour</th>\n",
       "      <th>weather_merge_time</th>\n",
       "    </tr>\n",
       "  </thead>\n",
       "  <tbody>\n",
       "    <tr>\n",
       "      <th>0</th>\n",
       "      <td>2018-06-17</td>\n",
       "      <td>7013606</td>\n",
       "      <td>7A</td>\n",
       "      <td>7A_85</td>\n",
       "      <td>1</td>\n",
       "      <td>2018-06-17 18:37:45</td>\n",
       "      <td>2018-06-17 17:28:21</td>\n",
       "      <td>4164.0</td>\n",
       "      <td>17</td>\n",
       "      <td>2018-06-17 17:00:00</td>\n",
       "    </tr>\n",
       "    <tr>\n",
       "      <th>2</th>\n",
       "      <td>2018-02-16</td>\n",
       "      <td>6258567</td>\n",
       "      <td>31</td>\n",
       "      <td>31_15</td>\n",
       "      <td>1</td>\n",
       "      <td>2018-02-16 20:38:17</td>\n",
       "      <td>2018-02-16 19:50:49</td>\n",
       "      <td>2848.0</td>\n",
       "      <td>19</td>\n",
       "      <td>2018-02-16 20:00:00</td>\n",
       "    </tr>\n",
       "    <tr>\n",
       "      <th>4</th>\n",
       "      <td>2018-08-27</td>\n",
       "      <td>7500294</td>\n",
       "      <td>44</td>\n",
       "      <td>44_36</td>\n",
       "      <td>2</td>\n",
       "      <td>2018-08-27 23:45:57</td>\n",
       "      <td>2018-08-27 22:30:04</td>\n",
       "      <td>4553.0</td>\n",
       "      <td>22</td>\n",
       "      <td>2018-08-27 23:00:00</td>\n",
       "    </tr>\n",
       "    <tr>\n",
       "      <th>5</th>\n",
       "      <td>2018-05-23</td>\n",
       "      <td>6782602</td>\n",
       "      <td>27</td>\n",
       "      <td>27_17</td>\n",
       "      <td>2</td>\n",
       "      <td>2018-05-23 19:37:32</td>\n",
       "      <td>2018-05-23 18:10:37</td>\n",
       "      <td>5215.0</td>\n",
       "      <td>18</td>\n",
       "      <td>2018-05-23 18:00:00</td>\n",
       "    </tr>\n",
       "    <tr>\n",
       "      <th>6</th>\n",
       "      <td>2018-02-16</td>\n",
       "      <td>6261199</td>\n",
       "      <td>53</td>\n",
       "      <td>53_20</td>\n",
       "      <td>1</td>\n",
       "      <td>2018-02-16 14:39:00</td>\n",
       "      <td>2018-02-16 14:01:04</td>\n",
       "      <td>2276.0</td>\n",
       "      <td>14</td>\n",
       "      <td>2018-02-16 14:00:00</td>\n",
       "    </tr>\n",
       "  </tbody>\n",
       "</table>\n",
       "</div>"
      ],
      "text/plain": [
       "  dayofservice   tripid lineid routeid  direction          actual_arr  \\\n",
       "0   2018-06-17  7013606     7A   7A_85          1 2018-06-17 18:37:45   \n",
       "2   2018-02-16  6258567     31   31_15          1 2018-02-16 20:38:17   \n",
       "4   2018-08-27  7500294     44   44_36          2 2018-08-27 23:45:57   \n",
       "5   2018-05-23  6782602     27   27_17          2 2018-05-23 19:37:32   \n",
       "6   2018-02-16  6261199     53   53_20          1 2018-02-16 14:39:00   \n",
       "\n",
       "           actual_dep  triplength  leavehour  weather_merge_time  \n",
       "0 2018-06-17 17:28:21      4164.0         17 2018-06-17 17:00:00  \n",
       "2 2018-02-16 19:50:49      2848.0         19 2018-02-16 20:00:00  \n",
       "4 2018-08-27 22:30:04      4553.0         22 2018-08-27 23:00:00  \n",
       "5 2018-05-23 18:10:37      5215.0         18 2018-05-23 18:00:00  \n",
       "6 2018-02-16 14:01:04      2276.0         14 2018-02-16 14:00:00  "
      ]
     },
     "execution_count": 59,
     "metadata": {},
     "output_type": "execute_result"
    }
   ],
   "source": [
    "tripsdata.head()"
   ]
  },
  {
   "cell_type": "markdown",
   "metadata": {},
   "source": [
    "# Weather Data"
   ]
  },
  {
   "cell_type": "code",
   "execution_count": 60,
   "metadata": {},
   "outputs": [],
   "source": [
    "weather = pd.read_csv(\"stored_queries/weather.csv\")\n",
    "\n",
    "weather.icon = weather.icon.astype('category')\n",
    "weather.dayofservice = pd.to_datetime(weather.dayofservice)"
   ]
  },
  {
   "cell_type": "code",
   "execution_count": 61,
   "metadata": {},
   "outputs": [],
   "source": [
    "weather['rkey'] = weather.dayofservice + pd.to_timedelta(weather.hour, unit='hour')"
   ]
  },
  {
   "cell_type": "code",
   "execution_count": null,
   "metadata": {},
   "outputs": [],
   "source": []
  },
  {
   "cell_type": "markdown",
   "metadata": {},
   "source": [
    "# Combining Data"
   ]
  },
  {
   "cell_type": "code",
   "execution_count": 62,
   "metadata": {},
   "outputs": [],
   "source": [
    "combinedtrip = tripsdata.merge(weather[['icon','temperature','humidity','windSpeed','rain','rkey','hour']], left_on='weather_merge_time', right_on='rkey', how='left')"
   ]
  },
  {
   "cell_type": "markdown",
   "metadata": {},
   "source": [
    "## Adding features"
   ]
  },
  {
   "cell_type": "markdown",
   "metadata": {},
   "source": [
    "Holidays"
   ]
  },
  {
   "cell_type": "code",
   "execution_count": 63,
   "metadata": {},
   "outputs": [],
   "source": [
    "combinedtrip['holiday'] = combinedtrip.dayofservice.apply(lambda x: x in ie_holidays)"
   ]
  },
  {
   "cell_type": "markdown",
   "metadata": {},
   "source": [
    "Weekday/Weekend"
   ]
  },
  {
   "cell_type": "code",
   "execution_count": 64,
   "metadata": {},
   "outputs": [],
   "source": [
    "combinedtrip['weekend'] = combinedtrip.dayofservice.dt.weekday.isin([5,6])"
   ]
  },
  {
   "cell_type": "markdown",
   "metadata": {},
   "source": [
    "Encoding Categorical Data"
   ]
  },
  {
   "cell_type": "code",
   "execution_count": 65,
   "metadata": {},
   "outputs": [],
   "source": [
    "combinedtrip.icon = combinedtrip.icon.astype('category', categories=['partly-cloudy-day', 'partly-cloudy-night', 'clear-day', 'clear-night', 'rain', 'fog', 'cloudy', 'wind'])\n",
    "# cmobinedtrip.\n",
    "combinedtrip = pd.concat([combinedtrip, pd.get_dummies(combinedtrip.icon, prefix='icon')], axis=1)\n",
    "combinedtrip.drop(columns=['icon'], inplace=True)"
   ]
  },
  {
   "cell_type": "markdown",
   "metadata": {},
   "source": [
    "# Outliers / Errors / Null Values"
   ]
  },
  {
   "cell_type": "code",
   "execution_count": 66,
   "metadata": {},
   "outputs": [],
   "source": [
    "combinedtrip.drop(columns=['routeid','weather_merge_time','rkey','tripid','actual_arr','actual_dep','dayofservice'], inplace=True)"
   ]
  },
  {
   "cell_type": "code",
   "execution_count": 67,
   "metadata": {},
   "outputs": [],
   "source": [
    "combinedtrip.dropna(inplace=True)"
   ]
  },
  {
   "cell_type": "code",
   "execution_count": 68,
   "metadata": {},
   "outputs": [
    {
     "data": {
      "text/html": [
       "<div>\n",
       "<style scoped>\n",
       "    .dataframe tbody tr th:only-of-type {\n",
       "        vertical-align: middle;\n",
       "    }\n",
       "\n",
       "    .dataframe tbody tr th {\n",
       "        vertical-align: top;\n",
       "    }\n",
       "\n",
       "    .dataframe thead th {\n",
       "        text-align: right;\n",
       "    }\n",
       "</style>\n",
       "<table border=\"1\" class=\"dataframe\">\n",
       "  <thead>\n",
       "    <tr style=\"text-align: right;\">\n",
       "      <th></th>\n",
       "      <th>lineid</th>\n",
       "      <th>direction</th>\n",
       "      <th>triplength</th>\n",
       "      <th>leavehour</th>\n",
       "      <th>temperature</th>\n",
       "      <th>humidity</th>\n",
       "      <th>windSpeed</th>\n",
       "      <th>rain</th>\n",
       "      <th>hour</th>\n",
       "      <th>holiday</th>\n",
       "      <th>weekend</th>\n",
       "      <th>icon_clear-day</th>\n",
       "      <th>icon_clear-night</th>\n",
       "      <th>icon_cloudy</th>\n",
       "      <th>icon_fog</th>\n",
       "      <th>icon_partly-cloudy-day</th>\n",
       "      <th>icon_partly-cloudy-night</th>\n",
       "      <th>icon_rain</th>\n",
       "      <th>icon_wind</th>\n",
       "    </tr>\n",
       "  </thead>\n",
       "  <tbody>\n",
       "    <tr>\n",
       "      <th>0</th>\n",
       "      <td>7A</td>\n",
       "      <td>1</td>\n",
       "      <td>4164.0</td>\n",
       "      <td>17</td>\n",
       "      <td>63.52</td>\n",
       "      <td>0.72</td>\n",
       "      <td>20.07</td>\n",
       "      <td>0.0</td>\n",
       "      <td>17.0</td>\n",
       "      <td>False</td>\n",
       "      <td>True</td>\n",
       "      <td>0</td>\n",
       "      <td>0</td>\n",
       "      <td>0</td>\n",
       "      <td>0</td>\n",
       "      <td>1</td>\n",
       "      <td>0</td>\n",
       "      <td>0</td>\n",
       "      <td>0</td>\n",
       "    </tr>\n",
       "    <tr>\n",
       "      <th>1</th>\n",
       "      <td>31</td>\n",
       "      <td>1</td>\n",
       "      <td>2848.0</td>\n",
       "      <td>19</td>\n",
       "      <td>42.09</td>\n",
       "      <td>0.89</td>\n",
       "      <td>8.29</td>\n",
       "      <td>0.0</td>\n",
       "      <td>20.0</td>\n",
       "      <td>False</td>\n",
       "      <td>False</td>\n",
       "      <td>0</td>\n",
       "      <td>0</td>\n",
       "      <td>0</td>\n",
       "      <td>0</td>\n",
       "      <td>0</td>\n",
       "      <td>1</td>\n",
       "      <td>0</td>\n",
       "      <td>0</td>\n",
       "    </tr>\n",
       "    <tr>\n",
       "      <th>2</th>\n",
       "      <td>44</td>\n",
       "      <td>2</td>\n",
       "      <td>4553.0</td>\n",
       "      <td>22</td>\n",
       "      <td>55.60</td>\n",
       "      <td>0.80</td>\n",
       "      <td>6.79</td>\n",
       "      <td>0.0</td>\n",
       "      <td>23.0</td>\n",
       "      <td>False</td>\n",
       "      <td>False</td>\n",
       "      <td>0</td>\n",
       "      <td>0</td>\n",
       "      <td>0</td>\n",
       "      <td>0</td>\n",
       "      <td>0</td>\n",
       "      <td>1</td>\n",
       "      <td>0</td>\n",
       "      <td>0</td>\n",
       "    </tr>\n",
       "    <tr>\n",
       "      <th>3</th>\n",
       "      <td>27</td>\n",
       "      <td>2</td>\n",
       "      <td>5215.0</td>\n",
       "      <td>18</td>\n",
       "      <td>58.99</td>\n",
       "      <td>0.65</td>\n",
       "      <td>10.25</td>\n",
       "      <td>0.0</td>\n",
       "      <td>18.0</td>\n",
       "      <td>False</td>\n",
       "      <td>False</td>\n",
       "      <td>0</td>\n",
       "      <td>0</td>\n",
       "      <td>0</td>\n",
       "      <td>0</td>\n",
       "      <td>1</td>\n",
       "      <td>0</td>\n",
       "      <td>0</td>\n",
       "      <td>0</td>\n",
       "    </tr>\n",
       "    <tr>\n",
       "      <th>4</th>\n",
       "      <td>53</td>\n",
       "      <td>1</td>\n",
       "      <td>2276.0</td>\n",
       "      <td>14</td>\n",
       "      <td>47.28</td>\n",
       "      <td>0.69</td>\n",
       "      <td>13.11</td>\n",
       "      <td>0.1</td>\n",
       "      <td>14.0</td>\n",
       "      <td>False</td>\n",
       "      <td>False</td>\n",
       "      <td>0</td>\n",
       "      <td>0</td>\n",
       "      <td>0</td>\n",
       "      <td>0</td>\n",
       "      <td>1</td>\n",
       "      <td>0</td>\n",
       "      <td>0</td>\n",
       "      <td>0</td>\n",
       "    </tr>\n",
       "  </tbody>\n",
       "</table>\n",
       "</div>"
      ],
      "text/plain": [
       "  lineid  direction  triplength  leavehour  temperature  humidity  windSpeed  \\\n",
       "0     7A          1      4164.0         17        63.52      0.72      20.07   \n",
       "1     31          1      2848.0         19        42.09      0.89       8.29   \n",
       "2     44          2      4553.0         22        55.60      0.80       6.79   \n",
       "3     27          2      5215.0         18        58.99      0.65      10.25   \n",
       "4     53          1      2276.0         14        47.28      0.69      13.11   \n",
       "\n",
       "   rain  hour  holiday  weekend  icon_clear-day  icon_clear-night  \\\n",
       "0   0.0  17.0    False     True               0                 0   \n",
       "1   0.0  20.0    False    False               0                 0   \n",
       "2   0.0  23.0    False    False               0                 0   \n",
       "3   0.0  18.0    False    False               0                 0   \n",
       "4   0.1  14.0    False    False               0                 0   \n",
       "\n",
       "   icon_cloudy  icon_fog  icon_partly-cloudy-day  icon_partly-cloudy-night  \\\n",
       "0            0         0                       1                         0   \n",
       "1            0         0                       0                         1   \n",
       "2            0         0                       0                         1   \n",
       "3            0         0                       1                         0   \n",
       "4            0         0                       1                         0   \n",
       "\n",
       "   icon_rain  icon_wind  \n",
       "0          0          0  \n",
       "1          0          0  \n",
       "2          0          0  \n",
       "3          0          0  \n",
       "4          0          0  "
      ]
     },
     "execution_count": 68,
     "metadata": {},
     "output_type": "execute_result"
    }
   ],
   "source": [
    "combinedtrip.head()"
   ]
  },
  {
   "cell_type": "code",
   "execution_count": 70,
   "metadata": {},
   "outputs": [
    {
     "data": {
      "text/plain": [
       "Index(['lineid', 'direction', 'triplength', 'leavehour', 'temperature',\n",
       "       'humidity', 'windSpeed', 'rain', 'hour', 'holiday', 'weekend',\n",
       "       'icon_clear-day', 'icon_clear-night', 'icon_cloudy', 'icon_fog',\n",
       "       'icon_partly-cloudy-day', 'icon_partly-cloudy-night', 'icon_rain',\n",
       "       'icon_wind'],\n",
       "      dtype='object')"
      ]
     },
     "execution_count": 70,
     "metadata": {},
     "output_type": "execute_result"
    }
   ],
   "source": [
    "combinedtrip.columns"
   ]
  },
  {
   "cell_type": "markdown",
   "metadata": {},
   "source": [
    "# Training Model"
   ]
  },
  {
   "cell_type": "code",
   "execution_count": 72,
   "metadata": {
    "scrolled": false
   },
   "outputs": [],
   "source": [
    "# need to put this in a loop over the pairs of stops. (unique)\n",
    "target     = ['triplength']\n",
    "predictors = ['temperature','humidity', 'windSpeed', 'rain', 'hour', 'holiday', 'weekend',\n",
    "              'icon_clear-day', 'icon_clear-night', 'icon_cloudy', 'icon_fog',\n",
    "              'icon_partly-cloudy-day', 'icon_partly-cloudy-night', 'icon_rain','icon_wind']\n",
    "\n",
    "# plt.figure()\n",
    "# for pr in predictors:\n",
    "#     try:\n",
    "        \n",
    "#         combinedtrip[pr].hist(bins=100, normed=True)\n",
    "#         print(pr)\n",
    "#         plt.figure()\n",
    "        \n",
    "#     except Exception:\n",
    "#         continue\n",
    "        \n",
    "# plt.show()"
   ]
  },
  {
   "cell_type": "code",
   "execution_count": 73,
   "metadata": {},
   "outputs": [
    {
     "data": {
      "text/html": [
       "<div>\n",
       "<style scoped>\n",
       "    .dataframe tbody tr th:only-of-type {\n",
       "        vertical-align: middle;\n",
       "    }\n",
       "\n",
       "    .dataframe tbody tr th {\n",
       "        vertical-align: top;\n",
       "    }\n",
       "\n",
       "    .dataframe thead th {\n",
       "        text-align: right;\n",
       "    }\n",
       "</style>\n",
       "<table border=\"1\" class=\"dataframe\">\n",
       "  <thead>\n",
       "    <tr style=\"text-align: right;\">\n",
       "      <th></th>\n",
       "      <th>lineid</th>\n",
       "      <th>direction</th>\n",
       "      <th>triplength</th>\n",
       "      <th>leavehour</th>\n",
       "      <th>temperature</th>\n",
       "      <th>humidity</th>\n",
       "      <th>windSpeed</th>\n",
       "      <th>rain</th>\n",
       "      <th>hour</th>\n",
       "      <th>holiday</th>\n",
       "      <th>weekend</th>\n",
       "      <th>icon_clear-day</th>\n",
       "      <th>icon_clear-night</th>\n",
       "      <th>icon_cloudy</th>\n",
       "      <th>icon_fog</th>\n",
       "      <th>icon_partly-cloudy-day</th>\n",
       "      <th>icon_partly-cloudy-night</th>\n",
       "      <th>icon_rain</th>\n",
       "      <th>icon_wind</th>\n",
       "    </tr>\n",
       "  </thead>\n",
       "  <tbody>\n",
       "    <tr>\n",
       "      <th>210</th>\n",
       "      <td>145</td>\n",
       "      <td>1</td>\n",
       "      <td>4814.0</td>\n",
       "      <td>20</td>\n",
       "      <td>69.74</td>\n",
       "      <td>0.65</td>\n",
       "      <td>8.71</td>\n",
       "      <td>0.0</td>\n",
       "      <td>20.0</td>\n",
       "      <td>False</td>\n",
       "      <td>True</td>\n",
       "      <td>0</td>\n",
       "      <td>0</td>\n",
       "      <td>0</td>\n",
       "      <td>0</td>\n",
       "      <td>1</td>\n",
       "      <td>0</td>\n",
       "      <td>0</td>\n",
       "      <td>0</td>\n",
       "    </tr>\n",
       "    <tr>\n",
       "      <th>268</th>\n",
       "      <td>145</td>\n",
       "      <td>1</td>\n",
       "      <td>4809.0</td>\n",
       "      <td>15</td>\n",
       "      <td>67.19</td>\n",
       "      <td>0.73</td>\n",
       "      <td>7.02</td>\n",
       "      <td>0.0</td>\n",
       "      <td>15.0</td>\n",
       "      <td>False</td>\n",
       "      <td>True</td>\n",
       "      <td>0</td>\n",
       "      <td>0</td>\n",
       "      <td>0</td>\n",
       "      <td>0</td>\n",
       "      <td>1</td>\n",
       "      <td>0</td>\n",
       "      <td>0</td>\n",
       "      <td>0</td>\n",
       "    </tr>\n",
       "    <tr>\n",
       "      <th>329</th>\n",
       "      <td>145</td>\n",
       "      <td>1</td>\n",
       "      <td>6441.0</td>\n",
       "      <td>16</td>\n",
       "      <td>63.90</td>\n",
       "      <td>0.77</td>\n",
       "      <td>13.85</td>\n",
       "      <td>0.0</td>\n",
       "      <td>17.0</td>\n",
       "      <td>False</td>\n",
       "      <td>False</td>\n",
       "      <td>0</td>\n",
       "      <td>0</td>\n",
       "      <td>0</td>\n",
       "      <td>0</td>\n",
       "      <td>1</td>\n",
       "      <td>0</td>\n",
       "      <td>0</td>\n",
       "      <td>0</td>\n",
       "    </tr>\n",
       "    <tr>\n",
       "      <th>406</th>\n",
       "      <td>145</td>\n",
       "      <td>1</td>\n",
       "      <td>3496.0</td>\n",
       "      <td>22</td>\n",
       "      <td>57.08</td>\n",
       "      <td>0.73</td>\n",
       "      <td>16.64</td>\n",
       "      <td>0.0</td>\n",
       "      <td>22.0</td>\n",
       "      <td>False</td>\n",
       "      <td>True</td>\n",
       "      <td>0</td>\n",
       "      <td>0</td>\n",
       "      <td>0</td>\n",
       "      <td>0</td>\n",
       "      <td>0</td>\n",
       "      <td>1</td>\n",
       "      <td>0</td>\n",
       "      <td>0</td>\n",
       "    </tr>\n",
       "    <tr>\n",
       "      <th>427</th>\n",
       "      <td>145</td>\n",
       "      <td>1</td>\n",
       "      <td>3222.0</td>\n",
       "      <td>17</td>\n",
       "      <td>58.96</td>\n",
       "      <td>0.80</td>\n",
       "      <td>16.90</td>\n",
       "      <td>0.5</td>\n",
       "      <td>18.0</td>\n",
       "      <td>False</td>\n",
       "      <td>False</td>\n",
       "      <td>0</td>\n",
       "      <td>0</td>\n",
       "      <td>0</td>\n",
       "      <td>0</td>\n",
       "      <td>0</td>\n",
       "      <td>1</td>\n",
       "      <td>0</td>\n",
       "      <td>0</td>\n",
       "    </tr>\n",
       "  </tbody>\n",
       "</table>\n",
       "</div>"
      ],
      "text/plain": [
       "    lineid  direction  triplength  leavehour  temperature  humidity  \\\n",
       "210    145          1      4814.0         20        69.74      0.65   \n",
       "268    145          1      4809.0         15        67.19      0.73   \n",
       "329    145          1      6441.0         16        63.90      0.77   \n",
       "406    145          1      3496.0         22        57.08      0.73   \n",
       "427    145          1      3222.0         17        58.96      0.80   \n",
       "\n",
       "     windSpeed  rain  hour  holiday  weekend  icon_clear-day  \\\n",
       "210       8.71   0.0  20.0    False     True               0   \n",
       "268       7.02   0.0  15.0    False     True               0   \n",
       "329      13.85   0.0  17.0    False    False               0   \n",
       "406      16.64   0.0  22.0    False     True               0   \n",
       "427      16.90   0.5  18.0    False    False               0   \n",
       "\n",
       "     icon_clear-night  icon_cloudy  icon_fog  icon_partly-cloudy-day  \\\n",
       "210                 0            0         0                       1   \n",
       "268                 0            0         0                       1   \n",
       "329                 0            0         0                       1   \n",
       "406                 0            0         0                       0   \n",
       "427                 0            0         0                       0   \n",
       "\n",
       "     icon_partly-cloudy-night  icon_rain  icon_wind  \n",
       "210                         0          0          0  \n",
       "268                         0          0          0  \n",
       "329                         0          0          0  \n",
       "406                         1          0          0  \n",
       "427                         1          0          0  "
      ]
     },
     "execution_count": 73,
     "metadata": {},
     "output_type": "execute_result"
    }
   ],
   "source": [
    "modeldata = combinedtrip[combinedtrip.lineid=='145']\n",
    "modeldata = modeldata[modeldata.direction==1]\n",
    "modeldata.head()"
   ]
  },
  {
   "cell_type": "code",
   "execution_count": 74,
   "metadata": {},
   "outputs": [],
   "source": [
    "train, test = train_test_split(modeldata, test_size = 0.3, shuffle=True)"
   ]
  },
  {
   "cell_type": "markdown",
   "metadata": {},
   "source": [
    "## Random Forest (skLearn)"
   ]
  },
  {
   "cell_type": "code",
   "execution_count": 80,
   "metadata": {
    "scrolled": true
   },
   "outputs": [
    {
     "ename": "KeyboardInterrupt",
     "evalue": "",
     "output_type": "error",
     "traceback": [
      "\u001b[0;31m---------------------------------------------------------------------------\u001b[0m",
      "\u001b[0;31mKeyboardInterrupt\u001b[0m                         Traceback (most recent call last)",
      "\u001b[0;32m<ipython-input-80-6b6ac21e01d7>\u001b[0m in \u001b[0;36m<module>\u001b[0;34m\u001b[0m\n\u001b[1;32m      2\u001b[0m \u001b[0;34m\u001b[0m\u001b[0m\n\u001b[1;32m      3\u001b[0m \u001b[0mRFM\u001b[0m \u001b[0;34m=\u001b[0m \u001b[0mRandomForestClassifier\u001b[0m\u001b[0;34m(\u001b[0m\u001b[0mn_estimators\u001b[0m\u001b[0;34m=\u001b[0m\u001b[0;36m100\u001b[0m\u001b[0;34m,\u001b[0m \u001b[0mmax_features\u001b[0m\u001b[0;34m=\u001b[0m\u001b[0;34m'auto'\u001b[0m\u001b[0;34m,\u001b[0m \u001b[0moob_score\u001b[0m\u001b[0;34m=\u001b[0m\u001b[0;32mTrue\u001b[0m\u001b[0;34m,\u001b[0m \u001b[0mrandom_state\u001b[0m\u001b[0;34m=\u001b[0m\u001b[0;36m1\u001b[0m\u001b[0;34m)\u001b[0m\u001b[0;34m\u001b[0m\u001b[0;34m\u001b[0m\u001b[0m\n\u001b[0;32m----> 4\u001b[0;31m \u001b[0mRFM\u001b[0m\u001b[0;34m.\u001b[0m\u001b[0mfit\u001b[0m\u001b[0;34m(\u001b[0m\u001b[0mtrain\u001b[0m\u001b[0;34m[\u001b[0m\u001b[0mpredictors\u001b[0m\u001b[0;34m]\u001b[0m\u001b[0;34m,\u001b[0m \u001b[0mtrain\u001b[0m\u001b[0;34m[\u001b[0m\u001b[0mtarget\u001b[0m\u001b[0;34m]\u001b[0m\u001b[0;34m.\u001b[0m\u001b[0mvalues\u001b[0m\u001b[0;34m.\u001b[0m\u001b[0mravel\u001b[0m\u001b[0;34m(\u001b[0m\u001b[0;34m)\u001b[0m\u001b[0;34m)\u001b[0m\u001b[0;34m\u001b[0m\u001b[0;34m\u001b[0m\u001b[0m\n\u001b[0m\u001b[1;32m      5\u001b[0m \u001b[0mRFM_predictions\u001b[0m \u001b[0;34m=\u001b[0m \u001b[0mRFM\u001b[0m\u001b[0;34m.\u001b[0m\u001b[0mpredict\u001b[0m\u001b[0;34m(\u001b[0m\u001b[0mtest\u001b[0m\u001b[0;34m[\u001b[0m\u001b[0mpredictors\u001b[0m\u001b[0;34m]\u001b[0m\u001b[0;34m)\u001b[0m\u001b[0;34m\u001b[0m\u001b[0;34m\u001b[0m\u001b[0m\n",
      "\u001b[0;32m~/.conda/envs/BusEnv/lib/python3.6/site-packages/sklearn/ensemble/forest.py\u001b[0m in \u001b[0;36mfit\u001b[0;34m(self, X, y, sample_weight)\u001b[0m\n\u001b[1;32m    337\u001b[0m \u001b[0;34m\u001b[0m\u001b[0m\n\u001b[1;32m    338\u001b[0m         \u001b[0;32mif\u001b[0m \u001b[0mself\u001b[0m\u001b[0;34m.\u001b[0m\u001b[0moob_score\u001b[0m\u001b[0;34m:\u001b[0m\u001b[0;34m\u001b[0m\u001b[0;34m\u001b[0m\u001b[0m\n\u001b[0;32m--> 339\u001b[0;31m             \u001b[0mself\u001b[0m\u001b[0;34m.\u001b[0m\u001b[0m_set_oob_score\u001b[0m\u001b[0;34m(\u001b[0m\u001b[0mX\u001b[0m\u001b[0;34m,\u001b[0m \u001b[0my\u001b[0m\u001b[0;34m)\u001b[0m\u001b[0;34m\u001b[0m\u001b[0;34m\u001b[0m\u001b[0m\n\u001b[0m\u001b[1;32m    340\u001b[0m \u001b[0;34m\u001b[0m\u001b[0m\n\u001b[1;32m    341\u001b[0m         \u001b[0;31m# Decapsulate classes_ attributes\u001b[0m\u001b[0;34m\u001b[0m\u001b[0;34m\u001b[0m\u001b[0;34m\u001b[0m\u001b[0m\n",
      "\u001b[0;32m~/.conda/envs/BusEnv/lib/python3.6/site-packages/sklearn/ensemble/forest.py\u001b[0m in \u001b[0;36m_set_oob_score\u001b[0;34m(self, X, y)\u001b[0m\n\u001b[1;32m    446\u001b[0m                 estimator.random_state, n_samples)\n\u001b[1;32m    447\u001b[0m             p_estimator = estimator.predict_proba(X[unsampled_indices, :],\n\u001b[0;32m--> 448\u001b[0;31m                                                   check_input=False)\n\u001b[0m\u001b[1;32m    449\u001b[0m \u001b[0;34m\u001b[0m\u001b[0m\n\u001b[1;32m    450\u001b[0m             \u001b[0;32mif\u001b[0m \u001b[0mself\u001b[0m\u001b[0;34m.\u001b[0m\u001b[0mn_outputs_\u001b[0m \u001b[0;34m==\u001b[0m \u001b[0;36m1\u001b[0m\u001b[0;34m:\u001b[0m\u001b[0;34m\u001b[0m\u001b[0;34m\u001b[0m\u001b[0m\n",
      "\u001b[0;32m~/.conda/envs/BusEnv/lib/python3.6/site-packages/sklearn/tree/tree.py\u001b[0m in \u001b[0;36mpredict_proba\u001b[0;34m(self, X, check_input)\u001b[0m\n\u001b[1;32m    831\u001b[0m         \u001b[0mcheck_is_fitted\u001b[0m\u001b[0;34m(\u001b[0m\u001b[0mself\u001b[0m\u001b[0;34m,\u001b[0m \u001b[0;34m'tree_'\u001b[0m\u001b[0;34m)\u001b[0m\u001b[0;34m\u001b[0m\u001b[0;34m\u001b[0m\u001b[0m\n\u001b[1;32m    832\u001b[0m         \u001b[0mX\u001b[0m \u001b[0;34m=\u001b[0m \u001b[0mself\u001b[0m\u001b[0;34m.\u001b[0m\u001b[0m_validate_X_predict\u001b[0m\u001b[0;34m(\u001b[0m\u001b[0mX\u001b[0m\u001b[0;34m,\u001b[0m \u001b[0mcheck_input\u001b[0m\u001b[0;34m)\u001b[0m\u001b[0;34m\u001b[0m\u001b[0;34m\u001b[0m\u001b[0m\n\u001b[0;32m--> 833\u001b[0;31m         \u001b[0mproba\u001b[0m \u001b[0;34m=\u001b[0m \u001b[0mself\u001b[0m\u001b[0;34m.\u001b[0m\u001b[0mtree_\u001b[0m\u001b[0;34m.\u001b[0m\u001b[0mpredict\u001b[0m\u001b[0;34m(\u001b[0m\u001b[0mX\u001b[0m\u001b[0;34m)\u001b[0m\u001b[0;34m\u001b[0m\u001b[0;34m\u001b[0m\u001b[0m\n\u001b[0m\u001b[1;32m    834\u001b[0m \u001b[0;34m\u001b[0m\u001b[0m\n\u001b[1;32m    835\u001b[0m         \u001b[0;32mif\u001b[0m \u001b[0mself\u001b[0m\u001b[0;34m.\u001b[0m\u001b[0mn_outputs_\u001b[0m \u001b[0;34m==\u001b[0m \u001b[0;36m1\u001b[0m\u001b[0;34m:\u001b[0m\u001b[0;34m\u001b[0m\u001b[0;34m\u001b[0m\u001b[0m\n",
      "\u001b[0;31mKeyboardInterrupt\u001b[0m: "
     ]
    }
   ],
   "source": [
    "# RFM\n",
    "\n",
    "RFM = RandomForestClassifier(n_estimators=100, max_features='auto', oob_score=True, random_state=1)\n",
    "RFM.fit(train[predictors], train[target].values.ravel())\n",
    "RFM_predictions = RFM.predict(test[predictors])"
   ]
  },
  {
   "cell_type": "code",
   "execution_count": null,
   "metadata": {},
   "outputs": [],
   "source": [
    "# # XGBOOST \n",
    "# gbm = xgboost.XGBClassifier(max_depth=3, n_estimators=100, learning_rate=0.05)\n",
    "# gbm.fit(train[predictors], train[target].values.ravel())\n",
    "# predictions = gbm.predict(test_X)"
   ]
  },
  {
   "cell_type": "code",
   "execution_count": 24,
   "metadata": {},
   "outputs": [
    {
     "data": {
      "text/plain": [
       "<matplotlib.axes._subplots.AxesSubplot at 0x7f1e67bff668>"
      ]
     },
     "execution_count": 24,
     "metadata": {},
     "output_type": "execute_result"
    },
    {
     "data": {
      "image/png": "[encoded data removed]",
      "text/plain": [
       "<Figure size 432x288 with 1 Axes>"
      ]
     },
     "metadata": {
      "needs_background": "light"
     },
     "output_type": "display_data"
    }
   ],
   "source": [
    "feature_importance = pd.DataFrame({'feature':predictors, 'importance': RFM.feature_importances_})\n",
    "\n",
    "feature_importance.set_index('feature', inplace=True)\n",
    "feature_importance.plot.barh(title='Feature importance')"
   ]
  },
  {
   "cell_type": "code",
   "execution_count": null,
   "metadata": {},
   "outputs": [],
   "source": []
  },
  {
   "cell_type": "code",
   "execution_count": 26,
   "metadata": {
    "collapsed": true
   },
   "outputs": [
    {
     "data": {
      "text/plain": [
       "(array([1.74788469e-06, 8.73942346e-07, 0.00000000e+00, 0.00000000e+00,\n",
       "        0.00000000e+00, 0.00000000e+00, 0.00000000e+00, 0.00000000e+00,\n",
       "        0.00000000e+00, 0.00000000e+00, 0.00000000e+00, 8.73942346e-07,\n",
       "        0.00000000e+00, 0.00000000e+00, 0.00000000e+00, 1.74788469e-06,\n",
       "        1.74788469e-06, 0.00000000e+00, 3.49576938e-06, 6.11759642e-06,\n",
       "        2.62182704e-06, 3.49576938e-06, 1.04873082e-05, 1.13612505e-05,\n",
       "        1.48570199e-05, 1.66049046e-05, 1.66049046e-05, 2.18485587e-05,\n",
       "        2.44703857e-05, 3.14619245e-05, 2.88400974e-05, 1.74788469e-05,\n",
       "        1.31091352e-05, 3.05879821e-05, 2.97140398e-05, 2.27225010e-05,\n",
       "        4.80668290e-05, 6.64196183e-05, 1.00503370e-04, 1.35461064e-04,\n",
       "        1.80032123e-04, 2.63056646e-04, 3.81038863e-04, 4.52702135e-04,\n",
       "        5.17373869e-04, 5.54953390e-04, 6.03894161e-04, 5.53205505e-04,\n",
       "        5.97776565e-04, 5.20869638e-04, 4.72802809e-04, 3.85408575e-04,\n",
       "        2.47325684e-04, 1.93141259e-04, 1.31091352e-04, 1.05747024e-04,\n",
       "        6.90414454e-05, 3.49576938e-05, 3.32098092e-05, 2.01006740e-05,\n",
       "        2.44703857e-05, 2.35964433e-05, 2.44703857e-05, 2.35964433e-05,\n",
       "        1.74788469e-05, 2.62182704e-05, 2.62182704e-05, 2.27225010e-05,\n",
       "        1.57309622e-05, 1.22351928e-05, 1.48570199e-05, 1.22351928e-05,\n",
       "        6.11759642e-06, 6.99153877e-06, 2.62182704e-06, 2.62182704e-06,\n",
       "        1.74788469e-06, 0.00000000e+00, 0.00000000e+00, 1.74788469e-06,\n",
       "        0.00000000e+00, 0.00000000e+00, 0.00000000e+00, 8.73942346e-07,\n",
       "        0.00000000e+00, 0.00000000e+00, 0.00000000e+00, 0.00000000e+00,\n",
       "        0.00000000e+00, 0.00000000e+00, 0.00000000e+00, 0.00000000e+00,\n",
       "        0.00000000e+00, 0.00000000e+00, 0.00000000e+00, 0.00000000e+00,\n",
       "        0.00000000e+00, 0.00000000e+00, 0.00000000e+00, 8.73942346e-07]),\n",
       " array([-6.48200e+03, -6.34404e+03, -6.20608e+03, -6.06812e+03,\n",
       "        -5.93016e+03, -5.79220e+03, -5.65424e+03, -5.51628e+03,\n",
       "        -5.37832e+03, -5.24036e+03, -5.10240e+03, -4.96444e+03,\n",
       "        -4.82648e+03, -4.68852e+03, -4.55056e+03, -4.41260e+03,\n",
       "        -4.27464e+03, -4.13668e+03, -3.99872e+03, -3.86076e+03,\n",
       "        -3.72280e+03, -3.58484e+03, -3.44688e+03, -3.30892e+03,\n",
       "        -3.17096e+03, -3.03300e+03, -2.89504e+03, -2.75708e+03,\n",
       "        -2.61912e+03, -2.48116e+03, -2.34320e+03, -2.20524e+03,\n",
       "        -2.06728e+03, -1.92932e+03, -1.79136e+03, -1.65340e+03,\n",
       "        -1.51544e+03, -1.37748e+03, -1.23952e+03, -1.10156e+03,\n",
       "        -9.63600e+02, -8.25640e+02, -6.87680e+02, -5.49720e+02,\n",
       "        -4.11760e+02, -2.73800e+02, -1.35840e+02,  2.12000e+00,\n",
       "         1.40080e+02,  2.78040e+02,  4.16000e+02,  5.53960e+02,\n",
       "         6.91920e+02,  8.29880e+02,  9.67840e+02,  1.10580e+03,\n",
       "         1.24376e+03,  1.38172e+03,  1.51968e+03,  1.65764e+03,\n",
       "         1.79560e+03,  1.93356e+03,  2.07152e+03,  2.20948e+03,\n",
       "         2.34744e+03,  2.48540e+03,  2.62336e+03,  2.76132e+03,\n",
       "         2.89928e+03,  3.03724e+03,  3.17520e+03,  3.31316e+03,\n",
       "         3.45112e+03,  3.58908e+03,  3.72704e+03,  3.86500e+03,\n",
       "         4.00296e+03,  4.14092e+03,  4.27888e+03,  4.41684e+03,\n",
       "         4.55480e+03,  4.69276e+03,  4.83072e+03,  4.96868e+03,\n",
       "         5.10664e+03,  5.24460e+03,  5.38256e+03,  5.52052e+03,\n",
       "         5.65848e+03,  5.79644e+03,  5.93440e+03,  6.07236e+03,\n",
       "         6.21032e+03,  6.34828e+03,  6.48624e+03,  6.62420e+03,\n",
       "         6.76216e+03,  6.90012e+03,  7.03808e+03,  7.17604e+03,\n",
       "         7.31400e+03]),\n",
       " <a list of 100 Patch objects>)"
      ]
     },
     "execution_count": 26,
     "metadata": {},
     "output_type": "execute_result"
    },
    {
     "name": "stderr",
     "output_type": "stream",
     "text": [
      "/home/ciaran/.conda/envs/BusEnv/lib/python3.6/site-packages/matplotlib/axes/_axes.py:6521: MatplotlibDeprecationWarning: \n",
      "The 'normed' kwarg was deprecated in Matplotlib 2.1 and will be removed in 3.1. Use 'density' instead.\n",
      "  alternative=\"'density'\", removal=\"3.1\")\n",
      "/home/ciaran/.conda/envs/BusEnv/lib/python3.6/site-packages/ipykernel_launcher.py:12: MatplotlibDeprecationWarning: scipy.stats.norm.pdf\n",
      "  if sys.path[0] == '':\n"
     ]
    },
    {
     "data": {
      "image/png": "[encoded data removed]",
      "text/plain": [
       "<Figure size 432x288 with 1 Axes>"
      ]
     },
     "metadata": {
      "needs_background": "light"
     },
     "output_type": "display_data"
    },
    {
     "name": "stdout",
     "output_type": "stream",
     "text": [
      "945.7828892490005 5.188208343380757\n"
     ]
    },
    {
     "data": {
      "text/plain": [
       "<matplotlib.axes._subplots.AxesSubplot at 0x7f1e9c3c2630>"
      ]
     },
     "execution_count": 26,
     "metadata": {},
     "output_type": "execute_result"
    },
    {
     "data": {
      "image/png": "[encoded data removed]",
      "text/plain": [
       "<Figure size 432x288 with 1 Axes>"
      ]
     },
     "metadata": {
      "needs_background": "light"
     },
     "output_type": "display_data"
    }
   ],
   "source": [
    "residuals = RFM_predictions - test.triplength\n",
    "plt.hist(residuals, bins=100, density=True)\n",
    "\n",
    "\n",
    "# best fit of data\n",
    "(mu, sigma) = stats.norm.fit(RFM_predictions - test.triplength)\n",
    "\n",
    "# # The histogram of the data\n",
    "# n, bins, patches = plt.hist(RFM_predictions - test.triplength, 2000, normed=1, facecolor='green', alpha=0.75)\n",
    "\n",
    "# add a 'best fit' line\n",
    "y = mlab.normpdf(bins, mu, sigma)\n",
    "l = plt.plot(bins, y, 'r--', linewidth=2)\n",
    "plt.show()\n",
    "\n",
    "print(sigma, mu)\n",
    "\n",
    "test.triplength.hist(bins=100)"
   ]
  },
  {
   "cell_type": "markdown",
   "metadata": {},
   "source": [
    "## XGBoost"
   ]
  },
  {
   "cell_type": "code",
   "execution_count": 81,
   "metadata": {},
   "outputs": [
    {
     "data": {
      "text/html": [
       "<div>\n",
       "<style scoped>\n",
       "    .dataframe tbody tr th:only-of-type {\n",
       "        vertical-align: middle;\n",
       "    }\n",
       "\n",
       "    .dataframe tbody tr th {\n",
       "        vertical-align: top;\n",
       "    }\n",
       "\n",
       "    .dataframe thead th {\n",
       "        text-align: right;\n",
       "    }\n",
       "</style>\n",
       "<table border=\"1\" class=\"dataframe\">\n",
       "  <thead>\n",
       "    <tr style=\"text-align: right;\">\n",
       "      <th></th>\n",
       "      <th>lineid</th>\n",
       "      <th>direction</th>\n",
       "      <th>triplength</th>\n",
       "      <th>leavehour</th>\n",
       "      <th>temperature</th>\n",
       "      <th>humidity</th>\n",
       "      <th>windSpeed</th>\n",
       "      <th>rain</th>\n",
       "      <th>hour</th>\n",
       "      <th>holiday</th>\n",
       "      <th>weekend</th>\n",
       "      <th>icon_clear-day</th>\n",
       "      <th>icon_clear-night</th>\n",
       "      <th>icon_cloudy</th>\n",
       "      <th>icon_fog</th>\n",
       "      <th>icon_partly-cloudy-day</th>\n",
       "      <th>icon_partly-cloudy-night</th>\n",
       "      <th>icon_rain</th>\n",
       "      <th>icon_wind</th>\n",
       "    </tr>\n",
       "  </thead>\n",
       "  <tbody>\n",
       "    <tr>\n",
       "      <th>57301</th>\n",
       "      <td>145</td>\n",
       "      <td>1</td>\n",
       "      <td>4215.0</td>\n",
       "      <td>20</td>\n",
       "      <td>47.97</td>\n",
       "      <td>0.83</td>\n",
       "      <td>9.35</td>\n",
       "      <td>0.0</td>\n",
       "      <td>20.0</td>\n",
       "      <td>False</td>\n",
       "      <td>False</td>\n",
       "      <td>0</td>\n",
       "      <td>0</td>\n",
       "      <td>0</td>\n",
       "      <td>0</td>\n",
       "      <td>0</td>\n",
       "      <td>1</td>\n",
       "      <td>0</td>\n",
       "      <td>0</td>\n",
       "    </tr>\n",
       "    <tr>\n",
       "      <th>499738</th>\n",
       "      <td>145</td>\n",
       "      <td>1</td>\n",
       "      <td>4760.0</td>\n",
       "      <td>15</td>\n",
       "      <td>67.14</td>\n",
       "      <td>0.75</td>\n",
       "      <td>5.27</td>\n",
       "      <td>0.7</td>\n",
       "      <td>16.0</td>\n",
       "      <td>False</td>\n",
       "      <td>True</td>\n",
       "      <td>0</td>\n",
       "      <td>0</td>\n",
       "      <td>0</td>\n",
       "      <td>0</td>\n",
       "      <td>1</td>\n",
       "      <td>0</td>\n",
       "      <td>0</td>\n",
       "      <td>0</td>\n",
       "    </tr>\n",
       "    <tr>\n",
       "      <th>980291</th>\n",
       "      <td>145</td>\n",
       "      <td>1</td>\n",
       "      <td>5419.0</td>\n",
       "      <td>11</td>\n",
       "      <td>64.07</td>\n",
       "      <td>0.52</td>\n",
       "      <td>12.13</td>\n",
       "      <td>0.1</td>\n",
       "      <td>12.0</td>\n",
       "      <td>False</td>\n",
       "      <td>False</td>\n",
       "      <td>0</td>\n",
       "      <td>0</td>\n",
       "      <td>0</td>\n",
       "      <td>0</td>\n",
       "      <td>1</td>\n",
       "      <td>0</td>\n",
       "      <td>0</td>\n",
       "      <td>0</td>\n",
       "    </tr>\n",
       "    <tr>\n",
       "      <th>1707188</th>\n",
       "      <td>145</td>\n",
       "      <td>1</td>\n",
       "      <td>3945.0</td>\n",
       "      <td>23</td>\n",
       "      <td>54.38</td>\n",
       "      <td>0.74</td>\n",
       "      <td>5.77</td>\n",
       "      <td>0.0</td>\n",
       "      <td>23.0</td>\n",
       "      <td>False</td>\n",
       "      <td>False</td>\n",
       "      <td>0</td>\n",
       "      <td>1</td>\n",
       "      <td>0</td>\n",
       "      <td>0</td>\n",
       "      <td>0</td>\n",
       "      <td>0</td>\n",
       "      <td>0</td>\n",
       "      <td>0</td>\n",
       "    </tr>\n",
       "    <tr>\n",
       "      <th>925747</th>\n",
       "      <td>145</td>\n",
       "      <td>1</td>\n",
       "      <td>2265.0</td>\n",
       "      <td>9</td>\n",
       "      <td>44.51</td>\n",
       "      <td>0.89</td>\n",
       "      <td>7.46</td>\n",
       "      <td>0.0</td>\n",
       "      <td>9.0</td>\n",
       "      <td>False</td>\n",
       "      <td>False</td>\n",
       "      <td>0</td>\n",
       "      <td>0</td>\n",
       "      <td>0</td>\n",
       "      <td>0</td>\n",
       "      <td>1</td>\n",
       "      <td>0</td>\n",
       "      <td>0</td>\n",
       "      <td>0</td>\n",
       "    </tr>\n",
       "  </tbody>\n",
       "</table>\n",
       "</div>"
      ],
      "text/plain": [
       "        lineid  direction  triplength  leavehour  temperature  humidity  \\\n",
       "57301      145          1      4215.0         20        47.97      0.83   \n",
       "499738     145          1      4760.0         15        67.14      0.75   \n",
       "980291     145          1      5419.0         11        64.07      0.52   \n",
       "1707188    145          1      3945.0         23        54.38      0.74   \n",
       "925747     145          1      2265.0          9        44.51      0.89   \n",
       "\n",
       "         windSpeed  rain  hour  holiday  weekend  icon_clear-day  \\\n",
       "57301         9.35   0.0  20.0    False    False               0   \n",
       "499738        5.27   0.7  16.0    False     True               0   \n",
       "980291       12.13   0.1  12.0    False    False               0   \n",
       "1707188       5.77   0.0  23.0    False    False               0   \n",
       "925747        7.46   0.0   9.0    False    False               0   \n",
       "\n",
       "         icon_clear-night  icon_cloudy  icon_fog  icon_partly-cloudy-day  \\\n",
       "57301                   0            0         0                       0   \n",
       "499738                  0            0         0                       1   \n",
       "980291                  0            0         0                       1   \n",
       "1707188                 1            0         0                       0   \n",
       "925747                  0            0         0                       1   \n",
       "\n",
       "         icon_partly-cloudy-night  icon_rain  icon_wind  \n",
       "57301                           1          0          0  \n",
       "499738                          0          0          0  \n",
       "980291                          0          0          0  \n",
       "1707188                         0          0          0  \n",
       "925747                          0          0          0  "
      ]
     },
     "execution_count": 81,
     "metadata": {},
     "output_type": "execute_result"
    }
   ],
   "source": [
    "train.head()"
   ]
  },
  {
   "cell_type": "code",
   "execution_count": 82,
   "metadata": {},
   "outputs": [],
   "source": [
    "X_train, X_test, y_train, y_test = train_test_split(combinedtrip[predictors],combinedtrip[target].values.ravel(), test_size=0.2)"
   ]
  },
  {
   "cell_type": "code",
   "execution_count": 84,
   "metadata": {
    "scrolled": true
   },
   "outputs": [
    {
     "name": "stdout",
     "output_type": "stream",
     "text": [
      "[0]\tTest-rmse:3743.83\n",
      "Will train until Test-rmse hasn't improved in 10 rounds.\n",
      "[5]\tTest-rmse:2459.49\n",
      "[10]\tTest-rmse:1808.56\n",
      "[15]\tTest-rmse:1517.16\n",
      "[20]\tTest-rmse:1401.03\n",
      "[25]\tTest-rmse:1357.89\n",
      "[30]\tTest-rmse:1341.96\n",
      "[35]\tTest-rmse:1336.05\n",
      "[40]\tTest-rmse:1333.53\n",
      "[45]\tTest-rmse:1332.45\n",
      "[50]\tTest-rmse:1331.93\n",
      "[55]\tTest-rmse:1331.63\n",
      "[60]\tTest-rmse:1331.36\n",
      "[65]\tTest-rmse:1331.14\n",
      "[70]\tTest-rmse:1330.95\n",
      "[75]\tTest-rmse:1330.77\n",
      "[80]\tTest-rmse:1330.61\n",
      "[85]\tTest-rmse:1330.48\n",
      "[90]\tTest-rmse:1330.34\n",
      "[95]\tTest-rmse:1330.26\n",
      "[99]\tTest-rmse:1330.16\n"
     ]
    }
   ],
   "source": [
    "dtrain = xgb.DMatrix(X_train, label=y_train)\n",
    "dtest = xgb.DMatrix(X_test, label=y_test)\n",
    "\n",
    "param = {\n",
    "#     'tree_method':'gpu_hist',\n",
    "    'eta':0.1,\n",
    "    'max_depth':10\n",
    "}\n",
    "num_rounds = 100\n",
    "model = xgb.train(param, dtrain, num_rounds, evals=[(dtest, 'Test')], verbose_eval=5, early_stopping_rounds=10)\n"
   ]
  },
  {
   "cell_type": "code",
   "execution_count": 85,
   "metadata": {},
   "outputs": [
    {
     "data": {
      "text/plain": [
       "<matplotlib.axes._subplots.AxesSubplot at 0x7f1e3c6902e8>"
      ]
     },
     "execution_count": 85,
     "metadata": {},
     "output_type": "execute_result"
    },
    {
     "data": {
      "image/png": "[encoded data removed]",
      "text/plain": [
       "<Figure size 432x288 with 1 Axes>"
      ]
     },
     "metadata": {
      "needs_background": "light"
     },
     "output_type": "display_data"
    }
   ],
   "source": [
    "xgb.plot_importance(model)"
   ]
  },
  {
   "cell_type": "code",
   "execution_count": 92,
   "metadata": {},
   "outputs": [
    {
     "data": {
      "text/plain": [
       "(array([1.27907536e-08, 0.00000000e+00, 0.00000000e+00, 0.00000000e+00,\n",
       "        1.27907536e-08, 0.00000000e+00, 0.00000000e+00, 0.00000000e+00,\n",
       "        0.00000000e+00, 0.00000000e+00, 0.00000000e+00, 0.00000000e+00,\n",
       "        0.00000000e+00, 1.27907536e-08, 0.00000000e+00, 1.27907536e-08,\n",
       "        0.00000000e+00, 0.00000000e+00, 0.00000000e+00, 2.55815073e-08,\n",
       "        0.00000000e+00, 2.55815073e-08, 0.00000000e+00, 1.27907536e-08,\n",
       "        1.27907536e-08, 0.00000000e+00, 5.11630146e-08, 2.55815073e-08,\n",
       "        3.83722609e-08, 0.00000000e+00, 2.55815073e-08, 5.11630146e-08,\n",
       "        1.27907536e-07, 6.39537682e-08, 1.27907536e-07, 1.79070551e-07,\n",
       "        1.66279797e-07, 2.81396580e-07, 3.83722609e-07, 3.70931856e-07,\n",
       "        5.11630146e-07, 7.54654465e-07, 9.33725016e-07, 1.75233325e-06,\n",
       "        2.75001203e-06, 4.02908740e-06, 6.74072717e-06, 1.22919143e-05,\n",
       "        1.89686877e-05, 2.97640837e-05, 4.29897230e-05, 6.01549144e-05,\n",
       "        7.97119767e-05, 9.86039199e-05, 1.22266814e-04, 1.41529689e-04,\n",
       "        1.66842591e-04, 1.92436889e-04, 2.17327695e-04, 2.39046395e-04,\n",
       "        2.60061603e-04, 2.69680250e-04, 2.79119826e-04, 2.93266400e-04,\n",
       "        3.04509472e-04, 2.96259436e-04, 2.75039576e-04, 2.47565037e-04,\n",
       "        2.15997457e-04, 1.84084527e-04, 1.55305331e-04, 1.34264541e-04,\n",
       "        1.12993518e-04, 1.03733012e-04, 9.20294725e-05, 6.95305368e-05,\n",
       "        4.32455381e-05, 2.49675511e-05, 1.44407609e-05, 8.64654947e-06,\n",
       "        3.97792438e-06, 1.53489044e-06, 8.95352755e-07, 2.55815073e-07,\n",
       "        2.55815073e-08, 1.27907536e-08, 1.27907536e-08, 2.55815073e-08,\n",
       "        2.55815073e-08, 0.00000000e+00, 2.55815073e-08, 0.00000000e+00,\n",
       "        0.00000000e+00, 1.27907536e-08, 0.00000000e+00, 1.27907536e-08,\n",
       "        0.00000000e+00, 0.00000000e+00, 0.00000000e+00, 1.27907536e-08]),\n",
       " array([-13125.19042969, -12918.27956787, -12711.36870605, -12504.45784424,\n",
       "        -12297.54698242, -12090.63612061, -11883.72525879, -11676.81439697,\n",
       "        -11469.90353516, -11262.99267334, -11056.08181152, -10849.17094971,\n",
       "        -10642.26008789, -10435.34922607, -10228.43836426, -10021.52750244,\n",
       "         -9814.61664062,  -9607.70577881,  -9400.79491699,  -9193.88405518,\n",
       "         -8986.97319336,  -8780.06233154,  -8573.15146973,  -8366.24060791,\n",
       "         -8159.32974609,  -7952.41888428,  -7745.50802246,  -7538.59716064,\n",
       "         -7331.68629883,  -7124.77543701,  -6917.8645752 ,  -6710.95371338,\n",
       "         -6504.04285156,  -6297.13198975,  -6090.22112793,  -5883.31026611,\n",
       "         -5676.3994043 ,  -5469.48854248,  -5262.57768066,  -5055.66681885,\n",
       "         -4848.75595703,  -4641.84509521,  -4434.9342334 ,  -4228.02337158,\n",
       "         -4021.11250977,  -3814.20164795,  -3607.29078613,  -3400.37992432,\n",
       "         -3193.4690625 ,  -2986.55820068,  -2779.64733887,  -2572.73647705,\n",
       "         -2365.82561523,  -2158.91475342,  -1952.0038916 ,  -1745.09302979,\n",
       "         -1538.18216797,  -1331.27130615,  -1124.36044434,   -917.44958252,\n",
       "          -710.5387207 ,   -503.62785889,   -296.71699707,    -89.80613525,\n",
       "           117.10472656,    324.01558838,    530.9264502 ,    737.83731201,\n",
       "           944.74817383,   1151.65903564,   1358.56989746,   1565.48075928,\n",
       "          1772.39162109,   1979.30248291,   2186.21334473,   2393.12420654,\n",
       "          2600.03506836,   2806.94593018,   3013.85679199,   3220.76765381,\n",
       "          3427.67851563,   3634.58937744,   3841.50023926,   4048.41110107,\n",
       "          4255.32196289,   4462.23282471,   4669.14368652,   4876.05454834,\n",
       "          5082.96541016,   5289.87627197,   5496.78713379,   5703.69799561,\n",
       "          5910.60885742,   6117.51971924,   6324.43058105,   6531.34144287,\n",
       "          6738.25230469,   6945.1631665 ,   7152.07402832,   7358.98489014,\n",
       "          7565.89575195]),\n",
       " <a list of 100 Patch objects>)"
      ]
     },
     "execution_count": 92,
     "metadata": {},
     "output_type": "execute_result"
    },
    {
     "name": "stderr",
     "output_type": "stream",
     "text": [
      "/home/ciaran/.conda/envs/BusEnv/lib/python3.6/site-packages/ipykernel_launcher.py:12: MatplotlibDeprecationWarning: scipy.stats.norm.pdf\n",
      "  if sys.path[0] == '':\n"
     ]
    },
    {
     "data": {
      "image/png": "[encoded data removed]",
      "text/plain": [
       "<Figure size 432x288 with 1 Axes>"
      ]
     },
     "metadata": {
      "needs_background": "light"
     },
     "output_type": "display_data"
    },
    {
     "name": "stdout",
     "output_type": "stream",
     "text": [
      "1330.1634069704198 1.941232992834963\n"
     ]
    }
   ],
   "source": [
    "xgbpreds = model.predict(dtest)\n",
    "\n",
    "plt.hist(xgbpreds - y_test, bins=100, density=True)\n",
    "\n",
    "# best fit of data\n",
    "(xmu, xsigma) = stats.norm.fit(xgbpreds - y_test)\n",
    "\n",
    "# # The histogram of the data\n",
    "# xn, xbins, xpatches = plt.hist(xgbpreds - y_test, 2000, normed=1, facecolor='green', alpha=0.75)\n",
    "\n",
    "# add a 'best fit' line\n",
    "xy = mlab.normpdf(xbins, xmu, xsigma)\n",
    "xl = plt.plot(xbins, xy, 'r--', linewidth=2)\n",
    "plt.show()\n",
    "\n",
    "print(xsigma,xmu)"
   ]
  },
  {
   "cell_type": "markdown",
   "metadata": {},
   "source": [
    "# Saving Model"
   ]
  },
  {
   "cell_type": "code",
   "execution_count": 93,
   "metadata": {},
   "outputs": [],
   "source": [
    "# import sys\n",
    "# sys.getsizeof(model.best_iteration)"
   ]
  },
  {
   "cell_type": "markdown",
   "metadata": {},
   "source": [
    "Random Forest (using pickle) - memory errors"
   ]
  },
  {
   "cell_type": "code",
   "execution_count": 94,
   "metadata": {},
   "outputs": [],
   "source": [
    "# save model\n",
    "# pickle.dump(RFM, open(\"modelFiles/Route145.sav\", 'w'))\n",
    "\n",
    "# load model\n",
    "# loaded_model = pickle.load(open(\"modelFiles/route145.sav\", 'rb'))"
   ]
  },
  {
   "cell_type": "markdown",
   "metadata": {},
   "source": [
    "XGBoost model"
   ]
  },
  {
   "cell_type": "code",
   "execution_count": 95,
   "metadata": {},
   "outputs": [],
   "source": [
    "model.save_model(\"modelFiles/route145.model\")"
   ]
  },
  {
   "cell_type": "code",
   "execution_count": 96,
   "metadata": {},
   "outputs": [],
   "source": [
    "# samplehow to load model.\n",
    "\n",
    "model3 = xgb.Booster()\n",
    "model3.load_model(\"modelFiles/route145.model\")"
   ]
  },
  {
   "cell_type": "code",
   "execution_count": 97,
   "metadata": {},
   "outputs": [
    {
     "data": {
      "text/plain": [
       "array([0., 0., 0., ..., 0., 0., 0.], dtype=float32)"
      ]
     },
     "execution_count": 97,
     "metadata": {},
     "output_type": "execute_result"
    }
   ],
   "source": [
    "model3.predict(dtest) - model.predict(dtest)"
   ]
  },
  {
   "cell_type": "code",
   "execution_count": null,
   "metadata": {},
   "outputs": [],
   "source": []
  }
 ],
 "metadata": {
  "kernelspec": {
   "display_name": "Python 3",
   "language": "python",
   "name": "python3"
  },
  "language_info": {
   "codemirror_mode": {
    "name": "ipython",
    "version": 3
   },
   "file_extension": ".py",
   "mimetype": "text/x-python",
   "name": "python",
   "nbconvert_exporter": "python",
   "pygments_lexer": "ipython3",
   "version": "3.6.8"
  },
  "toc": {
   "base_numbering": 1,
   "nav_menu": {},
   "number_sections": true,
   "sideBar": true,
   "skip_h1_title": false,
   "title_cell": "Table of Contents",
   "title_sidebar": "Contents",
   "toc_cell": false,
   "toc_position": {},
   "toc_section_display": true,
   "toc_window_display": false
  },
  "varInspector": {
   "cols": {
    "lenName": 16,
    "lenType": 16,
    "lenVar": 40
   },
   "kernels_config": {
    "python": {
     "delete_cmd_postfix": "",
     "delete_cmd_prefix": "del ",
     "library": "var_list.py",
     "varRefreshCmd": "print(var_dic_list())"
    },
    "r": {
     "delete_cmd_postfix": ") ",
     "delete_cmd_prefix": "rm(",
     "library": "var_list.r",
     "varRefreshCmd": "cat(var_dic_list()) "
    }
   },
   "types_to_exclude": [
    "module",
    "function",
    "builtin_function_or_method",
    "instance",
    "_Feature"
   ],
   "window_display": false
  }
 },
 "nbformat": 4,
 "nbformat_minor": 2
}

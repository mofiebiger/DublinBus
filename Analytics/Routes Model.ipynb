{
 "cells": [
  {
   "cell_type": "code",
   "execution_count": 1,
   "metadata": {},
   "outputs": [],
   "source": [
    "import matplotlib.pyplot as plt\n",
    "import matplotlib.mlab as mlab\n",
    "\n",
    "from datetime import timedelta\n",
    "from datetime import datetime\n",
    "import scipy.stats as stats\n",
    "\n",
    "import requests as r\n",
    "import pandas as pd\n",
    "import seaborn as s\n",
    "import numpy as np\n",
    "\n",
    "import holidays\n",
    "ie_holidays = holidays.Ireland()\n",
    "\n",
    "import postgres\n",
    "import gmaps\n",
    "import googlemaps\n",
    "import json\n",
    "import math\n",
    "\n",
    "import xgboost\n",
    "from sklearn import metrics\n",
    "\n",
    "from tqdm import tnrange, tqdm_notebook\n",
    "\n",
    "from sklearn.model_selection import train_test_split\n",
    "from sklearn.model_selection import cross_val_score \n",
    "from sklearn.model_selection import cross_validate\n",
    "from sklearn.ensemble import RandomForestClassifier\n",
    "from sklearn.preprocessing import LabelEncoder\n",
    "\n",
    "import pickle"
   ]
  },
  {
   "cell_type": "code",
   "execution_count": 2,
   "metadata": {},
   "outputs": [
    {
     "data": {
      "text/plain": [
       "<module 'config' from '/media/storage/College/S3/Github/DublinBus/Analytics/config.py'>"
      ]
     },
     "execution_count": 2,
     "metadata": {},
     "output_type": "execute_result"
    }
   ],
   "source": [
    "import importlib\n",
    "importlib.reload(postgres.config)"
   ]
  },
  {
   "cell_type": "code",
   "execution_count": 3,
   "metadata": {},
   "outputs": [],
   "source": [
    "from IPython.core.interactiveshell import InteractiveShell\n",
    "InteractiveShell.ast_node_interactivity = \"all\""
   ]
  },
  {
   "cell_type": "code",
   "execution_count": 4,
   "metadata": {},
   "outputs": [],
   "source": [
    "# data = pd.read_csv(\"stored_queries/combined145.csv\")\n",
    "# data.columns = ['dayofservice','tripid','lineid','direction','progrnumber','stopid','plannedDEP','plannedARR','actualDEP','actualARR','routeid']\n",
    "# data.head(2)\n",
    "# data.dtypes"
   ]
  },
  {
   "cell_type": "code",
   "execution_count": 5,
   "metadata": {},
   "outputs": [],
   "source": [
    "# data.dayofservice = pd.to_datetime(data.dayofservice.loc[:])\n",
    "# data.lineid = data.lineid.astype('category')\n",
    "# data.routeid= data.routeid.astype('category')\n",
    "# data.sort_values(by=['dayofservice','lineid','tripid','direction','progrnumber'],inplace=True)"
   ]
  },
  {
   "cell_type": "code",
   "execution_count": null,
   "metadata": {},
   "outputs": [],
   "source": []
  },
  {
   "cell_type": "markdown",
   "metadata": {},
   "source": [
    "# Trips Data"
   ]
  },
  {
   "cell_type": "code",
   "execution_count": 6,
   "metadata": {},
   "outputs": [
    {
     "data": {
      "text/html": [
       "<div>\n",
       "<style scoped>\n",
       "    .dataframe tbody tr th:only-of-type {\n",
       "        vertical-align: middle;\n",
       "    }\n",
       "\n",
       "    .dataframe tbody tr th {\n",
       "        vertical-align: top;\n",
       "    }\n",
       "\n",
       "    .dataframe thead th {\n",
       "        text-align: right;\n",
       "    }\n",
       "</style>\n",
       "<table border=\"1\" class=\"dataframe\">\n",
       "  <thead>\n",
       "    <tr style=\"text-align: right;\">\n",
       "      <th></th>\n",
       "      <th>Unnamed: 0</th>\n",
       "      <th>dayofservice</th>\n",
       "      <th>tripid</th>\n",
       "      <th>lineid</th>\n",
       "      <th>routeid</th>\n",
       "      <th>direction</th>\n",
       "      <th>planned_arr</th>\n",
       "      <th>planned_dep</th>\n",
       "      <th>actual_arr</th>\n",
       "      <th>actual_dep</th>\n",
       "    </tr>\n",
       "  </thead>\n",
       "  <tbody>\n",
       "    <tr>\n",
       "      <th>0</th>\n",
       "      <td>0</td>\n",
       "      <td>2018-06-17</td>\n",
       "      <td>7013606</td>\n",
       "      <td>7A</td>\n",
       "      <td>7A_85</td>\n",
       "      <td>1</td>\n",
       "      <td>66484</td>\n",
       "      <td>62400</td>\n",
       "      <td>67065.0</td>\n",
       "      <td>62901.0</td>\n",
       "    </tr>\n",
       "    <tr>\n",
       "      <th>1</th>\n",
       "      <td>1</td>\n",
       "      <td>2018-07-03</td>\n",
       "      <td>7137867</td>\n",
       "      <td>41C</td>\n",
       "      <td>41C_79</td>\n",
       "      <td>2</td>\n",
       "      <td>51620</td>\n",
       "      <td>47700</td>\n",
       "      <td>NaN</td>\n",
       "      <td>47293.0</td>\n",
       "    </tr>\n",
       "    <tr>\n",
       "      <th>2</th>\n",
       "      <td>2</td>\n",
       "      <td>2018-02-16</td>\n",
       "      <td>6258567</td>\n",
       "      <td>31</td>\n",
       "      <td>31_15</td>\n",
       "      <td>1</td>\n",
       "      <td>74041</td>\n",
       "      <td>71400</td>\n",
       "      <td>74297.0</td>\n",
       "      <td>71449.0</td>\n",
       "    </tr>\n",
       "    <tr>\n",
       "      <th>3</th>\n",
       "      <td>3</td>\n",
       "      <td>2018-08-27</td>\n",
       "      <td>7499178</td>\n",
       "      <td>67</td>\n",
       "      <td>67_6</td>\n",
       "      <td>2</td>\n",
       "      <td>59030</td>\n",
       "      <td>54720</td>\n",
       "      <td>NaN</td>\n",
       "      <td>54687.0</td>\n",
       "    </tr>\n",
       "    <tr>\n",
       "      <th>4</th>\n",
       "      <td>4</td>\n",
       "      <td>2018-08-27</td>\n",
       "      <td>7500294</td>\n",
       "      <td>44</td>\n",
       "      <td>44_36</td>\n",
       "      <td>2</td>\n",
       "      <td>85563</td>\n",
       "      <td>81000</td>\n",
       "      <td>85557.0</td>\n",
       "      <td>81004.0</td>\n",
       "    </tr>\n",
       "  </tbody>\n",
       "</table>\n",
       "</div>"
      ],
      "text/plain": [
       "   Unnamed: 0 dayofservice   tripid lineid routeid  direction  planned_arr  \\\n",
       "0           0   2018-06-17  7013606     7A   7A_85          1        66484   \n",
       "1           1   2018-07-03  7137867    41C  41C_79          2        51620   \n",
       "2           2   2018-02-16  6258567     31   31_15          1        74041   \n",
       "3           3   2018-08-27  7499178     67    67_6          2        59030   \n",
       "4           4   2018-08-27  7500294     44   44_36          2        85563   \n",
       "\n",
       "   planned_dep  actual_arr  actual_dep  \n",
       "0        62400     67065.0     62901.0  \n",
       "1        47700         NaN     47293.0  \n",
       "2        71400     74297.0     71449.0  \n",
       "3        54720         NaN     54687.0  \n",
       "4        81000     85557.0     81004.0  "
      ]
     },
     "execution_count": 6,
     "metadata": {},
     "output_type": "execute_result"
    }
   ],
   "source": [
    "tripsdata = pd.read_csv(\"stored_queries/trips_df.csv\")\n",
    "tripsdata.head()"
   ]
  },
  {
   "cell_type": "code",
   "execution_count": 7,
   "metadata": {},
   "outputs": [],
   "source": [
    "tripsdata = tripsdata[['dayofservice', 'tripid', 'lineid', 'routeid', 'direction', 'actual_arr', 'actual_dep']]\n",
    "tripsdata.dayofservice = pd.to_datetime(tripsdata.dayofservice)\n",
    "tripsdata.dropna(inplace=True)"
   ]
  },
  {
   "cell_type": "code",
   "execution_count": 8,
   "metadata": {},
   "outputs": [],
   "source": [
    "tripsdata['triplength'] = tripsdata.actual_arr - tripsdata.actual_dep\n",
    "tripsdata.actual_arr = tripsdata.dayofservice + pd.to_timedelta(tripsdata.actual_arr, unit='seconds')\n",
    "tripsdata.actual_dep = tripsdata.dayofservice + pd.to_timedelta(tripsdata.actual_dep, unit='seconds')\n",
    "tripsdata['leavehour'] = tripsdata.actual_dep.dt.hour"
   ]
  },
  {
   "cell_type": "code",
   "execution_count": 9,
   "metadata": {},
   "outputs": [],
   "source": [
    "tripsdata['weather_merge_time'] = tripsdata.actual_dep.dt.round('H') #  .dt is super useful. "
   ]
  },
  {
   "cell_type": "code",
   "execution_count": 10,
   "metadata": {},
   "outputs": [
    {
     "data": {
      "text/html": [
       "<div>\n",
       "<style scoped>\n",
       "    .dataframe tbody tr th:only-of-type {\n",
       "        vertical-align: middle;\n",
       "    }\n",
       "\n",
       "    .dataframe tbody tr th {\n",
       "        vertical-align: top;\n",
       "    }\n",
       "\n",
       "    .dataframe thead th {\n",
       "        text-align: right;\n",
       "    }\n",
       "</style>\n",
       "<table border=\"1\" class=\"dataframe\">\n",
       "  <thead>\n",
       "    <tr style=\"text-align: right;\">\n",
       "      <th></th>\n",
       "      <th>dayofservice</th>\n",
       "      <th>tripid</th>\n",
       "      <th>lineid</th>\n",
       "      <th>routeid</th>\n",
       "      <th>direction</th>\n",
       "      <th>actual_arr</th>\n",
       "      <th>actual_dep</th>\n",
       "      <th>triplength</th>\n",
       "      <th>leavehour</th>\n",
       "      <th>weather_merge_time</th>\n",
       "    </tr>\n",
       "  </thead>\n",
       "  <tbody>\n",
       "    <tr>\n",
       "      <th>0</th>\n",
       "      <td>2018-06-17</td>\n",
       "      <td>7013606</td>\n",
       "      <td>7A</td>\n",
       "      <td>7A_85</td>\n",
       "      <td>1</td>\n",
       "      <td>2018-06-17 18:37:45</td>\n",
       "      <td>2018-06-17 17:28:21</td>\n",
       "      <td>4164.0</td>\n",
       "      <td>17</td>\n",
       "      <td>2018-06-17 17:00:00</td>\n",
       "    </tr>\n",
       "    <tr>\n",
       "      <th>2</th>\n",
       "      <td>2018-02-16</td>\n",
       "      <td>6258567</td>\n",
       "      <td>31</td>\n",
       "      <td>31_15</td>\n",
       "      <td>1</td>\n",
       "      <td>2018-02-16 20:38:17</td>\n",
       "      <td>2018-02-16 19:50:49</td>\n",
       "      <td>2848.0</td>\n",
       "      <td>19</td>\n",
       "      <td>2018-02-16 20:00:00</td>\n",
       "    </tr>\n",
       "    <tr>\n",
       "      <th>4</th>\n",
       "      <td>2018-08-27</td>\n",
       "      <td>7500294</td>\n",
       "      <td>44</td>\n",
       "      <td>44_36</td>\n",
       "      <td>2</td>\n",
       "      <td>2018-08-27 23:45:57</td>\n",
       "      <td>2018-08-27 22:30:04</td>\n",
       "      <td>4553.0</td>\n",
       "      <td>22</td>\n",
       "      <td>2018-08-27 23:00:00</td>\n",
       "    </tr>\n",
       "    <tr>\n",
       "      <th>5</th>\n",
       "      <td>2018-05-23</td>\n",
       "      <td>6782602</td>\n",
       "      <td>27</td>\n",
       "      <td>27_17</td>\n",
       "      <td>2</td>\n",
       "      <td>2018-05-23 19:37:32</td>\n",
       "      <td>2018-05-23 18:10:37</td>\n",
       "      <td>5215.0</td>\n",
       "      <td>18</td>\n",
       "      <td>2018-05-23 18:00:00</td>\n",
       "    </tr>\n",
       "    <tr>\n",
       "      <th>6</th>\n",
       "      <td>2018-02-16</td>\n",
       "      <td>6261199</td>\n",
       "      <td>53</td>\n",
       "      <td>53_20</td>\n",
       "      <td>1</td>\n",
       "      <td>2018-02-16 14:39:00</td>\n",
       "      <td>2018-02-16 14:01:04</td>\n",
       "      <td>2276.0</td>\n",
       "      <td>14</td>\n",
       "      <td>2018-02-16 14:00:00</td>\n",
       "    </tr>\n",
       "  </tbody>\n",
       "</table>\n",
       "</div>"
      ],
      "text/plain": [
       "  dayofservice   tripid lineid routeid  direction          actual_arr  \\\n",
       "0   2018-06-17  7013606     7A   7A_85          1 2018-06-17 18:37:45   \n",
       "2   2018-02-16  6258567     31   31_15          1 2018-02-16 20:38:17   \n",
       "4   2018-08-27  7500294     44   44_36          2 2018-08-27 23:45:57   \n",
       "5   2018-05-23  6782602     27   27_17          2 2018-05-23 19:37:32   \n",
       "6   2018-02-16  6261199     53   53_20          1 2018-02-16 14:39:00   \n",
       "\n",
       "           actual_dep  triplength  leavehour  weather_merge_time  \n",
       "0 2018-06-17 17:28:21      4164.0         17 2018-06-17 17:00:00  \n",
       "2 2018-02-16 19:50:49      2848.0         19 2018-02-16 20:00:00  \n",
       "4 2018-08-27 22:30:04      4553.0         22 2018-08-27 23:00:00  \n",
       "5 2018-05-23 18:10:37      5215.0         18 2018-05-23 18:00:00  \n",
       "6 2018-02-16 14:01:04      2276.0         14 2018-02-16 14:00:00  "
      ]
     },
     "execution_count": 10,
     "metadata": {},
     "output_type": "execute_result"
    }
   ],
   "source": [
    "tripsdata.head()"
   ]
  },
  {
   "cell_type": "markdown",
   "metadata": {},
   "source": [
    "# Weather Data"
   ]
  },
  {
   "cell_type": "code",
   "execution_count": 11,
   "metadata": {},
   "outputs": [],
   "source": [
    "weather = pd.read_csv(\"stored_queries/weather.csv\")\n",
    "\n",
    "weather.icon = weather.icon.astype('category')\n",
    "weather.dayofservice = pd.to_datetime(weather.dayofservice)"
   ]
  },
  {
   "cell_type": "code",
   "execution_count": 12,
   "metadata": {},
   "outputs": [],
   "source": [
    "weather['rkey'] = weather.dayofservice + pd.to_timedelta(weather.hour, unit='hour')"
   ]
  },
  {
   "cell_type": "code",
   "execution_count": null,
   "metadata": {},
   "outputs": [],
   "source": []
  },
  {
   "cell_type": "markdown",
   "metadata": {},
   "source": [
    "# Combining Data"
   ]
  },
  {
   "cell_type": "code",
   "execution_count": 13,
   "metadata": {},
   "outputs": [],
   "source": [
    "combinedtrip = tripsdata.merge(weather[['icon','temperature','humidity','windSpeed','rain','rkey','hour']], left_on='weather_merge_time', right_on='rkey', how='left')"
   ]
  },
  {
   "cell_type": "markdown",
   "metadata": {},
   "source": [
    "## Adding features"
   ]
  },
  {
   "cell_type": "markdown",
   "metadata": {},
   "source": [
    "Holidays"
   ]
  },
  {
   "cell_type": "code",
   "execution_count": 14,
   "metadata": {},
   "outputs": [],
   "source": [
    "combinedtrip['holiday'] = combinedtrip.dayofservice.apply(lambda x: x in ie_holidays)"
   ]
  },
  {
   "cell_type": "markdown",
   "metadata": {},
   "source": [
    "Weekday/Weekend"
   ]
  },
  {
   "cell_type": "code",
   "execution_count": 15,
   "metadata": {},
   "outputs": [],
   "source": [
    "combinedtrip['weekend'] = combinedtrip.dayofservice.dt.weekday.isin([5,6])"
   ]
  },
  {
   "cell_type": "markdown",
   "metadata": {},
   "source": [
    "# Outliers / Errors / Null Values"
   ]
  },
  {
   "cell_type": "code",
   "execution_count": 16,
   "metadata": {},
   "outputs": [],
   "source": [
    "combinedtrip.drop(columns=['routeid','weather_merge_time','rkey','tripid','actual_arr','actual_dep','dayofservice'], inplace=True)"
   ]
  },
  {
   "cell_type": "code",
   "execution_count": 17,
   "metadata": {},
   "outputs": [],
   "source": [
    "combinedtrip.dropna(inplace=True)"
   ]
  },
  {
   "cell_type": "code",
   "execution_count": 18,
   "metadata": {},
   "outputs": [
    {
     "data": {
      "text/html": [
       "<div>\n",
       "<style scoped>\n",
       "    .dataframe tbody tr th:only-of-type {\n",
       "        vertical-align: middle;\n",
       "    }\n",
       "\n",
       "    .dataframe tbody tr th {\n",
       "        vertical-align: top;\n",
       "    }\n",
       "\n",
       "    .dataframe thead th {\n",
       "        text-align: right;\n",
       "    }\n",
       "</style>\n",
       "<table border=\"1\" class=\"dataframe\">\n",
       "  <thead>\n",
       "    <tr style=\"text-align: right;\">\n",
       "      <th></th>\n",
       "      <th>lineid</th>\n",
       "      <th>direction</th>\n",
       "      <th>triplength</th>\n",
       "      <th>leavehour</th>\n",
       "      <th>icon</th>\n",
       "      <th>temperature</th>\n",
       "      <th>humidity</th>\n",
       "      <th>windSpeed</th>\n",
       "      <th>rain</th>\n",
       "      <th>hour</th>\n",
       "      <th>holiday</th>\n",
       "      <th>weekend</th>\n",
       "    </tr>\n",
       "  </thead>\n",
       "  <tbody>\n",
       "    <tr>\n",
       "      <th>0</th>\n",
       "      <td>7A</td>\n",
       "      <td>1</td>\n",
       "      <td>4164.0</td>\n",
       "      <td>17</td>\n",
       "      <td>partly-cloudy-day</td>\n",
       "      <td>63.52</td>\n",
       "      <td>0.72</td>\n",
       "      <td>20.07</td>\n",
       "      <td>0.0</td>\n",
       "      <td>17.0</td>\n",
       "      <td>False</td>\n",
       "      <td>True</td>\n",
       "    </tr>\n",
       "    <tr>\n",
       "      <th>1</th>\n",
       "      <td>31</td>\n",
       "      <td>1</td>\n",
       "      <td>2848.0</td>\n",
       "      <td>19</td>\n",
       "      <td>partly-cloudy-night</td>\n",
       "      <td>42.09</td>\n",
       "      <td>0.89</td>\n",
       "      <td>8.29</td>\n",
       "      <td>0.0</td>\n",
       "      <td>20.0</td>\n",
       "      <td>False</td>\n",
       "      <td>False</td>\n",
       "    </tr>\n",
       "    <tr>\n",
       "      <th>2</th>\n",
       "      <td>44</td>\n",
       "      <td>2</td>\n",
       "      <td>4553.0</td>\n",
       "      <td>22</td>\n",
       "      <td>partly-cloudy-night</td>\n",
       "      <td>55.60</td>\n",
       "      <td>0.80</td>\n",
       "      <td>6.79</td>\n",
       "      <td>0.0</td>\n",
       "      <td>23.0</td>\n",
       "      <td>False</td>\n",
       "      <td>False</td>\n",
       "    </tr>\n",
       "    <tr>\n",
       "      <th>3</th>\n",
       "      <td>27</td>\n",
       "      <td>2</td>\n",
       "      <td>5215.0</td>\n",
       "      <td>18</td>\n",
       "      <td>partly-cloudy-day</td>\n",
       "      <td>58.99</td>\n",
       "      <td>0.65</td>\n",
       "      <td>10.25</td>\n",
       "      <td>0.0</td>\n",
       "      <td>18.0</td>\n",
       "      <td>False</td>\n",
       "      <td>False</td>\n",
       "    </tr>\n",
       "    <tr>\n",
       "      <th>4</th>\n",
       "      <td>53</td>\n",
       "      <td>1</td>\n",
       "      <td>2276.0</td>\n",
       "      <td>14</td>\n",
       "      <td>partly-cloudy-day</td>\n",
       "      <td>47.28</td>\n",
       "      <td>0.69</td>\n",
       "      <td>13.11</td>\n",
       "      <td>0.1</td>\n",
       "      <td>14.0</td>\n",
       "      <td>False</td>\n",
       "      <td>False</td>\n",
       "    </tr>\n",
       "  </tbody>\n",
       "</table>\n",
       "</div>"
      ],
      "text/plain": [
       "  lineid  direction  triplength  leavehour                 icon  temperature  \\\n",
       "0     7A          1      4164.0         17    partly-cloudy-day        63.52   \n",
       "1     31          1      2848.0         19  partly-cloudy-night        42.09   \n",
       "2     44          2      4553.0         22  partly-cloudy-night        55.60   \n",
       "3     27          2      5215.0         18    partly-cloudy-day        58.99   \n",
       "4     53          1      2276.0         14    partly-cloudy-day        47.28   \n",
       "\n",
       "   humidity  windSpeed  rain  hour  holiday  weekend  \n",
       "0      0.72      20.07   0.0  17.0    False     True  \n",
       "1      0.89       8.29   0.0  20.0    False    False  \n",
       "2      0.80       6.79   0.0  23.0    False    False  \n",
       "3      0.65      10.25   0.0  18.0    False    False  \n",
       "4      0.69      13.11   0.1  14.0    False    False  "
      ]
     },
     "execution_count": 18,
     "metadata": {},
     "output_type": "execute_result"
    }
   ],
   "source": [
    "combinedtrip.head()"
   ]
  },
  {
   "cell_type": "code",
   "execution_count": null,
   "metadata": {},
   "outputs": [],
   "source": []
  },
  {
   "cell_type": "markdown",
   "metadata": {},
   "source": [
    "# Training Model"
   ]
  },
  {
   "cell_type": "code",
   "execution_count": 19,
   "metadata": {
    "scrolled": false
   },
   "outputs": [],
   "source": [
    "# need to put this in a loop over the pairs of stops. (unique)\n",
    "target     = ['triplength']\n",
    "predictors = ['hour','weekend','holiday','temperature','rain','humidity','windSpeed']#,'icon']\n",
    "\n",
    "# plt.figure()\n",
    "# for pr in predictors:\n",
    "#     try:\n",
    "        \n",
    "#         combinedtrip[pr].hist(bins=100, normed=True)\n",
    "#         print(pr)\n",
    "#         plt.figure()\n",
    "        \n",
    "#     except Exception:\n",
    "#         continue\n",
    "        \n",
    "# plt.show()"
   ]
  },
  {
   "cell_type": "code",
   "execution_count": 20,
   "metadata": {},
   "outputs": [
    {
     "data": {
      "text/html": [
       "<div>\n",
       "<style scoped>\n",
       "    .dataframe tbody tr th:only-of-type {\n",
       "        vertical-align: middle;\n",
       "    }\n",
       "\n",
       "    .dataframe tbody tr th {\n",
       "        vertical-align: top;\n",
       "    }\n",
       "\n",
       "    .dataframe thead th {\n",
       "        text-align: right;\n",
       "    }\n",
       "</style>\n",
       "<table border=\"1\" class=\"dataframe\">\n",
       "  <thead>\n",
       "    <tr style=\"text-align: right;\">\n",
       "      <th></th>\n",
       "      <th>lineid</th>\n",
       "      <th>direction</th>\n",
       "      <th>triplength</th>\n",
       "      <th>leavehour</th>\n",
       "      <th>icon</th>\n",
       "      <th>temperature</th>\n",
       "      <th>humidity</th>\n",
       "      <th>windSpeed</th>\n",
       "      <th>rain</th>\n",
       "      <th>hour</th>\n",
       "      <th>holiday</th>\n",
       "      <th>weekend</th>\n",
       "    </tr>\n",
       "  </thead>\n",
       "  <tbody>\n",
       "    <tr>\n",
       "      <th>210</th>\n",
       "      <td>145</td>\n",
       "      <td>1</td>\n",
       "      <td>4814.0</td>\n",
       "      <td>20</td>\n",
       "      <td>partly-cloudy-day</td>\n",
       "      <td>69.74</td>\n",
       "      <td>0.65</td>\n",
       "      <td>8.71</td>\n",
       "      <td>0.0</td>\n",
       "      <td>20.0</td>\n",
       "      <td>False</td>\n",
       "      <td>True</td>\n",
       "    </tr>\n",
       "    <tr>\n",
       "      <th>268</th>\n",
       "      <td>145</td>\n",
       "      <td>1</td>\n",
       "      <td>4809.0</td>\n",
       "      <td>15</td>\n",
       "      <td>partly-cloudy-day</td>\n",
       "      <td>67.19</td>\n",
       "      <td>0.73</td>\n",
       "      <td>7.02</td>\n",
       "      <td>0.0</td>\n",
       "      <td>15.0</td>\n",
       "      <td>False</td>\n",
       "      <td>True</td>\n",
       "    </tr>\n",
       "    <tr>\n",
       "      <th>329</th>\n",
       "      <td>145</td>\n",
       "      <td>1</td>\n",
       "      <td>6441.0</td>\n",
       "      <td>16</td>\n",
       "      <td>partly-cloudy-day</td>\n",
       "      <td>63.90</td>\n",
       "      <td>0.77</td>\n",
       "      <td>13.85</td>\n",
       "      <td>0.0</td>\n",
       "      <td>17.0</td>\n",
       "      <td>False</td>\n",
       "      <td>False</td>\n",
       "    </tr>\n",
       "    <tr>\n",
       "      <th>406</th>\n",
       "      <td>145</td>\n",
       "      <td>1</td>\n",
       "      <td>3496.0</td>\n",
       "      <td>22</td>\n",
       "      <td>partly-cloudy-night</td>\n",
       "      <td>57.08</td>\n",
       "      <td>0.73</td>\n",
       "      <td>16.64</td>\n",
       "      <td>0.0</td>\n",
       "      <td>22.0</td>\n",
       "      <td>False</td>\n",
       "      <td>True</td>\n",
       "    </tr>\n",
       "    <tr>\n",
       "      <th>427</th>\n",
       "      <td>145</td>\n",
       "      <td>1</td>\n",
       "      <td>3222.0</td>\n",
       "      <td>17</td>\n",
       "      <td>partly-cloudy-night</td>\n",
       "      <td>58.96</td>\n",
       "      <td>0.80</td>\n",
       "      <td>16.90</td>\n",
       "      <td>0.5</td>\n",
       "      <td>18.0</td>\n",
       "      <td>False</td>\n",
       "      <td>False</td>\n",
       "    </tr>\n",
       "  </tbody>\n",
       "</table>\n",
       "</div>"
      ],
      "text/plain": [
       "    lineid  direction  triplength  leavehour                 icon  \\\n",
       "210    145          1      4814.0         20    partly-cloudy-day   \n",
       "268    145          1      4809.0         15    partly-cloudy-day   \n",
       "329    145          1      6441.0         16    partly-cloudy-day   \n",
       "406    145          1      3496.0         22  partly-cloudy-night   \n",
       "427    145          1      3222.0         17  partly-cloudy-night   \n",
       "\n",
       "     temperature  humidity  windSpeed  rain  hour  holiday  weekend  \n",
       "210        69.74      0.65       8.71   0.0  20.0    False     True  \n",
       "268        67.19      0.73       7.02   0.0  15.0    False     True  \n",
       "329        63.90      0.77      13.85   0.0  17.0    False    False  \n",
       "406        57.08      0.73      16.64   0.0  22.0    False     True  \n",
       "427        58.96      0.80      16.90   0.5  18.0    False    False  "
      ]
     },
     "execution_count": 20,
     "metadata": {},
     "output_type": "execute_result"
    },
    {
     "data": {
      "text/plain": [
       "lineid           object\n",
       "direction         int64\n",
       "triplength      float64\n",
       "leavehour         int64\n",
       "icon           category\n",
       "temperature     float64\n",
       "humidity        float64\n",
       "windSpeed       float64\n",
       "rain            float64\n",
       "hour            float64\n",
       "holiday            bool\n",
       "weekend            bool\n",
       "dtype: object"
      ]
     },
     "execution_count": 20,
     "metadata": {},
     "output_type": "execute_result"
    }
   ],
   "source": [
    "modeldata = combinedtrip[combinedtrip.lineid=='145']\n",
    "modeldata = modeldata[modeldata.direction==1]\n",
    "modeldata.head()\n",
    "modeldata.dtypes"
   ]
  },
  {
   "cell_type": "code",
   "execution_count": null,
   "metadata": {},
   "outputs": [],
   "source": [
    "train, test = train_test_split(modeldata, test_size = 0.3)\n",
    "train.count()\n",
    "test.count()"
   ]
  },
  {
   "cell_type": "code",
   "execution_count": null,
   "metadata": {
    "scrolled": true
   },
   "outputs": [],
   "source": [
    "RFM = RandomForestClassifier(n_estimators=200, max_features='auto', oob_score=True, random_state=1)\n",
    "RFM.fit(train[predictors], train[target].values.ravel())"
   ]
  },
  {
   "cell_type": "code",
   "execution_count": null,
   "metadata": {},
   "outputs": [],
   "source": [
    "feature_importance = pd.DataFrame({'feature':predictors, 'importance': RFM.feature_importances_})\n",
    "\n",
    "feature_importance.set_index('feature', inplace=True)\n",
    "feature_importance.plot.barh(title='Feature importance')"
   ]
  },
  {
   "cell_type": "code",
   "execution_count": null,
   "metadata": {},
   "outputs": [],
   "source": [
    "RFM_predictions = RFM.predict(test[predictors])"
   ]
  },
  {
   "cell_type": "code",
   "execution_count": 36,
   "metadata": {},
   "outputs": [
    {
     "data": {
      "text/plain": [
       "(array([2.86847287e-07, 0.00000000e+00, 7.17118219e-07, 1.37686698e-05,\n",
       "        2.15135466e-05, 3.04058125e-05, 2.29621254e-04, 5.66093122e-04,\n",
       "        2.61461302e-04, 3.32742853e-05, 1.99358865e-05, 1.04699260e-05,\n",
       "        1.00396551e-06, 2.86847287e-07, 1.43423644e-07, 0.00000000e+00,\n",
       "        2.86847287e-07, 1.43423644e-07, 0.00000000e+00, 1.43423644e-07]),\n",
       " array([-6345.  , -5504.35, -4663.7 , -3823.05, -2982.4 , -2141.75,\n",
       "        -1301.1 ,  -460.45,   380.2 ,  1220.85,  2061.5 ,  2902.15,\n",
       "         3742.8 ,  4583.45,  5424.1 ,  6264.75,  7105.4 ,  7946.05,\n",
       "         8786.7 ,  9627.35, 10468.  ]),\n",
       " <a list of 20 Patch objects>)"
      ]
     },
     "execution_count": 36,
     "metadata": {},
     "output_type": "execute_result"
    },
    {
     "name": "stderr",
     "output_type": "stream",
     "text": [
      "/home/ciaran/.conda/envs/BusEnv/lib/python3.6/site-packages/ipykernel_launcher.py:11: MatplotlibDeprecationWarning: scipy.stats.norm.pdf\n",
      "  # This is added back by InteractiveShellApp.init_path()\n"
     ]
    },
    {
     "data": {
      "image/png": "[encoded data removed]",
      "text/plain": [
       "<Figure size 432x288 with 1 Axes>"
      ]
     },
     "metadata": {
      "needs_background": "light"
     },
     "output_type": "display_data"
    },
    {
     "name": "stdout",
     "output_type": "stream",
     "text": [
      "954.4836372409463 -22.221485411140584\n"
     ]
    },
    {
     "data": {
      "text/plain": [
       "<matplotlib.axes._subplots.AxesSubplot at 0x7f82f9b135c0>"
      ]
     },
     "execution_count": 36,
     "metadata": {},
     "output_type": "execute_result"
    },
    {
     "data": {
      "image/png": "[encoded data removed]",
      "text/plain": [
       "<Figure size 432x288 with 1 Axes>"
      ]
     },
     "metadata": {
      "needs_background": "light"
     },
     "output_type": "display_data"
    }
   ],
   "source": [
    "plt.hist(RFM_predictions - test.triplength, bins=20, density=True)\n",
    "\n",
    "\n",
    "# # best fit of data\n",
    "(mu, sigma) = stats.norm.fit(RFM_predictions - test.triplength)\n",
    "\n",
    "# # the histogram of the data\n",
    "# n, bins, patches = plt.hist(RFM_predictions - test.triplength, 2000, normed=1, facecolor='green', alpha=0.75)\n",
    "\n",
    "# add a 'best fit' line\n",
    "y = mlab.normpdf(bins, mu, sigma)\n",
    "l = plt.plot(bins, y, 'r--', linewidth=2)\n",
    "plt.show()\n",
    "\n",
    "print(sigma, mu)\n",
    "\n",
    "test.triplength.hist(bins=100)"
   ]
  },
  {
   "cell_type": "markdown",
   "metadata": {},
   "source": [
    "# Saving Model"
   ]
  },
  {
   "cell_type": "code",
   "execution_count": null,
   "metadata": {},
   "outputs": [],
   "source": [
    "# save model\n",
    "pickle.dump(model, open(\"ModelFiles/route145.sav\", 'wb'))\n",
    "\n",
    "# load model\n",
    "loaded_model = pickle.load(open(\"ModelFiles/route145.sav\", 'rb'))"
   ]
  }
 ],
 "metadata": {
  "kernelspec": {
   "display_name": "Python 3",
   "language": "python",
   "name": "python3"
  },
  "language_info": {
   "codemirror_mode": {
    "name": "ipython",
    "version": 3
   },
   "file_extension": ".py",
   "mimetype": "text/x-python",
   "name": "python",
   "nbconvert_exporter": "python",
   "pygments_lexer": "ipython3",
   "version": "3.6.8"
  },
  "toc": {
   "base_numbering": 1,
   "nav_menu": {},
   "number_sections": true,
   "sideBar": true,
   "skip_h1_title": false,
   "title_cell": "Table of Contents",
   "title_sidebar": "Contents",
   "toc_cell": false,
   "toc_position": {},
   "toc_section_display": true,
   "toc_window_display": false
  },
  "varInspector": {
   "cols": {
    "lenName": 16,
    "lenType": 16,
    "lenVar": 40
   },
   "kernels_config": {
    "python": {
     "delete_cmd_postfix": "",
     "delete_cmd_prefix": "del ",
     "library": "var_list.py",
     "varRefreshCmd": "print(var_dic_list())"
    },
    "r": {
     "delete_cmd_postfix": ") ",
     "delete_cmd_prefix": "rm(",
     "library": "var_list.r",
     "varRefreshCmd": "cat(var_dic_list()) "
    }
   },
   "types_to_exclude": [
    "module",
    "function",
    "builtin_function_or_method",
    "instance",
    "_Feature"
   ],
   "window_display": false
  }
 },
 "nbformat": 4,
 "nbformat_minor": 2
}

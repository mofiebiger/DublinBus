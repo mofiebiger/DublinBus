{
 "cells": [
  {
   "cell_type": "code",
   "execution_count": 61,
   "metadata": {},
   "outputs": [],
   "source": [
    "import matplotlib.pyplot as plt\n",
    "import matplotlib.mlab as mlab\n",
    "\n",
    "from datetime import timedelta\n",
    "from datetime import datetime\n",
    "import scipy.stats as stats\n",
    "\n",
    "import requests as r\n",
    "import pandas as pd\n",
    "import seaborn as s\n",
    "import numpy as np\n",
    "\n",
    "import holidays\n",
    "ie_holidays = holidays.Ireland()\n",
    "\n",
    "import postgres\n",
    "import gmaps\n",
    "import googlemaps\n",
    "import json\n",
    "import math\n",
    "\n",
    "import xgboost as xgb\n",
    "from sklearn import metrics\n",
    "\n",
    "from tqdm import tnrange, tqdm_notebook\n",
    "\n",
    "from sklearn.model_selection import train_test_split\n",
    "from sklearn.model_selection import cross_val_score \n",
    "from sklearn.model_selection import cross_validate\n",
    "from sklearn.ensemble import RandomForestClassifier\n",
    "from sklearn.preprocessing import LabelEncoder\n",
    "\n",
    "import pickle"
   ]
  },
  {
   "cell_type": "code",
   "execution_count": 3,
   "metadata": {},
   "outputs": [
    {
     "data": {
      "text/plain": [
       "<module 'config' from '/media/storage/College/S3/Github/DublinBus/Analytics/config.py'>"
      ]
     },
     "execution_count": 3,
     "metadata": {},
     "output_type": "execute_result"
    }
   ],
   "source": [
    "import importlib\n",
    "importlib.reload(postgres.config)"
   ]
  },
  {
   "cell_type": "code",
   "execution_count": 4,
   "metadata": {},
   "outputs": [],
   "source": [
    "from IPython.core.interactiveshell import InteractiveShell\n",
    "InteractiveShell.ast_node_interactivity = \"all\""
   ]
  },
  {
   "cell_type": "code",
   "execution_count": 5,
   "metadata": {},
   "outputs": [],
   "source": [
    "# data = pd.read_csv(\"stored_queries/combined145.csv\")\n",
    "# data.columns = ['dayofservice','tripid','lineid','direction','progrnumber','stopid','plannedDEP','plannedARR','actualDEP','actualARR','routeid']\n",
    "# data.head(2)\n",
    "# data.dtypes"
   ]
  },
  {
   "cell_type": "code",
   "execution_count": 6,
   "metadata": {},
   "outputs": [],
   "source": [
    "# data.dayofservice = pd.to_datetime(data.dayofservice.loc[:])\n",
    "# data.lineid = data.lineid.astype('category')\n",
    "# data.routeid= data.routeid.astype('category')\n",
    "# data.sort_values(by=['dayofservice','lineid','tripid','direction','progrnumber'],inplace=True)"
   ]
  },
  {
   "cell_type": "code",
   "execution_count": null,
   "metadata": {},
   "outputs": [],
   "source": []
  },
  {
   "cell_type": "markdown",
   "metadata": {},
   "source": [
    "# Trips Data"
   ]
  },
  {
   "cell_type": "code",
   "execution_count": 7,
   "metadata": {},
   "outputs": [
    {
     "data": {
      "text/html": [
       "<div>\n",
       "<style scoped>\n",
       "    .dataframe tbody tr th:only-of-type {\n",
       "        vertical-align: middle;\n",
       "    }\n",
       "\n",
       "    .dataframe tbody tr th {\n",
       "        vertical-align: top;\n",
       "    }\n",
       "\n",
       "    .dataframe thead th {\n",
       "        text-align: right;\n",
       "    }\n",
       "</style>\n",
       "<table border=\"1\" class=\"dataframe\">\n",
       "  <thead>\n",
       "    <tr style=\"text-align: right;\">\n",
       "      <th></th>\n",
       "      <th>Unnamed: 0</th>\n",
       "      <th>dayofservice</th>\n",
       "      <th>tripid</th>\n",
       "      <th>lineid</th>\n",
       "      <th>routeid</th>\n",
       "      <th>direction</th>\n",
       "      <th>planned_arr</th>\n",
       "      <th>planned_dep</th>\n",
       "      <th>actual_arr</th>\n",
       "      <th>actual_dep</th>\n",
       "    </tr>\n",
       "  </thead>\n",
       "  <tbody>\n",
       "    <tr>\n",
       "      <th>0</th>\n",
       "      <td>0</td>\n",
       "      <td>2018-06-17</td>\n",
       "      <td>7013606</td>\n",
       "      <td>7A</td>\n",
       "      <td>7A_85</td>\n",
       "      <td>1</td>\n",
       "      <td>66484</td>\n",
       "      <td>62400</td>\n",
       "      <td>67065.0</td>\n",
       "      <td>62901.0</td>\n",
       "    </tr>\n",
       "    <tr>\n",
       "      <th>1</th>\n",
       "      <td>1</td>\n",
       "      <td>2018-07-03</td>\n",
       "      <td>7137867</td>\n",
       "      <td>41C</td>\n",
       "      <td>41C_79</td>\n",
       "      <td>2</td>\n",
       "      <td>51620</td>\n",
       "      <td>47700</td>\n",
       "      <td>NaN</td>\n",
       "      <td>47293.0</td>\n",
       "    </tr>\n",
       "    <tr>\n",
       "      <th>2</th>\n",
       "      <td>2</td>\n",
       "      <td>2018-02-16</td>\n",
       "      <td>6258567</td>\n",
       "      <td>31</td>\n",
       "      <td>31_15</td>\n",
       "      <td>1</td>\n",
       "      <td>74041</td>\n",
       "      <td>71400</td>\n",
       "      <td>74297.0</td>\n",
       "      <td>71449.0</td>\n",
       "    </tr>\n",
       "    <tr>\n",
       "      <th>3</th>\n",
       "      <td>3</td>\n",
       "      <td>2018-08-27</td>\n",
       "      <td>7499178</td>\n",
       "      <td>67</td>\n",
       "      <td>67_6</td>\n",
       "      <td>2</td>\n",
       "      <td>59030</td>\n",
       "      <td>54720</td>\n",
       "      <td>NaN</td>\n",
       "      <td>54687.0</td>\n",
       "    </tr>\n",
       "    <tr>\n",
       "      <th>4</th>\n",
       "      <td>4</td>\n",
       "      <td>2018-08-27</td>\n",
       "      <td>7500294</td>\n",
       "      <td>44</td>\n",
       "      <td>44_36</td>\n",
       "      <td>2</td>\n",
       "      <td>85563</td>\n",
       "      <td>81000</td>\n",
       "      <td>85557.0</td>\n",
       "      <td>81004.0</td>\n",
       "    </tr>\n",
       "  </tbody>\n",
       "</table>\n",
       "</div>"
      ],
      "text/plain": [
       "   Unnamed: 0 dayofservice   tripid lineid routeid  direction  planned_arr  \\\n",
       "0           0   2018-06-17  7013606     7A   7A_85          1        66484   \n",
       "1           1   2018-07-03  7137867    41C  41C_79          2        51620   \n",
       "2           2   2018-02-16  6258567     31   31_15          1        74041   \n",
       "3           3   2018-08-27  7499178     67    67_6          2        59030   \n",
       "4           4   2018-08-27  7500294     44   44_36          2        85563   \n",
       "\n",
       "   planned_dep  actual_arr  actual_dep  \n",
       "0        62400     67065.0     62901.0  \n",
       "1        47700         NaN     47293.0  \n",
       "2        71400     74297.0     71449.0  \n",
       "3        54720         NaN     54687.0  \n",
       "4        81000     85557.0     81004.0  "
      ]
     },
     "execution_count": 7,
     "metadata": {},
     "output_type": "execute_result"
    }
   ],
   "source": [
    "tripsdata = pd.read_csv(\"stored_queries/trips_df.csv\")\n",
    "tripsdata.head()"
   ]
  },
  {
   "cell_type": "code",
   "execution_count": 8,
   "metadata": {},
   "outputs": [],
   "source": [
    "tripsdata = tripsdata[['dayofservice', 'tripid', 'lineid', 'routeid', 'direction', 'actual_arr', 'actual_dep']]\n",
    "tripsdata.dayofservice = pd.to_datetime(tripsdata.dayofservice)\n",
    "tripsdata.dropna(inplace=True)"
   ]
  },
  {
   "cell_type": "code",
   "execution_count": 9,
   "metadata": {},
   "outputs": [],
   "source": [
    "tripsdata['triplength'] = tripsdata.actual_arr - tripsdata.actual_dep\n",
    "tripsdata.actual_arr = tripsdata.dayofservice + pd.to_timedelta(tripsdata.actual_arr, unit='seconds')\n",
    "tripsdata.actual_dep = tripsdata.dayofservice + pd.to_timedelta(tripsdata.actual_dep, unit='seconds')\n",
    "tripsdata['leavehour'] = tripsdata.actual_dep.dt.hour"
   ]
  },
  {
   "cell_type": "code",
   "execution_count": 10,
   "metadata": {},
   "outputs": [],
   "source": [
    "tripsdata['weather_merge_time'] = tripsdata.actual_dep.dt.round('H') #  .dt is super useful. "
   ]
  },
  {
   "cell_type": "code",
   "execution_count": 11,
   "metadata": {},
   "outputs": [
    {
     "data": {
      "text/html": [
       "<div>\n",
       "<style scoped>\n",
       "    .dataframe tbody tr th:only-of-type {\n",
       "        vertical-align: middle;\n",
       "    }\n",
       "\n",
       "    .dataframe tbody tr th {\n",
       "        vertical-align: top;\n",
       "    }\n",
       "\n",
       "    .dataframe thead th {\n",
       "        text-align: right;\n",
       "    }\n",
       "</style>\n",
       "<table border=\"1\" class=\"dataframe\">\n",
       "  <thead>\n",
       "    <tr style=\"text-align: right;\">\n",
       "      <th></th>\n",
       "      <th>dayofservice</th>\n",
       "      <th>tripid</th>\n",
       "      <th>lineid</th>\n",
       "      <th>routeid</th>\n",
       "      <th>direction</th>\n",
       "      <th>actual_arr</th>\n",
       "      <th>actual_dep</th>\n",
       "      <th>triplength</th>\n",
       "      <th>leavehour</th>\n",
       "      <th>weather_merge_time</th>\n",
       "    </tr>\n",
       "  </thead>\n",
       "  <tbody>\n",
       "    <tr>\n",
       "      <th>0</th>\n",
       "      <td>2018-06-17</td>\n",
       "      <td>7013606</td>\n",
       "      <td>7A</td>\n",
       "      <td>7A_85</td>\n",
       "      <td>1</td>\n",
       "      <td>2018-06-17 18:37:45</td>\n",
       "      <td>2018-06-17 17:28:21</td>\n",
       "      <td>4164.0</td>\n",
       "      <td>17</td>\n",
       "      <td>2018-06-17 17:00:00</td>\n",
       "    </tr>\n",
       "    <tr>\n",
       "      <th>2</th>\n",
       "      <td>2018-02-16</td>\n",
       "      <td>6258567</td>\n",
       "      <td>31</td>\n",
       "      <td>31_15</td>\n",
       "      <td>1</td>\n",
       "      <td>2018-02-16 20:38:17</td>\n",
       "      <td>2018-02-16 19:50:49</td>\n",
       "      <td>2848.0</td>\n",
       "      <td>19</td>\n",
       "      <td>2018-02-16 20:00:00</td>\n",
       "    </tr>\n",
       "    <tr>\n",
       "      <th>4</th>\n",
       "      <td>2018-08-27</td>\n",
       "      <td>7500294</td>\n",
       "      <td>44</td>\n",
       "      <td>44_36</td>\n",
       "      <td>2</td>\n",
       "      <td>2018-08-27 23:45:57</td>\n",
       "      <td>2018-08-27 22:30:04</td>\n",
       "      <td>4553.0</td>\n",
       "      <td>22</td>\n",
       "      <td>2018-08-27 23:00:00</td>\n",
       "    </tr>\n",
       "    <tr>\n",
       "      <th>5</th>\n",
       "      <td>2018-05-23</td>\n",
       "      <td>6782602</td>\n",
       "      <td>27</td>\n",
       "      <td>27_17</td>\n",
       "      <td>2</td>\n",
       "      <td>2018-05-23 19:37:32</td>\n",
       "      <td>2018-05-23 18:10:37</td>\n",
       "      <td>5215.0</td>\n",
       "      <td>18</td>\n",
       "      <td>2018-05-23 18:00:00</td>\n",
       "    </tr>\n",
       "    <tr>\n",
       "      <th>6</th>\n",
       "      <td>2018-02-16</td>\n",
       "      <td>6261199</td>\n",
       "      <td>53</td>\n",
       "      <td>53_20</td>\n",
       "      <td>1</td>\n",
       "      <td>2018-02-16 14:39:00</td>\n",
       "      <td>2018-02-16 14:01:04</td>\n",
       "      <td>2276.0</td>\n",
       "      <td>14</td>\n",
       "      <td>2018-02-16 14:00:00</td>\n",
       "    </tr>\n",
       "  </tbody>\n",
       "</table>\n",
       "</div>"
      ],
      "text/plain": [
       "  dayofservice   tripid lineid routeid  direction          actual_arr  \\\n",
       "0   2018-06-17  7013606     7A   7A_85          1 2018-06-17 18:37:45   \n",
       "2   2018-02-16  6258567     31   31_15          1 2018-02-16 20:38:17   \n",
       "4   2018-08-27  7500294     44   44_36          2 2018-08-27 23:45:57   \n",
       "5   2018-05-23  6782602     27   27_17          2 2018-05-23 19:37:32   \n",
       "6   2018-02-16  6261199     53   53_20          1 2018-02-16 14:39:00   \n",
       "\n",
       "           actual_dep  triplength  leavehour  weather_merge_time  \n",
       "0 2018-06-17 17:28:21      4164.0         17 2018-06-17 17:00:00  \n",
       "2 2018-02-16 19:50:49      2848.0         19 2018-02-16 20:00:00  \n",
       "4 2018-08-27 22:30:04      4553.0         22 2018-08-27 23:00:00  \n",
       "5 2018-05-23 18:10:37      5215.0         18 2018-05-23 18:00:00  \n",
       "6 2018-02-16 14:01:04      2276.0         14 2018-02-16 14:00:00  "
      ]
     },
     "execution_count": 11,
     "metadata": {},
     "output_type": "execute_result"
    }
   ],
   "source": [
    "tripsdata.head()"
   ]
  },
  {
   "cell_type": "markdown",
   "metadata": {},
   "source": [
    "# Weather Data"
   ]
  },
  {
   "cell_type": "code",
   "execution_count": 12,
   "metadata": {},
   "outputs": [],
   "source": [
    "weather = pd.read_csv(\"stored_queries/weather.csv\")\n",
    "\n",
    "weather.icon = weather.icon.astype('category')\n",
    "weather.dayofservice = pd.to_datetime(weather.dayofservice)"
   ]
  },
  {
   "cell_type": "code",
   "execution_count": 13,
   "metadata": {},
   "outputs": [],
   "source": [
    "weather['rkey'] = weather.dayofservice + pd.to_timedelta(weather.hour, unit='hour')"
   ]
  },
  {
   "cell_type": "code",
   "execution_count": null,
   "metadata": {},
   "outputs": [],
   "source": []
  },
  {
   "cell_type": "markdown",
   "metadata": {},
   "source": [
    "# Combining Data"
   ]
  },
  {
   "cell_type": "code",
   "execution_count": 14,
   "metadata": {},
   "outputs": [],
   "source": [
    "combinedtrip = tripsdata.merge(weather[['icon','temperature','humidity','windSpeed','rain','rkey','hour']], left_on='weather_merge_time', right_on='rkey', how='left')"
   ]
  },
  {
   "cell_type": "markdown",
   "metadata": {},
   "source": [
    "## Adding features"
   ]
  },
  {
   "cell_type": "markdown",
   "metadata": {},
   "source": [
    "Holidays"
   ]
  },
  {
   "cell_type": "code",
   "execution_count": 15,
   "metadata": {},
   "outputs": [],
   "source": [
    "combinedtrip['holiday'] = combinedtrip.dayofservice.apply(lambda x: x in ie_holidays)"
   ]
  },
  {
   "cell_type": "markdown",
   "metadata": {},
   "source": [
    "Weekday/Weekend"
   ]
  },
  {
   "cell_type": "code",
   "execution_count": 16,
   "metadata": {},
   "outputs": [],
   "source": [
    "combinedtrip['weekend'] = combinedtrip.dayofservice.dt.weekday.isin([5,6])"
   ]
  },
  {
   "cell_type": "markdown",
   "metadata": {},
   "source": [
    "# Outliers / Errors / Null Values"
   ]
  },
  {
   "cell_type": "code",
   "execution_count": 17,
   "metadata": {},
   "outputs": [],
   "source": [
    "combinedtrip.drop(columns=['routeid','weather_merge_time','rkey','tripid','actual_arr','actual_dep','dayofservice'], inplace=True)"
   ]
  },
  {
   "cell_type": "code",
   "execution_count": 18,
   "metadata": {},
   "outputs": [],
   "source": [
    "combinedtrip.dropna(inplace=True)"
   ]
  },
  {
   "cell_type": "code",
   "execution_count": 19,
   "metadata": {},
   "outputs": [
    {
     "data": {
      "text/html": [
       "<div>\n",
       "<style scoped>\n",
       "    .dataframe tbody tr th:only-of-type {\n",
       "        vertical-align: middle;\n",
       "    }\n",
       "\n",
       "    .dataframe tbody tr th {\n",
       "        vertical-align: top;\n",
       "    }\n",
       "\n",
       "    .dataframe thead th {\n",
       "        text-align: right;\n",
       "    }\n",
       "</style>\n",
       "<table border=\"1\" class=\"dataframe\">\n",
       "  <thead>\n",
       "    <tr style=\"text-align: right;\">\n",
       "      <th></th>\n",
       "      <th>lineid</th>\n",
       "      <th>direction</th>\n",
       "      <th>triplength</th>\n",
       "      <th>leavehour</th>\n",
       "      <th>icon</th>\n",
       "      <th>temperature</th>\n",
       "      <th>humidity</th>\n",
       "      <th>windSpeed</th>\n",
       "      <th>rain</th>\n",
       "      <th>hour</th>\n",
       "      <th>holiday</th>\n",
       "      <th>weekend</th>\n",
       "    </tr>\n",
       "  </thead>\n",
       "  <tbody>\n",
       "    <tr>\n",
       "      <th>0</th>\n",
       "      <td>7A</td>\n",
       "      <td>1</td>\n",
       "      <td>4164.0</td>\n",
       "      <td>17</td>\n",
       "      <td>partly-cloudy-day</td>\n",
       "      <td>63.52</td>\n",
       "      <td>0.72</td>\n",
       "      <td>20.07</td>\n",
       "      <td>0.0</td>\n",
       "      <td>17.0</td>\n",
       "      <td>False</td>\n",
       "      <td>True</td>\n",
       "    </tr>\n",
       "    <tr>\n",
       "      <th>1</th>\n",
       "      <td>31</td>\n",
       "      <td>1</td>\n",
       "      <td>2848.0</td>\n",
       "      <td>19</td>\n",
       "      <td>partly-cloudy-night</td>\n",
       "      <td>42.09</td>\n",
       "      <td>0.89</td>\n",
       "      <td>8.29</td>\n",
       "      <td>0.0</td>\n",
       "      <td>20.0</td>\n",
       "      <td>False</td>\n",
       "      <td>False</td>\n",
       "    </tr>\n",
       "    <tr>\n",
       "      <th>2</th>\n",
       "      <td>44</td>\n",
       "      <td>2</td>\n",
       "      <td>4553.0</td>\n",
       "      <td>22</td>\n",
       "      <td>partly-cloudy-night</td>\n",
       "      <td>55.60</td>\n",
       "      <td>0.80</td>\n",
       "      <td>6.79</td>\n",
       "      <td>0.0</td>\n",
       "      <td>23.0</td>\n",
       "      <td>False</td>\n",
       "      <td>False</td>\n",
       "    </tr>\n",
       "    <tr>\n",
       "      <th>3</th>\n",
       "      <td>27</td>\n",
       "      <td>2</td>\n",
       "      <td>5215.0</td>\n",
       "      <td>18</td>\n",
       "      <td>partly-cloudy-day</td>\n",
       "      <td>58.99</td>\n",
       "      <td>0.65</td>\n",
       "      <td>10.25</td>\n",
       "      <td>0.0</td>\n",
       "      <td>18.0</td>\n",
       "      <td>False</td>\n",
       "      <td>False</td>\n",
       "    </tr>\n",
       "    <tr>\n",
       "      <th>4</th>\n",
       "      <td>53</td>\n",
       "      <td>1</td>\n",
       "      <td>2276.0</td>\n",
       "      <td>14</td>\n",
       "      <td>partly-cloudy-day</td>\n",
       "      <td>47.28</td>\n",
       "      <td>0.69</td>\n",
       "      <td>13.11</td>\n",
       "      <td>0.1</td>\n",
       "      <td>14.0</td>\n",
       "      <td>False</td>\n",
       "      <td>False</td>\n",
       "    </tr>\n",
       "  </tbody>\n",
       "</table>\n",
       "</div>"
      ],
      "text/plain": [
       "  lineid  direction  triplength  leavehour                 icon  temperature  \\\n",
       "0     7A          1      4164.0         17    partly-cloudy-day        63.52   \n",
       "1     31          1      2848.0         19  partly-cloudy-night        42.09   \n",
       "2     44          2      4553.0         22  partly-cloudy-night        55.60   \n",
       "3     27          2      5215.0         18    partly-cloudy-day        58.99   \n",
       "4     53          1      2276.0         14    partly-cloudy-day        47.28   \n",
       "\n",
       "   humidity  windSpeed  rain  hour  holiday  weekend  \n",
       "0      0.72      20.07   0.0  17.0    False     True  \n",
       "1      0.89       8.29   0.0  20.0    False    False  \n",
       "2      0.80       6.79   0.0  23.0    False    False  \n",
       "3      0.65      10.25   0.0  18.0    False    False  \n",
       "4      0.69      13.11   0.1  14.0    False    False  "
      ]
     },
     "execution_count": 19,
     "metadata": {},
     "output_type": "execute_result"
    }
   ],
   "source": [
    "combinedtrip.head()"
   ]
  },
  {
   "cell_type": "code",
   "execution_count": null,
   "metadata": {},
   "outputs": [],
   "source": []
  },
  {
   "cell_type": "markdown",
   "metadata": {},
   "source": [
    "# Training Model"
   ]
  },
  {
   "cell_type": "code",
   "execution_count": 20,
   "metadata": {
    "scrolled": false
   },
   "outputs": [],
   "source": [
    "# need to put this in a loop over the pairs of stops. (unique)\n",
    "target     = ['triplength']\n",
    "predictors = ['hour','weekend','holiday','temperature','rain','humidity','windSpeed']#,'icon']\n",
    "\n",
    "# plt.figure()\n",
    "# for pr in predictors:\n",
    "#     try:\n",
    "        \n",
    "#         combinedtrip[pr].hist(bins=100, normed=True)\n",
    "#         print(pr)\n",
    "#         plt.figure()\n",
    "        \n",
    "#     except Exception:\n",
    "#         continue\n",
    "        \n",
    "# plt.show()"
   ]
  },
  {
   "cell_type": "code",
   "execution_count": 21,
   "metadata": {
    "scrolled": true
   },
   "outputs": [
    {
     "data": {
      "text/html": [
       "<div>\n",
       "<style scoped>\n",
       "    .dataframe tbody tr th:only-of-type {\n",
       "        vertical-align: middle;\n",
       "    }\n",
       "\n",
       "    .dataframe tbody tr th {\n",
       "        vertical-align: top;\n",
       "    }\n",
       "\n",
       "    .dataframe thead th {\n",
       "        text-align: right;\n",
       "    }\n",
       "</style>\n",
       "<table border=\"1\" class=\"dataframe\">\n",
       "  <thead>\n",
       "    <tr style=\"text-align: right;\">\n",
       "      <th></th>\n",
       "      <th>lineid</th>\n",
       "      <th>direction</th>\n",
       "      <th>triplength</th>\n",
       "      <th>leavehour</th>\n",
       "      <th>icon</th>\n",
       "      <th>temperature</th>\n",
       "      <th>humidity</th>\n",
       "      <th>windSpeed</th>\n",
       "      <th>rain</th>\n",
       "      <th>hour</th>\n",
       "      <th>holiday</th>\n",
       "      <th>weekend</th>\n",
       "    </tr>\n",
       "  </thead>\n",
       "  <tbody>\n",
       "    <tr>\n",
       "      <th>210</th>\n",
       "      <td>145</td>\n",
       "      <td>1</td>\n",
       "      <td>4814.0</td>\n",
       "      <td>20</td>\n",
       "      <td>partly-cloudy-day</td>\n",
       "      <td>69.74</td>\n",
       "      <td>0.65</td>\n",
       "      <td>8.71</td>\n",
       "      <td>0.0</td>\n",
       "      <td>20.0</td>\n",
       "      <td>False</td>\n",
       "      <td>True</td>\n",
       "    </tr>\n",
       "    <tr>\n",
       "      <th>268</th>\n",
       "      <td>145</td>\n",
       "      <td>1</td>\n",
       "      <td>4809.0</td>\n",
       "      <td>15</td>\n",
       "      <td>partly-cloudy-day</td>\n",
       "      <td>67.19</td>\n",
       "      <td>0.73</td>\n",
       "      <td>7.02</td>\n",
       "      <td>0.0</td>\n",
       "      <td>15.0</td>\n",
       "      <td>False</td>\n",
       "      <td>True</td>\n",
       "    </tr>\n",
       "    <tr>\n",
       "      <th>329</th>\n",
       "      <td>145</td>\n",
       "      <td>1</td>\n",
       "      <td>6441.0</td>\n",
       "      <td>16</td>\n",
       "      <td>partly-cloudy-day</td>\n",
       "      <td>63.90</td>\n",
       "      <td>0.77</td>\n",
       "      <td>13.85</td>\n",
       "      <td>0.0</td>\n",
       "      <td>17.0</td>\n",
       "      <td>False</td>\n",
       "      <td>False</td>\n",
       "    </tr>\n",
       "    <tr>\n",
       "      <th>406</th>\n",
       "      <td>145</td>\n",
       "      <td>1</td>\n",
       "      <td>3496.0</td>\n",
       "      <td>22</td>\n",
       "      <td>partly-cloudy-night</td>\n",
       "      <td>57.08</td>\n",
       "      <td>0.73</td>\n",
       "      <td>16.64</td>\n",
       "      <td>0.0</td>\n",
       "      <td>22.0</td>\n",
       "      <td>False</td>\n",
       "      <td>True</td>\n",
       "    </tr>\n",
       "    <tr>\n",
       "      <th>427</th>\n",
       "      <td>145</td>\n",
       "      <td>1</td>\n",
       "      <td>3222.0</td>\n",
       "      <td>17</td>\n",
       "      <td>partly-cloudy-night</td>\n",
       "      <td>58.96</td>\n",
       "      <td>0.80</td>\n",
       "      <td>16.90</td>\n",
       "      <td>0.5</td>\n",
       "      <td>18.0</td>\n",
       "      <td>False</td>\n",
       "      <td>False</td>\n",
       "    </tr>\n",
       "  </tbody>\n",
       "</table>\n",
       "</div>"
      ],
      "text/plain": [
       "    lineid  direction  triplength  leavehour                 icon  \\\n",
       "210    145          1      4814.0         20    partly-cloudy-day   \n",
       "268    145          1      4809.0         15    partly-cloudy-day   \n",
       "329    145          1      6441.0         16    partly-cloudy-day   \n",
       "406    145          1      3496.0         22  partly-cloudy-night   \n",
       "427    145          1      3222.0         17  partly-cloudy-night   \n",
       "\n",
       "     temperature  humidity  windSpeed  rain  hour  holiday  weekend  \n",
       "210        69.74      0.65       8.71   0.0  20.0    False     True  \n",
       "268        67.19      0.73       7.02   0.0  15.0    False     True  \n",
       "329        63.90      0.77      13.85   0.0  17.0    False    False  \n",
       "406        57.08      0.73      16.64   0.0  22.0    False     True  \n",
       "427        58.96      0.80      16.90   0.5  18.0    False    False  "
      ]
     },
     "execution_count": 21,
     "metadata": {},
     "output_type": "execute_result"
    },
    {
     "data": {
      "text/plain": [
       "lineid           object\n",
       "direction         int64\n",
       "triplength      float64\n",
       "leavehour         int64\n",
       "icon           category\n",
       "temperature     float64\n",
       "humidity        float64\n",
       "windSpeed       float64\n",
       "rain            float64\n",
       "hour            float64\n",
       "holiday            bool\n",
       "weekend            bool\n",
       "dtype: object"
      ]
     },
     "execution_count": 21,
     "metadata": {},
     "output_type": "execute_result"
    }
   ],
   "source": [
    "modeldata = combinedtrip[combinedtrip.lineid=='145']\n",
    "modeldata = modeldata[modeldata.direction==1]\n",
    "modeldata.head()\n",
    "modeldata.dtypes"
   ]
  },
  {
   "cell_type": "code",
   "execution_count": 22,
   "metadata": {
    "scrolled": true
   },
   "outputs": [
    {
     "data": {
      "text/plain": [
       "lineid         19352\n",
       "direction      19352\n",
       "triplength     19352\n",
       "leavehour      19352\n",
       "icon           19352\n",
       "temperature    19352\n",
       "humidity       19352\n",
       "windSpeed      19352\n",
       "rain           19352\n",
       "hour           19352\n",
       "holiday        19352\n",
       "weekend        19352\n",
       "dtype: int64"
      ]
     },
     "execution_count": 22,
     "metadata": {},
     "output_type": "execute_result"
    },
    {
     "data": {
      "text/plain": [
       "lineid         8294\n",
       "direction      8294\n",
       "triplength     8294\n",
       "leavehour      8294\n",
       "icon           8294\n",
       "temperature    8294\n",
       "humidity       8294\n",
       "windSpeed      8294\n",
       "rain           8294\n",
       "hour           8294\n",
       "holiday        8294\n",
       "weekend        8294\n",
       "dtype: int64"
      ]
     },
     "execution_count": 22,
     "metadata": {},
     "output_type": "execute_result"
    }
   ],
   "source": [
    "train, test = train_test_split(modeldata, test_size = 0.3, shuffle=True)\n",
    "train.count()\n",
    "test.count()"
   ]
  },
  {
   "cell_type": "markdown",
   "metadata": {},
   "source": [
    "## Random Forest (skLearn)"
   ]
  },
  {
   "cell_type": "code",
   "execution_count": 23,
   "metadata": {
    "scrolled": true
   },
   "outputs": [
    {
     "data": {
      "text/plain": [
       "RandomForestClassifier(bootstrap=True, class_weight=None, criterion='gini',\n",
       "            max_depth=None, max_features='auto', max_leaf_nodes=None,\n",
       "            min_impurity_decrease=0.0, min_impurity_split=None,\n",
       "            min_samples_leaf=1, min_samples_split=2,\n",
       "            min_weight_fraction_leaf=0.0, n_estimators=100, n_jobs=None,\n",
       "            oob_score=True, random_state=1, verbose=0, warm_start=False)"
      ]
     },
     "execution_count": 23,
     "metadata": {},
     "output_type": "execute_result"
    }
   ],
   "source": [
    "# RFM\n",
    "RFM = RandomForestClassdifier(n_estimators=100, max_features='auto', oob_score=True, random_state=1)\n",
    "RFM.fit(train[predictors], train[target].values.ravel())\n",
    "RFM_predictions = RFM.predict(test[predictors])"
   ]
  },
  {
   "cell_type": "code",
   "execution_count": null,
   "metadata": {},
   "outputs": [],
   "source": [
    "# # XGBOOST \n",
    "# gbm = xgboost.XGBClassifier(max_depth=3, n_estimators=100, learning_rate=0.05)\n",
    "# gbm.fit(train[predictors], train[target].values.ravel())\n",
    "# predictions = gbm.predict(test_X)"
   ]
  },
  {
   "cell_type": "code",
   "execution_count": 24,
   "metadata": {},
   "outputs": [
    {
     "data": {
      "text/plain": [
       "<matplotlib.axes._subplots.AxesSubplot at 0x7f1e67bff668>"
      ]
     },
     "execution_count": 24,
     "metadata": {},
     "output_type": "execute_result"
    },
    {
     "data": {
      "image/png": "[encoded data removed]",
      "text/plain": [
       "<Figure size 432x288 with 1 Axes>"
      ]
     },
     "metadata": {
      "needs_background": "light"
     },
     "output_type": "display_data"
    }
   ],
   "source": [
    "feature_importance = pd.DataFrame({'feature':predictors, 'importance': RFM.feature_importances_})\n",
    "\n",
    "feature_importance.set_index('feature', inplace=True)\n",
    "feature_importance.plot.barh(title='Feature importance')"
   ]
  },
  {
   "cell_type": "code",
   "execution_count": null,
   "metadata": {},
   "outputs": [],
   "source": []
  },
  {
   "cell_type": "code",
   "execution_count": 26,
   "metadata": {
    "collapsed": true
   },
   "outputs": [
    {
     "data": {
      "text/plain": [
       "(array([1.74788469e-06, 8.73942346e-07, 0.00000000e+00, 0.00000000e+00,\n",
       "        0.00000000e+00, 0.00000000e+00, 0.00000000e+00, 0.00000000e+00,\n",
       "        0.00000000e+00, 0.00000000e+00, 0.00000000e+00, 8.73942346e-07,\n",
       "        0.00000000e+00, 0.00000000e+00, 0.00000000e+00, 1.74788469e-06,\n",
       "        1.74788469e-06, 0.00000000e+00, 3.49576938e-06, 6.11759642e-06,\n",
       "        2.62182704e-06, 3.49576938e-06, 1.04873082e-05, 1.13612505e-05,\n",
       "        1.48570199e-05, 1.66049046e-05, 1.66049046e-05, 2.18485587e-05,\n",
       "        2.44703857e-05, 3.14619245e-05, 2.88400974e-05, 1.74788469e-05,\n",
       "        1.31091352e-05, 3.05879821e-05, 2.97140398e-05, 2.27225010e-05,\n",
       "        4.80668290e-05, 6.64196183e-05, 1.00503370e-04, 1.35461064e-04,\n",
       "        1.80032123e-04, 2.63056646e-04, 3.81038863e-04, 4.52702135e-04,\n",
       "        5.17373869e-04, 5.54953390e-04, 6.03894161e-04, 5.53205505e-04,\n",
       "        5.97776565e-04, 5.20869638e-04, 4.72802809e-04, 3.85408575e-04,\n",
       "        2.47325684e-04, 1.93141259e-04, 1.31091352e-04, 1.05747024e-04,\n",
       "        6.90414454e-05, 3.49576938e-05, 3.32098092e-05, 2.01006740e-05,\n",
       "        2.44703857e-05, 2.35964433e-05, 2.44703857e-05, 2.35964433e-05,\n",
       "        1.74788469e-05, 2.62182704e-05, 2.62182704e-05, 2.27225010e-05,\n",
       "        1.57309622e-05, 1.22351928e-05, 1.48570199e-05, 1.22351928e-05,\n",
       "        6.11759642e-06, 6.99153877e-06, 2.62182704e-06, 2.62182704e-06,\n",
       "        1.74788469e-06, 0.00000000e+00, 0.00000000e+00, 1.74788469e-06,\n",
       "        0.00000000e+00, 0.00000000e+00, 0.00000000e+00, 8.73942346e-07,\n",
       "        0.00000000e+00, 0.00000000e+00, 0.00000000e+00, 0.00000000e+00,\n",
       "        0.00000000e+00, 0.00000000e+00, 0.00000000e+00, 0.00000000e+00,\n",
       "        0.00000000e+00, 0.00000000e+00, 0.00000000e+00, 0.00000000e+00,\n",
       "        0.00000000e+00, 0.00000000e+00, 0.00000000e+00, 8.73942346e-07]),\n",
       " array([-6.48200e+03, -6.34404e+03, -6.20608e+03, -6.06812e+03,\n",
       "        -5.93016e+03, -5.79220e+03, -5.65424e+03, -5.51628e+03,\n",
       "        -5.37832e+03, -5.24036e+03, -5.10240e+03, -4.96444e+03,\n",
       "        -4.82648e+03, -4.68852e+03, -4.55056e+03, -4.41260e+03,\n",
       "        -4.27464e+03, -4.13668e+03, -3.99872e+03, -3.86076e+03,\n",
       "        -3.72280e+03, -3.58484e+03, -3.44688e+03, -3.30892e+03,\n",
       "        -3.17096e+03, -3.03300e+03, -2.89504e+03, -2.75708e+03,\n",
       "        -2.61912e+03, -2.48116e+03, -2.34320e+03, -2.20524e+03,\n",
       "        -2.06728e+03, -1.92932e+03, -1.79136e+03, -1.65340e+03,\n",
       "        -1.51544e+03, -1.37748e+03, -1.23952e+03, -1.10156e+03,\n",
       "        -9.63600e+02, -8.25640e+02, -6.87680e+02, -5.49720e+02,\n",
       "        -4.11760e+02, -2.73800e+02, -1.35840e+02,  2.12000e+00,\n",
       "         1.40080e+02,  2.78040e+02,  4.16000e+02,  5.53960e+02,\n",
       "         6.91920e+02,  8.29880e+02,  9.67840e+02,  1.10580e+03,\n",
       "         1.24376e+03,  1.38172e+03,  1.51968e+03,  1.65764e+03,\n",
       "         1.79560e+03,  1.93356e+03,  2.07152e+03,  2.20948e+03,\n",
       "         2.34744e+03,  2.48540e+03,  2.62336e+03,  2.76132e+03,\n",
       "         2.89928e+03,  3.03724e+03,  3.17520e+03,  3.31316e+03,\n",
       "         3.45112e+03,  3.58908e+03,  3.72704e+03,  3.86500e+03,\n",
       "         4.00296e+03,  4.14092e+03,  4.27888e+03,  4.41684e+03,\n",
       "         4.55480e+03,  4.69276e+03,  4.83072e+03,  4.96868e+03,\n",
       "         5.10664e+03,  5.24460e+03,  5.38256e+03,  5.52052e+03,\n",
       "         5.65848e+03,  5.79644e+03,  5.93440e+03,  6.07236e+03,\n",
       "         6.21032e+03,  6.34828e+03,  6.48624e+03,  6.62420e+03,\n",
       "         6.76216e+03,  6.90012e+03,  7.03808e+03,  7.17604e+03,\n",
       "         7.31400e+03]),\n",
       " <a list of 100 Patch objects>)"
      ]
     },
     "execution_count": 26,
     "metadata": {},
     "output_type": "execute_result"
    },
    {
     "name": "stderr",
     "output_type": "stream",
     "text": [
      "/home/ciaran/.conda/envs/BusEnv/lib/python3.6/site-packages/matplotlib/axes/_axes.py:6521: MatplotlibDeprecationWarning: \n",
      "The 'normed' kwarg was deprecated in Matplotlib 2.1 and will be removed in 3.1. Use 'density' instead.\n",
      "  alternative=\"'density'\", removal=\"3.1\")\n",
      "/home/ciaran/.conda/envs/BusEnv/lib/python3.6/site-packages/ipykernel_launcher.py:12: MatplotlibDeprecationWarning: scipy.stats.norm.pdf\n",
      "  if sys.path[0] == '':\n"
     ]
    },
    {
     "data": {
      "image/png": "[encoded data removed]",
      "text/plain": [
       "<Figure size 432x288 with 1 Axes>"
      ]
     },
     "metadata": {
      "needs_background": "light"
     },
     "output_type": "display_data"
    },
    {
     "name": "stdout",
     "output_type": "stream",
     "text": [
      "945.7828892490005 5.188208343380757\n"
     ]
    },
    {
     "data": {
      "text/plain": [
       "<matplotlib.axes._subplots.AxesSubplot at 0x7f1e9c3c2630>"
      ]
     },
     "execution_count": 26,
     "metadata": {},
     "output_type": "execute_result"
    },
    {
     "data": {
      "image/png": "[encoded data removed]",
      "text/plain": [
       "<Figure size 432x288 with 1 Axes>"
      ]
     },
     "metadata": {
      "needs_background": "light"
     },
     "output_type": "display_data"
    }
   ],
   "source": [
    "residuals = RFM_predictions - test.triplength\n",
    "plt.hist(residuals, bins=100, density=True)\n",
    "\n",
    "\n",
    "# best fit of data\n",
    "(mu, sigma) = stats.norm.fit(RFM_predictions - test.triplength)\n",
    "\n",
    "# # The histogram of the data\n",
    "# n, bins, patches = plt.hist(RFM_predictions - test.triplength, 2000, normed=1, facecolor='green', alpha=0.75)\n",
    "\n",
    "# add a 'best fit' line\n",
    "y = mlab.normpdf(bins, mu, sigma)\n",
    "l = plt.plot(bins, y, 'r--', linewidth=2)\n",
    "plt.show()\n",
    "\n",
    "print(sigma, mu)\n",
    "\n",
    "test.triplength.hist(bins=100)"
   ]
  },
  {
   "cell_type": "markdown",
   "metadata": {},
   "source": [
    "## XGBoost"
   ]
  },
  {
   "cell_type": "code",
   "execution_count": 52,
   "metadata": {},
   "outputs": [
    {
     "data": {
      "text/html": [
       "<div>\n",
       "<style scoped>\n",
       "    .dataframe tbody tr th:only-of-type {\n",
       "        vertical-align: middle;\n",
       "    }\n",
       "\n",
       "    .dataframe tbody tr th {\n",
       "        vertical-align: top;\n",
       "    }\n",
       "\n",
       "    .dataframe thead th {\n",
       "        text-align: right;\n",
       "    }\n",
       "</style>\n",
       "<table border=\"1\" class=\"dataframe\">\n",
       "  <thead>\n",
       "    <tr style=\"text-align: right;\">\n",
       "      <th></th>\n",
       "      <th>lineid</th>\n",
       "      <th>direction</th>\n",
       "      <th>triplength</th>\n",
       "      <th>leavehour</th>\n",
       "      <th>icon</th>\n",
       "      <th>temperature</th>\n",
       "      <th>humidity</th>\n",
       "      <th>windSpeed</th>\n",
       "      <th>rain</th>\n",
       "      <th>hour</th>\n",
       "      <th>holiday</th>\n",
       "      <th>weekend</th>\n",
       "    </tr>\n",
       "  </thead>\n",
       "  <tbody>\n",
       "    <tr>\n",
       "      <th>367645</th>\n",
       "      <td>145</td>\n",
       "      <td>1</td>\n",
       "      <td>5542.0</td>\n",
       "      <td>11</td>\n",
       "      <td>wind</td>\n",
       "      <td>57.19</td>\n",
       "      <td>0.63</td>\n",
       "      <td>25.88</td>\n",
       "      <td>0.0</td>\n",
       "      <td>12.0</td>\n",
       "      <td>False</td>\n",
       "      <td>False</td>\n",
       "    </tr>\n",
       "    <tr>\n",
       "      <th>1091287</th>\n",
       "      <td>145</td>\n",
       "      <td>1</td>\n",
       "      <td>5485.0</td>\n",
       "      <td>9</td>\n",
       "      <td>partly-cloudy-day</td>\n",
       "      <td>65.55</td>\n",
       "      <td>0.90</td>\n",
       "      <td>5.05</td>\n",
       "      <td>0.0</td>\n",
       "      <td>9.0</td>\n",
       "      <td>False</td>\n",
       "      <td>False</td>\n",
       "    </tr>\n",
       "    <tr>\n",
       "      <th>156938</th>\n",
       "      <td>145</td>\n",
       "      <td>1</td>\n",
       "      <td>5300.0</td>\n",
       "      <td>12</td>\n",
       "      <td>partly-cloudy-day</td>\n",
       "      <td>44.01</td>\n",
       "      <td>0.77</td>\n",
       "      <td>8.66</td>\n",
       "      <td>0.0</td>\n",
       "      <td>13.0</td>\n",
       "      <td>False</td>\n",
       "      <td>False</td>\n",
       "    </tr>\n",
       "    <tr>\n",
       "      <th>250124</th>\n",
       "      <td>145</td>\n",
       "      <td>1</td>\n",
       "      <td>4014.0</td>\n",
       "      <td>20</td>\n",
       "      <td>partly-cloudy-night</td>\n",
       "      <td>58.40</td>\n",
       "      <td>0.65</td>\n",
       "      <td>10.01</td>\n",
       "      <td>0.0</td>\n",
       "      <td>21.0</td>\n",
       "      <td>False</td>\n",
       "      <td>False</td>\n",
       "    </tr>\n",
       "    <tr>\n",
       "      <th>132640</th>\n",
       "      <td>145</td>\n",
       "      <td>1</td>\n",
       "      <td>4604.0</td>\n",
       "      <td>14</td>\n",
       "      <td>partly-cloudy-day</td>\n",
       "      <td>56.33</td>\n",
       "      <td>0.77</td>\n",
       "      <td>7.51</td>\n",
       "      <td>0.2</td>\n",
       "      <td>15.0</td>\n",
       "      <td>False</td>\n",
       "      <td>False</td>\n",
       "    </tr>\n",
       "  </tbody>\n",
       "</table>\n",
       "</div>"
      ],
      "text/plain": [
       "        lineid  direction  triplength  leavehour                 icon  \\\n",
       "367645     145          1      5542.0         11                 wind   \n",
       "1091287    145          1      5485.0          9    partly-cloudy-day   \n",
       "156938     145          1      5300.0         12    partly-cloudy-day   \n",
       "250124     145          1      4014.0         20  partly-cloudy-night   \n",
       "132640     145          1      4604.0         14    partly-cloudy-day   \n",
       "\n",
       "         temperature  humidity  windSpeed  rain  hour  holiday  weekend  \n",
       "367645         57.19      0.63      25.88   0.0  12.0    False    False  \n",
       "1091287        65.55      0.90       5.05   0.0   9.0    False    False  \n",
       "156938         44.01      0.77       8.66   0.0  13.0    False    False  \n",
       "250124         58.40      0.65      10.01   0.0  21.0    False    False  \n",
       "132640         56.33      0.77       7.51   0.2  15.0    False    False  "
      ]
     },
     "execution_count": 52,
     "metadata": {},
     "output_type": "execute_result"
    }
   ],
   "source": [
    "train.head()"
   ]
  },
  {
   "cell_type": "code",
   "execution_count": 58,
   "metadata": {},
   "outputs": [
    {
     "data": {
      "text/plain": [
       "array([3178., 4267., 3000., ..., 2211., 3865., 2777.])"
      ]
     },
     "execution_count": 58,
     "metadata": {},
     "output_type": "execute_result"
    }
   ],
   "source": [
    "X_train, X_test, y_train, y_test = train_test_split(combinedtrip[predictors],combinedtrip[target].values.ravel(), test_size=0.2)"
   ]
  },
  {
   "cell_type": "code",
   "execution_count": 65,
   "metadata": {
    "scrolled": true
   },
   "outputs": [
    {
     "name": "stdout",
     "output_type": "stream",
     "text": [
      "[0]\tTest-rmse:3746.27\n",
      "Will train until Test-rmse hasn't improved in 5 rounds.\n",
      "[5]\tTest-rmse:2461.41\n",
      "[10]\tTest-rmse:1810.05\n",
      "[15]\tTest-rmse:1518.42\n",
      "[20]\tTest-rmse:1402.04\n",
      "[25]\tTest-rmse:1358.79\n",
      "[30]\tTest-rmse:1342.98\n",
      "[35]\tTest-rmse:1336.91\n",
      "[40]\tTest-rmse:1334.26\n",
      "[45]\tTest-rmse:1332.95\n",
      "[50]\tTest-rmse:1332.31\n",
      "[55]\tTest-rmse:1331.77\n",
      "[60]\tTest-rmse:1331.47\n",
      "[65]\tTest-rmse:1331.19\n",
      "[70]\tTest-rmse:1330.96\n",
      "[75]\tTest-rmse:1330.79\n",
      "[80]\tTest-rmse:1330.66\n",
      "[85]\tTest-rmse:1330.53\n",
      "[90]\tTest-rmse:1330.36\n",
      "[95]\tTest-rmse:1330.26\n",
      "[99]\tTest-rmse:1330.22\n"
     ]
    }
   ],
   "source": [
    "dtrain = xgb.DMatrix(X_train, label=y_train)\n",
    "dtest = xgb.DMatrix(X_test, label=y_test)\n",
    "\n",
    "param = {\n",
    "#     'tree_method':'gpu_hist',\n",
    "    'eta':0.1,\n",
    "    'max_depth':10\n",
    "}\n",
    "num_rounds = 100\n",
    "model = xgb.train(param, dtrain, num_rounds, evals=[(dtest, 'Test')], verbose_eval=5, early_stopping_rounds=10)\n"
   ]
  },
  {
   "cell_type": "code",
   "execution_count": 81,
   "metadata": {},
   "outputs": [
    {
     "data": {
      "text/plain": [
       "<matplotlib.axes._subplots.AxesSubplot at 0x7f1e98570e10>"
      ]
     },
     "execution_count": 81,
     "metadata": {},
     "output_type": "execute_result"
    },
    {
     "data": {
      "image/png": "[encoded data removed]",
      "text/plain": [
       "<Figure size 432x288 with 1 Axes>"
      ]
     },
     "metadata": {
      "needs_background": "light"
     },
     "output_type": "display_data"
    }
   ],
   "source": [
    "xgb.plot_importance(model)"
   ]
  },
  {
   "cell_type": "code",
   "execution_count": 89,
   "metadata": {},
   "outputs": [
    {
     "data": {
      "text/plain": [
       "(array([9.60682675e-09, 0.00000000e+00, 0.00000000e+00, 0.00000000e+00,\n",
       "        0.00000000e+00, 0.00000000e+00, 0.00000000e+00, 0.00000000e+00,\n",
       "        0.00000000e+00, 0.00000000e+00, 0.00000000e+00, 0.00000000e+00,\n",
       "        0.00000000e+00, 0.00000000e+00, 0.00000000e+00, 0.00000000e+00,\n",
       "        0.00000000e+00, 0.00000000e+00, 0.00000000e+00, 0.00000000e+00,\n",
       "        0.00000000e+00, 0.00000000e+00, 0.00000000e+00, 0.00000000e+00,\n",
       "        0.00000000e+00, 0.00000000e+00, 0.00000000e+00, 0.00000000e+00,\n",
       "        9.60682675e-09, 0.00000000e+00, 0.00000000e+00, 9.60682675e-09,\n",
       "        0.00000000e+00, 0.00000000e+00, 0.00000000e+00, 0.00000000e+00,\n",
       "        9.60682675e-09, 0.00000000e+00, 0.00000000e+00, 9.60682675e-09,\n",
       "        9.60682675e-09, 0.00000000e+00, 1.92136535e-08, 0.00000000e+00,\n",
       "        3.84273070e-08, 4.80341337e-08, 1.92136535e-08, 6.72477872e-08,\n",
       "        1.15281921e-07, 3.84273070e-08, 2.01743362e-07, 2.40170669e-07,\n",
       "        3.93879897e-07, 3.74666243e-07, 5.18768644e-07, 7.87759793e-07,\n",
       "        1.46984449e-06, 2.52659543e-06, 4.86105433e-06, 1.01448090e-05,\n",
       "        1.87813463e-05, 3.27304587e-05, 5.33947431e-05, 7.68065798e-05,\n",
       "        1.06606956e-04, 1.31738415e-04, 1.65938718e-04, 1.99572219e-04,\n",
       "        2.31082611e-04, 2.57222786e-04, 2.75456543e-04, 2.86302651e-04,\n",
       "        3.02432513e-04, 2.90356732e-04, 2.59432356e-04, 2.19919478e-04,\n",
       "        1.77169099e-04, 1.40615123e-04, 1.15935185e-04, 1.00343305e-04,\n",
       "        8.01113283e-05, 4.64009732e-05, 2.22494107e-05, 1.13744829e-05,\n",
       "        4.31346521e-06, 1.19124652e-06, 4.32307204e-07, 1.92136535e-08,\n",
       "        1.92136535e-08, 9.60682675e-09, 9.60682675e-09, 0.00000000e+00,\n",
       "        1.92136535e-08, 9.60682675e-09, 0.00000000e+00, 1.92136535e-08,\n",
       "        0.00000000e+00, 0.00000000e+00, 0.00000000e+00, 9.60682675e-09]),\n",
       " array([-19768.73608398, -19493.25012695, -19217.76416992, -18942.27821289,\n",
       "        -18666.79225586, -18391.30629883, -18115.8203418 , -17840.33438477,\n",
       "        -17564.84842773, -17289.3624707 , -17013.87651367, -16738.39055664,\n",
       "        -16462.90459961, -16187.41864258, -15911.93268555, -15636.44672852,\n",
       "        -15360.96077148, -15085.47481445, -14809.98885742, -14534.50290039,\n",
       "        -14259.01694336, -13983.53098633, -13708.0450293 , -13432.55907227,\n",
       "        -13157.07311523, -12881.5871582 , -12606.10120117, -12330.61524414,\n",
       "        -12055.12928711, -11779.64333008, -11504.15737305, -11228.67141602,\n",
       "        -10953.18545898, -10677.69950195, -10402.21354492, -10126.72758789,\n",
       "         -9851.24163086,  -9575.75567383,  -9300.2697168 ,  -9024.78375977,\n",
       "         -8749.29780273,  -8473.8118457 ,  -8198.32588867,  -7922.83993164,\n",
       "         -7647.35397461,  -7371.86801758,  -7096.38206055,  -6820.89610352,\n",
       "         -6545.41014648,  -6269.92418945,  -5994.43823242,  -5718.95227539,\n",
       "         -5443.46631836,  -5167.98036133,  -4892.4944043 ,  -4617.00844727,\n",
       "         -4341.52249023,  -4066.0365332 ,  -3790.55057617,  -3515.06461914,\n",
       "         -3239.57866211,  -2964.09270508,  -2688.60674805,  -2413.12079102,\n",
       "         -2137.63483398,  -1862.14887695,  -1586.66291992,  -1311.17696289,\n",
       "         -1035.69100586,   -760.20504883,   -484.7190918 ,   -209.23313477,\n",
       "            66.25282227,    341.7387793 ,    617.22473633,    892.71069336,\n",
       "          1168.19665039,   1443.68260742,   1719.16856445,   1994.65452148,\n",
       "          2270.14047852,   2545.62643555,   2821.11239258,   3096.59834961,\n",
       "          3372.08430664,   3647.57026367,   3923.0562207 ,   4198.54217773,\n",
       "          4474.02813477,   4749.5140918 ,   5025.00004883,   5300.48600586,\n",
       "          5575.97196289,   5851.45791992,   6126.94387695,   6402.42983398,\n",
       "          6677.91579102,   6953.40174805,   7228.88770508,   7504.37366211,\n",
       "          7779.85961914]),\n",
       " <a list of 100 Patch objects>)"
      ]
     },
     "execution_count": 89,
     "metadata": {},
     "output_type": "execute_result"
    },
    {
     "name": "stderr",
     "output_type": "stream",
     "text": [
      "/home/ciaran/.conda/envs/BusEnv/lib/python3.6/site-packages/ipykernel_launcher.py:12: MatplotlibDeprecationWarning: scipy.stats.norm.pdf\n",
      "  if sys.path[0] == '':\n"
     ]
    },
    {
     "data": {
      "image/png": "[encoded data removed]",
      "text/plain": [
       "<Figure size 432x288 with 1 Axes>"
      ]
     },
     "metadata": {
      "needs_background": "light"
     },
     "output_type": "display_data"
    },
    {
     "name": "stdout",
     "output_type": "stream",
     "text": [
      "945.7828892490005 5.188208343380757\n"
     ]
    }
   ],
   "source": [
    "xgbpreds = model.predict(dtest)\n",
    "\n",
    "plt.hist(xgbpreds - y_test, bins=100, density=True)\n",
    "\n",
    "# best fit of data\n",
    "(xmu, xsigma) = stats.norm.fit(RFM_predictions - test.triplength)\n",
    "\n",
    "# # The histogram of the data\n",
    "# xn, xbins, xpatches = plt.hist(RFM_predictions - test.triplength, 2000, normed=1, facecolor='green', alpha=0.75)\n",
    "\n",
    "# add a 'best fit' line\n",
    "xy = mlab.normpdf(xbins, xmu, xsigma)\n",
    "xl = plt.plot(xbins, xy, 'r--', linewidth=2)\n",
    "plt.show()\n",
    "\n",
    "print(sigma, mu)"
   ]
  },
  {
   "cell_type": "markdown",
   "metadata": {},
   "source": [
    "# Saving Model"
   ]
  },
  {
   "cell_type": "code",
   "execution_count": 71,
   "metadata": {},
   "outputs": [],
   "source": [
    "# import sys\n",
    "# sys.getsizeof(model.best_iteration)"
   ]
  },
  {
   "cell_type": "markdown",
   "metadata": {},
   "source": [
    "Random Forest (using pickle) - memory errors"
   ]
  },
  {
   "cell_type": "code",
   "execution_count": 72,
   "metadata": {},
   "outputs": [],
   "source": [
    "# save model\n",
    "# pickle.dump(RFM, open(\"modelFiles/Route145.sav\", 'w'))\n",
    "\n",
    "# load model\n",
    "# loaded_model = pickle.load(open(\"modelFiles/route145.sav\", 'rb'))"
   ]
  },
  {
   "cell_type": "markdown",
   "metadata": {},
   "source": [
    "XGBoost model"
   ]
  },
  {
   "cell_type": "code",
   "execution_count": 95,
   "metadata": {},
   "outputs": [],
   "source": [
    "model.save_model(\"modelFiles/route145.model\")"
   ]
  },
  {
   "cell_type": "code",
   "execution_count": 96,
   "metadata": {},
   "outputs": [],
   "source": [
    "model3 = xgb.Booster()\n",
    "model3.load_model(\"modelFiles/route145.model\")"
   ]
  },
  {
   "cell_type": "code",
   "execution_count": 99,
   "metadata": {},
   "outputs": [
    {
     "data": {
      "text/plain": [
       "array([0., 0., 0., ..., 0., 0., 0.], dtype=float32)"
      ]
     },
     "execution_count": 99,
     "metadata": {},
     "output_type": "execute_result"
    }
   ],
   "source": [
    "model3.predict(dtest) - model.predict(dtest)"
   ]
  }
 ],
 "metadata": {
  "kernelspec": {
   "display_name": "Python 3",
   "language": "python",
   "name": "python3"
  },
  "language_info": {
   "codemirror_mode": {
    "name": "ipython",
    "version": 3
   },
   "file_extension": ".py",
   "mimetype": "text/x-python",
   "name": "python",
   "nbconvert_exporter": "python",
   "pygments_lexer": "ipython3",
   "version": "3.6.8"
  },
  "toc": {
   "base_numbering": 1,
   "nav_menu": {},
   "number_sections": true,
   "sideBar": true,
   "skip_h1_title": false,
   "title_cell": "Table of Contents",
   "title_sidebar": "Contents",
   "toc_cell": false,
   "toc_position": {},
   "toc_section_display": true,
   "toc_window_display": false
  },
  "varInspector": {
   "cols": {
    "lenName": 16,
    "lenType": 16,
    "lenVar": 40
   },
   "kernels_config": {
    "python": {
     "delete_cmd_postfix": "",
     "delete_cmd_prefix": "del ",
     "library": "var_list.py",
     "varRefreshCmd": "print(var_dic_list())"
    },
    "r": {
     "delete_cmd_postfix": ") ",
     "delete_cmd_prefix": "rm(",
     "library": "var_list.r",
     "varRefreshCmd": "cat(var_dic_list()) "
    }
   },
   "types_to_exclude": [
    "module",
    "function",
    "builtin_function_or_method",
    "instance",
    "_Feature"
   ],
   "window_display": false
  }
 },
 "nbformat": 4,
 "nbformat_minor": 2
}

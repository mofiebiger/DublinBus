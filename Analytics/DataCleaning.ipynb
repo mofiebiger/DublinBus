{
 "cells": [
  {
   "cell_type": "markdown",
   "metadata": {},
   "source": [
    "# Importing Modules & setup"
   ]
  },
  {
   "cell_type": "code",
   "execution_count": 5,
   "metadata": {
    "ExecuteTime": {
     "end_time": "2019-07-19T16:18:20.758461Z",
     "start_time": "2019-07-19T16:18:20.750665Z"
    },
    "init_cell": true
   },
   "outputs": [
    {
     "data": {
      "text/plain": [
       "<module 'postgres' from '/media/storage/College/S3/Github/DublinBus/Analytics/postgres.py'>"
      ]
     },
     "execution_count": 5,
     "metadata": {},
     "output_type": "execute_result"
    }
   ],
   "source": [
    "from tqdm import tnrange, tqdm_notebook\n",
    "import matplotlib.pyplot as plt\n",
    "import matplotlib.mlab as mlab\n",
    "from datetime import timedelta\n",
    "from datetime import datetime\n",
    "import scipy.stats as stats\n",
    "import requests as r\n",
    "import pandas as pd\n",
    "import seaborn as s\n",
    "import numpy as np\n",
    "import postgres\n",
    "import gmaps\n",
    "import json\n",
    "import math\n",
    "\n",
    "import importlib\n",
    "importlib.reload(postgres)\n",
    "\n",
    "# Show all vars\n",
    "from IPython.core.interactiveshell import InteractiveShell\n",
    "InteractiveShell.ast_node_interactivity = \"all\"\n",
    "\n",
    "import warnings\n",
    "warnings.filterwarnings('ignore')"
   ]
  },
  {
   "cell_type": "code",
   "execution_count": 6,
   "metadata": {
    "ExecuteTime": {
     "end_time": "2019-07-19T16:18:20.860800Z",
     "start_time": "2019-07-19T16:18:20.760903Z"
    },
    "code_folding": [],
    "init_cell": true,
    "scrolled": true
   },
   "outputs": [
    {
     "name": "stdout",
     "output_type": "stream",
     "text": [
      "stored_queries/combined145.csv\n",
      "stored_queries/combinedbusdata.csv\n",
      "stored_queries/combined.csv\n",
      "stored_queries/diff1011.csv\n",
      "stored_queries/distancedata.csv\n",
      "stored_queries/leavetimes_Sample_Data.csv\n",
      "stored_queries/query145leavetimes.csv\n",
      "stored_queries/query145leavetimes_first.csv\n",
      "stored_queries/query145leavetimes_full.csv\n",
      "stored_queries/stop_locations.csv\n",
      "stored_queries/trips_df.csv\n",
      "stored_queries/vehicles_Sample_Data.csv\n",
      "stored_queries/weather.csv\n",
      "stored_queries/weather_darksky.csv\n",
      "stored_queries/weather_phoenix_park.csv\n"
     ]
    }
   ],
   "source": [
    "%%bash \n",
    "ls stored_queries/*.csv"
   ]
  },
  {
   "cell_type": "markdown",
   "metadata": {},
   "source": [
    "# Importing Data"
   ]
  },
  {
   "cell_type": "markdown",
   "metadata": {},
   "source": [
    "**Reading csv files**"
   ]
  },
  {
   "cell_type": "code",
   "execution_count": 7,
   "metadata": {
    "ExecuteTime": {
     "end_time": "2019-07-19T16:18:30.053724Z",
     "start_time": "2019-07-19T16:18:21.157736Z"
    },
    "init_cell": true
   },
   "outputs": [],
   "source": [
    "leave   = pd.read_csv(\"stored_queries/query145leavetimes_first.csv\", header=None)\n",
    "# leave   = pd.read_csv(\"stored_queries/leavetimes_Sample_Data.csv\")\n",
    "weatherMET = pd.read_csv(\"stored_queries/weather_phoenix_park.csv\")\n",
    "weather = pd.read_csv(\"stored_queries/weather_darksky.csv\")\n",
    "stops   = pd.read_csv(\"stored_queries/stop_locations.csv\")\n",
    "trips   = pd.read_csv(\"stored_queries/trips_df.csv\")"
   ]
  },
  {
   "cell_type": "markdown",
   "metadata": {},
   "source": [
    "**Leavetimes Data**"
   ]
  },
  {
   "cell_type": "code",
   "execution_count": 8,
   "metadata": {
    "ExecuteTime": {
     "end_time": "2019-07-19T16:18:30.070756Z",
     "start_time": "2019-07-19T16:18:30.055223Z"
    },
    "init_cell": true
   },
   "outputs": [
    {
     "data": {
      "text/html": [
       "<div>\n",
       "<style scoped>\n",
       "    .dataframe tbody tr th:only-of-type {\n",
       "        vertical-align: middle;\n",
       "    }\n",
       "\n",
       "    .dataframe tbody tr th {\n",
       "        vertical-align: top;\n",
       "    }\n",
       "\n",
       "    .dataframe thead th {\n",
       "        text-align: right;\n",
       "    }\n",
       "</style>\n",
       "<table border=\"1\" class=\"dataframe\">\n",
       "  <thead>\n",
       "    <tr style=\"text-align: right;\">\n",
       "      <th></th>\n",
       "      <th>dayofservice</th>\n",
       "      <th>tripid</th>\n",
       "      <th>progrnumber</th>\n",
       "      <th>stopid</th>\n",
       "      <th>planned_arr</th>\n",
       "      <th>planned_dep</th>\n",
       "      <th>actual_arr</th>\n",
       "      <th>actual_dep</th>\n",
       "    </tr>\n",
       "  </thead>\n",
       "  <tbody>\n",
       "    <tr>\n",
       "      <th>0</th>\n",
       "      <td>2018-03-06</td>\n",
       "      <td>6361484</td>\n",
       "      <td>10</td>\n",
       "      <td>842</td>\n",
       "      <td>28777</td>\n",
       "      <td>28799</td>\n",
       "      <td>28994</td>\n",
       "      <td>28994</td>\n",
       "    </tr>\n",
       "  </tbody>\n",
       "</table>\n",
       "</div>"
      ],
      "text/plain": [
       "  dayofservice   tripid  progrnumber  stopid  planned_arr  planned_dep  \\\n",
       "0   2018-03-06  6361484           10     842        28777        28799   \n",
       "\n",
       "   actual_arr  actual_dep  \n",
       "0       28994       28994  "
      ]
     },
     "execution_count": 8,
     "metadata": {},
     "output_type": "execute_result"
    }
   ],
   "source": [
    "leave.columns = ['dayofservice', 'tripid', 'progrnumber', 'stopid', 'planned_arr','planned_dep','actual_arr','actual_dep']\n",
    "# leave.drop(columns=['note','updated','ix'], inplace=True);\n",
    "leave.head(1)\n",
    "                 \n",
    "# leave.columns = ['ix','dayofservice', 'tripid', 'progrnumber', 'stopid', 'planned_arr','planned_dep','actual_arr','actual_dep','note','updated']\n",
    "# leave.drop(columns=['note','updated','ix'], inplace=True);\n",
    "# leave.head(1)"
   ]
  },
  {
   "cell_type": "markdown",
   "metadata": {},
   "source": [
    "**Trips Data**"
   ]
  },
  {
   "cell_type": "code",
   "execution_count": 9,
   "metadata": {
    "ExecuteTime": {
     "end_time": "2019-07-19T16:18:30.168073Z",
     "start_time": "2019-07-19T16:18:30.072762Z"
    },
    "init_cell": true,
    "scrolled": true
   },
   "outputs": [
    {
     "data": {
      "text/html": [
       "<div>\n",
       "<style scoped>\n",
       "    .dataframe tbody tr th:only-of-type {\n",
       "        vertical-align: middle;\n",
       "    }\n",
       "\n",
       "    .dataframe tbody tr th {\n",
       "        vertical-align: top;\n",
       "    }\n",
       "\n",
       "    .dataframe thead th {\n",
       "        text-align: right;\n",
       "    }\n",
       "</style>\n",
       "<table border=\"1\" class=\"dataframe\">\n",
       "  <thead>\n",
       "    <tr style=\"text-align: right;\">\n",
       "      <th></th>\n",
       "      <th>dayofservice</th>\n",
       "      <th>tripid</th>\n",
       "      <th>lineid</th>\n",
       "      <th>routeid</th>\n",
       "      <th>direction</th>\n",
       "      <th>planned_arr</th>\n",
       "      <th>planned_dep</th>\n",
       "      <th>actual_arr</th>\n",
       "      <th>actual_dep</th>\n",
       "    </tr>\n",
       "  </thead>\n",
       "  <tbody>\n",
       "    <tr>\n",
       "      <th>0</th>\n",
       "      <td>2018-06-17</td>\n",
       "      <td>7013606</td>\n",
       "      <td>7A</td>\n",
       "      <td>7A_85</td>\n",
       "      <td>1</td>\n",
       "      <td>66484</td>\n",
       "      <td>62400</td>\n",
       "      <td>67065.0</td>\n",
       "      <td>62901.0</td>\n",
       "    </tr>\n",
       "  </tbody>\n",
       "</table>\n",
       "</div>"
      ],
      "text/plain": [
       "  dayofservice   tripid lineid routeid  direction  planned_arr  planned_dep  \\\n",
       "0   2018-06-17  7013606     7A   7A_85          1        66484        62400   \n",
       "\n",
       "   actual_arr  actual_dep  \n",
       "0     67065.0     62901.0  "
      ]
     },
     "execution_count": 9,
     "metadata": {},
     "output_type": "execute_result"
    }
   ],
   "source": [
    "# trips.index.name=\"idx\"\n",
    "trips.columns = ['ix', 'dayofservice', 'tripid', 'lineid', 'routeid','direction', 'planned_arr', 'planned_dep', 'actual_arr', 'actual_dep']\n",
    "trips.drop(columns=['ix'], inplace=True);\n",
    "trips.head(1)"
   ]
  },
  {
   "cell_type": "markdown",
   "metadata": {},
   "source": [
    "**Stop Locations**"
   ]
  },
  {
   "cell_type": "code",
   "execution_count": 10,
   "metadata": {
    "ExecuteTime": {
     "end_time": "2019-07-19T16:18:30.191520Z",
     "start_time": "2019-07-19T16:18:30.169935Z"
    },
    "init_cell": true
   },
   "outputs": [
    {
     "data": {
      "text/html": [
       "<div>\n",
       "<style scoped>\n",
       "    .dataframe tbody tr th:only-of-type {\n",
       "        vertical-align: middle;\n",
       "    }\n",
       "\n",
       "    .dataframe tbody tr th {\n",
       "        vertical-align: top;\n",
       "    }\n",
       "\n",
       "    .dataframe thead th {\n",
       "        text-align: right;\n",
       "    }\n",
       "</style>\n",
       "<table border=\"1\" class=\"dataframe\">\n",
       "  <thead>\n",
       "    <tr style=\"text-align: right;\">\n",
       "      <th></th>\n",
       "      <th>actual_stop_id</th>\n",
       "      <th>stop_id</th>\n",
       "      <th>lat</th>\n",
       "      <th>lng</th>\n",
       "      <th>stop name</th>\n",
       "    </tr>\n",
       "  </thead>\n",
       "  <tbody>\n",
       "    <tr>\n",
       "      <th>0</th>\n",
       "      <td>1965</td>\n",
       "      <td>8230DB001965</td>\n",
       "      <td>53.323868</td>\n",
       "      <td>-6.379297</td>\n",
       "      <td>Woodford Walk (Woodford Grove)</td>\n",
       "    </tr>\n",
       "  </tbody>\n",
       "</table>\n",
       "</div>"
      ],
      "text/plain": [
       "  actual_stop_id       stop_id        lat       lng  \\\n",
       "0           1965  8230DB001965  53.323868 -6.379297   \n",
       "\n",
       "                        stop name  \n",
       "0  Woodford Walk (Woodford Grove)  "
      ]
     },
     "execution_count": 10,
     "metadata": {},
     "output_type": "execute_result"
    }
   ],
   "source": [
    "stops.columns = ['ix','actual_stop_id','stop_id','lat','lng','stop name']\n",
    "stops.drop(columns=['ix'], inplace=True)\n",
    "stops.head(1)"
   ]
  },
  {
   "cell_type": "markdown",
   "metadata": {},
   "source": [
    "**Weather Data**"
   ]
  },
  {
   "cell_type": "code",
   "execution_count": 11,
   "metadata": {
    "ExecuteTime": {
     "end_time": "2019-07-19T16:18:30.221851Z",
     "start_time": "2019-07-19T16:18:30.193790Z"
    },
    "init_cell": true
   },
   "outputs": [
    {
     "data": {
      "text/html": [
       "<div>\n",
       "<style scoped>\n",
       "    .dataframe tbody tr th:only-of-type {\n",
       "        vertical-align: middle;\n",
       "    }\n",
       "\n",
       "    .dataframe tbody tr th {\n",
       "        vertical-align: top;\n",
       "    }\n",
       "\n",
       "    .dataframe thead th {\n",
       "        text-align: right;\n",
       "    }\n",
       "</style>\n",
       "<table border=\"1\" class=\"dataframe\">\n",
       "  <thead>\n",
       "    <tr style=\"text-align: right;\">\n",
       "      <th></th>\n",
       "      <th>date_recorded</th>\n",
       "      <th>cloudCover</th>\n",
       "      <th>humidity</th>\n",
       "      <th>icon</th>\n",
       "      <th>prepIntensity</th>\n",
       "      <th>temperature</th>\n",
       "      <th>windSpeed</th>\n",
       "    </tr>\n",
       "  </thead>\n",
       "  <tbody>\n",
       "    <tr>\n",
       "      <th>0</th>\n",
       "      <td>2018-01-01 00:00:00</td>\n",
       "      <td>0.58</td>\n",
       "      <td>0.8</td>\n",
       "      <td>partly-cloudy-night</td>\n",
       "      <td>0.0</td>\n",
       "      <td>41.19</td>\n",
       "      <td>17.04</td>\n",
       "    </tr>\n",
       "  </tbody>\n",
       "</table>\n",
       "</div>"
      ],
      "text/plain": [
       "         date_recorded  cloudCover  humidity                 icon  \\\n",
       "0  2018-01-01 00:00:00        0.58       0.8  partly-cloudy-night   \n",
       "\n",
       "   prepIntensity  temperature  windSpeed  \n",
       "0            0.0        41.19      17.04  "
      ]
     },
     "execution_count": 11,
     "metadata": {},
     "output_type": "execute_result"
    },
    {
     "data": {
      "text/html": [
       "<div>\n",
       "<style scoped>\n",
       "    .dataframe tbody tr th:only-of-type {\n",
       "        vertical-align: middle;\n",
       "    }\n",
       "\n",
       "    .dataframe tbody tr th {\n",
       "        vertical-align: top;\n",
       "    }\n",
       "\n",
       "    .dataframe thead th {\n",
       "        text-align: right;\n",
       "    }\n",
       "</style>\n",
       "<table border=\"1\" class=\"dataframe\">\n",
       "  <thead>\n",
       "    <tr style=\"text-align: right;\">\n",
       "      <th></th>\n",
       "      <th>date_recorded</th>\n",
       "      <th>rain</th>\n",
       "      <th>temperature</th>\n",
       "      <th>humidity</th>\n",
       "      <th>windspeed</th>\n",
       "    </tr>\n",
       "  </thead>\n",
       "  <tbody>\n",
       "    <tr>\n",
       "      <th>0</th>\n",
       "      <td>01/01/2018 00:00</td>\n",
       "      <td>0</td>\n",
       "      <td>4.6</td>\n",
       "      <td>82</td>\n",
       "      <td>20</td>\n",
       "    </tr>\n",
       "  </tbody>\n",
       "</table>\n",
       "</div>"
      ],
      "text/plain": [
       "      date_recorded rain  temperature  humidity  windspeed\n",
       "0  01/01/2018 00:00    0          4.6        82         20"
      ]
     },
     "execution_count": 11,
     "metadata": {},
     "output_type": "execute_result"
    }
   ],
   "source": [
    "weather.columns = ['date_recorded','cloudCover','humidity','icon','prepIntensity','pressure','temperature','visibility','windSpeed']\n",
    "weather.drop(columns=['visibility','pressure'],inplace=True)\n",
    "weather.head(1)\n",
    "\n",
    "weatherMET.columns = ['ix','station','date_recorded','rain','temperature','humidity','windspeed','winddir']\n",
    "weatherMET.drop(columns=['ix', 'station','winddir'],inplace=True)\n",
    "weatherMET.head(1)"
   ]
  },
  {
   "cell_type": "markdown",
   "metadata": {},
   "source": [
    "# Cleaning Data"
   ]
  },
  {
   "cell_type": "markdown",
   "metadata": {},
   "source": [
    "### Description of Data"
   ]
  },
  {
   "cell_type": "markdown",
   "metadata": {},
   "source": [
    "<div>\n",
    "<b> Description of Data </b><br>\n",
    "\n",
    "<table style=\"margin-left:0px;float:left;\">\n",
    "<th colspan=2><b>leave Columns Desccription</b></th>\n",
    "<tr>\n",
    "    <td>dayofservice</td>\n",
    "    <td>date of trip</td>\n",
    "</tr>\n",
    "<tr>\n",
    "    <td>tripid</td>\n",
    "    <td>identifier of trip [fk trips]</td>\n",
    "</tr>\n",
    "<tr>\n",
    "    <td>progrnumber </td>\n",
    "    <td>The sequential position of the route in the journey.</td>\n",
    "</tr>\n",
    "<tr>\n",
    "    <td>stopid</td>\n",
    "    <td>stop number</td>\n",
    "</tr>\n",
    "<tr>\n",
    "    <td>planned_arr</td>\n",
    "    <td>planned time of arrival at the stop</td>\n",
    "</tr>\n",
    "<tr>\n",
    "    <td>planned_dep</td>\n",
    "    <td>planned time of departure from stop</td>\n",
    "</tr>\n",
    "<tr>\n",
    "    <td>actual_arr</td>\n",
    "    <td>actual time of arrival at the stop</td>\n",
    "</tr>\n",
    "<tr>\n",
    "    <td>actual_dep</td>\n",
    "    <td>actual time of departure from stop</td>\n",
    "</tr>\n",
    "<tr>\n",
    "    <td>distance</td>\n",
    "    <td>distance travelled up to this point in the journey</td>\n",
    "</tr>\n",
    "</table>\n",
    "\n",
    "\n",
    "<table style=\"margin-left:15px;float:left;\">\n",
    "<th colspan=2><b>Trips Columns Desccription</b></th>\n",
    "<tr>\n",
    "    <td>dayofservice</td>\n",
    "    <td>date of trip</td>\n",
    "</tr>\n",
    "<tr>\n",
    "    <td>tripid</td>\n",
    "    <td>identifier of trip</td>\n",
    "</tr>\n",
    "<tr>\n",
    "    <td>lineid</td>\n",
    "    <td>bus route id/name</td>\n",
    "</tr>\n",
    "<tr>\n",
    "    <td>routeid</td>\n",
    "    <td>Unique route identifier [change with stop changes for line number]</td>\n",
    "</tr>\n",
    "<tr>\n",
    "    <td>direction</td>\n",
    "    <td>Forward or backward journey</td>\n",
    "</tr>\n",
    "<tr>\n",
    "    <td>planned_arr</td>\n",
    "    <td>planned time of arrival at end</td>\n",
    "</tr>\n",
    "<tr>\n",
    "    <td>planned_dep</td>\n",
    "    <td>planned time of departure from start</td>\n",
    "</tr>\n",
    "<tr>\n",
    "    <td>actual_arr</td>\n",
    "    <td>actual time of arrival at end</td>\n",
    "</tr>\n",
    "<tr>\n",
    "    <td>actual_dep</td>\n",
    "    <td>actual time of departure from start</td>\n",
    "</tr>\n",
    "</table>\n",
    "\n",
    "<table style=\"margin-left:15px;float:left;\">\n",
    "<th colspan=2><b>Stops Columns Desccription</b></th>\n",
    "<tr>\n",
    "    <td>actual_stop_id</td>\n",
    "    <td>Stop Number</td>\n",
    "</tr>\n",
    "<tr>\n",
    "    <td>stop_id</td>\n",
    "    <td>full identifier of stop</td>\n",
    "</tr>\n",
    "<tr>\n",
    "    <td>lat</td>\n",
    "    <td>latitude</td>\n",
    "</tr>\n",
    "<tr>\n",
    "    <td>lng</td>\n",
    "    <td>longitude</td>\n",
    "</tr>\n",
    "<tr>\n",
    "    <td>stop name</td>\n",
    "    <td>address of stop</td>\n",
    "</tr>\n",
    "</table>\n",
    "\n",
    "<table style=\"margin-left:15px;float:left;\">\n",
    "<th colspan=2><b>Weather Columns Desccription</b></th>\n",
    "<tr>\n",
    "    <td>cloudCover</td>\n",
    "    <td>The percentage of sky occluded by clouds, between 0 and 1, inclusive</td>\n",
    "</tr>\n",
    "<tr>\n",
    "    <td>humidity</td>\n",
    "    <td>The relative humidity, between 0 and 1, inclusive.</td>\n",
    "</tr>\n",
    "<tr>\n",
    "    <td>icon</td>\n",
    "    <td>One of : 'partly-cloudy-night', 'partly-cloudy-day', 'rain', 'wind',\n",
    "       'cloudy', 'fog', 'clear-night', 'clear-day'</td>\n",
    "</tr>\n",
    "<tr>\n",
    "    <td>prepIntensity</td>\n",
    "    <td>The intensity (in inches of liquid water per hour) of precipitation occurring at the given time. <br>This value is conditional on probability (that is, assuming any precipitation occurs at all).</td>\n",
    "</tr>\n",
    "<tr>\n",
    "    <td>pressure</td>\n",
    "    <td>The sea-level air pressure in millibars.</td>\n",
    "</tr>\n",
    "<tr>\n",
    "    <td>temperature\t</td>\n",
    "    <td>The air temperature in degrees Fahrenheit</td>\n",
    "</tr>\n",
    "<tr>\n",
    "    <td>windSpeed</td>\n",
    "    <td>The wind speed in miles per hour.</td>\n",
    "</tr>\n",
    "\n",
    "</table>\n",
    "</div>"
   ]
  },
  {
   "cell_type": "markdown",
   "metadata": {},
   "source": [
    "**Notes on Data**"
   ]
  },
  {
   "cell_type": "markdown",
   "metadata": {},
   "source": [
    "Leavetimes Table: \n",
    "- There are 4774 distinct stop ids\n",
    "- There dates run between 01/01/18 and 31/12/18\n",
    "- Tripid is not unique to a single bus journey but rather a specific route taken by the bus.\n",
    "- Progrnumber has min value 1 and max value of 109 indicating there are no more than 109 stops in any given route\n",
    "- All time columns may go over the 86400 mark indicating they have pushed over into the next day. $ t \\in [16200, 91680]$\n",
    "- distance may be useful - unsure yet. If a graph structure is made of the connected stops the distance between a given two could be useful. \n",
    "\n",
    "Trips Table:\n",
    "- lineid does not contain all the bus routes [17, 175, etc not included]\n",
    "- routeid needs more attention \n",
    "- direction which way its going along the route - this is useless as the distance between stops is route agnostic\n",
    "- times can go beyond 86400 if trips take extra long. \n",
    "\n",
    "Stops Table:\n",
    "- actual_stop_id may be useful - need to link it to stoppointid from the leave times table\n",
    "- lat,lng are very useful. \n",
    "- stop names are probably useless [other that front end use]\n",
    "\n",
    "Weather Table:\n",
    "- missing a rake of data - Not sure how to rectify this yet. Maybe need to use the met eireann data where there arent missing values ?? \n",
    "- Have currently put in the wrong data but this may be an issue. "
   ]
  },
  {
   "cell_type": "markdown",
   "metadata": {},
   "source": [
    "### Weather Table"
   ]
  },
  {
   "cell_type": "markdown",
   "metadata": {},
   "source": [
    "#### Setting Data Types"
   ]
  },
  {
   "cell_type": "code",
   "execution_count": 12,
   "metadata": {
    "ExecuteTime": {
     "end_time": "2019-07-19T16:18:30.238826Z",
     "start_time": "2019-07-19T16:18:30.224651Z"
    }
   },
   "outputs": [
    {
     "data": {
      "text/plain": [
       "date_recorded     object\n",
       "cloudCover       float64\n",
       "humidity         float64\n",
       "icon              object\n",
       "prepIntensity    float64\n",
       "temperature      float64\n",
       "windSpeed        float64\n",
       "dtype: object"
      ]
     },
     "execution_count": 12,
     "metadata": {},
     "output_type": "execute_result"
    },
    {
     "data": {
      "text/plain": [
       "date_recorded     object\n",
       "rain              object\n",
       "temperature      float64\n",
       "humidity           int64\n",
       "windspeed          int64\n",
       "dtype: object"
      ]
     },
     "execution_count": 12,
     "metadata": {},
     "output_type": "execute_result"
    }
   ],
   "source": [
    "weather.dtypes\n",
    "weatherMET.dtypes"
   ]
  },
  {
   "cell_type": "code",
   "execution_count": 13,
   "metadata": {
    "ExecuteTime": {
     "end_time": "2019-07-19T16:18:31.099247Z",
     "start_time": "2019-07-19T16:18:30.240561Z"
    },
    "init_cell": true
   },
   "outputs": [],
   "source": [
    "weatherMET.date_recorded = pd.to_datetime(weatherMET.date_recorded)\n",
    "weather.date_recorded= pd.to_datetime(weather.date_recorded)"
   ]
  },
  {
   "cell_type": "code",
   "execution_count": 14,
   "metadata": {
    "ExecuteTime": {
     "end_time": "2019-07-19T16:18:31.108572Z",
     "start_time": "2019-07-19T16:18:31.101479Z"
    },
    "scrolled": true
   },
   "outputs": [
    {
     "name": "stdout",
     "output_type": "stream",
     "text": [
      "icon Values\n"
     ]
    },
    {
     "data": {
      "text/plain": [
       "array(['partly-cloudy-night', 'partly-cloudy-day', 'rain', 'wind',\n",
       "       'cloudy', 'fog', 'clear-night', 'clear-day'], dtype=object)"
      ]
     },
     "execution_count": 14,
     "metadata": {},
     "output_type": "execute_result"
    }
   ],
   "source": [
    "print(\"icon Values\")\n",
    "weather.icon.unique()"
   ]
  },
  {
   "cell_type": "code",
   "execution_count": 15,
   "metadata": {
    "ExecuteTime": {
     "end_time": "2019-07-19T16:18:31.118159Z",
     "start_time": "2019-07-19T16:18:31.111996Z"
    },
    "init_cell": true
   },
   "outputs": [],
   "source": [
    "weather.icon = weather.icon.astype('category');"
   ]
  },
  {
   "cell_type": "markdown",
   "metadata": {},
   "source": [
    "#### Altering Columns"
   ]
  },
  {
   "cell_type": "code",
   "execution_count": 16,
   "metadata": {
    "ExecuteTime": {
     "end_time": "2019-07-19T16:18:31.123235Z",
     "start_time": "2019-07-19T16:18:31.119703Z"
    }
   },
   "outputs": [
    {
     "data": {
      "text/plain": [
       "Index(['date_recorded', 'cloudCover', 'humidity', 'icon', 'prepIntensity',\n",
       "       'temperature', 'windSpeed'],\n",
       "      dtype='object')"
      ]
     },
     "execution_count": 16,
     "metadata": {},
     "output_type": "execute_result"
    }
   ],
   "source": [
    "weather.columns"
   ]
  },
  {
   "cell_type": "code",
   "execution_count": 17,
   "metadata": {
    "ExecuteTime": {
     "end_time": "2019-07-19T16:18:31.151996Z",
     "start_time": "2019-07-19T16:18:31.125605Z"
    },
    "init_cell": true
   },
   "outputs": [],
   "source": [
    "# change date time to a date and an hour column\n",
    "weather['hour'] = weather.date_recorded.dt.hour\n",
    "weather['dayofservice'] = weather.date_recorded.dt.date\n",
    "weather.drop(columns=['date_recorded'], inplace=True);\n",
    "weather = weather[['dayofservice','hour','icon','temperature','humidity','cloudCover','prepIntensity','windSpeed']]\n",
    "\n",
    "weatherMET['hour'] = weatherMET.date_recorded.dt.hour\n",
    "weatherMET['dayofservice'] = weatherMET.date_recorded.dt.date\n",
    "weatherMET.drop(columns=['date_recorded'], inplace=True);"
   ]
  },
  {
   "cell_type": "code",
   "execution_count": 18,
   "metadata": {
    "ExecuteTime": {
     "end_time": "2019-07-19T16:18:31.249923Z",
     "start_time": "2019-07-19T16:18:31.153879Z"
    },
    "init_cell": true
   },
   "outputs": [],
   "source": [
    "weather.drop(columns=['prepIntensity'], inplace=True);"
   ]
  },
  {
   "cell_type": "code",
   "execution_count": 19,
   "metadata": {
    "ExecuteTime": {
     "end_time": "2019-07-19T16:18:31.287831Z",
     "start_time": "2019-07-19T16:18:31.252327Z"
    },
    "init_cell": true
   },
   "outputs": [
    {
     "data": {
      "text/html": [
       "<div>\n",
       "<style scoped>\n",
       "    .dataframe tbody tr th:only-of-type {\n",
       "        vertical-align: middle;\n",
       "    }\n",
       "\n",
       "    .dataframe tbody tr th {\n",
       "        vertical-align: top;\n",
       "    }\n",
       "\n",
       "    .dataframe thead th {\n",
       "        text-align: right;\n",
       "    }\n",
       "</style>\n",
       "<table border=\"1\" class=\"dataframe\">\n",
       "  <thead>\n",
       "    <tr style=\"text-align: right;\">\n",
       "      <th></th>\n",
       "      <th>dayofservice</th>\n",
       "      <th>hour</th>\n",
       "      <th>icon</th>\n",
       "      <th>temperature</th>\n",
       "      <th>humidity</th>\n",
       "      <th>cloudCover</th>\n",
       "      <th>windSpeed</th>\n",
       "      <th>rain</th>\n",
       "    </tr>\n",
       "  </thead>\n",
       "  <tbody>\n",
       "    <tr>\n",
       "      <th>0</th>\n",
       "      <td>2018-01-01</td>\n",
       "      <td>0</td>\n",
       "      <td>partly-cloudy-night</td>\n",
       "      <td>41.19</td>\n",
       "      <td>0.80</td>\n",
       "      <td>0.58</td>\n",
       "      <td>17.04</td>\n",
       "      <td>0</td>\n",
       "    </tr>\n",
       "    <tr>\n",
       "      <th>1</th>\n",
       "      <td>2018-01-01</td>\n",
       "      <td>1</td>\n",
       "      <td>partly-cloudy-night</td>\n",
       "      <td>41.70</td>\n",
       "      <td>0.79</td>\n",
       "      <td>0.75</td>\n",
       "      <td>21.59</td>\n",
       "      <td>0.1</td>\n",
       "    </tr>\n",
       "    <tr>\n",
       "      <th>2</th>\n",
       "      <td>2018-01-01</td>\n",
       "      <td>2</td>\n",
       "      <td>partly-cloudy-night</td>\n",
       "      <td>41.95</td>\n",
       "      <td>0.78</td>\n",
       "      <td>0.75</td>\n",
       "      <td>21.59</td>\n",
       "      <td>0</td>\n",
       "    </tr>\n",
       "    <tr>\n",
       "      <th>3</th>\n",
       "      <td>2018-01-01</td>\n",
       "      <td>3</td>\n",
       "      <td>partly-cloudy-night</td>\n",
       "      <td>42.42</td>\n",
       "      <td>0.82</td>\n",
       "      <td>0.58</td>\n",
       "      <td>19.60</td>\n",
       "      <td>0</td>\n",
       "    </tr>\n",
       "    <tr>\n",
       "      <th>4</th>\n",
       "      <td>2018-01-01</td>\n",
       "      <td>4</td>\n",
       "      <td>partly-cloudy-night</td>\n",
       "      <td>42.09</td>\n",
       "      <td>0.83</td>\n",
       "      <td>0.44</td>\n",
       "      <td>20.48</td>\n",
       "      <td>0</td>\n",
       "    </tr>\n",
       "  </tbody>\n",
       "</table>\n",
       "</div>"
      ],
      "text/plain": [
       "  dayofservice  hour                 icon  temperature  humidity  cloudCover  \\\n",
       "0   2018-01-01     0  partly-cloudy-night        41.19      0.80        0.58   \n",
       "1   2018-01-01     1  partly-cloudy-night        41.70      0.79        0.75   \n",
       "2   2018-01-01     2  partly-cloudy-night        41.95      0.78        0.75   \n",
       "3   2018-01-01     3  partly-cloudy-night        42.42      0.82        0.58   \n",
       "4   2018-01-01     4  partly-cloudy-night        42.09      0.83        0.44   \n",
       "\n",
       "   windSpeed rain  \n",
       "0      17.04    0  \n",
       "1      21.59  0.1  \n",
       "2      21.59    0  \n",
       "3      19.60    0  \n",
       "4      20.48    0  "
      ]
     },
     "execution_count": 19,
     "metadata": {},
     "output_type": "execute_result"
    }
   ],
   "source": [
    "Join_weather_data = weatherMET[['dayofservice','hour','rain']]\n",
    "weather = weather.merge(Join_weather_data, how='left', on=['dayofservice','hour']);\n",
    "weather.head()"
   ]
  },
  {
   "cell_type": "code",
   "execution_count": 20,
   "metadata": {
    "ExecuteTime": {
     "end_time": "2019-07-19T16:18:31.300068Z",
     "start_time": "2019-07-19T16:18:31.289475Z"
    }
   },
   "outputs": [
    {
     "data": {
      "text/plain": [
       "array(['0', '0.1', '0.2', '0.8', '0.4', '1.2', '0.3', '0.6', '1', '2',\n",
       "       '1.1', '0.7', '1.4', '0.9', '0.5', '1.6', '2.4', '1.5', '2.3',\n",
       "       '2.1', '1.8', '1.9', '3', '5.2', '2.8', '1.3', '1.7', '2.2', '3.7',\n",
       "       '3.2', '2.5', '3.3', '3.8', '3.6', '8.6', '2.9', '3.5', '2.6',\n",
       "       '6.2', '4.1', ' ', '2.7', '3.4', '4.7', '7.5'], dtype=object)"
      ]
     },
     "execution_count": 20,
     "metadata": {},
     "output_type": "execute_result"
    },
    {
     "data": {
      "text/plain": [
       "6220    0\n",
       "6221     \n",
       "6222     \n",
       "6223    0\n",
       "6224    0\n",
       "6225    0\n",
       "Name: rain, dtype: object"
      ]
     },
     "execution_count": 20,
     "metadata": {},
     "output_type": "execute_result"
    }
   ],
   "source": [
    "weather.rain.unique()\n",
    "weather.rain.loc[6220:6225]"
   ]
  },
  {
   "cell_type": "code",
   "execution_count": 21,
   "metadata": {
    "ExecuteTime": {
     "end_time": "2019-07-19T16:18:31.311759Z",
     "start_time": "2019-07-19T16:18:31.301916Z"
    }
   },
   "outputs": [],
   "source": [
    "# replce missing with zeros\n",
    "weather.rain.replace(' ', 0, inplace=True)\n",
    "weather.rain = weather.rain.astype(float)"
   ]
  },
  {
   "cell_type": "code",
   "execution_count": 22,
   "metadata": {
    "ExecuteTime": {
     "end_time": "2019-07-19T16:18:31.323104Z",
     "start_time": "2019-07-19T16:18:31.316263Z"
    }
   },
   "outputs": [],
   "source": [
    "weather.dayofservice = pd.to_datetime(weather.dayofservice)"
   ]
  },
  {
   "cell_type": "code",
   "execution_count": 23,
   "metadata": {
    "ExecuteTime": {
     "end_time": "2019-07-19T16:18:31.463476Z",
     "start_time": "2019-07-19T16:18:31.325458Z"
    }
   },
   "outputs": [],
   "source": [
    "weather.to_csv('stored_queries/weather.csv', index=False)"
   ]
  },
  {
   "cell_type": "markdown",
   "metadata": {},
   "source": [
    "#### Looking for Null / Missing / Duplicated Data"
   ]
  },
  {
   "cell_type": "code",
   "execution_count": 24,
   "metadata": {
    "ExecuteTime": {
     "end_time": "2019-07-19T16:18:31.484416Z",
     "start_time": "2019-07-19T16:18:31.465042Z"
    },
    "init_cell": true,
    "scrolled": true
   },
   "outputs": [
    {
     "data": {
      "text/html": [
       "<div>\n",
       "<style scoped>\n",
       "    .dataframe tbody tr th:only-of-type {\n",
       "        vertical-align: middle;\n",
       "    }\n",
       "\n",
       "    .dataframe tbody tr th {\n",
       "        vertical-align: top;\n",
       "    }\n",
       "\n",
       "    .dataframe thead th {\n",
       "        text-align: right;\n",
       "    }\n",
       "</style>\n",
       "<table border=\"1\" class=\"dataframe\">\n",
       "  <thead>\n",
       "    <tr style=\"text-align: right;\">\n",
       "      <th></th>\n",
       "      <th>NonNull</th>\n",
       "      <th>Null</th>\n",
       "      <th>PctNull</th>\n",
       "    </tr>\n",
       "  </thead>\n",
       "  <tbody>\n",
       "    <tr>\n",
       "      <th>dayofservice</th>\n",
       "      <td>8751</td>\n",
       "      <td>0</td>\n",
       "      <td>0.00</td>\n",
       "    </tr>\n",
       "    <tr>\n",
       "      <th>hour</th>\n",
       "      <td>8751</td>\n",
       "      <td>0</td>\n",
       "      <td>0.00</td>\n",
       "    </tr>\n",
       "    <tr>\n",
       "      <th>icon</th>\n",
       "      <td>8751</td>\n",
       "      <td>0</td>\n",
       "      <td>0.00</td>\n",
       "    </tr>\n",
       "    <tr>\n",
       "      <th>temperature</th>\n",
       "      <td>8751</td>\n",
       "      <td>0</td>\n",
       "      <td>0.00</td>\n",
       "    </tr>\n",
       "    <tr>\n",
       "      <th>humidity</th>\n",
       "      <td>8751</td>\n",
       "      <td>0</td>\n",
       "      <td>0.00</td>\n",
       "    </tr>\n",
       "    <tr>\n",
       "      <th>cloudCover</th>\n",
       "      <td>8496</td>\n",
       "      <td>255</td>\n",
       "      <td>2.91</td>\n",
       "    </tr>\n",
       "    <tr>\n",
       "      <th>windSpeed</th>\n",
       "      <td>8745</td>\n",
       "      <td>6</td>\n",
       "      <td>0.07</td>\n",
       "    </tr>\n",
       "    <tr>\n",
       "      <th>rain</th>\n",
       "      <td>8751</td>\n",
       "      <td>0</td>\n",
       "      <td>0.00</td>\n",
       "    </tr>\n",
       "  </tbody>\n",
       "</table>\n",
       "</div>"
      ],
      "text/plain": [
       "              NonNull  Null  PctNull\n",
       "dayofservice     8751     0     0.00\n",
       "hour             8751     0     0.00\n",
       "icon             8751     0     0.00\n",
       "temperature      8751     0     0.00\n",
       "humidity         8751     0     0.00\n",
       "cloudCover       8496   255     2.91\n",
       "windSpeed        8745     6     0.07\n",
       "rain             8751     0     0.00"
      ]
     },
     "execution_count": 24,
     "metadata": {},
     "output_type": "execute_result"
    }
   ],
   "source": [
    "weather_count = pd.DataFrame([weather.count(), weather.isnull().sum()]).transpose()\n",
    "weather_count.columns=['NonNull','Null']\n",
    "weather_count['PctNull'] = round(100 * weather_count.Null / (weather_count.NonNull + weather_count.Null),2)\n",
    "weather_count"
   ]
  },
  {
   "cell_type": "markdown",
   "metadata": {},
   "source": [
    "#### Handling Missing/ Null/ Duplicated Data"
   ]
  },
  {
   "cell_type": "markdown",
   "metadata": {},
   "source": [
    "##### CloudCover Column"
   ]
  },
  {
   "cell_type": "code",
   "execution_count": 25,
   "metadata": {
    "ExecuteTime": {
     "end_time": "2019-07-19T16:18:31.704820Z",
     "start_time": "2019-07-19T16:18:31.486077Z"
    },
    "code_folding": []
   },
   "outputs": [
    {
     "data": {
      "text/plain": [
       "<Figure size 2160x360 with 0 Axes>"
      ]
     },
     "execution_count": 25,
     "metadata": {},
     "output_type": "execute_result"
    },
    {
     "data": {
      "text/plain": [
       "[<matplotlib.lines.Line2D at 0x7f671e3f2da0>]"
      ]
     },
     "execution_count": 25,
     "metadata": {},
     "output_type": "execute_result"
    },
    {
     "data": {
      "text/plain": [
       "(4000, 4500)"
      ]
     },
     "execution_count": 25,
     "metadata": {},
     "output_type": "execute_result"
    },
    {
     "data": {
      "image/png": "[encoded data removed]",
      "text/plain": [
       "<Figure size 2160x360 with 1 Axes>"
      ]
     },
     "metadata": {
      "needs_background": "light"
     },
     "output_type": "display_data"
    }
   ],
   "source": [
    "plt.figure(figsize=(30 ,5))\n",
    "plt.plot(weather.cloudCover)\n",
    "plt.xlim([4000,4500])"
   ]
  },
  {
   "cell_type": "code",
   "execution_count": 26,
   "metadata": {
    "ExecuteTime": {
     "end_time": "2019-07-19T16:22:36.688056Z",
     "start_time": "2019-07-19T16:18:31.706651Z"
    },
    "code_folding": []
   },
   "outputs": [
    {
     "data": {
      "application/vnd.jupyter.widget-view+json": {
       "model_id": "67e8859c4d7a4f2585ae740b7b30e62c",
       "version_major": 2,
       "version_minor": 0
      },
      "text/plain": [
       "HBox(children=(IntProgress(value=0, max=8751), HTML(value='')))"
      ]
     },
     "metadata": {},
     "output_type": "display_data"
    },
    {
     "name": "stdout",
     "output_type": "stream",
     "text": [
      "\n"
     ]
    }
   ],
   "source": [
    "ser = weather.cloudCover\n",
    "\n",
    "for row in tnrange(len(ser.index)):\n",
    "    \n",
    "    if pd.isnull(ser.iloc[row]):\n",
    "        \n",
    "        i=1\n",
    "        j=1\n",
    "        \n",
    "        while pd.isnull(ser.iloc[row]):\n",
    "            \n",
    "            if not (pd.isnull(ser.iloc[row-i]) and pd.isnull(ser.iloc[row+j])):\n",
    "                ser.iloc[row] = (ser.iloc[row-i]+ser.iloc[row+j])/2\n",
    "            \n",
    "            elif not pd.isnull(ser.iloc[row-i]):\n",
    "                ser.iloc[row] = ser.iloc[row-i]\n",
    "                i+=1\n",
    "                continue\n",
    "                \n",
    "            elif not pd.isnull(ser.iloc[row+j]):\n",
    "                ser.iloc[row] = ser.iloc[row+j]\n",
    "                j+=1\n",
    "                continue\n",
    "                \n",
    "            j+=1\n",
    "            i+=1"
   ]
  },
  {
   "cell_type": "code",
   "execution_count": 27,
   "metadata": {
    "ExecuteTime": {
     "end_time": "2019-07-19T16:22:36.867980Z",
     "start_time": "2019-07-19T16:22:36.690210Z"
    },
    "code_folding": []
   },
   "outputs": [
    {
     "data": {
      "text/plain": [
       "<Figure size 2160x360 with 0 Axes>"
      ]
     },
     "execution_count": 27,
     "metadata": {},
     "output_type": "execute_result"
    },
    {
     "data": {
      "text/plain": [
       "[<matplotlib.lines.Line2D at 0x7f671bafd908>]"
      ]
     },
     "execution_count": 27,
     "metadata": {},
     "output_type": "execute_result"
    },
    {
     "data": {
      "text/plain": [
       "(4000, 4500)"
      ]
     },
     "execution_count": 27,
     "metadata": {},
     "output_type": "execute_result"
    },
    {
     "data": {
      "image/png": "[encoded data removed]",
      "text/plain": [
       "<Figure size 2160x360 with 1 Axes>"
      ]
     },
     "metadata": {
      "needs_background": "light"
     },
     "output_type": "display_data"
    }
   ],
   "source": [
    "plt.figure(figsize=(30 ,5))\n",
    "plt.plot(ser)\n",
    "plt.xlim([4000,4500])"
   ]
  },
  {
   "cell_type": "markdown",
   "metadata": {},
   "source": [
    "### Leave Times Table"
   ]
  },
  {
   "cell_type": "markdown",
   "metadata": {},
   "source": [
    "#### Setting Data Types"
   ]
  },
  {
   "cell_type": "code",
   "execution_count": 28,
   "metadata": {
    "ExecuteTime": {
     "end_time": "2019-07-19T16:22:36.874131Z",
     "start_time": "2019-07-19T16:22:36.869579Z"
    }
   },
   "outputs": [
    {
     "data": {
      "text/plain": [
       "dayofservice    object\n",
       "tripid           int64\n",
       "progrnumber      int64\n",
       "stopid           int64\n",
       "planned_arr      int64\n",
       "planned_dep      int64\n",
       "actual_arr       int64\n",
       "actual_dep       int64\n",
       "dtype: object"
      ]
     },
     "execution_count": 28,
     "metadata": {},
     "output_type": "execute_result"
    }
   ],
   "source": [
    "leave.dtypes"
   ]
  },
  {
   "cell_type": "code",
   "execution_count": 29,
   "metadata": {
    "ExecuteTime": {
     "end_time": "2019-07-19T16:22:42.375933Z",
     "start_time": "2019-07-19T16:22:36.877269Z"
    },
    "init_cell": true
   },
   "outputs": [],
   "source": [
    "leave.dayofservice = pd.to_datetime(leave.dayofservice.iloc[:])\n",
    "leave.planned_arr = pd.to_datetime(leave.planned_arr.iloc[:])\n",
    "leave.planned_dep = pd.to_datetime(leave.planned_dep.iloc[:])\n",
    "leave.actual_arr = pd.to_datetime(leave.actual_arr.iloc[:])\n",
    "leave.actual_dep = pd.to_datetime(leave.actual_dep.iloc[:])"
   ]
  },
  {
   "cell_type": "markdown",
   "metadata": {},
   "source": [
    "#### Looking for Null / Missing / Duplicated Data"
   ]
  },
  {
   "cell_type": "code",
   "execution_count": 30,
   "metadata": {
    "ExecuteTime": {
     "end_time": "2019-07-19T16:22:44.755975Z",
     "start_time": "2019-07-19T16:22:42.378456Z"
    },
    "init_cell": true
   },
   "outputs": [
    {
     "data": {
      "text/html": [
       "<div>\n",
       "<style scoped>\n",
       "    .dataframe tbody tr th:only-of-type {\n",
       "        vertical-align: middle;\n",
       "    }\n",
       "\n",
       "    .dataframe tbody tr th {\n",
       "        vertical-align: top;\n",
       "    }\n",
       "\n",
       "    .dataframe thead th {\n",
       "        text-align: right;\n",
       "    }\n",
       "</style>\n",
       "<table border=\"1\" class=\"dataframe\">\n",
       "  <thead>\n",
       "    <tr style=\"text-align: right;\">\n",
       "      <th></th>\n",
       "      <th>NonNull</th>\n",
       "      <th>Null</th>\n",
       "      <th>PctNull</th>\n",
       "    </tr>\n",
       "  </thead>\n",
       "  <tbody>\n",
       "    <tr>\n",
       "      <th>dayofservice</th>\n",
       "      <td>9951765</td>\n",
       "      <td>0</td>\n",
       "      <td>0.0</td>\n",
       "    </tr>\n",
       "    <tr>\n",
       "      <th>tripid</th>\n",
       "      <td>9951765</td>\n",
       "      <td>0</td>\n",
       "      <td>0.0</td>\n",
       "    </tr>\n",
       "    <tr>\n",
       "      <th>progrnumber</th>\n",
       "      <td>9951765</td>\n",
       "      <td>0</td>\n",
       "      <td>0.0</td>\n",
       "    </tr>\n",
       "    <tr>\n",
       "      <th>stopid</th>\n",
       "      <td>9951765</td>\n",
       "      <td>0</td>\n",
       "      <td>0.0</td>\n",
       "    </tr>\n",
       "    <tr>\n",
       "      <th>planned_arr</th>\n",
       "      <td>9951765</td>\n",
       "      <td>0</td>\n",
       "      <td>0.0</td>\n",
       "    </tr>\n",
       "    <tr>\n",
       "      <th>planned_dep</th>\n",
       "      <td>9951765</td>\n",
       "      <td>0</td>\n",
       "      <td>0.0</td>\n",
       "    </tr>\n",
       "    <tr>\n",
       "      <th>actual_arr</th>\n",
       "      <td>9951765</td>\n",
       "      <td>0</td>\n",
       "      <td>0.0</td>\n",
       "    </tr>\n",
       "    <tr>\n",
       "      <th>actual_dep</th>\n",
       "      <td>9951765</td>\n",
       "      <td>0</td>\n",
       "      <td>0.0</td>\n",
       "    </tr>\n",
       "  </tbody>\n",
       "</table>\n",
       "</div>"
      ],
      "text/plain": [
       "              NonNull  Null  PctNull\n",
       "dayofservice  9951765     0      0.0\n",
       "tripid        9951765     0      0.0\n",
       "progrnumber   9951765     0      0.0\n",
       "stopid        9951765     0      0.0\n",
       "planned_arr   9951765     0      0.0\n",
       "planned_dep   9951765     0      0.0\n",
       "actual_arr    9951765     0      0.0\n",
       "actual_dep    9951765     0      0.0"
      ]
     },
     "execution_count": 30,
     "metadata": {},
     "output_type": "execute_result"
    }
   ],
   "source": [
    "# Note this is just on a subset of the actual data\n",
    "leave_count = pd.DataFrame([leave.count(), leave.isnull().sum()]).transpose()\n",
    "leave_count.columns=['NonNull','Null']\n",
    "leave_count['PctNull'] = round(100 * leave_count.Null / (leave_count.NonNull + leave_count.Null),2)\n",
    "leave_count"
   ]
  },
  {
   "cell_type": "code",
   "execution_count": 31,
   "metadata": {
    "ExecuteTime": {
     "end_time": "2019-07-19T16:22:45.583815Z",
     "start_time": "2019-07-19T16:22:44.758234Z"
    },
    "init_cell": true
   },
   "outputs": [],
   "source": [
    "leave[\"is_duplicated\"]=leave.duplicated(subset=['dayofservice', 'tripid', 'progrnumber'], keep=False)"
   ]
  },
  {
   "cell_type": "code",
   "execution_count": 32,
   "metadata": {
    "ExecuteTime": {
     "end_time": "2019-07-19T16:22:45.587580Z",
     "start_time": "2019-07-19T16:22:45.585087Z"
    },
    "scrolled": false
   },
   "outputs": [],
   "source": [
    "# leave[leave.is_duplicated==True].groupby(by=['dayofservice', 'tripid', 'progrnumber']).head()"
   ]
  },
  {
   "cell_type": "markdown",
   "metadata": {},
   "source": [
    "#### Handling Missing/ Null/ Duplicated Data"
   ]
  },
  {
   "cell_type": "code",
   "execution_count": 33,
   "metadata": {
    "ExecuteTime": {
     "end_time": "2019-07-19T16:22:45.591790Z",
     "start_time": "2019-07-19T16:22:45.589494Z"
    }
   },
   "outputs": [],
   "source": [
    "# None detected"
   ]
  },
  {
   "cell_type": "markdown",
   "metadata": {},
   "source": [
    "### Trips Table"
   ]
  },
  {
   "cell_type": "markdown",
   "metadata": {},
   "source": [
    "#### Setting Data Types"
   ]
  },
  {
   "cell_type": "markdown",
   "metadata": {},
   "source": [
    "Want to delete the rows with missing values.<br> However, Need to check if there are \n",
    "any tripids in the leavetimes table that have a linked lineid in trips first. \n",
    "If no links are found, then there rows will be deleted. <br>\n",
    "=> links found => fuck"
   ]
  },
  {
   "cell_type": "code",
   "execution_count": 34,
   "metadata": {
    "ExecuteTime": {
     "end_time": "2019-07-19T16:22:45.598939Z",
     "start_time": "2019-07-19T16:22:45.593666Z"
    }
   },
   "outputs": [
    {
     "data": {
      "text/plain": [
       "dayofservice     object\n",
       "tripid            int64\n",
       "lineid           object\n",
       "routeid          object\n",
       "direction         int64\n",
       "planned_arr       int64\n",
       "planned_dep       int64\n",
       "actual_arr      float64\n",
       "actual_dep      float64\n",
       "dtype: object"
      ]
     },
     "execution_count": 34,
     "metadata": {},
     "output_type": "execute_result"
    }
   ],
   "source": [
    "trips.dtypes"
   ]
  },
  {
   "cell_type": "code",
   "execution_count": 35,
   "metadata": {
    "ExecuteTime": {
     "end_time": "2019-07-19T16:22:45.771946Z",
     "start_time": "2019-07-19T16:22:45.600755Z"
    }
   },
   "outputs": [
    {
     "data": {
      "text/plain": [
       "['7A', '41C', '31', '67', '44', '27', '53', '4', '65B', '140']"
      ]
     },
     "execution_count": 35,
     "metadata": {},
     "output_type": "execute_result"
    },
    {
     "data": {
      "text/plain": [
       "['7A_85', '41C_79', '31_15', '67_6', '44_36']"
      ]
     },
     "execution_count": 35,
     "metadata": {},
     "output_type": "execute_result"
    }
   ],
   "source": [
    "list(trips.lineid.unique()[:10])\n",
    "list(trips.routeid.unique()[:5])\n"
   ]
  },
  {
   "cell_type": "code",
   "execution_count": 36,
   "metadata": {
    "ExecuteTime": {
     "end_time": "2019-07-19T16:22:46.317590Z",
     "start_time": "2019-07-19T16:22:45.774192Z"
    },
    "init_cell": true
   },
   "outputs": [],
   "source": [
    "trips.dayofservice = pd.to_datetime(trips.dayofservice.iloc[:])\n",
    "trips.lineid = trips.lineid.astype('category');\n",
    "trips.routeid= trips.routeid.astype('category');"
   ]
  },
  {
   "cell_type": "markdown",
   "metadata": {},
   "source": [
    "#### Looking for Null / Missing / Duplicated Data"
   ]
  },
  {
   "cell_type": "code",
   "execution_count": 37,
   "metadata": {
    "ExecuteTime": {
     "end_time": "2019-07-19T16:22:46.951733Z",
     "start_time": "2019-07-19T16:22:46.319053Z"
    },
    "init_cell": true,
    "scrolled": false
   },
   "outputs": [
    {
     "name": "stdout",
     "output_type": "stream",
     "text": [
      "No. Null actual_arr and actual_dep: 12488\n",
      "No. Null actual_arr or  actual_dep: 164551\n",
      "No. Null actual_arr: 137207\n",
      "No. Null actual_dep: 164551\n"
     ]
    },
    {
     "data": {
      "text/html": [
       "<div>\n",
       "<style scoped>\n",
       "    .dataframe tbody tr th:only-of-type {\n",
       "        vertical-align: middle;\n",
       "    }\n",
       "\n",
       "    .dataframe tbody tr th {\n",
       "        vertical-align: top;\n",
       "    }\n",
       "\n",
       "    .dataframe thead th {\n",
       "        text-align: right;\n",
       "    }\n",
       "</style>\n",
       "<table border=\"1\" class=\"dataframe\">\n",
       "  <thead>\n",
       "    <tr style=\"text-align: right;\">\n",
       "      <th></th>\n",
       "      <th>NonNull</th>\n",
       "      <th>Null</th>\n",
       "      <th>PctNull</th>\n",
       "    </tr>\n",
       "  </thead>\n",
       "  <tbody>\n",
       "    <tr>\n",
       "      <th>dayofservice</th>\n",
       "      <td>2182637</td>\n",
       "      <td>0</td>\n",
       "      <td>0.00</td>\n",
       "    </tr>\n",
       "    <tr>\n",
       "      <th>tripid</th>\n",
       "      <td>2182637</td>\n",
       "      <td>0</td>\n",
       "      <td>0.00</td>\n",
       "    </tr>\n",
       "    <tr>\n",
       "      <th>lineid</th>\n",
       "      <td>2182637</td>\n",
       "      <td>0</td>\n",
       "      <td>0.00</td>\n",
       "    </tr>\n",
       "    <tr>\n",
       "      <th>routeid</th>\n",
       "      <td>2182637</td>\n",
       "      <td>0</td>\n",
       "      <td>0.00</td>\n",
       "    </tr>\n",
       "    <tr>\n",
       "      <th>direction</th>\n",
       "      <td>2182637</td>\n",
       "      <td>0</td>\n",
       "      <td>0.00</td>\n",
       "    </tr>\n",
       "    <tr>\n",
       "      <th>planned_arr</th>\n",
       "      <td>2182637</td>\n",
       "      <td>0</td>\n",
       "      <td>0.00</td>\n",
       "    </tr>\n",
       "    <tr>\n",
       "      <th>planned_dep</th>\n",
       "      <td>2182637</td>\n",
       "      <td>0</td>\n",
       "      <td>0.00</td>\n",
       "    </tr>\n",
       "    <tr>\n",
       "      <th>actual_arr</th>\n",
       "      <td>2045430</td>\n",
       "      <td>137207</td>\n",
       "      <td>6.29</td>\n",
       "    </tr>\n",
       "    <tr>\n",
       "      <th>actual_dep</th>\n",
       "      <td>2018086</td>\n",
       "      <td>164551</td>\n",
       "      <td>7.54</td>\n",
       "    </tr>\n",
       "  </tbody>\n",
       "</table>\n",
       "</div>"
      ],
      "text/plain": [
       "              NonNull    Null  PctNull\n",
       "dayofservice  2182637       0     0.00\n",
       "tripid        2182637       0     0.00\n",
       "lineid        2182637       0     0.00\n",
       "routeid       2182637       0     0.00\n",
       "direction     2182637       0     0.00\n",
       "planned_arr   2182637       0     0.00\n",
       "planned_dep   2182637       0     0.00\n",
       "actual_arr    2045430  137207     6.29\n",
       "actual_dep    2018086  164551     7.54"
      ]
     },
     "execution_count": 37,
     "metadata": {},
     "output_type": "execute_result"
    }
   ],
   "source": [
    "print(f\"No. Null actual_arr and actual_dep: {trips[trips.actual_arr.isnull() & trips.actual_dep.isnull()].isnull().sum()['actual_arr']}\")\n",
    "print(f\"No. Null actual_arr or  actual_dep: {trips[trips.actual_arr.isnull() | trips.actual_dep.isnull()].isnull().sum().max()}\")\n",
    "print(f\"No. Null actual_arr: {trips[trips.actual_arr.isnull()].isnull().sum()['actual_arr']}\")\n",
    "print(f\"No. Null actual_dep: {trips[trips.actual_dep.isnull()].isnull().sum()['actual_dep']}\")\n",
    "\n",
    "trips_count = pd.DataFrame([trips.count(), trips.isnull().sum()]).transpose()\n",
    "trips_count.columns=['NonNull','Null']\n",
    "trips_count['PctNull'] = round(100 * trips_count.Null / (trips_count.NonNull + trips_count.Null),2)\n",
    "trips_count"
   ]
  },
  {
   "cell_type": "markdown",
   "metadata": {},
   "source": [
    "#### Handling Missing/ Null/ Duplicated Data"
   ]
  },
  {
   "cell_type": "markdown",
   "metadata": {},
   "source": [
    "**Given that its stop to stop times being modeled. It should be fine to drop the time columns from trips.**"
   ]
  },
  {
   "cell_type": "code",
   "execution_count": 38,
   "metadata": {
    "ExecuteTime": {
     "end_time": "2019-07-19T16:22:46.979971Z",
     "start_time": "2019-07-19T16:22:46.954251Z"
    },
    "init_cell": true
   },
   "outputs": [
    {
     "data": {
      "text/html": [
       "<div>\n",
       "<style scoped>\n",
       "    .dataframe tbody tr th:only-of-type {\n",
       "        vertical-align: middle;\n",
       "    }\n",
       "\n",
       "    .dataframe tbody tr th {\n",
       "        vertical-align: top;\n",
       "    }\n",
       "\n",
       "    .dataframe thead th {\n",
       "        text-align: right;\n",
       "    }\n",
       "</style>\n",
       "<table border=\"1\" class=\"dataframe\">\n",
       "  <thead>\n",
       "    <tr style=\"text-align: right;\">\n",
       "      <th></th>\n",
       "      <th>dayofservice</th>\n",
       "      <th>tripid</th>\n",
       "      <th>lineid</th>\n",
       "      <th>routeid</th>\n",
       "      <th>direction</th>\n",
       "    </tr>\n",
       "  </thead>\n",
       "  <tbody>\n",
       "    <tr>\n",
       "      <th>0</th>\n",
       "      <td>2018-06-17</td>\n",
       "      <td>7013606</td>\n",
       "      <td>7A</td>\n",
       "      <td>7A_85</td>\n",
       "      <td>1</td>\n",
       "    </tr>\n",
       "  </tbody>\n",
       "</table>\n",
       "</div>"
      ],
      "text/plain": [
       "  dayofservice   tripid lineid routeid  direction\n",
       "0   2018-06-17  7013606     7A   7A_85          1"
      ]
     },
     "execution_count": 38,
     "metadata": {},
     "output_type": "execute_result"
    }
   ],
   "source": [
    "trips.drop(columns=['planned_arr', 'planned_dep', 'actual_arr', 'actual_dep'], inplace=True)\n",
    "trips.head(1)"
   ]
  },
  {
   "cell_type": "markdown",
   "metadata": {},
   "source": [
    "### Stops Table"
   ]
  },
  {
   "cell_type": "markdown",
   "metadata": {},
   "source": [
    "#### Setting Data Types"
   ]
  },
  {
   "cell_type": "code",
   "execution_count": 39,
   "metadata": {
    "ExecuteTime": {
     "end_time": "2019-07-19T16:22:46.988781Z",
     "start_time": "2019-07-19T16:22:46.983645Z"
    }
   },
   "outputs": [
    {
     "data": {
      "text/plain": [
       "actual_stop_id     object\n",
       "stop_id            object\n",
       "lat               float64\n",
       "lng               float64\n",
       "stop name          object\n",
       "dtype: object"
      ]
     },
     "execution_count": 39,
     "metadata": {},
     "output_type": "execute_result"
    }
   ],
   "source": [
    "stops.dtypes"
   ]
  },
  {
   "cell_type": "code",
   "execution_count": 40,
   "metadata": {
    "ExecuteTime": {
     "end_time": "2019-07-19T16:22:47.006389Z",
     "start_time": "2019-07-19T16:22:46.990952Z"
    }
   },
   "outputs": [
    {
     "data": {
      "text/plain": [
       "array(['1965', '1112', '318', ..., '7015', '7016', '3370'], dtype=object)"
      ]
     },
     "execution_count": 40,
     "metadata": {},
     "output_type": "execute_result"
    },
    {
     "data": {
      "text/plain": [
       "['8230DB001965',\n",
       " '8230DB001112',\n",
       " '8220DB000318',\n",
       " '8230DB000100',\n",
       " '8220DB002396']"
      ]
     },
     "execution_count": 40,
     "metadata": {},
     "output_type": "execute_result"
    },
    {
     "data": {
      "text/plain": [
       "['Woodford Walk (Woodford Grove)',\n",
       " 'Whitehall Park',\n",
       " \"Westmoreland Street (O'Connell Bridge)\",\n",
       " 'Wellington Lane (Wellington Green',\n",
       " 'Wainsfort Estate']"
      ]
     },
     "execution_count": 40,
     "metadata": {},
     "output_type": "execute_result"
    }
   ],
   "source": [
    "stops.actual_stop_id.unique()\n",
    "list(stops.stop_id.unique()[:5])\n",
    "list(stops['stop name'].unique()[:5])"
   ]
  },
  {
   "cell_type": "code",
   "execution_count": 41,
   "metadata": {
    "ExecuteTime": {
     "end_time": "2019-07-19T16:22:47.087517Z",
     "start_time": "2019-07-19T16:22:47.008247Z"
    },
    "init_cell": true
   },
   "outputs": [],
   "source": [
    "# replace errors and drop nas to set data type as int\n",
    "stops.actual_stop_id = stops.actual_stop_id[~stops.actual_stop_id.str.contains(':')]\n",
    "stops = stops.dropna()\n",
    "stops.actual_stop_id = stops.actual_stop_id.astype(int)"
   ]
  },
  {
   "cell_type": "code",
   "execution_count": 42,
   "metadata": {
    "ExecuteTime": {
     "end_time": "2019-07-19T16:22:47.093019Z",
     "start_time": "2019-07-19T16:22:47.088916Z"
    },
    "init_cell": true
   },
   "outputs": [],
   "source": [
    "stops.stop_id = stops.stop_id.astype(str)\n",
    "stops['stop name']=stops['stop name'].astype(str)"
   ]
  },
  {
   "cell_type": "code",
   "execution_count": 43,
   "metadata": {
    "ExecuteTime": {
     "end_time": "2019-07-19T16:22:47.099575Z",
     "start_time": "2019-07-19T16:22:47.094474Z"
    }
   },
   "outputs": [
    {
     "data": {
      "text/plain": [
       "actual_stop_id      int64\n",
       "stop_id            object\n",
       "lat               float64\n",
       "lng               float64\n",
       "stop name          object\n",
       "dtype: object"
      ]
     },
     "execution_count": 43,
     "metadata": {},
     "output_type": "execute_result"
    }
   ],
   "source": [
    "stops.dtypes"
   ]
  },
  {
   "cell_type": "markdown",
   "metadata": {},
   "source": [
    "#### Looking for Null / Missing / Duplicated Data"
   ]
  },
  {
   "cell_type": "code",
   "execution_count": 44,
   "metadata": {
    "ExecuteTime": {
     "end_time": "2019-07-19T16:22:47.115248Z",
     "start_time": "2019-07-19T16:22:47.101029Z"
    },
    "init_cell": true
   },
   "outputs": [
    {
     "data": {
      "text/html": [
       "<div>\n",
       "<style scoped>\n",
       "    .dataframe tbody tr th:only-of-type {\n",
       "        vertical-align: middle;\n",
       "    }\n",
       "\n",
       "    .dataframe tbody tr th {\n",
       "        vertical-align: top;\n",
       "    }\n",
       "\n",
       "    .dataframe thead th {\n",
       "        text-align: right;\n",
       "    }\n",
       "</style>\n",
       "<table border=\"1\" class=\"dataframe\">\n",
       "  <thead>\n",
       "    <tr style=\"text-align: right;\">\n",
       "      <th></th>\n",
       "      <th>NonNull</th>\n",
       "      <th>Null</th>\n",
       "      <th>PctNull</th>\n",
       "    </tr>\n",
       "  </thead>\n",
       "  <tbody>\n",
       "    <tr>\n",
       "      <th>actual_stop_id</th>\n",
       "      <td>4228</td>\n",
       "      <td>0</td>\n",
       "      <td>0.0</td>\n",
       "    </tr>\n",
       "    <tr>\n",
       "      <th>stop_id</th>\n",
       "      <td>4228</td>\n",
       "      <td>0</td>\n",
       "      <td>0.0</td>\n",
       "    </tr>\n",
       "    <tr>\n",
       "      <th>lat</th>\n",
       "      <td>4228</td>\n",
       "      <td>0</td>\n",
       "      <td>0.0</td>\n",
       "    </tr>\n",
       "    <tr>\n",
       "      <th>lng</th>\n",
       "      <td>4228</td>\n",
       "      <td>0</td>\n",
       "      <td>0.0</td>\n",
       "    </tr>\n",
       "    <tr>\n",
       "      <th>stop name</th>\n",
       "      <td>4228</td>\n",
       "      <td>0</td>\n",
       "      <td>0.0</td>\n",
       "    </tr>\n",
       "  </tbody>\n",
       "</table>\n",
       "</div>"
      ],
      "text/plain": [
       "                NonNull  Null  PctNull\n",
       "actual_stop_id     4228     0      0.0\n",
       "stop_id            4228     0      0.0\n",
       "lat                4228     0      0.0\n",
       "lng                4228     0      0.0\n",
       "stop name          4228     0      0.0"
      ]
     },
     "execution_count": 44,
     "metadata": {},
     "output_type": "execute_result"
    }
   ],
   "source": [
    "stops_count = pd.DataFrame([stops.count(), stops.isnull().sum()]).transpose()\n",
    "stops_count.columns=['NonNull','Null']\n",
    "stops_count['PctNull'] = round(100 * stops_count.Null / (stops_count.NonNull + stops_count.Null),2)\n",
    "stops_count"
   ]
  },
  {
   "cell_type": "markdown",
   "metadata": {},
   "source": [
    "### Matching up tables"
   ]
  },
  {
   "cell_type": "code",
   "execution_count": 45,
   "metadata": {
    "ExecuteTime": {
     "end_time": "2019-07-19T16:22:47.145445Z",
     "start_time": "2019-07-19T16:22:47.116746Z"
    }
   },
   "outputs": [
    {
     "data": {
      "text/html": [
       "<div>\n",
       "<style scoped>\n",
       "    .dataframe tbody tr th:only-of-type {\n",
       "        vertical-align: middle;\n",
       "    }\n",
       "\n",
       "    .dataframe tbody tr th {\n",
       "        vertical-align: top;\n",
       "    }\n",
       "\n",
       "    .dataframe thead th {\n",
       "        text-align: right;\n",
       "    }\n",
       "</style>\n",
       "<table border=\"1\" class=\"dataframe\">\n",
       "  <thead>\n",
       "    <tr style=\"text-align: right;\">\n",
       "      <th></th>\n",
       "      <th>dayofservice</th>\n",
       "      <th>tripid</th>\n",
       "      <th>progrnumber</th>\n",
       "      <th>stopid</th>\n",
       "      <th>planned_arr</th>\n",
       "      <th>planned_dep</th>\n",
       "      <th>actual_arr</th>\n",
       "      <th>actual_dep</th>\n",
       "      <th>is_duplicated</th>\n",
       "    </tr>\n",
       "  </thead>\n",
       "  <tbody>\n",
       "    <tr>\n",
       "      <th>0</th>\n",
       "      <td>2018-03-06</td>\n",
       "      <td>6361484</td>\n",
       "      <td>10</td>\n",
       "      <td>842</td>\n",
       "      <td>1970-01-01 00:00:00.000028777</td>\n",
       "      <td>1970-01-01 00:00:00.000028799</td>\n",
       "      <td>1970-01-01 00:00:00.000028994</td>\n",
       "      <td>1970-01-01 00:00:00.000028994</td>\n",
       "      <td>True</td>\n",
       "    </tr>\n",
       "    <tr>\n",
       "      <th>1</th>\n",
       "      <td>2018-03-06</td>\n",
       "      <td>6361484</td>\n",
       "      <td>32</td>\n",
       "      <td>2014</td>\n",
       "      <td>1970-01-01 00:00:00.000030360</td>\n",
       "      <td>1970-01-01 00:00:00.000030374</td>\n",
       "      <td>1970-01-01 00:00:00.000030601</td>\n",
       "      <td>1970-01-01 00:00:00.000030601</td>\n",
       "      <td>True</td>\n",
       "    </tr>\n",
       "    <tr>\n",
       "      <th>2</th>\n",
       "      <td>2018-03-06</td>\n",
       "      <td>6361484</td>\n",
       "      <td>51</td>\n",
       "      <td>4124</td>\n",
       "      <td>1970-01-01 00:00:00.000031530</td>\n",
       "      <td>1970-01-01 00:00:00.000031543</td>\n",
       "      <td>1970-01-01 00:00:00.000031672</td>\n",
       "      <td>1970-01-01 00:00:00.000031672</td>\n",
       "      <td>True</td>\n",
       "    </tr>\n",
       "    <tr>\n",
       "      <th>3</th>\n",
       "      <td>2018-03-06</td>\n",
       "      <td>6361484</td>\n",
       "      <td>20</td>\n",
       "      <td>760</td>\n",
       "      <td>1970-01-01 00:00:00.000029478</td>\n",
       "      <td>1970-01-01 00:00:00.000029504</td>\n",
       "      <td>1970-01-01 00:00:00.000029797</td>\n",
       "      <td>1970-01-01 00:00:00.000029797</td>\n",
       "      <td>True</td>\n",
       "    </tr>\n",
       "    <tr>\n",
       "      <th>4</th>\n",
       "      <td>2018-03-06</td>\n",
       "      <td>6361484</td>\n",
       "      <td>40</td>\n",
       "      <td>3129</td>\n",
       "      <td>1970-01-01 00:00:00.000030870</td>\n",
       "      <td>1970-01-01 00:00:00.000030893</td>\n",
       "      <td>1970-01-01 00:00:00.000031099</td>\n",
       "      <td>1970-01-01 00:00:00.000031099</td>\n",
       "      <td>True</td>\n",
       "    </tr>\n",
       "  </tbody>\n",
       "</table>\n",
       "</div>"
      ],
      "text/plain": [
       "  dayofservice   tripid  progrnumber  stopid                   planned_arr  \\\n",
       "0   2018-03-06  6361484           10     842 1970-01-01 00:00:00.000028777   \n",
       "1   2018-03-06  6361484           32    2014 1970-01-01 00:00:00.000030360   \n",
       "2   2018-03-06  6361484           51    4124 1970-01-01 00:00:00.000031530   \n",
       "3   2018-03-06  6361484           20     760 1970-01-01 00:00:00.000029478   \n",
       "4   2018-03-06  6361484           40    3129 1970-01-01 00:00:00.000030870   \n",
       "\n",
       "                    planned_dep                    actual_arr  \\\n",
       "0 1970-01-01 00:00:00.000028799 1970-01-01 00:00:00.000028994   \n",
       "1 1970-01-01 00:00:00.000030374 1970-01-01 00:00:00.000030601   \n",
       "2 1970-01-01 00:00:00.000031543 1970-01-01 00:00:00.000031672   \n",
       "3 1970-01-01 00:00:00.000029504 1970-01-01 00:00:00.000029797   \n",
       "4 1970-01-01 00:00:00.000030893 1970-01-01 00:00:00.000031099   \n",
       "\n",
       "                     actual_dep  is_duplicated  \n",
       "0 1970-01-01 00:00:00.000028994           True  \n",
       "1 1970-01-01 00:00:00.000030601           True  \n",
       "2 1970-01-01 00:00:00.000031672           True  \n",
       "3 1970-01-01 00:00:00.000029797           True  \n",
       "4 1970-01-01 00:00:00.000031099           True  "
      ]
     },
     "execution_count": 45,
     "metadata": {},
     "output_type": "execute_result"
    },
    {
     "data": {
      "text/html": [
       "<div>\n",
       "<style scoped>\n",
       "    .dataframe tbody tr th:only-of-type {\n",
       "        vertical-align: middle;\n",
       "    }\n",
       "\n",
       "    .dataframe tbody tr th {\n",
       "        vertical-align: top;\n",
       "    }\n",
       "\n",
       "    .dataframe thead th {\n",
       "        text-align: right;\n",
       "    }\n",
       "</style>\n",
       "<table border=\"1\" class=\"dataframe\">\n",
       "  <thead>\n",
       "    <tr style=\"text-align: right;\">\n",
       "      <th></th>\n",
       "      <th>dayofservice</th>\n",
       "      <th>hour</th>\n",
       "      <th>icon</th>\n",
       "      <th>temperature</th>\n",
       "      <th>humidity</th>\n",
       "      <th>cloudCover</th>\n",
       "      <th>windSpeed</th>\n",
       "      <th>rain</th>\n",
       "    </tr>\n",
       "  </thead>\n",
       "  <tbody>\n",
       "    <tr>\n",
       "      <th>0</th>\n",
       "      <td>2018-01-01</td>\n",
       "      <td>0</td>\n",
       "      <td>partly-cloudy-night</td>\n",
       "      <td>41.19</td>\n",
       "      <td>0.80</td>\n",
       "      <td>0.58</td>\n",
       "      <td>17.04</td>\n",
       "      <td>0.0</td>\n",
       "    </tr>\n",
       "    <tr>\n",
       "      <th>1</th>\n",
       "      <td>2018-01-01</td>\n",
       "      <td>1</td>\n",
       "      <td>partly-cloudy-night</td>\n",
       "      <td>41.70</td>\n",
       "      <td>0.79</td>\n",
       "      <td>0.75</td>\n",
       "      <td>21.59</td>\n",
       "      <td>0.1</td>\n",
       "    </tr>\n",
       "    <tr>\n",
       "      <th>2</th>\n",
       "      <td>2018-01-01</td>\n",
       "      <td>2</td>\n",
       "      <td>partly-cloudy-night</td>\n",
       "      <td>41.95</td>\n",
       "      <td>0.78</td>\n",
       "      <td>0.75</td>\n",
       "      <td>21.59</td>\n",
       "      <td>0.0</td>\n",
       "    </tr>\n",
       "    <tr>\n",
       "      <th>3</th>\n",
       "      <td>2018-01-01</td>\n",
       "      <td>3</td>\n",
       "      <td>partly-cloudy-night</td>\n",
       "      <td>42.42</td>\n",
       "      <td>0.82</td>\n",
       "      <td>0.58</td>\n",
       "      <td>19.60</td>\n",
       "      <td>0.0</td>\n",
       "    </tr>\n",
       "    <tr>\n",
       "      <th>4</th>\n",
       "      <td>2018-01-01</td>\n",
       "      <td>4</td>\n",
       "      <td>partly-cloudy-night</td>\n",
       "      <td>42.09</td>\n",
       "      <td>0.83</td>\n",
       "      <td>0.44</td>\n",
       "      <td>20.48</td>\n",
       "      <td>0.0</td>\n",
       "    </tr>\n",
       "    <tr>\n",
       "      <th>5</th>\n",
       "      <td>2018-01-01</td>\n",
       "      <td>5</td>\n",
       "      <td>partly-cloudy-night</td>\n",
       "      <td>42.59</td>\n",
       "      <td>0.77</td>\n",
       "      <td>0.75</td>\n",
       "      <td>17.89</td>\n",
       "      <td>0.0</td>\n",
       "    </tr>\n",
       "    <tr>\n",
       "      <th>6</th>\n",
       "      <td>2018-01-01</td>\n",
       "      <td>6</td>\n",
       "      <td>partly-cloudy-night</td>\n",
       "      <td>41.94</td>\n",
       "      <td>0.78</td>\n",
       "      <td>0.75</td>\n",
       "      <td>12.31</td>\n",
       "      <td>0.0</td>\n",
       "    </tr>\n",
       "    <tr>\n",
       "      <th>7</th>\n",
       "      <td>2018-01-01</td>\n",
       "      <td>7</td>\n",
       "      <td>partly-cloudy-night</td>\n",
       "      <td>41.19</td>\n",
       "      <td>0.81</td>\n",
       "      <td>0.75</td>\n",
       "      <td>9.60</td>\n",
       "      <td>0.0</td>\n",
       "    </tr>\n",
       "    <tr>\n",
       "      <th>8</th>\n",
       "      <td>2018-01-01</td>\n",
       "      <td>8</td>\n",
       "      <td>partly-cloudy-night</td>\n",
       "      <td>41.19</td>\n",
       "      <td>0.81</td>\n",
       "      <td>0.75</td>\n",
       "      <td>11.27</td>\n",
       "      <td>0.0</td>\n",
       "    </tr>\n",
       "    <tr>\n",
       "      <th>9</th>\n",
       "      <td>2018-01-01</td>\n",
       "      <td>9</td>\n",
       "      <td>partly-cloudy-day</td>\n",
       "      <td>41.19</td>\n",
       "      <td>0.81</td>\n",
       "      <td>0.49</td>\n",
       "      <td>12.91</td>\n",
       "      <td>0.0</td>\n",
       "    </tr>\n",
       "    <tr>\n",
       "      <th>10</th>\n",
       "      <td>2018-01-01</td>\n",
       "      <td>10</td>\n",
       "      <td>partly-cloudy-day</td>\n",
       "      <td>43.08</td>\n",
       "      <td>0.79</td>\n",
       "      <td>0.44</td>\n",
       "      <td>15.69</td>\n",
       "      <td>0.0</td>\n",
       "    </tr>\n",
       "    <tr>\n",
       "      <th>11</th>\n",
       "      <td>2018-01-01</td>\n",
       "      <td>11</td>\n",
       "      <td>partly-cloudy-day</td>\n",
       "      <td>44.01</td>\n",
       "      <td>0.78</td>\n",
       "      <td>0.60</td>\n",
       "      <td>21.10</td>\n",
       "      <td>0.0</td>\n",
       "    </tr>\n",
       "    <tr>\n",
       "      <th>12</th>\n",
       "      <td>2018-01-01</td>\n",
       "      <td>12</td>\n",
       "      <td>partly-cloudy-day</td>\n",
       "      <td>45.58</td>\n",
       "      <td>0.77</td>\n",
       "      <td>0.75</td>\n",
       "      <td>21.65</td>\n",
       "      <td>0.0</td>\n",
       "    </tr>\n",
       "    <tr>\n",
       "      <th>13</th>\n",
       "      <td>2018-01-01</td>\n",
       "      <td>13</td>\n",
       "      <td>partly-cloudy-day</td>\n",
       "      <td>46.96</td>\n",
       "      <td>0.74</td>\n",
       "      <td>0.75</td>\n",
       "      <td>21.89</td>\n",
       "      <td>0.2</td>\n",
       "    </tr>\n",
       "    <tr>\n",
       "      <th>14</th>\n",
       "      <td>2018-01-01</td>\n",
       "      <td>14</td>\n",
       "      <td>partly-cloudy-day</td>\n",
       "      <td>44.88</td>\n",
       "      <td>0.80</td>\n",
       "      <td>0.60</td>\n",
       "      <td>18.41</td>\n",
       "      <td>0.1</td>\n",
       "    </tr>\n",
       "    <tr>\n",
       "      <th>15</th>\n",
       "      <td>2018-01-01</td>\n",
       "      <td>15</td>\n",
       "      <td>partly-cloudy-day</td>\n",
       "      <td>45.39</td>\n",
       "      <td>0.78</td>\n",
       "      <td>0.75</td>\n",
       "      <td>21.07</td>\n",
       "      <td>0.0</td>\n",
       "    </tr>\n",
       "    <tr>\n",
       "      <th>16</th>\n",
       "      <td>2018-01-01</td>\n",
       "      <td>16</td>\n",
       "      <td>partly-cloudy-day</td>\n",
       "      <td>44.49</td>\n",
       "      <td>0.76</td>\n",
       "      <td>0.60</td>\n",
       "      <td>18.54</td>\n",
       "      <td>0.0</td>\n",
       "    </tr>\n",
       "    <tr>\n",
       "      <th>17</th>\n",
       "      <td>2018-01-01</td>\n",
       "      <td>17</td>\n",
       "      <td>partly-cloudy-night</td>\n",
       "      <td>43.98</td>\n",
       "      <td>0.79</td>\n",
       "      <td>0.44</td>\n",
       "      <td>15.20</td>\n",
       "      <td>0.0</td>\n",
       "    </tr>\n",
       "    <tr>\n",
       "      <th>18</th>\n",
       "      <td>2018-01-01</td>\n",
       "      <td>18</td>\n",
       "      <td>partly-cloudy-night</td>\n",
       "      <td>43.08</td>\n",
       "      <td>0.81</td>\n",
       "      <td>0.30</td>\n",
       "      <td>12.00</td>\n",
       "      <td>0.0</td>\n",
       "    </tr>\n",
       "    <tr>\n",
       "      <th>19</th>\n",
       "      <td>2018-01-01</td>\n",
       "      <td>19</td>\n",
       "      <td>partly-cloudy-night</td>\n",
       "      <td>43.08</td>\n",
       "      <td>0.81</td>\n",
       "      <td>0.44</td>\n",
       "      <td>13.06</td>\n",
       "      <td>0.0</td>\n",
       "    </tr>\n",
       "    <tr>\n",
       "      <th>20</th>\n",
       "      <td>2018-01-01</td>\n",
       "      <td>20</td>\n",
       "      <td>partly-cloudy-night</td>\n",
       "      <td>42.59</td>\n",
       "      <td>0.77</td>\n",
       "      <td>0.44</td>\n",
       "      <td>14.06</td>\n",
       "      <td>0.0</td>\n",
       "    </tr>\n",
       "    <tr>\n",
       "      <th>21</th>\n",
       "      <td>2018-01-01</td>\n",
       "      <td>21</td>\n",
       "      <td>partly-cloudy-night</td>\n",
       "      <td>40.90</td>\n",
       "      <td>0.76</td>\n",
       "      <td>0.44</td>\n",
       "      <td>12.51</td>\n",
       "      <td>0.0</td>\n",
       "    </tr>\n",
       "    <tr>\n",
       "      <th>22</th>\n",
       "      <td>2018-01-01</td>\n",
       "      <td>22</td>\n",
       "      <td>partly-cloudy-night</td>\n",
       "      <td>40.28</td>\n",
       "      <td>0.78</td>\n",
       "      <td>0.44</td>\n",
       "      <td>12.51</td>\n",
       "      <td>0.0</td>\n",
       "    </tr>\n",
       "    <tr>\n",
       "      <th>23</th>\n",
       "      <td>2018-01-01</td>\n",
       "      <td>23</td>\n",
       "      <td>partly-cloudy-night</td>\n",
       "      <td>41.19</td>\n",
       "      <td>0.76</td>\n",
       "      <td>0.58</td>\n",
       "      <td>11.51</td>\n",
       "      <td>0.0</td>\n",
       "    </tr>\n",
       "  </tbody>\n",
       "</table>\n",
       "</div>"
      ],
      "text/plain": [
       "   dayofservice  hour                 icon  temperature  humidity  cloudCover  \\\n",
       "0    2018-01-01     0  partly-cloudy-night        41.19      0.80        0.58   \n",
       "1    2018-01-01     1  partly-cloudy-night        41.70      0.79        0.75   \n",
       "2    2018-01-01     2  partly-cloudy-night        41.95      0.78        0.75   \n",
       "3    2018-01-01     3  partly-cloudy-night        42.42      0.82        0.58   \n",
       "4    2018-01-01     4  partly-cloudy-night        42.09      0.83        0.44   \n",
       "5    2018-01-01     5  partly-cloudy-night        42.59      0.77        0.75   \n",
       "6    2018-01-01     6  partly-cloudy-night        41.94      0.78        0.75   \n",
       "7    2018-01-01     7  partly-cloudy-night        41.19      0.81        0.75   \n",
       "8    2018-01-01     8  partly-cloudy-night        41.19      0.81        0.75   \n",
       "9    2018-01-01     9    partly-cloudy-day        41.19      0.81        0.49   \n",
       "10   2018-01-01    10    partly-cloudy-day        43.08      0.79        0.44   \n",
       "11   2018-01-01    11    partly-cloudy-day        44.01      0.78        0.60   \n",
       "12   2018-01-01    12    partly-cloudy-day        45.58      0.77        0.75   \n",
       "13   2018-01-01    13    partly-cloudy-day        46.96      0.74        0.75   \n",
       "14   2018-01-01    14    partly-cloudy-day        44.88      0.80        0.60   \n",
       "15   2018-01-01    15    partly-cloudy-day        45.39      0.78        0.75   \n",
       "16   2018-01-01    16    partly-cloudy-day        44.49      0.76        0.60   \n",
       "17   2018-01-01    17  partly-cloudy-night        43.98      0.79        0.44   \n",
       "18   2018-01-01    18  partly-cloudy-night        43.08      0.81        0.30   \n",
       "19   2018-01-01    19  partly-cloudy-night        43.08      0.81        0.44   \n",
       "20   2018-01-01    20  partly-cloudy-night        42.59      0.77        0.44   \n",
       "21   2018-01-01    21  partly-cloudy-night        40.90      0.76        0.44   \n",
       "22   2018-01-01    22  partly-cloudy-night        40.28      0.78        0.44   \n",
       "23   2018-01-01    23  partly-cloudy-night        41.19      0.76        0.58   \n",
       "\n",
       "    windSpeed  rain  \n",
       "0       17.04   0.0  \n",
       "1       21.59   0.1  \n",
       "2       21.59   0.0  \n",
       "3       19.60   0.0  \n",
       "4       20.48   0.0  \n",
       "5       17.89   0.0  \n",
       "6       12.31   0.0  \n",
       "7        9.60   0.0  \n",
       "8       11.27   0.0  \n",
       "9       12.91   0.0  \n",
       "10      15.69   0.0  \n",
       "11      21.10   0.0  \n",
       "12      21.65   0.0  \n",
       "13      21.89   0.2  \n",
       "14      18.41   0.1  \n",
       "15      21.07   0.0  \n",
       "16      18.54   0.0  \n",
       "17      15.20   0.0  \n",
       "18      12.00   0.0  \n",
       "19      13.06   0.0  \n",
       "20      14.06   0.0  \n",
       "21      12.51   0.0  \n",
       "22      12.51   0.0  \n",
       "23      11.51   0.0  "
      ]
     },
     "execution_count": 45,
     "metadata": {},
     "output_type": "execute_result"
    }
   ],
   "source": [
    "leave.head()\n",
    "weather.head(24)\n"
   ]
  },
  {
   "cell_type": "markdown",
   "metadata": {},
   "source": [
    "### Summary"
   ]
  },
  {
   "cell_type": "markdown",
   "metadata": {},
   "source": [
    "# Investigating features"
   ]
  },
  {
   "cell_type": "markdown",
   "metadata": {},
   "source": [
    "## Correlation plots"
   ]
  },
  {
   "cell_type": "code",
   "execution_count": 46,
   "metadata": {},
   "outputs": [
    {
     "data": {
      "text/html": [
       "<style  type=\"text/css\" >\n",
       "    #T_a9e7471a_bbb1_11e9_b1fd_ff924e08d9e4row0_col0 {\n",
       "            background-color:  #b40426;\n",
       "            color:  #f1f1f1;\n",
       "        }    #T_a9e7471a_bbb1_11e9_b1fd_ff924e08d9e4row0_col1 {\n",
       "            background-color:  #3c4ec2;\n",
       "            color:  #f1f1f1;\n",
       "        }    #T_a9e7471a_bbb1_11e9_b1fd_ff924e08d9e4row0_col2 {\n",
       "            background-color:  #3d50c3;\n",
       "            color:  #f1f1f1;\n",
       "        }    #T_a9e7471a_bbb1_11e9_b1fd_ff924e08d9e4row0_col3 {\n",
       "            background-color:  #3d50c3;\n",
       "            color:  #f1f1f1;\n",
       "        }    #T_a9e7471a_bbb1_11e9_b1fd_ff924e08d9e4row1_col0 {\n",
       "            background-color:  #3b4cc0;\n",
       "            color:  #f1f1f1;\n",
       "        }    #T_a9e7471a_bbb1_11e9_b1fd_ff924e08d9e4row1_col1 {\n",
       "            background-color:  #b40426;\n",
       "            color:  #f1f1f1;\n",
       "        }    #T_a9e7471a_bbb1_11e9_b1fd_ff924e08d9e4row1_col2 {\n",
       "            background-color:  #455cce;\n",
       "            color:  #f1f1f1;\n",
       "        }    #T_a9e7471a_bbb1_11e9_b1fd_ff924e08d9e4row1_col3 {\n",
       "            background-color:  #3b4cc0;\n",
       "            color:  #f1f1f1;\n",
       "        }    #T_a9e7471a_bbb1_11e9_b1fd_ff924e08d9e4row2_col0 {\n",
       "            background-color:  #3d50c3;\n",
       "            color:  #f1f1f1;\n",
       "        }    #T_a9e7471a_bbb1_11e9_b1fd_ff924e08d9e4row2_col1 {\n",
       "            background-color:  #465ecf;\n",
       "            color:  #f1f1f1;\n",
       "        }    #T_a9e7471a_bbb1_11e9_b1fd_ff924e08d9e4row2_col2 {\n",
       "            background-color:  #b40426;\n",
       "            color:  #f1f1f1;\n",
       "        }    #T_a9e7471a_bbb1_11e9_b1fd_ff924e08d9e4row2_col3 {\n",
       "            background-color:  #3b4cc0;\n",
       "            color:  #f1f1f1;\n",
       "        }    #T_a9e7471a_bbb1_11e9_b1fd_ff924e08d9e4row3_col0 {\n",
       "            background-color:  #3c4ec2;\n",
       "            color:  #f1f1f1;\n",
       "        }    #T_a9e7471a_bbb1_11e9_b1fd_ff924e08d9e4row3_col1 {\n",
       "            background-color:  #3b4cc0;\n",
       "            color:  #f1f1f1;\n",
       "        }    #T_a9e7471a_bbb1_11e9_b1fd_ff924e08d9e4row3_col2 {\n",
       "            background-color:  #3b4cc0;\n",
       "            color:  #f1f1f1;\n",
       "        }    #T_a9e7471a_bbb1_11e9_b1fd_ff924e08d9e4row3_col3 {\n",
       "            background-color:  #b40426;\n",
       "            color:  #f1f1f1;\n",
       "        }</style><table id=\"T_a9e7471a_bbb1_11e9_b1fd_ff924e08d9e4\" ><thead>    <tr>        <th class=\"blank level0\" ></th>        <th class=\"col_heading level0 col0\" >tripid</th>        <th class=\"col_heading level0 col1\" >progrnumber</th>        <th class=\"col_heading level0 col2\" >stopid</th>        <th class=\"col_heading level0 col3\" >is_duplicated</th>    </tr></thead><tbody>\n",
       "                <tr>\n",
       "                        <th id=\"T_a9e7471a_bbb1_11e9_b1fd_ff924e08d9e4level0_row0\" class=\"row_heading level0 row0\" >tripid</th>\n",
       "                        <td id=\"T_a9e7471a_bbb1_11e9_b1fd_ff924e08d9e4row0_col0\" class=\"data row0 col0\" >1</td>\n",
       "                        <td id=\"T_a9e7471a_bbb1_11e9_b1fd_ff924e08d9e4row0_col1\" class=\"data row0 col1\" >0.0012</td>\n",
       "                        <td id=\"T_a9e7471a_bbb1_11e9_b1fd_ff924e08d9e4row0_col2\" class=\"data row0 col2\" >0.011</td>\n",
       "                        <td id=\"T_a9e7471a_bbb1_11e9_b1fd_ff924e08d9e4row0_col3\" class=\"data row0 col3\" >0.0064</td>\n",
       "            </tr>\n",
       "            <tr>\n",
       "                        <th id=\"T_a9e7471a_bbb1_11e9_b1fd_ff924e08d9e4level0_row1\" class=\"row_heading level0 row1\" >progrnumber</th>\n",
       "                        <td id=\"T_a9e7471a_bbb1_11e9_b1fd_ff924e08d9e4row1_col0\" class=\"data row1 col0\" >0.0012</td>\n",
       "                        <td id=\"T_a9e7471a_bbb1_11e9_b1fd_ff924e08d9e4row1_col1\" class=\"data row1 col1\" >1</td>\n",
       "                        <td id=\"T_a9e7471a_bbb1_11e9_b1fd_ff924e08d9e4row1_col2\" class=\"data row1 col2\" >0.036</td>\n",
       "                        <td id=\"T_a9e7471a_bbb1_11e9_b1fd_ff924e08d9e4row1_col3\" class=\"data row1 col3\" >-0.0039</td>\n",
       "            </tr>\n",
       "            <tr>\n",
       "                        <th id=\"T_a9e7471a_bbb1_11e9_b1fd_ff924e08d9e4level0_row2\" class=\"row_heading level0 row2\" >stopid</th>\n",
       "                        <td id=\"T_a9e7471a_bbb1_11e9_b1fd_ff924e08d9e4row2_col0\" class=\"data row2 col0\" >0.011</td>\n",
       "                        <td id=\"T_a9e7471a_bbb1_11e9_b1fd_ff924e08d9e4row2_col1\" class=\"data row2 col1\" >0.036</td>\n",
       "                        <td id=\"T_a9e7471a_bbb1_11e9_b1fd_ff924e08d9e4row2_col2\" class=\"data row2 col2\" >1</td>\n",
       "                        <td id=\"T_a9e7471a_bbb1_11e9_b1fd_ff924e08d9e4row2_col3\" class=\"data row2 col3\" >-0.00082</td>\n",
       "            </tr>\n",
       "            <tr>\n",
       "                        <th id=\"T_a9e7471a_bbb1_11e9_b1fd_ff924e08d9e4level0_row3\" class=\"row_heading level0 row3\" >is_duplicated</th>\n",
       "                        <td id=\"T_a9e7471a_bbb1_11e9_b1fd_ff924e08d9e4row3_col0\" class=\"data row3 col0\" >0.0064</td>\n",
       "                        <td id=\"T_a9e7471a_bbb1_11e9_b1fd_ff924e08d9e4row3_col1\" class=\"data row3 col1\" >-0.0039</td>\n",
       "                        <td id=\"T_a9e7471a_bbb1_11e9_b1fd_ff924e08d9e4row3_col2\" class=\"data row3 col2\" >-0.00082</td>\n",
       "                        <td id=\"T_a9e7471a_bbb1_11e9_b1fd_ff924e08d9e4row3_col3\" class=\"data row3 col3\" >1</td>\n",
       "            </tr>\n",
       "    </tbody></table>"
      ],
      "text/plain": [
       "<pandas.io.formats.style.Styler at 0x7f671bb11550>"
      ]
     },
     "execution_count": 46,
     "metadata": {},
     "output_type": "execute_result"
    }
   ],
   "source": [
    "corr = leave.corr()\n",
    "corr.style.background_gradient(cmap='coolwarm').set_precision(2)"
   ]
  },
  {
   "cell_type": "markdown",
   "metadata": {},
   "source": [
    "## Box plots for categorical features"
   ]
  },
  {
   "cell_type": "code",
   "execution_count": 49,
   "metadata": {},
   "outputs": [
    {
     "data": {
      "text/plain": [
       "<matplotlib.axes._subplots.AxesSubplot at 0x7f671c3778d0>"
      ]
     },
     "execution_count": 49,
     "metadata": {},
     "output_type": "execute_result"
    },
    {
     "data": {
      "image/png": "[encoded data removed]",
      "text/plain": [
       "<Figure size 432x288 with 1 Axes>"
      ]
     },
     "metadata": {
      "needs_background": "light"
     },
     "output_type": "display_data"
    }
   ],
   "source": [
    "leave.boxplot()"
   ]
  },
  {
   "cell_type": "markdown",
   "metadata": {},
   "source": [
    "## Combining Features"
   ]
  },
  {
   "cell_type": "code",
   "execution_count": 122,
   "metadata": {
    "ExecuteTime": {
     "end_time": "2019-07-19T16:22:47.158152Z",
     "start_time": "2019-07-19T16:22:47.152010Z"
    }
   },
   "outputs": [],
   "source": [
    "# Are there any features which can be combined to create a better explanatory variable."
   ]
  }
 ],
 "metadata": {
  "celltoolbar": "Initialization Cell",
  "kernelspec": {
   "display_name": "Python 3",
   "language": "python",
   "name": "python3"
  },
  "language_info": {
   "codemirror_mode": {
    "name": "ipython",
    "version": 3
   },
   "file_extension": ".py",
   "mimetype": "text/x-python",
   "name": "python",
   "nbconvert_exporter": "python",
   "pygments_lexer": "ipython3",
   "version": "3.6.8"
  },
  "toc": {
   "base_numbering": 1,
   "nav_menu": {},
   "number_sections": true,
   "sideBar": true,
   "skip_h1_title": false,
   "title_cell": "Table of Contents",
   "title_sidebar": "Contents",
   "toc_cell": false,
   "toc_position": {
    "height": "calc(100% - 180px)",
    "left": "10px",
    "top": "150px",
    "width": "372.312px"
   },
   "toc_section_display": true,
   "toc_window_display": true
  },
  "varInspector": {
   "cols": {
    "lenName": 16,
    "lenType": 16,
    "lenVar": 40
   },
   "kernels_config": {
    "python": {
     "delete_cmd_postfix": "",
     "delete_cmd_prefix": "del ",
     "library": "var_list.py",
     "varRefreshCmd": "print(var_dic_list())"
    },
    "r": {
     "delete_cmd_postfix": ") ",
     "delete_cmd_prefix": "rm(",
     "library": "var_list.r",
     "varRefreshCmd": "cat(var_dic_list()) "
    }
   },
   "types_to_exclude": [
    "module",
    "function",
    "builtin_function_or_method",
    "instance",
    "_Feature"
   ],
   "window_display": false
  }
 },
 "nbformat": 4,
 "nbformat_minor": 2
}

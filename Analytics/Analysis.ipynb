{
 "cells": [
  {
   "cell_type": "code",
   "execution_count": 36,
   "metadata": {},
   "outputs": [
    {
     "data": {
      "text/plain": [
       "<module 'config' from 'D:\\\\College\\\\S3\\\\Github\\\\DublinBus\\\\Analytics\\\\config.py'>"
      ]
     },
     "execution_count": 36,
     "metadata": {},
     "output_type": "execute_result"
    }
   ],
   "source": [
    "import pandas\n",
    "import config\n",
    "import psycopg2\n",
    "\n",
    "import importlib\n",
    "importlib.reload(config)"
   ]
  },
  {
   "cell_type": "code",
   "execution_count": 37,
   "metadata": {},
   "outputs": [],
   "source": [
    "def query(Query):\n",
    "    \n",
    "    try:\n",
    "\n",
    "        conn = psycopg2.connect(\n",
    "            database=config.Database,\n",
    "            user=config.DBuser,\n",
    "            password=config.DBpswd,\n",
    "            \n",
    "            # Tunneled connection\n",
    "            host=config.TunnelHost,\n",
    "            port=config.TunnelPort\n",
    "            \n",
    "            # On Eduroam\n",
    "#             host=config.host,\n",
    "#             port=config.port\n",
    "        )\n",
    "        cursor = conn.cursor()\n",
    "        \n",
    "        cursor.execute(Query)\n",
    "        conn.commit()\n",
    "        result = cursor.fetchall()\n",
    "        \n",
    "        cursor.close()\n",
    "        conn.close()\n",
    "        \n",
    "        return result\n",
    "\n",
    "    except Exception as e:\n",
    "        print(\"Uh oh, can't connect. Invalid dbname, user or password?\")\n",
    "        print(repr(e))"
   ]
  },
  {
   "cell_type": "code",
   "execution_count": 38,
   "metadata": {},
   "outputs": [],
   "source": [
    "rows = query(\"SELECT * FROM trips LIMIT 10;\")"
   ]
  },
  {
   "cell_type": "code",
   "execution_count": 39,
   "metadata": {},
   "outputs": [],
   "source": [
    "data = pandas.DataFrame(rows)"
   ]
  },
  {
   "cell_type": "code",
   "execution_count": 40,
   "metadata": {},
   "outputs": [
    {
     "data": {
      "text/html": [
       "<div>\n",
       "<style scoped>\n",
       "    .dataframe tbody tr th:only-of-type {\n",
       "        vertical-align: middle;\n",
       "    }\n",
       "\n",
       "    .dataframe tbody tr th {\n",
       "        vertical-align: top;\n",
       "    }\n",
       "\n",
       "    .dataframe thead th {\n",
       "        text-align: right;\n",
       "    }\n",
       "</style>\n",
       "<table border=\"1\" class=\"dataframe\">\n",
       "  <thead>\n",
       "    <tr style=\"text-align: right;\">\n",
       "      <th></th>\n",
       "      <th>0</th>\n",
       "      <th>1</th>\n",
       "      <th>2</th>\n",
       "      <th>3</th>\n",
       "      <th>4</th>\n",
       "      <th>5</th>\n",
       "      <th>6</th>\n",
       "      <th>7</th>\n",
       "      <th>8</th>\n",
       "      <th>9</th>\n",
       "      <th>10</th>\n",
       "      <th>11</th>\n",
       "      <th>12</th>\n",
       "      <th>13</th>\n",
       "      <th>14</th>\n",
       "    </tr>\n",
       "  </thead>\n",
       "  <tbody>\n",
       "    <tr>\n",
       "      <th>0</th>\n",
       "      <td>14-DEC-18 00:00:00</td>\n",
       "      <td>8174458</td>\n",
       "      <td>7A</td>\n",
       "      <td>7A_85</td>\n",
       "      <td>1</td>\n",
       "      <td>42202</td>\n",
       "      <td>37800</td>\n",
       "      <td>42070</td>\n",
       "      <td>37479</td>\n",
       "      <td>BasDef</td>\n",
       "      <td>None</td>\n",
       "      <td>None</td>\n",
       "      <td>None</td>\n",
       "      <td>24-DEC-18 09:29:45</td>\n",
       "      <td>,2800757,2800757,</td>\n",
       "    </tr>\n",
       "    <tr>\n",
       "      <th>1</th>\n",
       "      <td>14-DEC-18 00:00:00</td>\n",
       "      <td>8165624</td>\n",
       "      <td>145</td>\n",
       "      <td>145_105</td>\n",
       "      <td>2</td>\n",
       "      <td>71627</td>\n",
       "      <td>66600</td>\n",
       "      <td>72609</td>\n",
       "      <td>66609</td>\n",
       "      <td>BasDef</td>\n",
       "      <td>None</td>\n",
       "      <td>None</td>\n",
       "      <td>None</td>\n",
       "      <td>24-DEC-18 09:29:45</td>\n",
       "      <td>,3353205,3353205,</td>\n",
       "    </tr>\n",
       "    <tr>\n",
       "      <th>2</th>\n",
       "      <td>14-DEC-18 00:00:00</td>\n",
       "      <td>8166969</td>\n",
       "      <td>145</td>\n",
       "      <td>145_105</td>\n",
       "      <td>2</td>\n",
       "      <td>68627</td>\n",
       "      <td>63600</td>\n",
       "      <td>69870</td>\n",
       "      <td>63546</td>\n",
       "      <td>BasDef</td>\n",
       "      <td>None</td>\n",
       "      <td>None</td>\n",
       "      <td>None</td>\n",
       "      <td>24-DEC-18 09:29:45</td>\n",
       "      <td>,3355100,</td>\n",
       "    </tr>\n",
       "    <tr>\n",
       "      <th>3</th>\n",
       "      <td>14-DEC-18 00:00:00</td>\n",
       "      <td>8180591</td>\n",
       "      <td>145</td>\n",
       "      <td>145_105</td>\n",
       "      <td>2</td>\n",
       "      <td>70427</td>\n",
       "      <td>65400</td>\n",
       "      <td>71627</td>\n",
       "      <td>65566</td>\n",
       "      <td>BasDef</td>\n",
       "      <td>None</td>\n",
       "      <td>None</td>\n",
       "      <td>None</td>\n",
       "      <td>24-DEC-18 09:29:45</td>\n",
       "      <td>,3352617,</td>\n",
       "    </tr>\n",
       "    <tr>\n",
       "      <th>4</th>\n",
       "      <td>14-DEC-18 00:00:00</td>\n",
       "      <td>8172413</td>\n",
       "      <td>140</td>\n",
       "      <td>140_19</td>\n",
       "      <td>1</td>\n",
       "      <td>64534</td>\n",
       "      <td>60600</td>\n",
       "      <td>66188</td>\n",
       "      <td>60639</td>\n",
       "      <td>BasDef</td>\n",
       "      <td>None</td>\n",
       "      <td>None</td>\n",
       "      <td>None</td>\n",
       "      <td>24-DEC-18 09:29:45</td>\n",
       "      <td>,3113600,</td>\n",
       "    </tr>\n",
       "  </tbody>\n",
       "</table>\n",
       "</div>"
      ],
      "text/plain": [
       "                   0        1    2        3   4      5      6      7      8   \\\n",
       "0  14-DEC-18 00:00:00  8174458   7A    7A_85  1   42202  37800  42070  37479   \n",
       "1  14-DEC-18 00:00:00  8165624  145  145_105  2   71627  66600  72609  66609   \n",
       "2  14-DEC-18 00:00:00  8166969  145  145_105  2   68627  63600  69870  63546   \n",
       "3  14-DEC-18 00:00:00  8180591  145  145_105  2   70427  65400  71627  65566   \n",
       "4  14-DEC-18 00:00:00  8172413  140   140_19  1   64534  60600  66188  60639   \n",
       "\n",
       "       9     10    11    12                  13                 14  \n",
       "0  BasDef  None  None  None  24-DEC-18 09:29:45  ,2800757,2800757,  \n",
       "1  BasDef  None  None  None  24-DEC-18 09:29:45  ,3353205,3353205,  \n",
       "2  BasDef  None  None  None  24-DEC-18 09:29:45          ,3355100,  \n",
       "3  BasDef  None  None  None  24-DEC-18 09:29:45          ,3352617,  \n",
       "4  BasDef  None  None  None  24-DEC-18 09:29:45          ,3113600,  "
      ]
     },
     "execution_count": 40,
     "metadata": {},
     "output_type": "execute_result"
    }
   ],
   "source": [
    "data.head()"
   ]
  },
  {
   "cell_type": "code",
   "execution_count": 48,
   "metadata": {},
   "outputs": [
    {
     "name": "stdout",
     "output_type": "stream",
     "text": [
      "[0.     0.0125 0.025  0.0375 0.05   0.0625 0.075  0.0875 0.1    0.1125\n",
      " 0.125  0.1375 0.15   0.1625 0.175  0.1875 0.2    0.2125 0.225  0.2375\n",
      " 0.25   0.2625 0.275  0.2875 0.3    0.3125 0.325  0.3375 0.35   0.3625\n",
      " 0.375  0.3875 0.4    0.4125 0.425  0.4375 0.45   0.4625 0.475  0.4875\n",
      " 0.5    0.5125 0.525  0.5375 0.55   0.5625 0.575  0.5875 0.6    0.6125\n",
      " 0.625  0.6375 0.65   0.6625 0.675  0.6875 0.7    0.7125 0.725  0.7375\n",
      " 0.75   0.7625 0.775  0.7875 0.8    0.8125 0.825  0.8375 0.85   0.8625\n",
      " 0.875  0.8875 0.9    0.9125 0.925  0.9375 0.95   0.9625 0.975  0.9875]\n"
     ]
    }
   ],
   "source": []
  }
 ],
 "metadata": {
  "kernelspec": {
   "display_name": "Python 3",
   "language": "python",
   "name": "python3"
  },
  "language_info": {
   "codemirror_mode": {
    "name": "ipython",
    "version": 3
   },
   "file_extension": ".py",
   "mimetype": "text/x-python",
   "name": "python",
   "nbconvert_exporter": "python",
   "pygments_lexer": "ipython3",
   "version": "3.7.3"
  },
  "toc": {
   "base_numbering": 1,
   "nav_menu": {},
   "number_sections": true,
   "sideBar": true,
   "skip_h1_title": false,
   "title_cell": "Table of Contents",
   "title_sidebar": "Contents",
   "toc_cell": false,
   "toc_position": {},
   "toc_section_display": true,
   "toc_window_display": false
  },
  "varInspector": {
   "cols": {
    "lenName": 16,
    "lenType": 16,
    "lenVar": 40
   },
   "kernels_config": {
    "python": {
     "delete_cmd_postfix": "",
     "delete_cmd_prefix": "del ",
     "library": "var_list.py",
     "varRefreshCmd": "print(var_dic_list())"
    },
    "r": {
     "delete_cmd_postfix": ") ",
     "delete_cmd_prefix": "rm(",
     "library": "var_list.r",
     "varRefreshCmd": "cat(var_dic_list()) "
    }
   },
   "types_to_exclude": [
    "module",
    "function",
    "builtin_function_or_method",
    "instance",
    "_Feature"
   ],
   "window_display": false
  }
 },
 "nbformat": 4,
 "nbformat_minor": 2
}
